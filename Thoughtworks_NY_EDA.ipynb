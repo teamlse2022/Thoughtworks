{
 "cells": [
  {
   "cell_type": "markdown",
   "id": "3203b806",
   "metadata": {},
   "source": [
    "# Preparing the Environment for Exploratory Data Analysis"
   ]
  },
  {
   "cell_type": "code",
   "execution_count": 1,
   "id": "0157161b",
   "metadata": {},
   "outputs": [],
   "source": [
    "# Imports of Models & libraries. \n",
    "import numpy as np\n",
    "import pandas as pd\n",
    "import matplotlib.pyplot as plt\n",
    "import seaborn as sns\n",
    "import statsmodels.api as sm \n",
    "import nltk\n",
    "import os\n",
    "import string   \n",
    "import re\n",
    "\n",
    "from statsmodels.formula.api import ols\n",
    "from sklearn import linear_model\n",
    "from sklearn.preprocessing import LabelEncoder\n",
    "from sklearn.utils.validation import column_or_1d\n",
    "from sklearn.preprocessing import StandardScaler\n",
    "from sklearn.preprocessing import MinMaxScaler\n",
    "from sklearn.cluster import KMeans\n",
    "from sklearn.metrics import silhouette_score\n",
    "from sklearn.metrics import accuracy_score\n",
    "from scipy.spatial.distance import cdist\n",
    "from wordcloud import WordCloud\n",
    "from nltk.tokenize import word_tokenize\n",
    "from nltk.probability import FreqDist\n",
    "from nltk.corpus import stopwords\n",
    "from textblob import TextBlob\n",
    "from scipy.stats import norm\n",
    "from collections import Counter\n",
    "from nltk import PorterStemmer\n",
    "from scipy.ndimage import gaussian_gradient_magnitude\n",
    "from PIL import Image\n",
    "from wordcloud import WordCloud, ImageColorGenerator\n",
    "from collections import Counter\n",
    "from vaderSentiment.vaderSentiment import SentimentIntensityAnalyzer\n",
    "\n",
    "\n",
    "import warnings\n",
    "warnings.filterwarnings('ignore')\n",
    "\n",
    "# Setting up a date parser using a private funciton, lambda\n",
    "# This will give us the dates in a format we require for aggregation & indexation\n",
    "d_parser = lambda x: pd.datetime.strptime(x, '%m/%d/%Y %I:%M:%S %p')"
   ]
  },
  {
   "cell_type": "code",
   "execution_count": 2,
   "id": "75783a0a",
   "metadata": {
    "scrolled": true
   },
   "outputs": [],
   "source": [
    "# Load the CSV file(s).\n",
    "counts = pd.read_csv('Bicycle_Counts.csv', parse_dates=['date'], date_parser=d_parser)\n",
    "parking = pd.read_csv('Bicycle_Parking.csv')\n",
    "routes = pd.read_excel('Bicycle_Routes.xlsx')"
   ]
  },
  {
   "cell_type": "code",
   "execution_count": 3,
   "id": "31c59fc1",
   "metadata": {},
   "outputs": [
    {
     "name": "stdout",
     "output_type": "stream",
     "text": [
      "<class 'pandas.core.frame.DataFrame'>\n",
      "RangeIndex: 4167507 entries, 0 to 4167506\n",
      "Data columns (total 4 columns):\n",
      " #   Column  Dtype         \n",
      "---  ------  -----         \n",
      " 0   id      int64         \n",
      " 1   date    datetime64[ns]\n",
      " 2   counts  int64         \n",
      " 3   status  int64         \n",
      "dtypes: datetime64[ns](1), int64(3)\n",
      "memory usage: 127.2 MB\n",
      "<class 'pandas.core.frame.DataFrame'>\n",
      "RangeIndex: 30178 entries, 0 to 30177\n",
      "Data columns (total 11 columns):\n",
      " #   Column      Non-Null Count  Dtype \n",
      "---  ------      --------------  ----- \n",
      " 0   BoroCode    30178 non-null  int64 \n",
      " 1   BoroName    30178 non-null  object\n",
      " 2   CounDist    30178 non-null  int64 \n",
      " 3   AssemDist   30178 non-null  int64 \n",
      " 4   StSenDist   30178 non-null  int64 \n",
      " 5   CongDist    30178 non-null  int64 \n",
      " 6   STREETON    17710 non-null  object\n",
      " 7   XSTREET1    21881 non-null  object\n",
      " 8   XSTREET2    21771 non-null  object\n",
      " 9   SIDE        18395 non-null  object\n",
      " 10  ASSETSUBTY  30178 non-null  object\n",
      "dtypes: int64(5), object(6)\n",
      "memory usage: 2.5+ MB\n",
      "<class 'pandas.core.frame.DataFrame'>\n",
      "RangeIndex: 20824 entries, 0 to 20823\n",
      "Data columns (total 8 columns):\n",
      " #   Column      Non-Null Count  Dtype \n",
      "---  ------      --------------  ----- \n",
      " 0   segmentid   20824 non-null  object\n",
      " 1   boro        20824 non-null  int64 \n",
      " 2   street      20824 non-null  object\n",
      " 3   fromstreet  20824 non-null  object\n",
      " 4   tostreet    20824 non-null  object\n",
      " 5   bikedir     20824 non-null  object\n",
      " 6   lanecount   20824 non-null  int64 \n",
      " 7   ft_facilit  15430 non-null  object\n",
      "dtypes: int64(2), object(6)\n",
      "memory usage: 1.3+ MB\n"
     ]
    }
   ],
   "source": [
    "# View the DataFrame, metadata, shape\n",
    "counts.info()\n",
    "parking.info()\n",
    "routes.info()\n",
    "\n",
    "# Counts is a large but simple Df containing the number of bicycles passing through a counter\n",
    "# Parking contains geographic details of bicycle racks in the city of NY\n",
    "# Routes contains geographic details of list of bike lanes and routes in the city of NY"
   ]
  },
  {
   "cell_type": "markdown",
   "id": "d2daf2a5",
   "metadata": {},
   "source": [
    "## EDA on Counts DataFrame"
   ]
  },
  {
   "cell_type": "markdown",
   "id": "e6d5b845",
   "metadata": {},
   "source": [
    "### Data  Wrangling"
   ]
  },
  {
   "cell_type": "code",
   "execution_count": 4,
   "id": "d0e8acf1",
   "metadata": {},
   "outputs": [
    {
     "data": {
      "text/plain": [
       "id        0\n",
       "date      0\n",
       "counts    0\n",
       "status    0\n",
       "dtype: int64"
      ]
     },
     "execution_count": 4,
     "metadata": {},
     "output_type": "execute_result"
    }
   ],
   "source": [
    "# Check for missing values in counts\n",
    "counts.isnull().sum()\n",
    "\n",
    "# No missing values"
   ]
  },
  {
   "cell_type": "code",
   "execution_count": 5,
   "id": "d9408eab",
   "metadata": {},
   "outputs": [
    {
     "data": {
      "text/html": [
       "<div>\n",
       "<style scoped>\n",
       "    .dataframe tbody tr th:only-of-type {\n",
       "        vertical-align: middle;\n",
       "    }\n",
       "\n",
       "    .dataframe tbody tr th {\n",
       "        vertical-align: top;\n",
       "    }\n",
       "\n",
       "    .dataframe thead th {\n",
       "        text-align: right;\n",
       "    }\n",
       "</style>\n",
       "<table border=\"1\" class=\"dataframe\">\n",
       "  <thead>\n",
       "    <tr style=\"text-align: right;\">\n",
       "      <th></th>\n",
       "      <th>id</th>\n",
       "      <th>date</th>\n",
       "      <th>counts</th>\n",
       "      <th>status</th>\n",
       "    </tr>\n",
       "  </thead>\n",
       "  <tbody>\n",
       "    <tr>\n",
       "      <th>2059019</th>\n",
       "      <td>100047029</td>\n",
       "      <td>2012-08-31 00:00:00</td>\n",
       "      <td>41</td>\n",
       "      <td>4</td>\n",
       "    </tr>\n",
       "    <tr>\n",
       "      <th>3205445</th>\n",
       "      <td>100062893</td>\n",
       "      <td>2012-08-31 00:00:00</td>\n",
       "      <td>41</td>\n",
       "      <td>4</td>\n",
       "    </tr>\n",
       "    <tr>\n",
       "      <th>4164087</th>\n",
       "      <td>100005020</td>\n",
       "      <td>2012-08-31 00:00:00</td>\n",
       "      <td>41</td>\n",
       "      <td>4</td>\n",
       "    </tr>\n",
       "    <tr>\n",
       "      <th>2370586</th>\n",
       "      <td>100051865</td>\n",
       "      <td>2012-08-31 00:00:00</td>\n",
       "      <td>41</td>\n",
       "      <td>4</td>\n",
       "    </tr>\n",
       "    <tr>\n",
       "      <th>4165734</th>\n",
       "      <td>100005020</td>\n",
       "      <td>2012-08-31 00:15:00</td>\n",
       "      <td>52</td>\n",
       "      <td>4</td>\n",
       "    </tr>\n",
       "    <tr>\n",
       "      <th>...</th>\n",
       "      <td>...</td>\n",
       "      <td>...</td>\n",
       "      <td>...</td>\n",
       "      <td>...</td>\n",
       "    </tr>\n",
       "    <tr>\n",
       "      <th>16707</th>\n",
       "      <td>100062893</td>\n",
       "      <td>2022-07-04 23:45:00</td>\n",
       "      <td>34</td>\n",
       "      <td>0</td>\n",
       "    </tr>\n",
       "    <tr>\n",
       "      <th>16803</th>\n",
       "      <td>300020241</td>\n",
       "      <td>2022-07-04 23:45:00</td>\n",
       "      <td>16</td>\n",
       "      <td>0</td>\n",
       "    </tr>\n",
       "    <tr>\n",
       "      <th>16995</th>\n",
       "      <td>300024007</td>\n",
       "      <td>2022-07-04 23:45:00</td>\n",
       "      <td>2</td>\n",
       "      <td>0</td>\n",
       "    </tr>\n",
       "    <tr>\n",
       "      <th>16323</th>\n",
       "      <td>100047029</td>\n",
       "      <td>2022-07-04 23:45:00</td>\n",
       "      <td>34</td>\n",
       "      <td>0</td>\n",
       "    </tr>\n",
       "    <tr>\n",
       "      <th>16227</th>\n",
       "      <td>100010022</td>\n",
       "      <td>2022-07-04 23:45:00</td>\n",
       "      <td>1</td>\n",
       "      <td>0</td>\n",
       "    </tr>\n",
       "  </tbody>\n",
       "</table>\n",
       "<p>4167507 rows × 4 columns</p>\n",
       "</div>"
      ],
      "text/plain": [
       "                id                date  counts  status\n",
       "2059019  100047029 2012-08-31 00:00:00      41       4\n",
       "3205445  100062893 2012-08-31 00:00:00      41       4\n",
       "4164087  100005020 2012-08-31 00:00:00      41       4\n",
       "2370586  100051865 2012-08-31 00:00:00      41       4\n",
       "4165734  100005020 2012-08-31 00:15:00      52       4\n",
       "...            ...                 ...     ...     ...\n",
       "16707    100062893 2022-07-04 23:45:00      34       0\n",
       "16803    300020241 2022-07-04 23:45:00      16       0\n",
       "16995    300024007 2022-07-04 23:45:00       2       0\n",
       "16323    100047029 2022-07-04 23:45:00      34       0\n",
       "16227    100010022 2022-07-04 23:45:00       1       0\n",
       "\n",
       "[4167507 rows x 4 columns]"
      ]
     },
     "execution_count": 5,
     "metadata": {},
     "output_type": "execute_result"
    }
   ],
   "source": [
    "# Make sure that the data is sorted in cbronological order without altering anything else for the moment\n",
    "counts.sort_values(by='date')\n",
    "\n",
    "# Can see data set runs from 31 Aug 2012 to 04 Jul 2022\n",
    "# Can extract hour of the day to look for patterns. Expect peak vs off peak patterns\n",
    "# We can also group the data by day of the week to look for patterns within that\n",
    "# We can also see that its possible to group the data into month to look for seasonal patterns\n",
    "# We can also group/subset the data by id which is another spatial/location identifier"
   ]
  },
  {
   "cell_type": "code",
   "execution_count": 6,
   "id": "ea737485",
   "metadata": {},
   "outputs": [],
   "source": [
    "# Extract year information from timestamped date column\n",
    "counts['year'] = counts['date'].dt.year"
   ]
  },
  {
   "cell_type": "code",
   "execution_count": 7,
   "id": "12eb3da4",
   "metadata": {},
   "outputs": [],
   "source": [
    "# Define night and day to calculate user defined peak and off peak hours\n",
    "# Extract hour information first from timestamped date column\n",
    "counts['hour'] = counts['date'].dt.hour"
   ]
  },
  {
   "cell_type": "code",
   "execution_count": 8,
   "id": "c098d075",
   "metadata": {},
   "outputs": [],
   "source": [
    "# Create user defined function for peak and off peak hours\n",
    "def f(x):\n",
    "    if (x > 5) and (x <= 7):\n",
    "        return 'Early Morning'\n",
    "    elif (x > 7) and (x <= 10 ):\n",
    "        return 'Peak Morning'\n",
    "    elif (x > 11) and (x <= 16):\n",
    "        return'Off Peak/Noon'\n",
    "    elif (x > 16) and (x <= 19) :\n",
    "        return 'Peak Eve'\n",
    "    elif (x > 19) and (x <= 23):\n",
    "        return'Night'\n",
    "    elif (x <= 5):\n",
    "        return'Late Night'\n",
    "\n",
    "# Apply user defined function to create new column with peak and off peak hours\n",
    "counts['time_of_day'] = counts['hour'].apply(f)"
   ]
  },
  {
   "cell_type": "code",
   "execution_count": 9,
   "id": "631e5a6b",
   "metadata": {},
   "outputs": [],
   "source": [
    "# Define day of the week and add as column\n",
    "counts = counts.assign(day_of_week = lambda x: x.date.dt.day_name())"
   ]
  },
  {
   "cell_type": "code",
   "execution_count": 10,
   "id": "055a63e1",
   "metadata": {},
   "outputs": [],
   "source": [
    "# Define month to calculate user defined seasons\n",
    "# Extract month information first from timestamped date column\n",
    "counts['month'] = counts['date'].dt.month"
   ]
  },
  {
   "cell_type": "code",
   "execution_count": 11,
   "id": "0f484dc9",
   "metadata": {},
   "outputs": [],
   "source": [
    "# Create user defined function for seasons\n",
    "def f(x):\n",
    "    if (x > 1) and (x <= 2):\n",
    "        return 'Winter'\n",
    "    elif (x > 2) and (x <= 5 ):\n",
    "        return 'Spring'\n",
    "    elif (x > 5) and (x <= 8):\n",
    "        return'Summer'\n",
    "    elif (x > 8) and (x <= 11) :\n",
    "        return 'Autumn'\n",
    "    elif (x > 11):\n",
    "        return'Winter'\n",
    "\n",
    "# Apply user defined function to create new column with seasons\n",
    "counts['season'] = counts['month'].apply(f)"
   ]
  },
  {
   "cell_type": "code",
   "execution_count": 12,
   "id": "f76d1071",
   "metadata": {},
   "outputs": [
    {
     "data": {
      "text/html": [
       "<div>\n",
       "<style scoped>\n",
       "    .dataframe tbody tr th:only-of-type {\n",
       "        vertical-align: middle;\n",
       "    }\n",
       "\n",
       "    .dataframe tbody tr th {\n",
       "        vertical-align: top;\n",
       "    }\n",
       "\n",
       "    .dataframe thead th {\n",
       "        text-align: right;\n",
       "    }\n",
       "</style>\n",
       "<table border=\"1\" class=\"dataframe\">\n",
       "  <thead>\n",
       "    <tr style=\"text-align: right;\">\n",
       "      <th></th>\n",
       "      <th>id</th>\n",
       "      <th>date</th>\n",
       "      <th>counts</th>\n",
       "      <th>status</th>\n",
       "      <th>year</th>\n",
       "      <th>hour</th>\n",
       "      <th>time_of_day</th>\n",
       "      <th>day_of_week</th>\n",
       "      <th>month</th>\n",
       "      <th>season</th>\n",
       "    </tr>\n",
       "  </thead>\n",
       "  <tbody>\n",
       "    <tr>\n",
       "      <th>1076775</th>\n",
       "      <td>100010017</td>\n",
       "      <td>2021-11-21 17:15:00</td>\n",
       "      <td>5</td>\n",
       "      <td>0</td>\n",
       "      <td>2021</td>\n",
       "      <td>17</td>\n",
       "      <td>Peak Eve</td>\n",
       "      <td>Sunday</td>\n",
       "      <td>11</td>\n",
       "      <td>Autumn</td>\n",
       "    </tr>\n",
       "    <tr>\n",
       "      <th>3521203</th>\n",
       "      <td>100009426</td>\n",
       "      <td>2013-12-27 16:15:00</td>\n",
       "      <td>1</td>\n",
       "      <td>0</td>\n",
       "      <td>2013</td>\n",
       "      <td>16</td>\n",
       "      <td>Off Peak/Noon</td>\n",
       "      <td>Friday</td>\n",
       "      <td>12</td>\n",
       "      <td>Winter</td>\n",
       "    </tr>\n",
       "    <tr>\n",
       "      <th>255465</th>\n",
       "      <td>100009427</td>\n",
       "      <td>2020-08-18 07:45:00</td>\n",
       "      <td>86</td>\n",
       "      <td>0</td>\n",
       "      <td>2020</td>\n",
       "      <td>7</td>\n",
       "      <td>Early Morning</td>\n",
       "      <td>Tuesday</td>\n",
       "      <td>8</td>\n",
       "      <td>Summer</td>\n",
       "    </tr>\n",
       "    <tr>\n",
       "      <th>1958350</th>\n",
       "      <td>100010022</td>\n",
       "      <td>2020-01-24 16:00:00</td>\n",
       "      <td>16</td>\n",
       "      <td>0</td>\n",
       "      <td>2020</td>\n",
       "      <td>16</td>\n",
       "      <td>Off Peak/Noon</td>\n",
       "      <td>Friday</td>\n",
       "      <td>1</td>\n",
       "      <td>None</td>\n",
       "    </tr>\n",
       "    <tr>\n",
       "      <th>2537887</th>\n",
       "      <td>100051865</td>\n",
       "      <td>2017-11-09 22:15:00</td>\n",
       "      <td>43</td>\n",
       "      <td>4</td>\n",
       "      <td>2017</td>\n",
       "      <td>22</td>\n",
       "      <td>Night</td>\n",
       "      <td>Thursday</td>\n",
       "      <td>11</td>\n",
       "      <td>Autumn</td>\n",
       "    </tr>\n",
       "    <tr>\n",
       "      <th>1063231</th>\n",
       "      <td>100010017</td>\n",
       "      <td>2021-07-17 17:30:00</td>\n",
       "      <td>4</td>\n",
       "      <td>0</td>\n",
       "      <td>2021</td>\n",
       "      <td>17</td>\n",
       "      <td>Peak Eve</td>\n",
       "      <td>Saturday</td>\n",
       "      <td>7</td>\n",
       "      <td>Summer</td>\n",
       "    </tr>\n",
       "    <tr>\n",
       "      <th>2243846</th>\n",
       "      <td>100047029</td>\n",
       "      <td>2018-10-30 09:45:00</td>\n",
       "      <td>124</td>\n",
       "      <td>0</td>\n",
       "      <td>2018</td>\n",
       "      <td>9</td>\n",
       "      <td>Peak Morning</td>\n",
       "      <td>Tuesday</td>\n",
       "      <td>10</td>\n",
       "      <td>Autumn</td>\n",
       "    </tr>\n",
       "    <tr>\n",
       "      <th>1648345</th>\n",
       "      <td>100010020</td>\n",
       "      <td>2017-04-04 01:00:00</td>\n",
       "      <td>1</td>\n",
       "      <td>0</td>\n",
       "      <td>2017</td>\n",
       "      <td>1</td>\n",
       "      <td>Late Night</td>\n",
       "      <td>Tuesday</td>\n",
       "      <td>4</td>\n",
       "      <td>Spring</td>\n",
       "    </tr>\n",
       "    <tr>\n",
       "      <th>1357225</th>\n",
       "      <td>100010019</td>\n",
       "      <td>2017-11-03 04:00:00</td>\n",
       "      <td>0</td>\n",
       "      <td>0</td>\n",
       "      <td>2017</td>\n",
       "      <td>4</td>\n",
       "      <td>Late Night</td>\n",
       "      <td>Friday</td>\n",
       "      <td>11</td>\n",
       "      <td>Autumn</td>\n",
       "    </tr>\n",
       "    <tr>\n",
       "      <th>3541636</th>\n",
       "      <td>300020241</td>\n",
       "      <td>2021-10-11 01:15:00</td>\n",
       "      <td>6</td>\n",
       "      <td>0</td>\n",
       "      <td>2021</td>\n",
       "      <td>1</td>\n",
       "      <td>Late Night</td>\n",
       "      <td>Monday</td>\n",
       "      <td>10</td>\n",
       "      <td>Autumn</td>\n",
       "    </tr>\n",
       "  </tbody>\n",
       "</table>\n",
       "</div>"
      ],
      "text/plain": [
       "                id                date  counts  status  year  hour  \\\n",
       "1076775  100010017 2021-11-21 17:15:00       5       0  2021    17   \n",
       "3521203  100009426 2013-12-27 16:15:00       1       0  2013    16   \n",
       "255465   100009427 2020-08-18 07:45:00      86       0  2020     7   \n",
       "1958350  100010022 2020-01-24 16:00:00      16       0  2020    16   \n",
       "2537887  100051865 2017-11-09 22:15:00      43       4  2017    22   \n",
       "1063231  100010017 2021-07-17 17:30:00       4       0  2021    17   \n",
       "2243846  100047029 2018-10-30 09:45:00     124       0  2018     9   \n",
       "1648345  100010020 2017-04-04 01:00:00       1       0  2017     1   \n",
       "1357225  100010019 2017-11-03 04:00:00       0       0  2017     4   \n",
       "3541636  300020241 2021-10-11 01:15:00       6       0  2021     1   \n",
       "\n",
       "           time_of_day day_of_week  month  season  \n",
       "1076775       Peak Eve      Sunday     11  Autumn  \n",
       "3521203  Off Peak/Noon      Friday     12  Winter  \n",
       "255465   Early Morning     Tuesday      8  Summer  \n",
       "1958350  Off Peak/Noon      Friday      1    None  \n",
       "2537887          Night    Thursday     11  Autumn  \n",
       "1063231       Peak Eve    Saturday      7  Summer  \n",
       "2243846   Peak Morning     Tuesday     10  Autumn  \n",
       "1648345     Late Night     Tuesday      4  Spring  \n",
       "1357225     Late Night      Friday     11  Autumn  \n",
       "3541636     Late Night      Monday     10  Autumn  "
      ]
     },
     "execution_count": 12,
     "metadata": {},
     "output_type": "execute_result"
    }
   ],
   "source": [
    "# Look at 10 rows randomly to ensure all user defined columns correctly populated\n",
    "counts.sample(10)"
   ]
  },
  {
   "cell_type": "markdown",
   "id": "132f39ca",
   "metadata": {},
   "source": [
    "### Creating Visualisations: How has cycling uptake evolved over time?"
   ]
  },
  {
   "cell_type": "code",
   "execution_count": 13,
   "id": "61e67b7b",
   "metadata": {},
   "outputs": [],
   "source": [
    "# Aggregate data by year\n",
    "df=counts.groupby(['year'], as_index=False)['counts'].sum()\n",
    "\n",
    "# Sort by Values\n",
    "df.sort_values('year', inplace=True)"
   ]
  },
  {
   "cell_type": "code",
   "execution_count": 14,
   "id": "4e867107",
   "metadata": {},
   "outputs": [
    {
     "data": {
      "image/png": "[encoded data removed]",
      "text/plain": [
       "<Figure size 432x288 with 1 Axes>"
      ]
     },
     "metadata": {
      "needs_background": "light"
     },
     "output_type": "display_data"
    }
   ],
   "source": [
    "#Creating the line chart\n",
    "plt.plot(df['year'], df['counts']) \n",
    "#Adding the aesthetics\n",
    "plt.title('Uptake of cycling in New York over time')\n",
    "plt.xlabel('Year')\n",
    "plt.ylabel('Cycling Uptake') \n",
    "#Show the plot\n",
    "plt.show()\n",
    "\n",
    "# Interesting that peak was 2016\n",
    "# Sharp decline in mid 2020 due to COVID-19\n",
    "# 2022 data still not showing uptake pickup although data is not for full year in 2022"
   ]
  },
  {
   "cell_type": "markdown",
   "id": "8bc3ecd2",
   "metadata": {},
   "source": [
    "### Creating Data Visualisations : Does time of the day Matter?"
   ]
  },
  {
   "cell_type": "code",
   "execution_count": 15,
   "id": "7607a820",
   "metadata": {},
   "outputs": [],
   "source": [
    "# Aggregate data by time of day\n",
    "df=counts.groupby(['time_of_day'], as_index=False)['counts'].sum()\n",
    "\n",
    "# Sort by Values\n",
    "df.sort_values('counts', inplace=True)"
   ]
  },
  {
   "cell_type": "code",
   "execution_count": 16,
   "id": "a7b22128",
   "metadata": {},
   "outputs": [
    {
     "data": {
      "image/png": "[encoded data removed]",
      "text/plain": [
       "<Figure size 1440x720 with 1 Axes>"
      ]
     },
     "metadata": {},
     "output_type": "display_data"
    }
   ],
   "source": [
    "# Visualise to see which time of day has the highest count of cycling\n",
    "sns.set_theme(style=\"whitegrid\")\n",
    "from matplotlib.ticker import FormatStrFormatter\n",
    "\n",
    "# Initialize the matplotlib figure\n",
    "f, g = plt.subplots(figsize=(20, 10))\n",
    "\n",
    "g=sns.barplot(x = df[\"time_of_day\"], y = df[\"counts\"])\n",
    "\n",
    "# Add a legend and informative axis label\n",
    "g.set(ylabel=\"Number of bicycle passes\",\n",
    "       xlabel=\"Time of the day\")\n",
    "g.set_title('Does time of the day matter in cycling uptake')\n",
    "sns.despine(left=True, bottom=True)\n",
    "plt.show()\n",
    "\n",
    "# Surprisingly peak hours dont show highest use!\n",
    "# So are cyclists more leisure users than commuters?\n",
    "# Need to explore why more are not cycling during peak hours."
   ]
  },
  {
   "cell_type": "markdown",
   "id": "8adea764",
   "metadata": {},
   "source": [
    "### Creating Data Visualisations: Does Day of the Week matter?"
   ]
  },
  {
   "cell_type": "code",
   "execution_count": 17,
   "id": "c54e2811",
   "metadata": {},
   "outputs": [],
   "source": [
    "# Aggregate data by time of day\n",
    "df=counts.groupby(['day_of_week'], as_index=False)['counts'].sum()\n",
    "\n",
    "# Sort by Values\n",
    "df.sort_values('counts', inplace=True)"
   ]
  },
  {
   "cell_type": "code",
   "execution_count": 18,
   "id": "6d743775",
   "metadata": {},
   "outputs": [
    {
     "data": {
      "image/png": "[encoded data removed]",
      "text/plain": [
       "<Figure size 1440x720 with 1 Axes>"
      ]
     },
     "metadata": {},
     "output_type": "display_data"
    }
   ],
   "source": [
    "# Visualise to see which time of day has the highest count of cycling\n",
    "sns.set_theme(style=\"whitegrid\")\n",
    "from matplotlib.ticker import FormatStrFormatter\n",
    "\n",
    "# Initialize the matplotlib figure\n",
    "f, g = plt.subplots(figsize=(20, 10))\n",
    "\n",
    "g=sns.barplot(x = df[\"day_of_week\"], y = df[\"counts\"])\n",
    "\n",
    "# Add a legend and informative axis label\n",
    "g.set(ylabel=\"Number of bicycle passes\",\n",
    "       xlabel=\"Day of the Week\")\n",
    "g.set_title('Does the day of the week matter in cycling uptake')\n",
    "sns.despine(left=True, bottom=True)\n",
    "plt.show()\n",
    "\n",
    "# Except weekends, not big differences\n",
    "# Mid week days Tuesday & Wednesdays shows greatest number\n",
    "# Will be interesting to see how these compare with the other cities"
   ]
  },
  {
   "cell_type": "markdown",
   "id": "f2e1038d",
   "metadata": {},
   "source": [
    "### Creating Data Visualisations: Do seasons matter?"
   ]
  },
  {
   "cell_type": "code",
   "execution_count": 19,
   "id": "3affc024",
   "metadata": {},
   "outputs": [],
   "source": [
    "# Aggregate data by time of day\n",
    "df=counts.groupby(['season'], as_index=False)['counts'].sum()\n",
    "\n",
    "# Sort by Values\n",
    "df.sort_values('counts', inplace=True)"
   ]
  },
  {
   "cell_type": "code",
   "execution_count": 20,
   "id": "a122c73d",
   "metadata": {},
   "outputs": [
    {
     "data": {
      "image/png": "[encoded data removed]",
      "text/plain": [
       "<Figure size 1440x720 with 1 Axes>"
      ]
     },
     "metadata": {},
     "output_type": "display_data"
    }
   ],
   "source": [
    "# Visualise to see which time of day has the highest count of cycling\n",
    "sns.set_theme(style=\"whitegrid\")\n",
    "from matplotlib.ticker import FormatStrFormatter\n",
    "\n",
    "# Initialize the matplotlib figure\n",
    "f, g = plt.subplots(figsize=(20, 10))\n",
    "\n",
    "g=sns.barplot(x = df[\"season\"], y = df[\"counts\"])\n",
    "\n",
    "# Add a legend and informative axis label\n",
    "g.set(ylabel=\"Number of bicycle passes\",\n",
    "       xlabel=\"Season of the Year\")\n",
    "g.set_title('Do seasons matter in cycling uptake')\n",
    "sns.despine(left=True, bottom=True)\n",
    "plt.show()\n",
    "\n",
    "# Unsurprising but combined with time of the day, may suggest that there is a safety concern issue"
   ]
  },
  {
   "cell_type": "markdown",
   "id": "3580c509",
   "metadata": {},
   "source": [
    "### Creating Data Visualisations: Does location matter?"
   ]
  },
  {
   "cell_type": "code",
   "execution_count": 21,
   "id": "47251260",
   "metadata": {},
   "outputs": [
    {
     "name": "stdout",
     "output_type": "stream",
     "text": [
      "id                 25\n",
      "date           344996\n",
      "counts            939\n",
      "status              2\n",
      "year               11\n",
      "hour               24\n",
      "time_of_day         6\n",
      "day_of_week         7\n",
      "month              12\n",
      "season              4\n",
      "dtype: int64\n"
     ]
    }
   ],
   "source": [
    "# Count the number of unique values for id\n",
    "print(counts.nunique())\n",
    "\n",
    "# Shows 25 spatial/locational data"
   ]
  },
  {
   "cell_type": "code",
   "execution_count": 22,
   "id": "7334f017",
   "metadata": {},
   "outputs": [],
   "source": [
    "# Group by Spatial ID\n",
    "df=counts.groupby(['id'], as_index=False)['counts'].sum()"
   ]
  },
  {
   "cell_type": "code",
   "execution_count": 23,
   "id": "031ac8d9",
   "metadata": {},
   "outputs": [
    {
     "data": {
      "image/png": "[encoded data removed]",
      "text/plain": [
       "<Figure size 2016x720 with 1 Axes>"
      ]
     },
     "metadata": {},
     "output_type": "display_data"
    }
   ],
   "source": [
    "# Visualise to see which location has the highest count of cycling\n",
    "sns.set_theme(style=\"whitegrid\")\n",
    "from matplotlib.ticker import FormatStrFormatter\n",
    "\n",
    "# Initialize the matplotlib figure\n",
    "f, g = plt.subplots(figsize=(28, 10))\n",
    "\n",
    "g=sns.barplot(x = df[\"id\"], y = df[\"counts\"])\n",
    "\n",
    "# Add a legend and informative axis label\n",
    "g.set(xlim=(0, 25), ylabel=\"Number of bicycle passes\",\n",
    "       xlabel=\"Location ID\")\n",
    "g.set_title('Cycling popularity per location')\n",
    "sns.despine(left=True, bottom=True)\n",
    "plt.show()\n",
    "\n",
    "# Number of Cycle passes varies considerably by location\n",
    "# Potential to drill down for further analysis on these locations versus time of day, week etc.\n",
    "# Discuss with team how to best represent this"
   ]
  },
  {
   "cell_type": "markdown",
   "id": "2ac1c0b1",
   "metadata": {},
   "source": [
    "## EDA on Parking DataFrame"
   ]
  },
  {
   "cell_type": "markdown",
   "id": "84359f5d",
   "metadata": {},
   "source": [
    "### Data Wrangling"
   ]
  },
  {
   "cell_type": "code",
   "execution_count": 24,
   "id": "e82b7b55",
   "metadata": {},
   "outputs": [
    {
     "data": {
      "text/plain": [
       "BoroCode          0\n",
       "BoroName          0\n",
       "CounDist          0\n",
       "AssemDist         0\n",
       "StSenDist         0\n",
       "CongDist          0\n",
       "STREETON      12468\n",
       "XSTREET1       8297\n",
       "XSTREET2       8407\n",
       "SIDE          11783\n",
       "ASSETSUBTY        0\n",
       "dtype: int64"
      ]
     },
     "execution_count": 24,
     "metadata": {},
     "output_type": "execute_result"
    }
   ],
   "source": [
    "# Check for missing values in parking\n",
    "parking.isnull().sum()\n",
    "\n",
    "# Lots of missing values in several columns\n",
    "# Looks like address/geographical data\n",
    "# Makes sense there are missing values\n",
    "# Not all columns required/available to complete an address"
   ]
  },
  {
   "cell_type": "code",
   "execution_count": 25,
   "id": "dd6cdbd3",
   "metadata": {},
   "outputs": [
    {
     "data": {
      "text/html": [
       "<div>\n",
       "<style scoped>\n",
       "    .dataframe tbody tr th:only-of-type {\n",
       "        vertical-align: middle;\n",
       "    }\n",
       "\n",
       "    .dataframe tbody tr th {\n",
       "        vertical-align: top;\n",
       "    }\n",
       "\n",
       "    .dataframe thead th {\n",
       "        text-align: right;\n",
       "    }\n",
       "</style>\n",
       "<table border=\"1\" class=\"dataframe\">\n",
       "  <thead>\n",
       "    <tr style=\"text-align: right;\">\n",
       "      <th></th>\n",
       "      <th>BoroCode</th>\n",
       "      <th>BoroName</th>\n",
       "      <th>CounDist</th>\n",
       "      <th>AssemDist</th>\n",
       "      <th>StSenDist</th>\n",
       "      <th>CongDist</th>\n",
       "      <th>STREETON</th>\n",
       "      <th>XSTREET1</th>\n",
       "      <th>XSTREET2</th>\n",
       "      <th>SIDE</th>\n",
       "      <th>ASSETSUBTY</th>\n",
       "    </tr>\n",
       "  </thead>\n",
       "  <tbody>\n",
       "    <tr>\n",
       "      <th>19846</th>\n",
       "      <td>3</td>\n",
       "      <td>Brooklyn</td>\n",
       "      <td>34</td>\n",
       "      <td>50</td>\n",
       "      <td>18</td>\n",
       "      <td>7</td>\n",
       "      <td>NaN</td>\n",
       "      <td>BEDFORD AV</td>\n",
       "      <td>BERRY ST</td>\n",
       "      <td>NaN</td>\n",
       "      <td>U-Rack</td>\n",
       "    </tr>\n",
       "    <tr>\n",
       "      <th>9932</th>\n",
       "      <td>3</td>\n",
       "      <td>Brooklyn</td>\n",
       "      <td>44</td>\n",
       "      <td>48</td>\n",
       "      <td>17</td>\n",
       "      <td>10</td>\n",
       "      <td>NEW UTRECHT AV</td>\n",
       "      <td>NaN</td>\n",
       "      <td>NaN</td>\n",
       "      <td>NaN</td>\n",
       "      <td>Large Hoop</td>\n",
       "    </tr>\n",
       "    <tr>\n",
       "      <th>19419</th>\n",
       "      <td>4</td>\n",
       "      <td>Queens</td>\n",
       "      <td>28</td>\n",
       "      <td>38</td>\n",
       "      <td>10</td>\n",
       "      <td>5</td>\n",
       "      <td>105 ST</td>\n",
       "      <td>LIBERTY AV</td>\n",
       "      <td>103 AV</td>\n",
       "      <td>W</td>\n",
       "      <td>Small Hoop</td>\n",
       "    </tr>\n",
       "    <tr>\n",
       "      <th>15762</th>\n",
       "      <td>3</td>\n",
       "      <td>Brooklyn</td>\n",
       "      <td>33</td>\n",
       "      <td>52</td>\n",
       "      <td>25</td>\n",
       "      <td>8</td>\n",
       "      <td>SCHERMERHORN ST</td>\n",
       "      <td>HOYT ST</td>\n",
       "      <td>BOND ST</td>\n",
       "      <td>N</td>\n",
       "      <td>Large Hoop</td>\n",
       "    </tr>\n",
       "    <tr>\n",
       "      <th>19992</th>\n",
       "      <td>3</td>\n",
       "      <td>Brooklyn</td>\n",
       "      <td>40</td>\n",
       "      <td>44</td>\n",
       "      <td>17</td>\n",
       "      <td>9</td>\n",
       "      <td>WESTMINSTER RD</td>\n",
       "      <td>CONEY ISLAND AV</td>\n",
       "      <td>WESTMINSTER RD</td>\n",
       "      <td>W</td>\n",
       "      <td>Large Hoop</td>\n",
       "    </tr>\n",
       "    <tr>\n",
       "      <th>12230</th>\n",
       "      <td>3</td>\n",
       "      <td>Brooklyn</td>\n",
       "      <td>37</td>\n",
       "      <td>53</td>\n",
       "      <td>18</td>\n",
       "      <td>7</td>\n",
       "      <td>WYCKOFF AV</td>\n",
       "      <td>HARMAN ST</td>\n",
       "      <td>GREENE AV</td>\n",
       "      <td>NaN</td>\n",
       "      <td>Large Hoop</td>\n",
       "    </tr>\n",
       "    <tr>\n",
       "      <th>21726</th>\n",
       "      <td>3</td>\n",
       "      <td>Brooklyn</td>\n",
       "      <td>33</td>\n",
       "      <td>50</td>\n",
       "      <td>18</td>\n",
       "      <td>12</td>\n",
       "      <td>NaN</td>\n",
       "      <td>BEDFORD AV</td>\n",
       "      <td>BERRY ST</td>\n",
       "      <td>W</td>\n",
       "      <td>Wave Rack</td>\n",
       "    </tr>\n",
       "    <tr>\n",
       "      <th>27875</th>\n",
       "      <td>3</td>\n",
       "      <td>Brooklyn</td>\n",
       "      <td>36</td>\n",
       "      <td>57</td>\n",
       "      <td>25</td>\n",
       "      <td>8</td>\n",
       "      <td>Bedford Avenue</td>\n",
       "      <td>Putnam Avenue</td>\n",
       "      <td>Madison Street</td>\n",
       "      <td>W</td>\n",
       "      <td>LARGE HOOP</td>\n",
       "    </tr>\n",
       "    <tr>\n",
       "      <th>658</th>\n",
       "      <td>3</td>\n",
       "      <td>Brooklyn</td>\n",
       "      <td>37</td>\n",
       "      <td>54</td>\n",
       "      <td>18</td>\n",
       "      <td>7</td>\n",
       "      <td>CORNELIA ST</td>\n",
       "      <td>CORNELIA ST</td>\n",
       "      <td>PUTNAM AV</td>\n",
       "      <td>NaN</td>\n",
       "      <td>Large Hoop</td>\n",
       "    </tr>\n",
       "    <tr>\n",
       "      <th>13049</th>\n",
       "      <td>3</td>\n",
       "      <td>Brooklyn</td>\n",
       "      <td>34</td>\n",
       "      <td>53</td>\n",
       "      <td>18</td>\n",
       "      <td>7</td>\n",
       "      <td>MORGAN AV</td>\n",
       "      <td>JOHNSON AV</td>\n",
       "      <td>INGRAHAM ST</td>\n",
       "      <td>E</td>\n",
       "      <td>Large Hoop</td>\n",
       "    </tr>\n",
       "  </tbody>\n",
       "</table>\n",
       "</div>"
      ],
      "text/plain": [
       "       BoroCode  BoroName  CounDist  AssemDist  StSenDist  CongDist  \\\n",
       "19846         3  Brooklyn        34         50         18         7   \n",
       "9932          3  Brooklyn        44         48         17        10   \n",
       "19419         4    Queens        28         38         10         5   \n",
       "15762         3  Brooklyn        33         52         25         8   \n",
       "19992         3  Brooklyn        40         44         17         9   \n",
       "12230         3  Brooklyn        37         53         18         7   \n",
       "21726         3  Brooklyn        33         50         18        12   \n",
       "27875         3  Brooklyn        36         57         25         8   \n",
       "658           3  Brooklyn        37         54         18         7   \n",
       "13049         3  Brooklyn        34         53         18         7   \n",
       "\n",
       "              STREETON         XSTREET1        XSTREET2 SIDE  ASSETSUBTY  \n",
       "19846              NaN       BEDFORD AV        BERRY ST  NaN      U-Rack  \n",
       "9932    NEW UTRECHT AV              NaN             NaN  NaN  Large Hoop  \n",
       "19419           105 ST       LIBERTY AV          103 AV    W  Small Hoop  \n",
       "15762  SCHERMERHORN ST          HOYT ST         BOND ST    N  Large Hoop  \n",
       "19992   WESTMINSTER RD  CONEY ISLAND AV  WESTMINSTER RD    W  Large Hoop  \n",
       "12230       WYCKOFF AV        HARMAN ST       GREENE AV  NaN  Large Hoop  \n",
       "21726              NaN       BEDFORD AV        BERRY ST    W   Wave Rack  \n",
       "27875   Bedford Avenue    Putnam Avenue  Madison Street    W  LARGE HOOP  \n",
       "658        CORNELIA ST      CORNELIA ST       PUTNAM AV  NaN  Large Hoop  \n",
       "13049        MORGAN AV       JOHNSON AV     INGRAHAM ST    E  Large Hoop  "
      ]
     },
     "execution_count": 25,
     "metadata": {},
     "output_type": "execute_result"
    }
   ],
   "source": [
    "# View dataframe parking\n",
    "parking.sample(10)"
   ]
  },
  {
   "cell_type": "code",
   "execution_count": 26,
   "id": "8cf529c5",
   "metadata": {},
   "outputs": [
    {
     "name": "stdout",
     "output_type": "stream",
     "text": [
      "BoroCode         5\n",
      "BoroName         5\n",
      "CounDist        51\n",
      "AssemDist       65\n",
      "StSenDist       26\n",
      "CongDist        13\n",
      "STREETON      1671\n",
      "XSTREET1      2608\n",
      "XSTREET2      2724\n",
      "SIDE             4\n",
      "ASSETSUBTY      11\n",
      "dtype: int64\n"
     ]
    }
   ],
   "source": [
    "# Count the number of unique values for each column\n",
    "print(parking.nunique())\n",
    "\n",
    "# How to marry this with counts data which has 25 unique location ids?"
   ]
  },
  {
   "cell_type": "markdown",
   "id": "602485c6",
   "metadata": {},
   "source": [
    "## EDA on Routes DataFrame"
   ]
  },
  {
   "cell_type": "markdown",
   "id": "60a8de13",
   "metadata": {},
   "source": [
    "### Data Wrangling"
   ]
  },
  {
   "cell_type": "code",
   "execution_count": 27,
   "id": "b66bc5e3",
   "metadata": {},
   "outputs": [
    {
     "data": {
      "text/plain": [
       "segmentid        0\n",
       "boro             0\n",
       "street           0\n",
       "fromstreet       0\n",
       "tostreet         0\n",
       "bikedir          0\n",
       "lanecount        0\n",
       "ft_facilit    5394\n",
       "dtype: int64"
      ]
     },
     "execution_count": 27,
     "metadata": {},
     "output_type": "execute_result"
    }
   ],
   "source": [
    "# Check for missing values\n",
    "routes.isnull().sum()\n",
    "\n",
    "# Missing value in just one column\n",
    "# Looks like geographic location details again"
   ]
  },
  {
   "cell_type": "code",
   "execution_count": 28,
   "id": "1d3b8d04",
   "metadata": {},
   "outputs": [
    {
     "data": {
      "text/html": [
       "<div>\n",
       "<style scoped>\n",
       "    .dataframe tbody tr th:only-of-type {\n",
       "        vertical-align: middle;\n",
       "    }\n",
       "\n",
       "    .dataframe tbody tr th {\n",
       "        vertical-align: top;\n",
       "    }\n",
       "\n",
       "    .dataframe thead th {\n",
       "        text-align: right;\n",
       "    }\n",
       "</style>\n",
       "<table border=\"1\" class=\"dataframe\">\n",
       "  <thead>\n",
       "    <tr style=\"text-align: right;\">\n",
       "      <th></th>\n",
       "      <th>segmentid</th>\n",
       "      <th>boro</th>\n",
       "      <th>street</th>\n",
       "      <th>fromstreet</th>\n",
       "      <th>tostreet</th>\n",
       "      <th>bikedir</th>\n",
       "      <th>lanecount</th>\n",
       "      <th>ft_facilit</th>\n",
       "    </tr>\n",
       "  </thead>\n",
       "  <tbody>\n",
       "    <tr>\n",
       "      <th>16452</th>\n",
       "      <td>301.507</td>\n",
       "      <td>1</td>\n",
       "      <td>EAST RIVER ESPLANADE</td>\n",
       "      <td>SOUTH ST</td>\n",
       "      <td>OLD SLIP</td>\n",
       "      <td>2</td>\n",
       "      <td>2</td>\n",
       "      <td>Greenway</td>\n",
       "    </tr>\n",
       "    <tr>\n",
       "      <th>10773</th>\n",
       "      <td>159.051</td>\n",
       "      <td>1</td>\n",
       "      <td>ADAM C POWELL BLVD</td>\n",
       "      <td>W 133 ST</td>\n",
       "      <td>W 150 ST</td>\n",
       "      <td>L</td>\n",
       "      <td>1</td>\n",
       "      <td>NaN</td>\n",
       "    </tr>\n",
       "    <tr>\n",
       "      <th>11147</th>\n",
       "      <td>164.076</td>\n",
       "      <td>3</td>\n",
       "      <td>UNION AV</td>\n",
       "      <td>CONSELYEA ST</td>\n",
       "      <td>MEEKER AV</td>\n",
       "      <td>2</td>\n",
       "      <td>2</td>\n",
       "      <td>Sharrows</td>\n",
       "    </tr>\n",
       "    <tr>\n",
       "      <th>9704</th>\n",
       "      <td>150.38</td>\n",
       "      <td>3</td>\n",
       "      <td>SURF AV</td>\n",
       "      <td>OCEAN PKWY</td>\n",
       "      <td>W 17 ST</td>\n",
       "      <td>R</td>\n",
       "      <td>1</td>\n",
       "      <td>Signed Route</td>\n",
       "    </tr>\n",
       "    <tr>\n",
       "      <th>12552</th>\n",
       "      <td>214.748</td>\n",
       "      <td>4</td>\n",
       "      <td>SHORE FRONT PKWY</td>\n",
       "      <td>BEACH 73</td>\n",
       "      <td>SHORE FRONT PKWY</td>\n",
       "      <td>R</td>\n",
       "      <td>1</td>\n",
       "      <td>Curbside</td>\n",
       "    </tr>\n",
       "    <tr>\n",
       "      <th>10482</th>\n",
       "      <td>157.616</td>\n",
       "      <td>3</td>\n",
       "      <td>CROPSEY AVE</td>\n",
       "      <td>24 AVE</td>\n",
       "      <td>26 AVE</td>\n",
       "      <td>L</td>\n",
       "      <td>1</td>\n",
       "      <td>NaN</td>\n",
       "    </tr>\n",
       "    <tr>\n",
       "      <th>14380</th>\n",
       "      <td>243.908</td>\n",
       "      <td>1</td>\n",
       "      <td>HARLEM RIVER DR GREENWAY</td>\n",
       "      <td>W 155 ST</td>\n",
       "      <td>10 AV</td>\n",
       "      <td>2</td>\n",
       "      <td>2</td>\n",
       "      <td>Greenway</td>\n",
       "    </tr>\n",
       "    <tr>\n",
       "      <th>7056</th>\n",
       "      <td>96.467</td>\n",
       "      <td>4</td>\n",
       "      <td>73 AV</td>\n",
       "      <td>MAIN ST</td>\n",
       "      <td>199 ST</td>\n",
       "      <td>2</td>\n",
       "      <td>2</td>\n",
       "      <td>Standard</td>\n",
       "    </tr>\n",
       "    <tr>\n",
       "      <th>9786</th>\n",
       "      <td>150.935</td>\n",
       "      <td>3</td>\n",
       "      <td>EMMONS AV</td>\n",
       "      <td>SHORE BLVD</td>\n",
       "      <td>KNAPP ST</td>\n",
       "      <td>R</td>\n",
       "      <td>1</td>\n",
       "      <td>Signed Route</td>\n",
       "    </tr>\n",
       "    <tr>\n",
       "      <th>9133</th>\n",
       "      <td>146.28</td>\n",
       "      <td>3</td>\n",
       "      <td>AV W</td>\n",
       "      <td>BRAGG ST</td>\n",
       "      <td>NOSTRAND AV</td>\n",
       "      <td>R</td>\n",
       "      <td>1</td>\n",
       "      <td>Standard</td>\n",
       "    </tr>\n",
       "  </tbody>\n",
       "</table>\n",
       "</div>"
      ],
      "text/plain": [
       "      segmentid  boro                    street    fromstreet  \\\n",
       "16452   301.507     1      EAST RIVER ESPLANADE      SOUTH ST   \n",
       "10773   159.051     1        ADAM C POWELL BLVD      W 133 ST   \n",
       "11147   164.076     3                  UNION AV  CONSELYEA ST   \n",
       "9704     150.38     3                   SURF AV    OCEAN PKWY   \n",
       "12552   214.748     4          SHORE FRONT PKWY      BEACH 73   \n",
       "10482   157.616     3               CROPSEY AVE        24 AVE   \n",
       "14380   243.908     1  HARLEM RIVER DR GREENWAY      W 155 ST   \n",
       "7056     96.467     4                     73 AV       MAIN ST   \n",
       "9786    150.935     3                 EMMONS AV    SHORE BLVD   \n",
       "9133     146.28     3                      AV W      BRAGG ST   \n",
       "\n",
       "               tostreet bikedir  lanecount    ft_facilit  \n",
       "16452          OLD SLIP       2          2      Greenway  \n",
       "10773          W 150 ST       L          1           NaN  \n",
       "11147         MEEKER AV       2          2      Sharrows  \n",
       "9704            W 17 ST       R          1  Signed Route  \n",
       "12552  SHORE FRONT PKWY       R          1      Curbside  \n",
       "10482            26 AVE       L          1           NaN  \n",
       "14380             10 AV       2          2      Greenway  \n",
       "7056             199 ST       2          2      Standard  \n",
       "9786           KNAPP ST       R          1  Signed Route  \n",
       "9133        NOSTRAND AV       R          1      Standard  "
      ]
     },
     "execution_count": 28,
     "metadata": {},
     "output_type": "execute_result"
    }
   ],
   "source": [
    "# View dataframe\n",
    "routes.sample(10)"
   ]
  },
  {
   "cell_type": "code",
   "execution_count": 29,
   "id": "67386fda",
   "metadata": {},
   "outputs": [
    {
     "name": "stdout",
     "output_type": "stream",
     "text": [
      "segmentid     20792\n",
      "boro              5\n",
      "street         1292\n",
      "fromstreet     1478\n",
      "tostreet       1496\n",
      "bikedir           3\n",
      "lanecount         4\n",
      "ft_facilit       14\n",
      "dtype: int64\n"
     ]
    }
   ],
   "source": [
    "# Count the number of unique values for each column\n",
    "print(routes.nunique())\n",
    "\n",
    "# Boro in routes will merge with borocode in parking\n",
    "# Still cant figure out how to marry these with counts dataframe."
   ]
  },
  {
   "cell_type": "markdown",
   "id": "a8376409",
   "metadata": {},
   "source": [
    "# Outlier Detection"
   ]
  },
  {
   "cell_type": "code",
   "execution_count": null,
   "id": "2f5b3f68",
   "metadata": {},
   "outputs": [],
   "source": [
    "# Worth looking for outliers using K-Means Clustering in the count data\n",
    "# Otherwise data was pre-wrangled and looks to be good shape\n",
    "# Not sure how many of the columns contain useful data in the two geospatial dataframes\n",
    "# Need to explore how to look for outliers in geospatial data. \n",
    "# Discuss with team"
   ]
  },
  {
   "cell_type": "markdown",
   "id": "e7e153b0",
   "metadata": {},
   "source": [
    "## Counts DataFrame"
   ]
  },
  {
   "cell_type": "code",
   "execution_count": null,
   "id": "a7c059bb",
   "metadata": {},
   "outputs": [],
   "source": [
    "# Data Visualisation to determine clusters\n",
    "plt.figure(figsize=(8,6))\n",
    "plt.scatter(counts.date, counts.counts)\n",
    "plt.xlabel('Date')\n",
    "plt.ylabel('Counts')\n",
    "plt.title('Scatter plot of Date vs. Count')\n",
    "plt.show()\n",
    "\n",
    "# Vis is not clear. \n",
    "# Need to run alternative clustering check"
   ]
  },
  {
   "cell_type": "code",
   "execution_count": null,
   "id": "9c0db635",
   "metadata": {},
   "outputs": [],
   "source": [
    "# Create a pairplot\n",
    "# Create a pairplot between variables with Seaborn.\n",
    "x = counts[['date', 'counts']]\n",
    "sns.pairplot(counts, vars=x, hue='status', diag_kind='kde')\n",
    "\n",
    "# Better output but still not particularly revealing\n",
    "# Try a statistical method to explore if any clusters within the data can be identified"
   ]
  },
  {
   "cell_type": "code",
   "execution_count": null,
   "id": "3e4efcf8",
   "metadata": {},
   "outputs": [],
   "source": [
    "# Use Violinplots to both visualise outliers and their quality\n",
    "# Remove unnecessary columns & standardise the data to reduce scalar effects\n",
    "counts2 = counts.drop(['date', 'id', 'status'], axis=1)\n",
    "# Standardise\n",
    "ss = StandardScaler()\n",
    "counts2 = pd.DataFrame(ss.fit_transform(counts2), columns=['counts'])\n",
    "\n",
    "# Set out the plot.\n",
    "g=sns.violinplot(data=counts2, showmedians=True, showmeans=True)\n",
    "g.set_title('Detecting Outliers in New York Counts')\n",
    "\n",
    "# Show plot\n",
    "plt.show()\n",
    "\n",
    "# Very long tail\n",
    "# Discuss with team how to deal with this."
   ]
  },
  {
   "cell_type": "code",
   "execution_count": null,
   "id": "29f8deb0",
   "metadata": {},
   "outputs": [],
   "source": [
    "# Try a boxplot\n",
    "g=sns.boxplot(data=counts2)\n",
    "g.set_title('Boxplot of New Counts')\n",
    "plt.show()"
   ]
  },
  {
   "cell_type": "code",
   "execution_count": null,
   "id": "da97dc27",
   "metadata": {},
   "outputs": [],
   "source": []
  },
  {
   "cell_type": "markdown",
   "id": "7ea75e90",
   "metadata": {},
   "source": [
    "# Data Analysis"
   ]
  },
  {
   "cell_type": "code",
   "execution_count": null,
   "id": "38a941ab",
   "metadata": {},
   "outputs": [],
   "source": []
  },
  {
   "cell_type": "code",
   "execution_count": null,
   "id": "442656bd",
   "metadata": {},
   "outputs": [],
   "source": []
  },
  {
   "cell_type": "code",
   "execution_count": null,
   "id": "4c46cf0e",
   "metadata": {},
   "outputs": [],
   "source": []
  }
 ],
 "metadata": {
  "kernelspec": {
   "display_name": "Python 3 (ipykernel)",
   "language": "python",
   "name": "python3"
  },
  "language_info": {
   "codemirror_mode": {
    "name": "ipython",
    "version": 3
   },
   "file_extension": ".py",
   "mimetype": "text/x-python",
   "name": "python",
   "nbconvert_exporter": "python",
   "pygments_lexer": "ipython3",
   "version": "3.9.12"
  }
 },
 "nbformat": 4,
 "nbformat_minor": 5
}
