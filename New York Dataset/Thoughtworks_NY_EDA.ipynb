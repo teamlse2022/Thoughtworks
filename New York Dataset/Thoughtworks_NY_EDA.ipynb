{
 "cells": [
  {
   "cell_type": "markdown",
   "id": "a87386dd",
   "metadata": {},
   "source": [
    "## Note: Please ensure you run this workbook from the same folder as where the underlying data is stored in your computer."
   ]
  },
  {
   "cell_type": "markdown",
   "id": "3203b806",
   "metadata": {},
   "source": [
    "# Preparing the Environment for Exploratory Data Analysis"
   ]
  },
  {
   "cell_type": "code",
   "execution_count": 1,
   "id": "0157161b",
   "metadata": {},
   "outputs": [],
   "source": [
    "# Imports of Models & libraries. \n",
    "import numpy as np\n",
    "import pandas as pd\n",
    "import matplotlib.pyplot as plt\n",
    "import seaborn as sns\n",
    "import statsmodels.api as sm \n",
    "import nltk\n",
    "import os\n",
    "import string   \n",
    "import re\n",
    "import math\n",
    "import squarify\n",
    "\n",
    "\n",
    "from pywaffle import Waffle\n",
    "from datetime import datetime\n",
    "from statsmodels.formula.api import ols\n",
    "from sklearn import linear_model\n",
    "from sklearn.preprocessing import LabelEncoder\n",
    "from sklearn.utils.validation import column_or_1d\n",
    "from sklearn.preprocessing import StandardScaler\n",
    "from sklearn.preprocessing import MinMaxScaler\n",
    "from sklearn.cluster import KMeans\n",
    "from sklearn.metrics import silhouette_score\n",
    "from sklearn.metrics import accuracy_score\n",
    "from scipy.spatial.distance import cdist\n",
    "from wordcloud import WordCloud\n",
    "from nltk.tokenize import word_tokenize\n",
    "from nltk.probability import FreqDist\n",
    "from nltk.corpus import stopwords\n",
    "from textblob import TextBlob\n",
    "from scipy.stats import norm\n",
    "from collections import Counter\n",
    "from nltk import PorterStemmer\n",
    "from scipy.ndimage import gaussian_gradient_magnitude\n",
    "from PIL import Image\n",
    "from wordcloud import WordCloud, ImageColorGenerator\n",
    "from collections import Counter\n",
    "from vaderSentiment.vaderSentiment import SentimentIntensityAnalyzer\n",
    "\n",
    "\n",
    "import warnings\n",
    "warnings.filterwarnings('ignore')\n",
    "\n",
    "# Setting up a date parser using a private funciton, lambda\n",
    "# This will give us the dates in a format we require for aggregation & indexation\n",
    "d_parser = lambda x: pd.datetime.strptime(x, '%m/%d/%Y %I:%M:%S %p')"
   ]
  },
  {
   "cell_type": "code",
   "execution_count": 2,
   "id": "75783a0a",
   "metadata": {
    "scrolled": true
   },
   "outputs": [],
   "source": [
    "# Load the CSV file(s).\n",
    "counts = pd.read_csv('NY_Bicycle_Counts.csv', parse_dates=['date'], date_parser=d_parser)\n",
    "parking = pd.read_csv('NY_Bicycle_Parking.csv')\n",
    "routes = pd.read_excel('NY_Bicycle_Routes.xlsx')"
   ]
  },
  {
   "cell_type": "code",
   "execution_count": 3,
   "id": "31c59fc1",
   "metadata": {},
   "outputs": [
    {
     "name": "stdout",
     "output_type": "stream",
     "text": [
      "<class 'pandas.core.frame.DataFrame'>\n",
      "RangeIndex: 4167507 entries, 0 to 4167506\n",
      "Data columns (total 4 columns):\n",
      " #   Column  Dtype         \n",
      "---  ------  -----         \n",
      " 0   id      int64         \n",
      " 1   date    datetime64[ns]\n",
      " 2   counts  int64         \n",
      " 3   status  int64         \n",
      "dtypes: datetime64[ns](1), int64(3)\n",
      "memory usage: 127.2 MB\n",
      "<class 'pandas.core.frame.DataFrame'>\n",
      "RangeIndex: 30178 entries, 0 to 30177\n",
      "Data columns (total 11 columns):\n",
      " #   Column      Non-Null Count  Dtype \n",
      "---  ------      --------------  ----- \n",
      " 0   BoroCode    30178 non-null  int64 \n",
      " 1   BoroName    30178 non-null  object\n",
      " 2   CounDist    30178 non-null  int64 \n",
      " 3   AssemDist   30178 non-null  int64 \n",
      " 4   StSenDist   30178 non-null  int64 \n",
      " 5   CongDist    30178 non-null  int64 \n",
      " 6   STREETON    17710 non-null  object\n",
      " 7   XSTREET1    21881 non-null  object\n",
      " 8   XSTREET2    21771 non-null  object\n",
      " 9   SIDE        18395 non-null  object\n",
      " 10  ASSETSUBTY  30178 non-null  object\n",
      "dtypes: int64(5), object(6)\n",
      "memory usage: 2.5+ MB\n",
      "<class 'pandas.core.frame.DataFrame'>\n",
      "RangeIndex: 20824 entries, 0 to 20823\n",
      "Data columns (total 8 columns):\n",
      " #   Column      Non-Null Count  Dtype \n",
      "---  ------      --------------  ----- \n",
      " 0   segmentid   20824 non-null  object\n",
      " 1   boro        20824 non-null  int64 \n",
      " 2   street      20824 non-null  object\n",
      " 3   fromstreet  20824 non-null  object\n",
      " 4   tostreet    20824 non-null  object\n",
      " 5   bikedir     20824 non-null  object\n",
      " 6   lanecount   20824 non-null  int64 \n",
      " 7   ft_facilit  15430 non-null  object\n",
      "dtypes: int64(2), object(6)\n",
      "memory usage: 1.3+ MB\n"
     ]
    }
   ],
   "source": [
    "# View the DataFrame, metadata, shape\n",
    "counts.info()\n",
    "parking.info()\n",
    "routes.info()\n",
    "\n",
    "# Counts is a large but simple Df containing the number of bicycles passing through a counter\n",
    "# Parking contains geographic details of bicycle racks in the city of NY\n",
    "# Routes contains geographic details of list of bike lanes and routes in the city of NY"
   ]
  },
  {
   "cell_type": "markdown",
   "id": "d2daf2a5",
   "metadata": {},
   "source": [
    "## EDA on Counts DataFrame"
   ]
  },
  {
   "cell_type": "markdown",
   "id": "e6d5b845",
   "metadata": {},
   "source": [
    "### Data  Wrangling"
   ]
  },
  {
   "cell_type": "code",
   "execution_count": 4,
   "id": "d0e8acf1",
   "metadata": {},
   "outputs": [
    {
     "data": {
      "text/plain": [
       "id        0\n",
       "date      0\n",
       "counts    0\n",
       "status    0\n",
       "dtype: int64"
      ]
     },
     "execution_count": 4,
     "metadata": {},
     "output_type": "execute_result"
    }
   ],
   "source": [
    "# Check for missing values in counts\n",
    "counts.isnull().sum()\n",
    "\n",
    "# No missing values"
   ]
  },
  {
   "cell_type": "code",
   "execution_count": 5,
   "id": "d9408eab",
   "metadata": {},
   "outputs": [
    {
     "data": {
      "text/html": [
       "<div>\n",
       "<style scoped>\n",
       "    .dataframe tbody tr th:only-of-type {\n",
       "        vertical-align: middle;\n",
       "    }\n",
       "\n",
       "    .dataframe tbody tr th {\n",
       "        vertical-align: top;\n",
       "    }\n",
       "\n",
       "    .dataframe thead th {\n",
       "        text-align: right;\n",
       "    }\n",
       "</style>\n",
       "<table border=\"1\" class=\"dataframe\">\n",
       "  <thead>\n",
       "    <tr style=\"text-align: right;\">\n",
       "      <th></th>\n",
       "      <th>id</th>\n",
       "      <th>date</th>\n",
       "      <th>counts</th>\n",
       "      <th>status</th>\n",
       "    </tr>\n",
       "  </thead>\n",
       "  <tbody>\n",
       "    <tr>\n",
       "      <th>2059019</th>\n",
       "      <td>100047029</td>\n",
       "      <td>2012-08-31 00:00:00</td>\n",
       "      <td>41</td>\n",
       "      <td>4</td>\n",
       "    </tr>\n",
       "    <tr>\n",
       "      <th>3205445</th>\n",
       "      <td>100062893</td>\n",
       "      <td>2012-08-31 00:00:00</td>\n",
       "      <td>41</td>\n",
       "      <td>4</td>\n",
       "    </tr>\n",
       "    <tr>\n",
       "      <th>4164087</th>\n",
       "      <td>100005020</td>\n",
       "      <td>2012-08-31 00:00:00</td>\n",
       "      <td>41</td>\n",
       "      <td>4</td>\n",
       "    </tr>\n",
       "    <tr>\n",
       "      <th>2370586</th>\n",
       "      <td>100051865</td>\n",
       "      <td>2012-08-31 00:00:00</td>\n",
       "      <td>41</td>\n",
       "      <td>4</td>\n",
       "    </tr>\n",
       "    <tr>\n",
       "      <th>4165734</th>\n",
       "      <td>100005020</td>\n",
       "      <td>2012-08-31 00:15:00</td>\n",
       "      <td>52</td>\n",
       "      <td>4</td>\n",
       "    </tr>\n",
       "    <tr>\n",
       "      <th>...</th>\n",
       "      <td>...</td>\n",
       "      <td>...</td>\n",
       "      <td>...</td>\n",
       "      <td>...</td>\n",
       "    </tr>\n",
       "    <tr>\n",
       "      <th>16707</th>\n",
       "      <td>100062893</td>\n",
       "      <td>2022-07-04 23:45:00</td>\n",
       "      <td>34</td>\n",
       "      <td>0</td>\n",
       "    </tr>\n",
       "    <tr>\n",
       "      <th>16803</th>\n",
       "      <td>300020241</td>\n",
       "      <td>2022-07-04 23:45:00</td>\n",
       "      <td>16</td>\n",
       "      <td>0</td>\n",
       "    </tr>\n",
       "    <tr>\n",
       "      <th>16995</th>\n",
       "      <td>300024007</td>\n",
       "      <td>2022-07-04 23:45:00</td>\n",
       "      <td>2</td>\n",
       "      <td>0</td>\n",
       "    </tr>\n",
       "    <tr>\n",
       "      <th>16323</th>\n",
       "      <td>100047029</td>\n",
       "      <td>2022-07-04 23:45:00</td>\n",
       "      <td>34</td>\n",
       "      <td>0</td>\n",
       "    </tr>\n",
       "    <tr>\n",
       "      <th>16227</th>\n",
       "      <td>100010022</td>\n",
       "      <td>2022-07-04 23:45:00</td>\n",
       "      <td>1</td>\n",
       "      <td>0</td>\n",
       "    </tr>\n",
       "  </tbody>\n",
       "</table>\n",
       "<p>4167507 rows × 4 columns</p>\n",
       "</div>"
      ],
      "text/plain": [
       "                id                date  counts  status\n",
       "2059019  100047029 2012-08-31 00:00:00      41       4\n",
       "3205445  100062893 2012-08-31 00:00:00      41       4\n",
       "4164087  100005020 2012-08-31 00:00:00      41       4\n",
       "2370586  100051865 2012-08-31 00:00:00      41       4\n",
       "4165734  100005020 2012-08-31 00:15:00      52       4\n",
       "...            ...                 ...     ...     ...\n",
       "16707    100062893 2022-07-04 23:45:00      34       0\n",
       "16803    300020241 2022-07-04 23:45:00      16       0\n",
       "16995    300024007 2022-07-04 23:45:00       2       0\n",
       "16323    100047029 2022-07-04 23:45:00      34       0\n",
       "16227    100010022 2022-07-04 23:45:00       1       0\n",
       "\n",
       "[4167507 rows x 4 columns]"
      ]
     },
     "execution_count": 5,
     "metadata": {},
     "output_type": "execute_result"
    }
   ],
   "source": [
    "# Make sure that the data is sorted in cbronological order without altering anything else for the moment\n",
    "counts.sort_values(by='date')\n",
    "\n",
    "# Can see data set runs from 31 Aug 2012 to 04 Jul 2022\n",
    "# Can extract hour of the day to look for patterns. Expect peak vs off peak patterns\n",
    "# We can also group the data by day of the week to look for patterns within that\n",
    "# We can also see that its possible to group the data into month to look for seasonal patterns\n",
    "# We can also group/subset the data by id which is another spatial/location identifier"
   ]
  },
  {
   "cell_type": "code",
   "execution_count": 6,
   "id": "ea737485",
   "metadata": {},
   "outputs": [],
   "source": [
    "# Extract year information from timestamped date column\n",
    "counts['year'] = counts['date'].dt.year"
   ]
  },
  {
   "cell_type": "code",
   "execution_count": 7,
   "id": "12eb3da4",
   "metadata": {},
   "outputs": [],
   "source": [
    "# Define night and day to calculate user defined peak and off peak hours\n",
    "# Extract hour information first from timestamped date column\n",
    "counts['hour'] = counts['date'].dt.hour"
   ]
  },
  {
   "cell_type": "code",
   "execution_count": 8,
   "id": "c098d075",
   "metadata": {},
   "outputs": [],
   "source": [
    "# Create user defined function for peak and off peak hours\n",
    "def f(x):\n",
    "    if (x > 6) and (x <= 7):\n",
    "        return 'Early Morning'\n",
    "    elif (x > 7) and (x <= 10 ):\n",
    "        return 'AM peak'\n",
    "    elif (x > 10) and (x <= 16):\n",
    "        return'Inter Peak'\n",
    "    elif (x > 16) and (x <= 19) :\n",
    "        return 'PM Peak'\n",
    "    elif (x > 19) and (x <= 23):\n",
    "        return'Evening'\n",
    "    elif (x <= 6):\n",
    "        return'Night'\n",
    "\n",
    "# Apply user defined function to create new column with peak and off peak hours\n",
    "counts['time_of_day'] = counts['hour'].apply(f)"
   ]
  },
  {
   "cell_type": "code",
   "execution_count": 9,
   "id": "631e5a6b",
   "metadata": {},
   "outputs": [],
   "source": [
    "# Define day of the week and add as column\n",
    "counts = counts.assign(day_of_week = lambda x: x.date.dt.day_name())"
   ]
  },
  {
   "cell_type": "code",
   "execution_count": 10,
   "id": "055a63e1",
   "metadata": {},
   "outputs": [],
   "source": [
    "# Define month to calculate user defined seasons\n",
    "# Extract month information first from timestamped date column\n",
    "counts['month'] = counts['date'].dt.month"
   ]
  },
  {
   "cell_type": "code",
   "execution_count": 11,
   "id": "0f484dc9",
   "metadata": {},
   "outputs": [],
   "source": [
    "# Create user defined function for seasons\n",
    "def f(x):\n",
    "    if (x >= 1) and (x <= 2):\n",
    "        return 'Winter'\n",
    "    elif (x > 2) and (x <= 5 ):\n",
    "        return 'Spring'\n",
    "    elif (x > 5) and (x <= 8):\n",
    "        return'Summer'\n",
    "    elif (x > 8) and (x <= 11) :\n",
    "        return 'Autumn'\n",
    "    elif (x > 11):\n",
    "        return'Winter'\n",
    "\n",
    "# Apply user defined function to create new column with seasons\n",
    "counts['season'] = counts['month'].apply(f)"
   ]
  },
  {
   "cell_type": "code",
   "execution_count": 12,
   "id": "9e57701d",
   "metadata": {},
   "outputs": [],
   "source": [
    "# Reshaping the order of the columns so they flow more logically within the DataFrame\n",
    "neworder = ['id', 'date', 'day_of_week', 'month', 'season', 'year', 'hour', 'time_of_day', 'counts', 'status']\n",
    "counts = counts.reindex(columns=neworder)"
   ]
  },
  {
   "cell_type": "code",
   "execution_count": 13,
   "id": "f76d1071",
   "metadata": {},
   "outputs": [
    {
     "data": {
      "text/html": [
       "<div>\n",
       "<style scoped>\n",
       "    .dataframe tbody tr th:only-of-type {\n",
       "        vertical-align: middle;\n",
       "    }\n",
       "\n",
       "    .dataframe tbody tr th {\n",
       "        vertical-align: top;\n",
       "    }\n",
       "\n",
       "    .dataframe thead th {\n",
       "        text-align: right;\n",
       "    }\n",
       "</style>\n",
       "<table border=\"1\" class=\"dataframe\">\n",
       "  <thead>\n",
       "    <tr style=\"text-align: right;\">\n",
       "      <th></th>\n",
       "      <th>id</th>\n",
       "      <th>date</th>\n",
       "      <th>day_of_week</th>\n",
       "      <th>month</th>\n",
       "      <th>season</th>\n",
       "      <th>year</th>\n",
       "      <th>hour</th>\n",
       "      <th>time_of_day</th>\n",
       "      <th>counts</th>\n",
       "      <th>status</th>\n",
       "    </tr>\n",
       "  </thead>\n",
       "  <tbody>\n",
       "    <tr>\n",
       "      <th>2874713</th>\n",
       "      <td>100009425</td>\n",
       "      <td>2020-06-15 00:15:00</td>\n",
       "      <td>Monday</td>\n",
       "      <td>6</td>\n",
       "      <td>Summer</td>\n",
       "      <td>2020</td>\n",
       "      <td>0</td>\n",
       "      <td>Night</td>\n",
       "      <td>11</td>\n",
       "      <td>0</td>\n",
       "    </tr>\n",
       "    <tr>\n",
       "      <th>1635705</th>\n",
       "      <td>100010020</td>\n",
       "      <td>2016-11-24 18:45:00</td>\n",
       "      <td>Thursday</td>\n",
       "      <td>11</td>\n",
       "      <td>Autumn</td>\n",
       "      <td>2016</td>\n",
       "      <td>18</td>\n",
       "      <td>PM Peak</td>\n",
       "      <td>5</td>\n",
       "      <td>0</td>\n",
       "    </tr>\n",
       "    <tr>\n",
       "      <th>598157</th>\n",
       "      <td>100009428</td>\n",
       "      <td>2020-12-30 21:15:00</td>\n",
       "      <td>Wednesday</td>\n",
       "      <td>12</td>\n",
       "      <td>Winter</td>\n",
       "      <td>2020</td>\n",
       "      <td>21</td>\n",
       "      <td>Evening</td>\n",
       "      <td>33</td>\n",
       "      <td>0</td>\n",
       "    </tr>\n",
       "    <tr>\n",
       "      <th>1036189</th>\n",
       "      <td>100010017</td>\n",
       "      <td>2020-11-06 04:15:00</td>\n",
       "      <td>Friday</td>\n",
       "      <td>11</td>\n",
       "      <td>Autumn</td>\n",
       "      <td>2020</td>\n",
       "      <td>4</td>\n",
       "      <td>Night</td>\n",
       "      <td>0</td>\n",
       "      <td>0</td>\n",
       "    </tr>\n",
       "    <tr>\n",
       "      <th>3452252</th>\n",
       "      <td>100062893</td>\n",
       "      <td>2020-07-15 19:15:00</td>\n",
       "      <td>Wednesday</td>\n",
       "      <td>7</td>\n",
       "      <td>Summer</td>\n",
       "      <td>2020</td>\n",
       "      <td>19</td>\n",
       "      <td>PM Peak</td>\n",
       "      <td>136</td>\n",
       "      <td>0</td>\n",
       "    </tr>\n",
       "    <tr>\n",
       "      <th>1513330</th>\n",
       "      <td>100010019</td>\n",
       "      <td>2022-03-11 23:00:00</td>\n",
       "      <td>Friday</td>\n",
       "      <td>3</td>\n",
       "      <td>Spring</td>\n",
       "      <td>2022</td>\n",
       "      <td>23</td>\n",
       "      <td>Evening</td>\n",
       "      <td>9</td>\n",
       "      <td>0</td>\n",
       "    </tr>\n",
       "    <tr>\n",
       "      <th>2292410</th>\n",
       "      <td>100047029</td>\n",
       "      <td>2020-03-18 19:45:00</td>\n",
       "      <td>Wednesday</td>\n",
       "      <td>3</td>\n",
       "      <td>Spring</td>\n",
       "      <td>2020</td>\n",
       "      <td>19</td>\n",
       "      <td>PM Peak</td>\n",
       "      <td>22</td>\n",
       "      <td>0</td>\n",
       "    </tr>\n",
       "    <tr>\n",
       "      <th>1652670</th>\n",
       "      <td>100010020</td>\n",
       "      <td>2017-05-18 14:30:00</td>\n",
       "      <td>Thursday</td>\n",
       "      <td>5</td>\n",
       "      <td>Spring</td>\n",
       "      <td>2017</td>\n",
       "      <td>14</td>\n",
       "      <td>Inter Peak</td>\n",
       "      <td>66</td>\n",
       "      <td>0</td>\n",
       "    </tr>\n",
       "    <tr>\n",
       "      <th>580018</th>\n",
       "      <td>100009428</td>\n",
       "      <td>2020-07-13 19:45:00</td>\n",
       "      <td>Monday</td>\n",
       "      <td>7</td>\n",
       "      <td>Summer</td>\n",
       "      <td>2020</td>\n",
       "      <td>19</td>\n",
       "      <td>PM Peak</td>\n",
       "      <td>85</td>\n",
       "      <td>0</td>\n",
       "    </tr>\n",
       "    <tr>\n",
       "      <th>637274</th>\n",
       "      <td>100009428</td>\n",
       "      <td>2022-01-01 16:30:00</td>\n",
       "      <td>Saturday</td>\n",
       "      <td>1</td>\n",
       "      <td>Winter</td>\n",
       "      <td>2022</td>\n",
       "      <td>16</td>\n",
       "      <td>Inter Peak</td>\n",
       "      <td>30</td>\n",
       "      <td>0</td>\n",
       "    </tr>\n",
       "  </tbody>\n",
       "</table>\n",
       "</div>"
      ],
      "text/plain": [
       "                id                date day_of_week  month  season  year  hour  \\\n",
       "2874713  100009425 2020-06-15 00:15:00      Monday      6  Summer  2020     0   \n",
       "1635705  100010020 2016-11-24 18:45:00    Thursday     11  Autumn  2016    18   \n",
       "598157   100009428 2020-12-30 21:15:00   Wednesday     12  Winter  2020    21   \n",
       "1036189  100010017 2020-11-06 04:15:00      Friday     11  Autumn  2020     4   \n",
       "3452252  100062893 2020-07-15 19:15:00   Wednesday      7  Summer  2020    19   \n",
       "1513330  100010019 2022-03-11 23:00:00      Friday      3  Spring  2022    23   \n",
       "2292410  100047029 2020-03-18 19:45:00   Wednesday      3  Spring  2020    19   \n",
       "1652670  100010020 2017-05-18 14:30:00    Thursday      5  Spring  2017    14   \n",
       "580018   100009428 2020-07-13 19:45:00      Monday      7  Summer  2020    19   \n",
       "637274   100009428 2022-01-01 16:30:00    Saturday      1  Winter  2022    16   \n",
       "\n",
       "        time_of_day  counts  status  \n",
       "2874713       Night      11       0  \n",
       "1635705     PM Peak       5       0  \n",
       "598157      Evening      33       0  \n",
       "1036189       Night       0       0  \n",
       "3452252     PM Peak     136       0  \n",
       "1513330     Evening       9       0  \n",
       "2292410     PM Peak      22       0  \n",
       "1652670  Inter Peak      66       0  \n",
       "580018      PM Peak      85       0  \n",
       "637274   Inter Peak      30       0  "
      ]
     },
     "execution_count": 13,
     "metadata": {},
     "output_type": "execute_result"
    }
   ],
   "source": [
    "# Look at 10 rows randomly to ensure all user defined columns correctly populated\n",
    "counts.sample(10)"
   ]
  },
  {
   "cell_type": "markdown",
   "id": "132f39ca",
   "metadata": {},
   "source": [
    "### Creating Visualisations: How has cycling uptake evolved over time?"
   ]
  },
  {
   "cell_type": "code",
   "execution_count": 14,
   "id": "61e67b7b",
   "metadata": {},
   "outputs": [],
   "source": [
    "# Aggregate data by year\n",
    "df=counts.groupby(['year'], as_index=False)['counts'].sum()\n",
    "\n",
    "# Sort by Values\n",
    "df.sort_values('year', inplace=True)"
   ]
  },
  {
   "cell_type": "code",
   "execution_count": 15,
   "id": "4e867107",
   "metadata": {},
   "outputs": [
    {
     "data": {
      "image/png": "[encoded data removed]",
      "text/plain": [
       "<Figure size 432x288 with 1 Axes>"
      ]
     },
     "metadata": {
      "needs_background": "light"
     },
     "output_type": "display_data"
    }
   ],
   "source": [
    "#Creating the line chart\n",
    "plt.plot(df['year'], df['counts']) \n",
    "#Adding the aesthetics\n",
    "plt.title('Uptake of cycling in New York over time')\n",
    "plt.xlabel('Year')\n",
    "plt.ylabel('Cycling Uptake') \n",
    "#Show the plot\n",
    "plt.show()\n",
    "\n",
    "# Interesting that peak was 2016\n",
    "# Sharp decline in mid 2020 due to COVID-19\n",
    "# 2022 data still not showing uptake pickup although data is not for full year in 2022"
   ]
  },
  {
   "cell_type": "markdown",
   "id": "8bc3ecd2",
   "metadata": {},
   "source": [
    "### Creating Data Visualisations : Does time of the day Matter?"
   ]
  },
  {
   "cell_type": "code",
   "execution_count": 16,
   "id": "7607a820",
   "metadata": {},
   "outputs": [],
   "source": [
    "# Aggregate data by time of day\n",
    "df=counts.groupby(['time_of_day'], as_index=False)['counts'].sum()\n",
    "\n",
    "# Sort by Values\n",
    "df.sort_values('counts', inplace=True)"
   ]
  },
  {
   "cell_type": "code",
   "execution_count": 17,
   "id": "a7b22128",
   "metadata": {},
   "outputs": [
    {
     "data": {
      "image/png": "[encoded data removed]",
      "text/plain": [
       "<Figure size 1440x720 with 1 Axes>"
      ]
     },
     "metadata": {},
     "output_type": "display_data"
    }
   ],
   "source": [
    "# Visualise to see which time of day has the highest count of cycling\n",
    "sns.set_theme(style=\"whitegrid\")\n",
    "from matplotlib.ticker import FormatStrFormatter\n",
    "\n",
    "# Initialize the matplotlib figure\n",
    "f, g = plt.subplots(figsize=(20, 10))\n",
    "\n",
    "g=sns.barplot(x = df[\"time_of_day\"], y = df[\"counts\"])\n",
    "\n",
    "# Add a legend and informative axis label\n",
    "g.set(ylabel=\"Number of bicycle passes\",\n",
    "       xlabel=\"Time of the day\")\n",
    "g.set_title('Does time of the day matter in cycling uptake')\n",
    "sns.despine(left=True, bottom=True)\n",
    "plt.show()\n",
    "\n",
    "# Surprisingly peak hours dont show highest use!\n",
    "# So are cyclists more leisure users than commuters?\n",
    "# Need to explore why more are not cycling during peak hours."
   ]
  },
  {
   "cell_type": "markdown",
   "id": "8adea764",
   "metadata": {},
   "source": [
    "### Creating Data Visualisations: Does Day of the Week matter?"
   ]
  },
  {
   "cell_type": "code",
   "execution_count": 18,
   "id": "c54e2811",
   "metadata": {},
   "outputs": [],
   "source": [
    "# Aggregate data by time of day\n",
    "df=counts.groupby(['day_of_week'], as_index=False)['counts'].sum()\n",
    "\n",
    "# Sort by Values\n",
    "df.sort_values('counts', inplace=True)"
   ]
  },
  {
   "cell_type": "code",
   "execution_count": 19,
   "id": "6d743775",
   "metadata": {},
   "outputs": [
    {
     "data": {
      "image/png": "[encoded data removed]",
      "text/plain": [
       "<Figure size 432x288 with 1 Axes>"
      ]
     },
     "metadata": {},
     "output_type": "display_data"
    }
   ],
   "source": [
    "# Plotting a treemap\n",
    "# Colour Palette\n",
    "colors=['#fae588','#f79d65','#f9dc5c','#e8ac65','#e76f51','#ef233c','#b7094c']\n",
    "\n",
    "# Set Plot Style\n",
    "sns.set_style(style=\"whitegrid\") \n",
    "\n",
    "# Setting the variable\n",
    "sizes= df[\"counts\"].values\n",
    "label=df[\"day_of_week\"]\n",
    "\n",
    "# Setting the styles\n",
    "squarify.plot(sizes=sizes, label=label, alpha=0.6,color=colors).set(title='On which day do people cycle the most?')\n",
    "plt.axis('off')\n",
    "plt.show()\n",
    "\n",
    "# Except weekends, not big differences\n",
    "# Mid week days Tuesday & Wednesdays shows greatest number\n",
    "# Will be interesting to see how these compare with the other cities"
   ]
  },
  {
   "cell_type": "markdown",
   "id": "f2e1038d",
   "metadata": {},
   "source": [
    "### Creating Data Visualisations: Do seasons matter?"
   ]
  },
  {
   "cell_type": "code",
   "execution_count": 20,
   "id": "3affc024",
   "metadata": {},
   "outputs": [
    {
     "data": {
      "text/html": [
       "<div>\n",
       "<style scoped>\n",
       "    .dataframe tbody tr th:only-of-type {\n",
       "        vertical-align: middle;\n",
       "    }\n",
       "\n",
       "    .dataframe tbody tr th {\n",
       "        vertical-align: top;\n",
       "    }\n",
       "\n",
       "    .dataframe thead th {\n",
       "        text-align: right;\n",
       "    }\n",
       "</style>\n",
       "<table border=\"1\" class=\"dataframe\">\n",
       "  <thead>\n",
       "    <tr style=\"text-align: right;\">\n",
       "      <th></th>\n",
       "      <th>season</th>\n",
       "      <th>counts</th>\n",
       "    </tr>\n",
       "  </thead>\n",
       "  <tbody>\n",
       "    <tr>\n",
       "      <th>3</th>\n",
       "      <td>Winter</td>\n",
       "      <td>17766649</td>\n",
       "    </tr>\n",
       "    <tr>\n",
       "      <th>1</th>\n",
       "      <td>Spring</td>\n",
       "      <td>27985178</td>\n",
       "    </tr>\n",
       "    <tr>\n",
       "      <th>0</th>\n",
       "      <td>Autumn</td>\n",
       "      <td>31873111</td>\n",
       "    </tr>\n",
       "    <tr>\n",
       "      <th>2</th>\n",
       "      <td>Summer</td>\n",
       "      <td>36459568</td>\n",
       "    </tr>\n",
       "  </tbody>\n",
       "</table>\n",
       "</div>"
      ],
      "text/plain": [
       "   season    counts\n",
       "3  Winter  17766649\n",
       "1  Spring  27985178\n",
       "0  Autumn  31873111\n",
       "2  Summer  36459568"
      ]
     },
     "execution_count": 20,
     "metadata": {},
     "output_type": "execute_result"
    }
   ],
   "source": [
    "# Aggregate data by time of day\n",
    "df=counts.groupby(['season'], as_index=False)['counts'].sum()\n",
    "\n",
    "# Sort by Values\n",
    "df.sort_values('counts', inplace=True)\n",
    "df"
   ]
  },
  {
   "cell_type": "code",
   "execution_count": 39,
   "id": "2905d59f",
   "metadata": {},
   "outputs": [
    {
     "data": {
      "image/png": "[encoded data removed]",
      "text/plain": [
       "<Waffle size 504x1080 with 1 Axes>"
      ]
     },
     "metadata": {},
     "output_type": "display_data"
    }
   ],
   "source": [
    "# Visualise in a Waffle Chart\n",
    "fig = plt.figure(\n",
    "    FigureClass=Waffle,\n",
    "    rows=10, columns = 10, figsize = (7,15), title = {'label': 'Seasonal impact on cycling (log scale)'},\n",
    "    values=[math.log(17766649), math.log(27985178), math.log(31873111), math.log(36459568)],\n",
    "    colors=[\"#00FFFF\", \"#7FFF00\", \"#8A3324\", \"#FF7F00\"],\n",
    "    icons=['snowflake', 'seedling', 'wheat-awn', 'temperature-high'],\n",
    "    font_size=20,\n",
    "    icon_style='solid',\n",
    "    icon_legend=True,\n",
    "    legend={\n",
    "        'labels': ['Winter', 'Spring', 'Autumn', 'Summer'], \n",
    "        'loc': 'upper left', \n",
    "        'bbox_to_anchor': (1, 1)\n",
    "    }\n",
    ")\n",
    "# Kevin to note on prettifying"
   ]
  },
  {
   "cell_type": "markdown",
   "id": "3580c509",
   "metadata": {},
   "source": [
    "### Creating Data Visualisations: Does location matter?"
   ]
  },
  {
   "cell_type": "code",
   "execution_count": 29,
   "id": "47251260",
   "metadata": {},
   "outputs": [
    {
     "name": "stdout",
     "output_type": "stream",
     "text": [
      "id                 25\n",
      "date           344996\n",
      "day_of_week         7\n",
      "month              12\n",
      "season              4\n",
      "year               11\n",
      "hour               24\n",
      "time_of_day         6\n",
      "counts            939\n",
      "status              2\n",
      "dtype: int64\n"
     ]
    }
   ],
   "source": [
    "# Count the number of unique values for id\n",
    "print(counts.nunique())\n",
    "\n",
    "# Shows 25 spatial/locational data"
   ]
  },
  {
   "cell_type": "code",
   "execution_count": 30,
   "id": "7334f017",
   "metadata": {},
   "outputs": [],
   "source": [
    "# Group by Spatial ID\n",
    "df=counts.groupby(['id'], as_index=False)['counts'].sum()"
   ]
  },
  {
   "cell_type": "code",
   "execution_count": 31,
   "id": "031ac8d9",
   "metadata": {},
   "outputs": [
    {
     "data": {
      "image/png": "[encoded data removed]",
      "text/plain": [
       "<Figure size 2016x720 with 1 Axes>"
      ]
     },
     "metadata": {},
     "output_type": "display_data"
    }
   ],
   "source": [
    "# Visualise to see which location has the highest count of cycling\n",
    "sns.set_theme(style=\"whitegrid\")\n",
    "from matplotlib.ticker import FormatStrFormatter\n",
    "\n",
    "# Initialize the matplotlib figure\n",
    "f, g = plt.subplots(figsize=(28, 10))\n",
    "\n",
    "g=sns.barplot(x = df[\"id\"], y = df[\"counts\"])\n",
    "\n",
    "# Add a legend and informative axis label\n",
    "g.set(xlim=(0, 25), ylabel=\"Number of bicycle passes\",\n",
    "       xlabel=\"Location ID\")\n",
    "g.set_title('Cycling popularity per location')\n",
    "sns.despine(left=True, bottom=True)\n",
    "plt.show()\n",
    "\n",
    "# Number of Cycle passes varies considerably by location\n",
    "# Potential to drill down for further analysis on these locations versus time of day, week etc.\n",
    "# Discuss with team how to best represent this"
   ]
  },
  {
   "cell_type": "markdown",
   "id": "2ac1c0b1",
   "metadata": {},
   "source": [
    "## EDA on Parking DataFrame"
   ]
  },
  {
   "cell_type": "markdown",
   "id": "84359f5d",
   "metadata": {},
   "source": [
    "### Data Wrangling"
   ]
  },
  {
   "cell_type": "code",
   "execution_count": 32,
   "id": "e82b7b55",
   "metadata": {},
   "outputs": [
    {
     "data": {
      "text/plain": [
       "BoroCode          0\n",
       "BoroName          0\n",
       "CounDist          0\n",
       "AssemDist         0\n",
       "StSenDist         0\n",
       "CongDist          0\n",
       "STREETON      12468\n",
       "XSTREET1       8297\n",
       "XSTREET2       8407\n",
       "SIDE          11783\n",
       "ASSETSUBTY        0\n",
       "dtype: int64"
      ]
     },
     "execution_count": 32,
     "metadata": {},
     "output_type": "execute_result"
    }
   ],
   "source": [
    "# Check for missing values in parking\n",
    "parking.isnull().sum()\n",
    "\n",
    "# Lots of missing values in several columns\n",
    "# Looks like address/geographical data\n",
    "# Makes sense there are missing values\n",
    "# Not all columns required/available to complete an address"
   ]
  },
  {
   "cell_type": "code",
   "execution_count": 33,
   "id": "dd6cdbd3",
   "metadata": {},
   "outputs": [
    {
     "data": {
      "text/html": [
       "<div>\n",
       "<style scoped>\n",
       "    .dataframe tbody tr th:only-of-type {\n",
       "        vertical-align: middle;\n",
       "    }\n",
       "\n",
       "    .dataframe tbody tr th {\n",
       "        vertical-align: top;\n",
       "    }\n",
       "\n",
       "    .dataframe thead th {\n",
       "        text-align: right;\n",
       "    }\n",
       "</style>\n",
       "<table border=\"1\" class=\"dataframe\">\n",
       "  <thead>\n",
       "    <tr style=\"text-align: right;\">\n",
       "      <th></th>\n",
       "      <th>BoroCode</th>\n",
       "      <th>BoroName</th>\n",
       "      <th>CounDist</th>\n",
       "      <th>AssemDist</th>\n",
       "      <th>StSenDist</th>\n",
       "      <th>CongDist</th>\n",
       "      <th>STREETON</th>\n",
       "      <th>XSTREET1</th>\n",
       "      <th>XSTREET2</th>\n",
       "      <th>SIDE</th>\n",
       "      <th>ASSETSUBTY</th>\n",
       "    </tr>\n",
       "  </thead>\n",
       "  <tbody>\n",
       "    <tr>\n",
       "      <th>21087</th>\n",
       "      <td>4</td>\n",
       "      <td>Queens</td>\n",
       "      <td>19</td>\n",
       "      <td>26</td>\n",
       "      <td>11</td>\n",
       "      <td>3</td>\n",
       "      <td>150 ST</td>\n",
       "      <td>14 AV</td>\n",
       "      <td>12 RD</td>\n",
       "      <td>E</td>\n",
       "      <td>Small Hoop</td>\n",
       "    </tr>\n",
       "    <tr>\n",
       "      <th>14767</th>\n",
       "      <td>4</td>\n",
       "      <td>Queens</td>\n",
       "      <td>26</td>\n",
       "      <td>37</td>\n",
       "      <td>12</td>\n",
       "      <td>12</td>\n",
       "      <td>JACKSON AV</td>\n",
       "      <td>23 ST</td>\n",
       "      <td>46 AV</td>\n",
       "      <td>N</td>\n",
       "      <td>Small Hoop</td>\n",
       "    </tr>\n",
       "    <tr>\n",
       "      <th>24527</th>\n",
       "      <td>1</td>\n",
       "      <td>Manhattan</td>\n",
       "      <td>4</td>\n",
       "      <td>67</td>\n",
       "      <td>27</td>\n",
       "      <td>12</td>\n",
       "      <td>BROADWAY</td>\n",
       "      <td>W 54 ST</td>\n",
       "      <td>W 53 ST</td>\n",
       "      <td>NaN</td>\n",
       "      <td>Large Hoop</td>\n",
       "    </tr>\n",
       "    <tr>\n",
       "      <th>7993</th>\n",
       "      <td>1</td>\n",
       "      <td>Manhattan</td>\n",
       "      <td>10</td>\n",
       "      <td>72</td>\n",
       "      <td>31</td>\n",
       "      <td>13</td>\n",
       "      <td>BROADWAY</td>\n",
       "      <td>ISHAM ST</td>\n",
       "      <td>W 207 ST</td>\n",
       "      <td>W</td>\n",
       "      <td>Small Hoop</td>\n",
       "    </tr>\n",
       "    <tr>\n",
       "      <th>20316</th>\n",
       "      <td>3</td>\n",
       "      <td>Brooklyn</td>\n",
       "      <td>33</td>\n",
       "      <td>52</td>\n",
       "      <td>26</td>\n",
       "      <td>7</td>\n",
       "      <td>NaN</td>\n",
       "      <td>HENRY ST</td>\n",
       "      <td>HICKS ST</td>\n",
       "      <td>NaN</td>\n",
       "      <td>U-Rack</td>\n",
       "    </tr>\n",
       "    <tr>\n",
       "      <th>3770</th>\n",
       "      <td>4</td>\n",
       "      <td>Queens</td>\n",
       "      <td>21</td>\n",
       "      <td>34</td>\n",
       "      <td>13</td>\n",
       "      <td>14</td>\n",
       "      <td>37 AV</td>\n",
       "      <td>NaN</td>\n",
       "      <td>NaN</td>\n",
       "      <td>N</td>\n",
       "      <td>Small Hoop</td>\n",
       "    </tr>\n",
       "    <tr>\n",
       "      <th>6438</th>\n",
       "      <td>3</td>\n",
       "      <td>Brooklyn</td>\n",
       "      <td>38</td>\n",
       "      <td>51</td>\n",
       "      <td>17</td>\n",
       "      <td>7</td>\n",
       "      <td>8 AV</td>\n",
       "      <td>NaN</td>\n",
       "      <td>NaN</td>\n",
       "      <td>NaN</td>\n",
       "      <td>Large Hoop</td>\n",
       "    </tr>\n",
       "    <tr>\n",
       "      <th>4837</th>\n",
       "      <td>3</td>\n",
       "      <td>Brooklyn</td>\n",
       "      <td>36</td>\n",
       "      <td>57</td>\n",
       "      <td>25</td>\n",
       "      <td>8</td>\n",
       "      <td>NaN</td>\n",
       "      <td>PACIFIC ST</td>\n",
       "      <td>DEAN ST</td>\n",
       "      <td>W</td>\n",
       "      <td>U-Rack</td>\n",
       "    </tr>\n",
       "    <tr>\n",
       "      <th>21346</th>\n",
       "      <td>1</td>\n",
       "      <td>Manhattan</td>\n",
       "      <td>5</td>\n",
       "      <td>76</td>\n",
       "      <td>28</td>\n",
       "      <td>12</td>\n",
       "      <td>NaN</td>\n",
       "      <td>E 68 ST</td>\n",
       "      <td>E 69 ST</td>\n",
       "      <td>NaN</td>\n",
       "      <td>U-Rack</td>\n",
       "    </tr>\n",
       "    <tr>\n",
       "      <th>6253</th>\n",
       "      <td>1</td>\n",
       "      <td>Manhattan</td>\n",
       "      <td>2</td>\n",
       "      <td>74</td>\n",
       "      <td>28</td>\n",
       "      <td>12</td>\n",
       "      <td>NaN</td>\n",
       "      <td>E 29 ST</td>\n",
       "      <td>E 30 ST</td>\n",
       "      <td>E</td>\n",
       "      <td>U-Rack</td>\n",
       "    </tr>\n",
       "  </tbody>\n",
       "</table>\n",
       "</div>"
      ],
      "text/plain": [
       "       BoroCode   BoroName  CounDist  AssemDist  StSenDist  CongDist  \\\n",
       "21087         4     Queens        19         26         11         3   \n",
       "14767         4     Queens        26         37         12        12   \n",
       "24527         1  Manhattan         4         67         27        12   \n",
       "7993          1  Manhattan        10         72         31        13   \n",
       "20316         3   Brooklyn        33         52         26         7   \n",
       "3770          4     Queens        21         34         13        14   \n",
       "6438          3   Brooklyn        38         51         17         7   \n",
       "4837          3   Brooklyn        36         57         25         8   \n",
       "21346         1  Manhattan         5         76         28        12   \n",
       "6253          1  Manhattan         2         74         28        12   \n",
       "\n",
       "         STREETON    XSTREET1  XSTREET2 SIDE  ASSETSUBTY  \n",
       "21087      150 ST       14 AV     12 RD    E  Small Hoop  \n",
       "14767  JACKSON AV       23 ST     46 AV    N  Small Hoop  \n",
       "24527    BROADWAY     W 54 ST   W 53 ST  NaN  Large Hoop  \n",
       "7993     BROADWAY    ISHAM ST  W 207 ST    W  Small Hoop  \n",
       "20316         NaN    HENRY ST  HICKS ST  NaN      U-Rack  \n",
       "3770        37 AV         NaN       NaN    N  Small Hoop  \n",
       "6438         8 AV         NaN       NaN  NaN  Large Hoop  \n",
       "4837          NaN  PACIFIC ST   DEAN ST    W      U-Rack  \n",
       "21346         NaN     E 68 ST   E 69 ST  NaN      U-Rack  \n",
       "6253          NaN     E 29 ST   E 30 ST    E      U-Rack  "
      ]
     },
     "execution_count": 33,
     "metadata": {},
     "output_type": "execute_result"
    }
   ],
   "source": [
    "# View dataframe parking\n",
    "parking.sample(10)"
   ]
  },
  {
   "cell_type": "code",
   "execution_count": 34,
   "id": "8cf529c5",
   "metadata": {},
   "outputs": [
    {
     "name": "stdout",
     "output_type": "stream",
     "text": [
      "BoroCode         5\n",
      "BoroName         5\n",
      "CounDist        51\n",
      "AssemDist       65\n",
      "StSenDist       26\n",
      "CongDist        13\n",
      "STREETON      1671\n",
      "XSTREET1      2608\n",
      "XSTREET2      2724\n",
      "SIDE             4\n",
      "ASSETSUBTY      11\n",
      "dtype: int64\n"
     ]
    }
   ],
   "source": [
    "# Count the number of unique values for each column\n",
    "print(parking.nunique())\n",
    "\n",
    "# How to marry this with counts data which has 25 unique location ids?"
   ]
  },
  {
   "cell_type": "markdown",
   "id": "602485c6",
   "metadata": {},
   "source": [
    "## EDA on Routes DataFrame"
   ]
  },
  {
   "cell_type": "markdown",
   "id": "60a8de13",
   "metadata": {},
   "source": [
    "### Data Wrangling"
   ]
  },
  {
   "cell_type": "code",
   "execution_count": 35,
   "id": "b66bc5e3",
   "metadata": {},
   "outputs": [
    {
     "data": {
      "text/plain": [
       "segmentid        0\n",
       "boro             0\n",
       "street           0\n",
       "fromstreet       0\n",
       "tostreet         0\n",
       "bikedir          0\n",
       "lanecount        0\n",
       "ft_facilit    5394\n",
       "dtype: int64"
      ]
     },
     "execution_count": 35,
     "metadata": {},
     "output_type": "execute_result"
    }
   ],
   "source": [
    "# Check for missing values\n",
    "routes.isnull().sum()\n",
    "\n",
    "# Missing value in just one column\n",
    "# Looks like geographic location details again"
   ]
  },
  {
   "cell_type": "code",
   "execution_count": 36,
   "id": "1d3b8d04",
   "metadata": {},
   "outputs": [
    {
     "data": {
      "text/html": [
       "<div>\n",
       "<style scoped>\n",
       "    .dataframe tbody tr th:only-of-type {\n",
       "        vertical-align: middle;\n",
       "    }\n",
       "\n",
       "    .dataframe tbody tr th {\n",
       "        vertical-align: top;\n",
       "    }\n",
       "\n",
       "    .dataframe thead th {\n",
       "        text-align: right;\n",
       "    }\n",
       "</style>\n",
       "<table border=\"1\" class=\"dataframe\">\n",
       "  <thead>\n",
       "    <tr style=\"text-align: right;\">\n",
       "      <th></th>\n",
       "      <th>segmentid</th>\n",
       "      <th>boro</th>\n",
       "      <th>street</th>\n",
       "      <th>fromstreet</th>\n",
       "      <th>tostreet</th>\n",
       "      <th>bikedir</th>\n",
       "      <th>lanecount</th>\n",
       "      <th>ft_facilit</th>\n",
       "    </tr>\n",
       "  </thead>\n",
       "  <tbody>\n",
       "    <tr>\n",
       "      <th>17411</th>\n",
       "      <td>320.182</td>\n",
       "      <td>4</td>\n",
       "      <td>ALLEY POND PARK GREENWAY</td>\n",
       "      <td>73 AV</td>\n",
       "      <td>76 AV</td>\n",
       "      <td>2</td>\n",
       "      <td>2</td>\n",
       "      <td>Greenway</td>\n",
       "    </tr>\n",
       "    <tr>\n",
       "      <th>9234</th>\n",
       "      <td>147.324</td>\n",
       "      <td>3</td>\n",
       "      <td>4 AV</td>\n",
       "      <td>17 ST</td>\n",
       "      <td>PROSPECT AV</td>\n",
       "      <td>L</td>\n",
       "      <td>1</td>\n",
       "      <td>NaN</td>\n",
       "    </tr>\n",
       "    <tr>\n",
       "      <th>350</th>\n",
       "      <td>15.87</td>\n",
       "      <td>5</td>\n",
       "      <td>VANDERBILT AV</td>\n",
       "      <td>PLEASANT PL</td>\n",
       "      <td>BAY ST</td>\n",
       "      <td>2</td>\n",
       "      <td>2</td>\n",
       "      <td>Standard</td>\n",
       "    </tr>\n",
       "    <tr>\n",
       "      <th>5949</th>\n",
       "      <td>76.582</td>\n",
       "      <td>4</td>\n",
       "      <td>ELMHURST AV</td>\n",
       "      <td>BROADWAY</td>\n",
       "      <td>91 ST</td>\n",
       "      <td>R</td>\n",
       "      <td>1</td>\n",
       "      <td>Standard</td>\n",
       "    </tr>\n",
       "    <tr>\n",
       "      <th>13858</th>\n",
       "      <td>239.765</td>\n",
       "      <td>1</td>\n",
       "      <td>HARLEM RIVER DR GREENWAY</td>\n",
       "      <td>E 133 ST</td>\n",
       "      <td>W 145 ST</td>\n",
       "      <td>2</td>\n",
       "      <td>2</td>\n",
       "      <td>Greenway</td>\n",
       "    </tr>\n",
       "    <tr>\n",
       "      <th>8723</th>\n",
       "      <td>134.467</td>\n",
       "      <td>2</td>\n",
       "      <td>UNIVERSITY HEIGHTS BR</td>\n",
       "      <td>BRONX BOROUGH BOUNDARY</td>\n",
       "      <td>CEDAR AV</td>\n",
       "      <td>2</td>\n",
       "      <td>0</td>\n",
       "      <td>NaN</td>\n",
       "    </tr>\n",
       "    <tr>\n",
       "      <th>13513</th>\n",
       "      <td>237.264</td>\n",
       "      <td>2</td>\n",
       "      <td>SHORE RD GREENWAY</td>\n",
       "      <td>PELHAM BR</td>\n",
       "      <td>PARK DR</td>\n",
       "      <td>2</td>\n",
       "      <td>2</td>\n",
       "      <td>Greenway</td>\n",
       "    </tr>\n",
       "    <tr>\n",
       "      <th>18861</th>\n",
       "      <td>9,006,258</td>\n",
       "      <td>2</td>\n",
       "      <td>E 147 ST</td>\n",
       "      <td>ST ANNS AV</td>\n",
       "      <td>3 AV</td>\n",
       "      <td>L</td>\n",
       "      <td>1</td>\n",
       "      <td>NaN</td>\n",
       "    </tr>\n",
       "    <tr>\n",
       "      <th>13177</th>\n",
       "      <td>234.212</td>\n",
       "      <td>4</td>\n",
       "      <td>HIGHLAND PARK GREENWAY</td>\n",
       "      <td>HIGHLAND BLVD</td>\n",
       "      <td>J ROBINSON PKWY SR</td>\n",
       "      <td>2</td>\n",
       "      <td>2</td>\n",
       "      <td>Greenway</td>\n",
       "    </tr>\n",
       "    <tr>\n",
       "      <th>5830</th>\n",
       "      <td>75.577</td>\n",
       "      <td>4</td>\n",
       "      <td>59 ST</td>\n",
       "      <td>34 AV</td>\n",
       "      <td>39 AV</td>\n",
       "      <td>R</td>\n",
       "      <td>1</td>\n",
       "      <td>Sharrows</td>\n",
       "    </tr>\n",
       "  </tbody>\n",
       "</table>\n",
       "</div>"
      ],
      "text/plain": [
       "       segmentid  boro                    street              fromstreet  \\\n",
       "17411    320.182     4  ALLEY POND PARK GREENWAY                   73 AV   \n",
       "9234     147.324     3                      4 AV                   17 ST   \n",
       "350        15.87     5             VANDERBILT AV             PLEASANT PL   \n",
       "5949      76.582     4               ELMHURST AV                BROADWAY   \n",
       "13858    239.765     1  HARLEM RIVER DR GREENWAY                E 133 ST   \n",
       "8723     134.467     2     UNIVERSITY HEIGHTS BR  BRONX BOROUGH BOUNDARY   \n",
       "13513    237.264     2         SHORE RD GREENWAY               PELHAM BR   \n",
       "18861  9,006,258     2                  E 147 ST              ST ANNS AV   \n",
       "13177    234.212     4    HIGHLAND PARK GREENWAY           HIGHLAND BLVD   \n",
       "5830      75.577     4                     59 ST                   34 AV   \n",
       "\n",
       "                 tostreet bikedir  lanecount ft_facilit  \n",
       "17411               76 AV       2          2   Greenway  \n",
       "9234          PROSPECT AV       L          1        NaN  \n",
       "350                BAY ST       2          2   Standard  \n",
       "5949                91 ST       R          1   Standard  \n",
       "13858            W 145 ST       2          2   Greenway  \n",
       "8723             CEDAR AV       2          0        NaN  \n",
       "13513             PARK DR       2          2   Greenway  \n",
       "18861                3 AV       L          1        NaN  \n",
       "13177  J ROBINSON PKWY SR       2          2   Greenway  \n",
       "5830                39 AV       R          1   Sharrows  "
      ]
     },
     "execution_count": 36,
     "metadata": {},
     "output_type": "execute_result"
    }
   ],
   "source": [
    "# View dataframe\n",
    "routes.sample(10)"
   ]
  },
  {
   "cell_type": "code",
   "execution_count": 37,
   "id": "67386fda",
   "metadata": {},
   "outputs": [
    {
     "name": "stdout",
     "output_type": "stream",
     "text": [
      "segmentid     20792\n",
      "boro              5\n",
      "street         1292\n",
      "fromstreet     1478\n",
      "tostreet       1496\n",
      "bikedir           3\n",
      "lanecount         4\n",
      "ft_facilit       14\n",
      "dtype: int64\n"
     ]
    }
   ],
   "source": [
    "# Count the number of unique values for each column\n",
    "print(routes.nunique())\n",
    "\n",
    "# Boro in routes will merge with borocode in parking\n",
    "# Still cant figure out how to marry these with counts dataframe."
   ]
  },
  {
   "cell_type": "markdown",
   "id": "7ea75e90",
   "metadata": {},
   "source": [
    "# Data Analysis"
   ]
  },
  {
   "cell_type": "code",
   "execution_count": null,
   "id": "38a941ab",
   "metadata": {},
   "outputs": [],
   "source": []
  },
  {
   "cell_type": "code",
   "execution_count": null,
   "id": "442656bd",
   "metadata": {},
   "outputs": [],
   "source": []
  },
  {
   "cell_type": "code",
   "execution_count": null,
   "id": "4c46cf0e",
   "metadata": {},
   "outputs": [],
   "source": []
  }
 ],
 "metadata": {
  "kernelspec": {
   "display_name": "Python 3 (ipykernel)",
   "language": "python",
   "name": "python3"
  },
  "language_info": {
   "codemirror_mode": {
    "name": "ipython",
    "version": 3
   },
   "file_extension": ".py",
   "mimetype": "text/x-python",
   "name": "python",
   "nbconvert_exporter": "python",
   "pygments_lexer": "ipython3",
   "version": "3.9.12"
  }
 },
 "nbformat": 4,
 "nbformat_minor": 5
}
