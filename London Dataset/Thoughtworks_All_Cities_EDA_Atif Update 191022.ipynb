{
 "cells": [
  {
   "cell_type": "markdown",
   "id": "6e1413db",
   "metadata": {},
   "source": [
    "## Note: Please ensure you run this workbook from the same folder as where the underlying data files are stored in your computer."
   ]
  },
  {
   "cell_type": "markdown",
   "id": "6cc98439",
   "metadata": {},
   "source": [
    "# Preparing the Environment for Exploratory Data Analysis"
   ]
  },
  {
   "cell_type": "code",
   "execution_count": null,
   "id": "76280001",
   "metadata": {},
   "outputs": [],
   "source": [
    "# Imports of Models, Libraries & Date Parsing Functionality \n",
    "import numpy as np\n",
    "import pandas as pd\n",
    "import matplotlib\n",
    "import matplotlib.pyplot as plt\n",
    "import seaborn as sns\n",
    "import statsmodels.api as sm \n",
    "import nltk\n",
    "import os\n",
    "import string   \n",
    "import re\n",
    "import math\n",
    "import squarify\n",
    "import plotly.express as px\n",
    "import requests\n",
    "import functools as ft\n",
    "\n",
    "# Copy the YAML file and Twitter keys over to this Jupyter Notebook before you start to work.\n",
    "import yaml\n",
    "from yaml.loader import SafeLoader\n",
    "from twitter import *\n",
    "import tweepy\n",
    "\n",
    "from pywaffle import Waffle\n",
    "from datetime import datetime\n",
    "from statsmodels.formula.api import ols\n",
    "from sklearn import linear_model\n",
    "from sklearn import preprocessing\n",
    "from sklearn.preprocessing import LabelEncoder\n",
    "from sklearn.utils.validation import column_or_1d\n",
    "from sklearn.preprocessing import StandardScaler\n",
    "from sklearn.preprocessing import MinMaxScaler\n",
    "from sklearn.cluster import KMeans\n",
    "from sklearn.metrics import silhouette_score\n",
    "from sklearn.metrics import accuracy_score\n",
    "from scipy.spatial.distance import cdist\n",
    "from wordcloud import WordCloud\n",
    "from nltk.tokenize import word_tokenize\n",
    "from nltk.probability import FreqDist\n",
    "from nltk.corpus import stopwords\n",
    "from nltk.corpus import words\n",
    "from nltk import PorterStemmer\n",
    "from nltk.sentiment.vader import SentimentIntensityAnalyzer\n",
    "from bs4 import BeautifulSoup\n",
    "from textblob import TextBlob\n",
    "from scipy.stats import norm\n",
    "from collections import Counter\n",
    "\n",
    "from scipy.ndimage import gaussian_gradient_magnitude\n",
    "from PIL import Image\n",
    "from wordcloud import WordCloud, ImageColorGenerator\n",
    "from collections import Counter\n",
    "from vaderSentiment.vaderSentiment import SentimentIntensityAnalyzer\n",
    "\n",
    "import warnings\n",
    "warnings.filterwarnings('ignore')\n",
    "\n",
    "# Setting up a date parser using a private funciton, lambda\n",
    "# This will give us the dates in a format we require for aggregation & indexation\n",
    "d_parser = lambda x: pd.datetime.strptime(x, '%m/%d/%Y %I:%M:%S %p')\n",
    "\n",
    "# Default settings for matplotlibs to be used throughout\n",
    "plt.rcParams[\"axes.facecolor\"] = \"w\""
   ]
  },
  {
   "cell_type": "markdown",
   "id": "3d8189f3",
   "metadata": {},
   "source": [
    "# Exploring Twitter Data about Cycling"
   ]
  },
  {
   "cell_type": "markdown",
   "id": "7582fe68",
   "metadata": {},
   "source": [
    "Is it at all worthwhile to look at cycling in London? Asides the traditional data that has bee supplied, the task here is to extract the most recent posts on Twitter about Cycling. From these, the objectives are:\n",
    "- Discover locational information around where the topic generates the most social media content from \n",
    "- To see if any of the three cities being analysed are amongst these locations\n",
    "- Get an overview of the sentiment expressed in such content on the topic\n",
    "- Get an overview of the most common words used in such content to discover any underlying themes that can be explored further.\n",
    "\n",
    "The output of this analysis using social data can be used as supplementary evidence to partially inform the hypothesis that Londoner's can be influenced to increase the uptake of cycling amongst them. "
   ]
  },
  {
   "cell_type": "code",
   "execution_count": null,
   "id": "970fe06c",
   "metadata": {
    "scrolled": true
   },
   "outputs": [],
   "source": [
    "# Copy the YAML file and Twitter keys over to this Jupyter Notebook before you start to work.\n",
    "# Import the yaml file - remember to specify the whole path and use / between directories\n",
    "twitter_creds = yaml.safe_load(open('twitter_tmp.yaml', 'r').read())\n",
    "\n",
    "# To investigate the Tweets & Sentiment Analysis\n",
    "\n",
    "nltk.download('stopwords')\n",
    "nltk.download('vader_lexicon')\n",
    "\n",
    "{toggle}"
   ]
  },
  {
   "cell_type": "code",
   "execution_count": null,
   "id": "6f13713a",
   "metadata": {},
   "outputs": [],
   "source": [
    "# Pass Tweepy credentials\n",
    "tweepy_api = Twitter(auth=OAuth(twitter_creds['access_token'],\n",
    "                                 twitter_creds['access_token_secret'], \n",
    "                                 twitter_creds['api_key'],\n",
    "                                 twitter_creds['api_secret_key'] ))"
   ]
  },
  {
   "cell_type": "code",
   "execution_count": null,
   "id": "2577f31f",
   "metadata": {},
   "outputs": [],
   "source": [
    "# Pass your Twitter credentials.\n",
    "twitter_api = Twitter(auth=OAuth(twitter_creds['access_token'],\n",
    "                                 twitter_creds['access_token_secret'], \n",
    "                                 twitter_creds['api_key'],\n",
    "                                 twitter_creds['api_secret_key'] ))"
   ]
  },
  {
   "cell_type": "code",
   "execution_count": null,
   "id": "e194e20b",
   "metadata": {},
   "outputs": [],
   "source": [
    "# Check Tweepy connection\n",
    "print(tweepy_api)"
   ]
  },
  {
   "cell_type": "code",
   "execution_count": null,
   "id": "bc719323",
   "metadata": {},
   "outputs": [],
   "source": [
    "# Check Twitter connection\n",
    "print(twitter_api)"
   ]
  },
  {
   "cell_type": "markdown",
   "id": "49ef82c9",
   "metadata": {},
   "source": [
    "## Building up the dataset"
   ]
  },
  {
   "cell_type": "code",
   "execution_count": null,
   "id": "3fd1d1d7",
   "metadata": {},
   "outputs": [],
   "source": [
    "# Look for the term cycling on Twitter\n",
    "# Ordered by recency\n",
    "# Filtering for Tweets only in English\n",
    "# Note that the free Twitter API being used here only allows access to the seven most recent days of tweets\n",
    "# Looks for the most recent 4,000 tweets on cycling each time this is run\n",
    "\n",
    "q = {'q':'cycling', 'lang':'en', 'count':100, 'result_type':'recent'}\n",
    "\n",
    "# Results as an empty list.\n",
    "results = []\n",
    "\n",
    "while len(results) < 40:\n",
    "    query = twitter_api.search.tweets(**q)\n",
    "    q['max_id'] = query['search_metadata']['next_results'].split('&')[0].split('?max_id=')[1]\n",
    "    results.append(query)\n",
    "    \n",
    "# Determine the number of results.\n",
    "len(results)\n",
    "\n",
    "# Repeat this process over several days to get a meaningfully large dataset\n",
    "# continue this once a day for as long as possible"
   ]
  },
  {
   "cell_type": "code",
   "execution_count": null,
   "id": "4e75cbcc",
   "metadata": {},
   "outputs": [],
   "source": [
    "# Flatten the results in a DataFrame for NLP Analysis\n",
    "df2 = pd.concat([pd.DataFrame(_['statuses']) for _ in results])"
   ]
  },
  {
   "cell_type": "code",
   "execution_count": null,
   "id": "23de781c",
   "metadata": {},
   "outputs": [],
   "source": [
    "# Store the data as a backup & in order to build up the data set\n",
    "# Recall each scrape only gathers max 4000 tweets\n",
    "# So, to build a large dataset have to scrape over several days\n",
    "df2.to_csv('twitter_scrape_saurav_151022enb.csv')"
   ]
  },
  {
   "cell_type": "code",
   "execution_count": null,
   "id": "a20a2607",
   "metadata": {},
   "outputs": [],
   "source": [
    "# Build up the data source from the daily extracts\n",
    "df2 = pd.read_csv('twitter_scrape_saurav_071022en.csv')\n",
    "df3 = pd.read_csv('twitter_scrape_saurav_081022en.csv')\n",
    "df4 = pd.read_csv('twitter_scrape_saurav_091022en.csv')\n",
    "df5 = pd.read_csv('twitter_scrape_saurav_101022en.csv')\n",
    "df6 = pd.read_csv('twitter_scrape_saurav_111022en.csv')\n",
    "df7 = pd.read_csv('twitter_scrape_saurav_111022ena.csv')\n",
    "df8 = pd.read_csv('twitter_scrape_saurav_121022en.csv')\n",
    "df9 = pd.read_csv('twitter_scrape_saurav_131022en.csv')\n",
    "df10 = pd.read_csv('twitter_scrape_saurav_131022ena.csv')\n",
    "df11 = pd.read_csv('twitter_scrape_saurav_131022enb.csv')\n",
    "df12 = pd.read_csv('twitter_scrape_saurav_131022enc.csv')\n",
    "df13 = pd.read_csv('twitter_scrape_saurav_141022en.csv')\n",
    "df14 = pd.read_csv('twitter_scrape_saurav_151022en.csv')\n",
    "df15 = pd.read_csv('twitter_scrape_saurav_151022enb.csv')\n",
    "\n",
    "# Means we are scraping c. 55,000 which have been extracted over the past 7 days\n",
    "# Provides a meaningfully large dataset for analysis"
   ]
  },
  {
   "cell_type": "code",
   "execution_count": null,
   "id": "80df96c4",
   "metadata": {},
   "outputs": [],
   "source": [
    "# Concatenate the datasets\n",
    "# Creates a master dataset\n",
    "Df = pd.concat([df2,df3,df4,df5, df6,df7,df8,df9,df10,df11,df12,df13, df14,df15])"
   ]
  },
  {
   "cell_type": "code",
   "execution_count": null,
   "id": "213e79f6",
   "metadata": {},
   "outputs": [],
   "source": [
    "# View random samples of the outputs\n",
    "Df.sample(2)"
   ]
  },
  {
   "cell_type": "code",
   "execution_count": null,
   "id": "6425c889",
   "metadata": {},
   "outputs": [],
   "source": [
    "# Check Metadata\n",
    "Df.info()\n",
    "\n",
    "# 55,450 tweets so far"
   ]
  },
  {
   "cell_type": "code",
   "execution_count": null,
   "id": "f5e4ac61",
   "metadata": {},
   "outputs": [],
   "source": [
    "# Parse the created_at column into pd datetime formate\n",
    "Df['created_at'] = pd.to_datetime(Df.created_at)"
   ]
  },
  {
   "cell_type": "code",
   "execution_count": null,
   "id": "71e80808",
   "metadata": {},
   "outputs": [],
   "source": [
    "# Search for duplicates & retain just the most recent tweet\n",
    "# Look for duplicates and drop them based on created at and user\n",
    "\n",
    "df = Df.drop_duplicates(subset = ['created_at', 'user', 'id'],\n",
    "  keep = 'last').reset_index(drop = True)\n",
    "\n",
    "# This avoids duplication of tweets created by the same user, at the same time & same id\n",
    "# Duplicates may be extracted as part of the scrape\n",
    "# This process removes such duplicates, if any."
   ]
  },
  {
   "cell_type": "code",
   "execution_count": null,
   "id": "96ee4f97",
   "metadata": {},
   "outputs": [],
   "source": [
    "# Check Metadata\n",
    "df.info()\n",
    "\n",
    "# Not much geo data captured. \n",
    "# User has geo data within it after keyword 'location' per Twitter API documentation\n",
    "# 49,436 unique tweets extracted on cycling so far.\n",
    "# Need to keep running this process every day to build up a meaningfully large database"
   ]
  },
  {
   "cell_type": "code",
   "execution_count": null,
   "id": "279c0e35",
   "metadata": {},
   "outputs": [],
   "source": [
    "# Extract user details into a seperate Df for later analysis\n",
    "# Twitter Api docs indicate this field may contain location data\n",
    "df1 = df['user'].values"
   ]
  },
  {
   "cell_type": "code",
   "execution_count": null,
   "id": "13199349",
   "metadata": {
    "scrolled": true
   },
   "outputs": [],
   "source": [
    "# View one raw result\n",
    "df1[2]\n",
    "\n",
    "# Confirms user has many variables incl geo data"
   ]
  },
  {
   "cell_type": "code",
   "execution_count": null,
   "id": "5f58dc8e",
   "metadata": {
    "scrolled": true
   },
   "outputs": [],
   "source": [
    "# Confirm how the data under user is presently stored\n",
    "print(type(df1))"
   ]
  },
  {
   "cell_type": "code",
   "execution_count": null,
   "id": "8f784a53",
   "metadata": {},
   "outputs": [],
   "source": [
    "# Check dimension of numpy array\n",
    "np.shape(df1)\n",
    "# No columns."
   ]
  },
  {
   "cell_type": "code",
   "execution_count": null,
   "id": "294020cb",
   "metadata": {},
   "outputs": [],
   "source": [
    "# Convert to pandas dataframe\n",
    "user = pd.DataFrame(df1)"
   ]
  },
  {
   "cell_type": "code",
   "execution_count": null,
   "id": "3c6b770a",
   "metadata": {},
   "outputs": [],
   "source": [
    "# Double check output\n",
    "user.info()\n",
    "# 1 Column with 49,436 rows of data \n",
    "# Need to transform this where rows become columns\n",
    "# user id is stripped of its underlying metadata\n",
    "# As this is still a small enough file, will do this in Excel"
   ]
  },
  {
   "cell_type": "code",
   "execution_count": null,
   "id": "385a30b8",
   "metadata": {},
   "outputs": [],
   "source": [
    "# Covert to Excel file & create columns there and reimport\n",
    "user.to_csv('user.csv')\n",
    "\n",
    "# cleaned up shape somewhat in Excel to isolate some of the information \n",
    "# This is a task being done in Excel to keep the workbook here as compact as possible\n",
    "# reload this cleaned up data later when doing analysis on location"
   ]
  },
  {
   "cell_type": "code",
   "execution_count": null,
   "id": "e17e6fc1",
   "metadata": {},
   "outputs": [],
   "source": [
    "# Determine the text of the actual tweet\n",
    "df2 = df['text'].values"
   ]
  },
  {
   "cell_type": "code",
   "execution_count": null,
   "id": "4f4b1102",
   "metadata": {},
   "outputs": [],
   "source": [
    "# View one raw result\n",
    "# Confirms that the body of the post is stored here\n",
    "df2[1]"
   ]
  },
  {
   "cell_type": "markdown",
   "id": "ba6c6eac",
   "metadata": {},
   "source": [
    "## Prepare the data for NLP & Sentiment Analysis"
   ]
  },
  {
   "cell_type": "code",
   "execution_count": null,
   "id": "dd787ee9",
   "metadata": {},
   "outputs": [],
   "source": [
    "# Introduce Stopwords\n",
    "stop_words = set(stopwords.words('english'))"
   ]
  },
  {
   "cell_type": "code",
   "execution_count": null,
   "id": "9355d4ee",
   "metadata": {},
   "outputs": [],
   "source": [
    "# Split up each tweet into individual words.\n",
    "df2_token = [word_tokenize(_) for _ in df2]\n",
    "\n",
    "# Not viewing all output to reduce size of workbook\n",
    "# Just viewing one output instead\n",
    "df2_token[5]"
   ]
  },
  {
   "cell_type": "code",
   "execution_count": null,
   "id": "42a2aea5",
   "metadata": {},
   "outputs": [],
   "source": [
    "# Get a list of all English words so we can exclude anything that doesn't appear on the list.\n",
    "all_english_words = set(words.words())"
   ]
  },
  {
   "cell_type": "code",
   "execution_count": null,
   "id": "9ad1ae93",
   "metadata": {},
   "outputs": [],
   "source": [
    "# Some pre-processing:\n",
    "# Get every word.\n",
    "# Convert it to lowercase.\n",
    "# Only include if the word is alphanumeric and if it is in the list of English words.\n",
    "\n",
    "df2_token_nostop =\\\n",
    "[[y.lower() for y in x if y.lower() not in stop_words and y.isalpha() and y.lower() in all_english_words]\\\n",
    " for x in df2_token]"
   ]
  },
  {
   "cell_type": "code",
   "execution_count": null,
   "id": "4268d9cd",
   "metadata": {},
   "outputs": [],
   "source": [
    "# View output\n",
    "df2_token_nostop[5]"
   ]
  },
  {
   "cell_type": "code",
   "execution_count": null,
   "id": "eb55c8b5",
   "metadata": {},
   "outputs": [],
   "source": [
    "# Create a variable to store the Sentiment Intensity Analyser\n",
    "darth_vader = SentimentIntensityAnalyzer()"
   ]
  },
  {
   "cell_type": "code",
   "execution_count": null,
   "id": "7279dd85",
   "metadata": {},
   "outputs": [],
   "source": [
    "# Run through a dictionary comprehension to take every cleaned tweet. \n",
    "# Next run the polarity score function on the string.\n",
    "# This will return four values in a dictionary.\n",
    "\n",
    "df2_polarity =\\\n",
    "{\" \".join(_) : darth_vader.polarity_scores(\" \".join(_)) for _ in df2_token_nostop}"
   ]
  },
  {
   "cell_type": "code",
   "execution_count": null,
   "id": "cb0d0548",
   "metadata": {},
   "outputs": [],
   "source": [
    "# Convert the list of dictionary results to a pandas dataframe. \n",
    "# The index is the cleaned tweet.\n",
    "\n",
    "polarity_pd = pd.DataFrame(df2_polarity).T\n",
    "\n",
    "# View the Dataframe\n",
    "polarity_pd\n",
    "\n",
    "# Compound score indicates actual sentiment"
   ]
  },
  {
   "cell_type": "markdown",
   "id": "09b0a552",
   "metadata": {},
   "source": [
    "### Visualising the data with Charts"
   ]
  },
  {
   "cell_type": "markdown",
   "id": "0e8bdd9c",
   "metadata": {},
   "source": [
    "Sentiment"
   ]
  },
  {
   "cell_type": "code",
   "execution_count": null,
   "id": "28432446",
   "metadata": {
    "scrolled": true
   },
   "outputs": [],
   "source": [
    "# Visualise the output in a distribution\n",
    "%matplotlib inline\n",
    "import matplotlib.pyplot as plt\n",
    "\n",
    "_plot = polarity_pd.reset_index()['compound'].sort_values()\n",
    "ax1 = plt.axes()\n",
    "_plot.plot(kind='bar')\n",
    "\n",
    "x_axis = ax1.axes.get_xaxis()\n",
    "x_axis.set_visible(False)\n",
    "\n",
    "plt.show()\n",
    "plt.close()"
   ]
  },
  {
   "cell_type": "markdown",
   "id": "5e5ad3f3",
   "metadata": {},
   "source": [
    "- Most values are 0 (neutral) - blank spaces\n",
    "- More positive sentiment than negative sentiment amongst non-neutral values\n",
    "- Some very strong positive sentiment > 0.75\n",
    "- Some very strong negative sentiment also visible < -0.75\n",
    "\n",
    "A histogram plot will visualise the distribution of sentiment better although the strictly neutral values should be removed which will help make the histogram clearer."
   ]
  },
  {
   "cell_type": "code",
   "execution_count": null,
   "id": "5ab55de7",
   "metadata": {},
   "outputs": [],
   "source": [
    "# Remove polarity values equal to zero \n",
    "# This will improve the scale of the histogram and remove all strictly neutral reviews from the analysis\n",
    "# This will better highlight the distribution of polarity values = sentiment\n",
    "# Define the source of the data to use for plotting histogram\n",
    "data = polarity_pd['compound'][polarity_pd['compound'] != 0]"
   ]
  },
  {
   "cell_type": "code",
   "execution_count": null,
   "id": "2100cfcc",
   "metadata": {},
   "outputs": [],
   "source": [
    "# Visualise the distribution of the sentiment analysis using histogram\n",
    "count, edges, bars = plt.hist(data)\n",
    "plt.bar_label(bars)\n",
    "plt.title('Non Neutral Sentiments from most recent Tweets on Cycling')\n",
    "\n",
    "\n",
    "# The exact numbers will change each time this notebook is rerun as the data will be changed\n",
    "# Refresh the analytical content as this changes\n",
    "\n",
    "# Many more strongly positive sentiment (>0.75 polarity score) = 1035 tweets\n",
    "# Far fewer strongly negative sentiment (<-0.75 polarity score) = 146 tweets\n",
    "# Overall, sentiment when non neutral is strongly skewed in favour of cycling\n",
    "# Indicates that on the whole from this small sample size, sentiment towards cycling is positive\n",
    "# However, recall there are c.49,500 unique tweets.\n",
    "# Only c.27% of tweets display non 0 sentiment\n",
    "# Means vast majority feel very neutral about cycling based on this data\n",
    "# Indicates that there is room to improve sentiment towards cycling\n",
    "# This can only come from increased cycling uptake and campaign to increase cycling uptake.\n",
    "# Worthwhile therefore to pursue increasing uptake of cycling\n",
    "# Scope to increase cycling uptake established using sentiment analysis given\n",
    "# Scope to increase non neutral sentiment on cycling\n",
    "# General non neutral sentiment is positive so people should have no objection to at least trying out cycling"
   ]
  },
  {
   "cell_type": "markdown",
   "id": "e0130171",
   "metadata": {},
   "source": [
    "Top Words Visualised in a WordCloud"
   ]
  },
  {
   "cell_type": "code",
   "execution_count": null,
   "id": "3478a6a3",
   "metadata": {},
   "outputs": [],
   "source": [
    "# Ensure all words are stored in a list which can then be used to create a WordClod\n",
    "print(type(df2_token_nostop))\n",
    "\n",
    "# Confirmed words are in a list"
   ]
  },
  {
   "cell_type": "code",
   "execution_count": null,
   "id": "5286fc11",
   "metadata": {
    "scrolled": false
   },
   "outputs": [],
   "source": [
    "# Reformat list into string for use to generate wordcloud\n",
    "s = ''.join(str(x) for x in df2_token_nostop)"
   ]
  },
  {
   "cell_type": "code",
   "execution_count": null,
   "id": "dce5f2f5",
   "metadata": {},
   "outputs": [],
   "source": [
    "# Check the most common items in the list \n",
    "# Will identify the obvious words which can be removed from the list before WordCloud is generated\n",
    "# This will enhance the accuracy of the WordCloud\n",
    "from collections import Counter\n",
    "# split() returns list of all the words in the string\n",
    "split_y = s.split()\n",
    "  \n",
    "# Pass the split_it list to instance of Counter class.\n",
    "Counter = Counter(split_y)\n",
    "  \n",
    "# most_common() produces k frequently encountered\n",
    "# input values and their respective counts.\n",
    "most_occur = Counter.most_common(10)\n",
    "  \n",
    "print(most_occur)\n",
    "\n",
    "# From these identify the most common words which fail to convey any meaning or sentiment"
   ]
  },
  {
   "cell_type": "code",
   "execution_count": null,
   "id": "803f7589",
   "metadata": {},
   "outputs": [],
   "source": [
    "# Remove cycling and other obv words from the list \n",
    "# Else they will skew the results\n",
    "# Define these words as bespoke stopwords\n",
    "stop_words = ['cycling', 'cycling ', 'distance', 'distance ', 'cyclingcycling', 'transport', 'found', \n",
    "              'evidence', 'transport ', 'bike ', 'helmet', 'cycle ', 'transport ', \n",
    "              'public', 'society', 'source', 'hour', 'get']"
   ]
  },
  {
   "cell_type": "code",
   "execution_count": null,
   "id": "866b6d26",
   "metadata": {},
   "outputs": [],
   "source": [
    "# Creating new list to avoid messing up orginal list\n",
    "new_s = [word for word in s if word not in stop_words]"
   ]
  },
  {
   "cell_type": "code",
   "execution_count": null,
   "id": "29cfa29a",
   "metadata": {},
   "outputs": [],
   "source": [
    "# Reformating into string again for wordcloud generation\n",
    "st = ''.join(str(x) for x in new_s)"
   ]
  },
  {
   "cell_type": "code",
   "execution_count": null,
   "id": "24944b03",
   "metadata": {},
   "outputs": [],
   "source": [
    "# Strip all punctuation\n",
    "new_string = st.translate(str.maketrans('', '', string.punctuation))"
   ]
  },
  {
   "cell_type": "code",
   "execution_count": null,
   "id": "d648dfe5",
   "metadata": {},
   "outputs": [],
   "source": [
    "# Generate Word Cloud using the 20 frequently used words when tweeting about cycling\n",
    "wordcloud = (WordCloud(max_font_size=50, max_words=20, \n",
    "                       background_color=\"grey\").generate(new_string))"
   ]
  },
  {
   "cell_type": "code",
   "execution_count": null,
   "id": "ac5848e6",
   "metadata": {
    "scrolled": false
   },
   "outputs": [],
   "source": [
    "# Review: Display the WordCloud.\n",
    "wordcloud.generate(new_string)\n",
    "plt.figure(figsize=(12, 10))\n",
    "plt.axis('off') \n",
    "plt.imshow(wordcloud, interpolation=\"bilinear\")\n",
    "\n",
    "# Displays the top 20 most commonly used words by Twitter users when they post about Cycling\n",
    "# Relative Size displays frequency of the words\n",
    "# There are words which suggest an ongoing debate about the potential merit of cycling\n",
    "# Words such time, matter, whatever, spend and insane occur within the top 20 words\n",
    "# These together, suggest evidence of a public who are still debating the merits of cycling\n",
    "# Reinforces the case for the trying to influence cycling uptake as any debate can within reason be influenced\n",
    "# With mix of policy and strategic marketing"
   ]
  },
  {
   "cell_type": "markdown",
   "id": "71b7c38a",
   "metadata": {},
   "source": [
    "## Insights from Geo Data"
   ]
  },
  {
   "cell_type": "markdown",
   "id": "fd224f75",
   "metadata": {},
   "source": [
    "Objective is to see the location of Twitter users posting about cycling. The top most amongst these are the places of most interest to use for comparative analysis against London. \n",
    "\n",
    "Further, if London is in the list of places from where people most frequently tweet on cycling, it would show that Londoners are generally animated on the topic and it is worthwhile to try to influence their uptake on cycling."
   ]
  },
  {
   "cell_type": "code",
   "execution_count": null,
   "id": "f965526f",
   "metadata": {},
   "outputs": [],
   "source": [
    "# Open reshaped user data\n",
    "# Unshaped data was in user.csv\n",
    "# After shaping its been saved as userA.csv\n",
    "user = pd.read_csv('userA.csv')"
   ]
  },
  {
   "cell_type": "code",
   "execution_count": null,
   "id": "2557c62a",
   "metadata": {
    "scrolled": true
   },
   "outputs": [],
   "source": [
    "# check metadata\n",
    "user.info()\n",
    "\n",
    "# There are 49,436 unique users on whom there is data\n",
    "# Aligns to earlier meta data\n",
    "# Confirms integrity of the data wrangling in Excel"
   ]
  },
  {
   "cell_type": "code",
   "execution_count": null,
   "id": "a822012c",
   "metadata": {},
   "outputs": [],
   "source": [
    "# See sample of the data\n",
    "user.head(2)\n",
    "\n",
    "# Confirms location & sometimes location_2 have geo data\n",
    "# needs cleaning"
   ]
  },
  {
   "cell_type": "code",
   "execution_count": null,
   "id": "2a8ac016",
   "metadata": {},
   "outputs": [],
   "source": [
    "# Remove all punctuation marks from location columns\n",
    "user[\"location\"] = user['location'].str.replace('[^\\w\\s]','')\n",
    "user[\"location_2\"] = user['location_2'].str.replace('[^\\w\\s]','')\n",
    "\n",
    "# Remove all non-alphabet values & cast as string\n",
    "user[\"location\"] = user['location'].astype(str).replace('[^a-zA-Z0-9 ]', '', regex=True)\n",
    "user[\"location_2\"] = user['location_2'].astype(str).replace('[^a-zA-Z0-9 ]', '', regex=True)"
   ]
  },
  {
   "cell_type": "code",
   "execution_count": null,
   "id": "c6997687",
   "metadata": {},
   "outputs": [],
   "source": [
    "# Remove the first two words from the column location\n",
    "user['location'] = user['location'].str.split(n=1).str[1]\n",
    "\n",
    "# Delete all except first word in location 2\n",
    "# location 2 appears to sometimes contain additional location value in the first word\n",
    "user['location_2'] =user['location_2'].drop_duplicates().str.split().str[0]"
   ]
  },
  {
   "cell_type": "code",
   "execution_count": null,
   "id": "77f1dce2",
   "metadata": {},
   "outputs": [],
   "source": [
    "# Drop all rows with Null values in location\n",
    "# As this is primary search objective, null value rows cannot be interpreted for analysis\n",
    "# Removing them will produce cleaner output\n",
    "user = user[user.location.notnull()]"
   ]
  },
  {
   "cell_type": "code",
   "execution_count": null,
   "id": "9c4dbdca",
   "metadata": {},
   "outputs": [],
   "source": [
    "# Fill all Null values in location_2 with Unknown\n",
    "# This is secondary\n",
    "user.location_2 = user.location_2.fillna('Unknown')\n",
    "\n",
    "# Replace description with unknown in location_2\n",
    "# replace at home with unknown in location\n",
    "user = user.replace(['description','At home'],['Unknown', 'Unknown'])"
   ]
  },
  {
   "cell_type": "code",
   "execution_count": null,
   "id": "e9a6f733",
   "metadata": {},
   "outputs": [],
   "source": [
    "# Rename columns & drop unwanted columns\n",
    "user = user.rename(columns={'location': 'city', 'location_2': 'country'})\n",
    "user = user.drop(['id_str', 'user_id', 'name', 'screen_name'], axis=1)\n",
    "\n",
    "# Maintains a small Df which is memory efficient"
   ]
  },
  {
   "cell_type": "code",
   "execution_count": null,
   "id": "ee17bafd",
   "metadata": {},
   "outputs": [],
   "source": [
    "# Count unique values in each column\n",
    "for col in user:\n",
    "  print(col,\": \", user[col].nunique())\n",
    "\n",
    "# 8914 unique cities (location)\n",
    "# 1051 unqiue fields in country (location2)"
   ]
  },
  {
   "cell_type": "code",
   "execution_count": null,
   "id": "07478fd6",
   "metadata": {},
   "outputs": [],
   "source": [
    "# Cleaning up the data to ensure mapping is more accurate\n",
    "# Aggregating some of the more obvious locations to London incl home counties & general country descriptions\n",
    "user['city'] = user['city'].replace(['UK','United Kingdom', 'England', 'NW London', 'N London', 'NE London',\n",
    "                                    'W London', 'E London', 'S London', 'SE London', 'SW London', 'Berkshire',\n",
    "                                    'Berks', 'Buckinghamshire', 'Bucks', 'Essex', 'Herts', 'Hertfordshire',\n",
    "                                    'Kent', 'Surrey', 'Sussex', 'Brixton', 'SE5'],'London')\n",
    "\n",
    "# Assumes all UK related locations are London unless specified otherwise"
   ]
  },
  {
   "cell_type": "code",
   "execution_count": null,
   "id": "0eb46665",
   "metadata": {},
   "outputs": [],
   "source": [
    "# Aggregate the city & country counts\n",
    "# This will produce\n",
    "locs = user['city'].value_counts()\n",
    "locs_2 = user['country'].value_counts()"
   ]
  },
  {
   "cell_type": "code",
   "execution_count": null,
   "id": "29f419b3",
   "metadata": {},
   "outputs": [],
   "source": [
    "# View output from country values\n",
    "locs.head(20)"
   ]
  },
  {
   "cell_type": "code",
   "execution_count": null,
   "id": "b39b96a2",
   "metadata": {},
   "outputs": [],
   "source": [
    "# View output from country values\n",
    "locs_2.head(20)\n",
    "\n",
    "# Less useful as top 3 are clearly unidentifiable locations\n",
    "# Before joining this data set with other location data, remove the clearly unidentifiable elements\n",
    "# Then join the two series to aggregate the counts of the locations"
   ]
  },
  {
   "cell_type": "code",
   "execution_count": null,
   "id": "b56fb86b",
   "metadata": {},
   "outputs": [],
   "source": [
    "# Remove the first 3 elements as they are clearly not identifiable\n",
    "locs_2 = locs_2.iloc[3:]"
   ]
  },
  {
   "cell_type": "code",
   "execution_count": null,
   "id": "b6aeb72c",
   "metadata": {},
   "outputs": [],
   "source": [
    "# Stack the 2 series vertically to capture all the location data from both series\n",
    "user_loc = pd.concat([locs_2, locs], axis=0)\n",
    "\n",
    "# Create a dataframe to analyse the data better\n",
    "user_locs = pd.DataFrame({'location':user_loc.index, 'count':user_loc.values})\n",
    "\n",
    "# Agregate the locational data ahead of visualisation\n",
    "user_locs= user_locs.groupby(['location'], as_index=False)['count'].sum()\n",
    "\n",
    "# Extract the 20 most popular locations by count\n",
    "user_locs=user_locs.sort_values(by=['count']).tail(20)\n",
    "\n",
    "# Ensure datatypes are correctly classified\n",
    "user_locs['location'] = user_locs['location'].astype(pd.StringDtype())\n",
    "\n",
    "# Returned an aggregated list of the top 20 locations from all the tweet user location data"
   ]
  },
  {
   "cell_type": "code",
   "execution_count": null,
   "id": "60776a6c",
   "metadata": {},
   "outputs": [],
   "source": [
    "# Visualise the top 20 places where people are located when tweeting about cycling\n",
    "user_locs.plot.barh(x=\"location\", y=\"count\", title=\"Most Popular locations for tweeting on cycling\", \n",
    "                   figsize=(8,5), legend=False, fontsize=12, xlabel=' ' )\n",
    "\n",
    "# People from c.8,900 unique places are tweeting on cycling\n",
    "# Earth cannot be defined but will retain to not distort the findings\n",
    "# Can see that out of c.49,500 tweets examined, the most (2500+) from a single location are from London\n",
    "# 5% of all people tweeting about cycling globally are readily identifiable as being from London\n",
    "# This is very significant share for one city & also vastly outstrips the second most popular location\n",
    "# The second most popular & clearly identifiable location is California (c.400 people)"
   ]
  },
  {
   "cell_type": "markdown",
   "id": "f367b7aa",
   "metadata": {},
   "source": [
    "# Exploring supplied Data for insights"
   ]
  },
  {
   "cell_type": "markdown",
   "id": "6c674ab2",
   "metadata": {},
   "source": [
    "## Load the Data"
   ]
  },
  {
   "cell_type": "code",
   "execution_count": null,
   "id": "b5d5011e",
   "metadata": {},
   "outputs": [],
   "source": [
    "# Load the CSV file(s) for count data only.\n",
    "ny_counts = pd.read_csv('NY_Bicycle_Counts.csv', parse_dates=['date'], date_parser=d_parser)\n",
    "inner_london = pd.read_csv('Inner_London.csv')\n",
    "central_london = pd.read_csv('Central_London.csv')\n",
    "outer_london = pd.read_csv('Outer_London.csv')\n",
    "sydney_counts = pd.read_csv('Sydney_count_surveys.csv')"
   ]
  },
  {
   "cell_type": "markdown",
   "id": "0646b402",
   "metadata": {},
   "source": [
    "## Data Wrangling"
   ]
  },
  {
   "cell_type": "markdown",
   "id": "424db8fc",
   "metadata": {},
   "source": [
    "### Explore the data"
   ]
  },
  {
   "cell_type": "code",
   "execution_count": null,
   "id": "43a2b623",
   "metadata": {},
   "outputs": [],
   "source": [
    "# View the DataFrame, metadata, shape\n",
    "ny_counts.info()\n",
    "inner_london.info()\n",
    "central_london.info()\n",
    "outer_london.info()\n",
    "sydney_counts.info()\n",
    "\n",
    "# ny_counts is a large but simple Df containing the number of bicycles passing through a counter\n",
    "# No missing data in ny_counts  \n",
    "# Non-Null values for London DataFrames(Df) across all columns dont add up. \n",
    "# Implies missing data.\n",
    "# Will need to explore further.\n",
    "# Central London is another very large Df\n",
    "# Large Dfs need to be trimmed for unncessary data to reduce strain on memory use.\n",
    "# Sydney observations are just aggregated by month and SiteID\n",
    "# Sydney observations run for selected hours and not all day (looks like peak hours only)\n",
    "# Sydney also has no missing values."
   ]
  },
  {
   "cell_type": "code",
   "execution_count": null,
   "id": "78435958",
   "metadata": {},
   "outputs": [],
   "source": [
    "# Get more precise handle on missing values in each Df\n",
    "inner_london.isnull().sum()"
   ]
  },
  {
   "cell_type": "code",
   "execution_count": null,
   "id": "97b38972",
   "metadata": {},
   "outputs": [],
   "source": [
    "# Get more precise handle on missing values in each Df\n",
    "central_london.isnull().sum()"
   ]
  },
  {
   "cell_type": "code",
   "execution_count": null,
   "id": "0ae33a08",
   "metadata": {},
   "outputs": [],
   "source": [
    "# Get more precise handle on missing values in each Df\n",
    "outer_london.isnull().sum()"
   ]
  },
  {
   "cell_type": "code",
   "execution_count": null,
   "id": "b8636f08",
   "metadata": {},
   "outputs": [],
   "source": [
    "# Look at samples of the data\n",
    "ny_counts.head(5)\n",
    "\n",
    "# Very sparse but clean data\n",
    "# Id is site Id for where the counter is located\n",
    "# Data runs until mid June 2022. \n",
    "# So data is very recent"
   ]
  },
  {
   "cell_type": "code",
   "execution_count": null,
   "id": "2689931f",
   "metadata": {},
   "outputs": [],
   "source": [
    "# Exploring why NY data is so large.\n",
    "# View Tail to see how long the data runs until\n",
    "ny_counts.tail(5)\n",
    "\n",
    "# Data starts from mid Dec 2012\n",
    "# Need to explore how far the other data sets run until"
   ]
  },
  {
   "cell_type": "code",
   "execution_count": null,
   "id": "78b7c299",
   "metadata": {
    "scrolled": true
   },
   "outputs": [],
   "source": [
    "# Look at samples of the data\n",
    "inner_london.head(5)\n",
    "\n",
    "# Date has french word in it. Needs to cleaned."
   ]
  },
  {
   "cell_type": "code",
   "execution_count": null,
   "id": "6257e7b2",
   "metadata": {},
   "outputs": [],
   "source": [
    "# Look at samples of the data\n",
    "central_london.head(5)\n",
    "\n",
    "# Data similar in format to inner london but has some extra columns.\n",
    "# Will need to trim this Df to concatenate\n",
    "# Explore whether we need the extra columns and if not will trim"
   ]
  },
  {
   "cell_type": "code",
   "execution_count": null,
   "id": "4b8b881a",
   "metadata": {
    "scrolled": true
   },
   "outputs": [],
   "source": [
    "# Look at samples of the data\n",
    "outer_london.head(5)\n",
    "\n",
    "# Matches format of inner london."
   ]
  },
  {
   "cell_type": "code",
   "execution_count": null,
   "id": "2803d879",
   "metadata": {},
   "outputs": [],
   "source": [
    "# Look at samples of the data\n",
    "sydney_counts.head(5)"
   ]
  },
  {
   "cell_type": "markdown",
   "id": "0f86accd",
   "metadata": {},
   "source": [
    "## Filter & Clean Data"
   ]
  },
  {
   "cell_type": "code",
   "execution_count": null,
   "id": "6949801f",
   "metadata": {},
   "outputs": [],
   "source": [
    "# Rename columns to remove space in column names\n",
    "inner_london.columns = inner_london.columns.str.replace(' ','_')\n",
    "central_london.columns = central_london.columns.str.replace(' ','_')\n",
    "outer_london.columns = outer_london.columns.str.replace(' ','_')\n",
    "sydney_counts.columns = sydney_counts.columns.str.replace(' ','_')"
   ]
  },
  {
   "cell_type": "code",
   "execution_count": null,
   "id": "d998e81f",
   "metadata": {},
   "outputs": [],
   "source": [
    "# Remove French Day name in Survey Date \n",
    "inner_london[\"Survey_date\"] = inner_london[\"Survey_date\"].str.replace(r'\\D+', '', regex=True)\n",
    "central_london[\"Survey_date\"] = central_london[\"Survey_date\"].str.replace(r'\\D+', '', regex=True)\n",
    "outer_london[\"Survey_date\"] = outer_london[\"Survey_date\"].str.replace(r'\\D+', '', regex=True)"
   ]
  },
  {
   "cell_type": "code",
   "execution_count": null,
   "id": "921e36c4",
   "metadata": {},
   "outputs": [],
   "source": [
    "# Drop empty columns\n",
    "ny_counts.dropna(how='all', axis=1, inplace=True)\n",
    "inner_london.dropna(how='all', axis=1, inplace=True)\n",
    "central_london.dropna(how='all', axis=1, inplace=True)\n",
    "outer_london.dropna(how='all', axis=1, inplace=True)"
   ]
  },
  {
   "cell_type": "code",
   "execution_count": null,
   "id": "e0fae914",
   "metadata": {},
   "outputs": [],
   "source": [
    "# Parse London Df Dates into appropriate format\n",
    "# Convert to datetime format\n",
    "inner_london['Survey_date'] = pd.to_datetime(inner_london['Survey_date'], dayfirst=True, yearfirst=False)\n",
    "central_london['Survey_date'] = pd.to_datetime(central_london['Survey_date'], dayfirst=True, yearfirst=False)\n",
    "outer_london['Survey_date'] = pd.to_datetime(outer_london['Survey_date'], dayfirst=True, yearfirst=False)\n",
    "\n",
    "# Sort DataFrame by chronological order\n",
    "inner_london = inner_london.sort_values(['Survey_date', 'Start_hour', 'Start_minute'])\n",
    "central_london = central_london.sort_values(['Survey_date', 'Start_hour', 'Start_minute'])\n",
    "outer_london = outer_london.sort_values(['Survey_date', 'Start_hour', 'Start_minute'])\n",
    "\n",
    "# Replace with value of previous value row where there is a missing value in Survey_date\n",
    "inner_london['Survey_date'].fillna(method='ffill', inplace=True)\n",
    "central_london['Survey_date'].fillna(method='ffill', inplace=True)\n",
    "outer_london['Survey_date'].fillna(method='ffill', inplace=True)\n",
    "\n",
    "# Define day of the week in English and add back as a column\n",
    "inner_london['Day_of_week'] = inner_london['Survey_date'].dt.day_name()\n",
    "central_london['Day_of_week'] = central_london['Survey_date'].dt.day_name()\n",
    "outer_london['Day_of_week'] = outer_london['Survey_date'].dt.day_name()\n",
    "\n",
    "# Pass Month into a new column\n",
    "inner_london['month'] = inner_london['Survey_date'].dt.month\n",
    "central_london['month'] = central_london['Survey_date'].dt.month\n",
    "outer_london['month'] = outer_london['Survey_date'].dt.month\n",
    "\n",
    "# Pass Year into a new column\n",
    "inner_london['year'] = inner_london['Survey_date'].dt.year\n",
    "central_london['year'] = central_london['Survey_date'].dt.year\n",
    "outer_london['year'] = outer_london['Survey_date'].dt.year\n"
   ]
  },
  {
   "cell_type": "code",
   "execution_count": null,
   "id": "c0402c0a",
   "metadata": {},
   "outputs": [],
   "source": [
    "# Parse London Df Dates into appropriate format\n",
    "# Pass Month name into a new column\n",
    "inner_london['month_name'] = inner_london['Survey_date'].dt.month_name(locale='English')\n",
    "central_london['month_name'] = central_london['Survey_date'].dt.month_name(locale='English')\n",
    "outer_london['month_name'] = outer_london['Survey_date'].dt.month_name(locale='English')"
   ]
  },
  {
   "cell_type": "code",
   "execution_count": null,
   "id": "5483ebde",
   "metadata": {},
   "outputs": [],
   "source": [
    "# Parse NY DataFrame Dates into appropriate formats\n",
    "# Extract year information from timestamped date column\n",
    "ny_counts['year'] = ny_counts['date'].dt.year\n",
    "\n",
    "# Extract hour information first from timestamped date column\n",
    "ny_counts['hour'] = ny_counts['date'].dt.hour\n",
    "\n",
    "# Extract month name from the timestamped date column\n",
    "ny_counts['month_name'] = ny_counts['date'].dt.month_name(locale='English')\n",
    "\n",
    "# Extract month number from the timestamped date column\n",
    "ny_counts['month'] = ny_counts['date'].dt.month"
   ]
  },
  {
   "cell_type": "code",
   "execution_count": null,
   "id": "b7183ba3",
   "metadata": {},
   "outputs": [],
   "source": [
    "# Pass Season\n",
    "# Will need this to test for seasonal impact on cycling uptake\n",
    "# Create function for user defined seasons\n",
    "def f(x):\n",
    "    if (x >= 1) and (x <= 2):\n",
    "        return 'Winter'\n",
    "    elif (x > 2) and (x <= 5 ):\n",
    "        return 'Spring'\n",
    "    elif (x > 5) and (x <= 8):\n",
    "        return'Summer'\n",
    "    elif (x > 8) and (x <= 11) :\n",
    "        return 'Autumn'\n",
    "    elif (x > 11):\n",
    "        return'Winter'\n",
    "\n",
    "# Apply user defined function to create new column with seasons\n",
    "inner_london['season'] = inner_london['month'].apply(f)\n",
    "central_london['season'] = central_london['month'].apply(f)\n",
    "outer_london['season'] = outer_london['month'].apply(f)"
   ]
  },
  {
   "cell_type": "code",
   "execution_count": null,
   "id": "f2ceca72",
   "metadata": {},
   "outputs": [],
   "source": [
    "# Cleanup NY Dates\n",
    "# Make sure that the data is sorted in chronological order without altering anything else for the moment\n",
    "ny_counts.sort_values(by='date')\n",
    "\n",
    "# Can see data set runs from 31 Aug 2012 to 04 Jul 2022\n",
    "# Can extract hour of the day to look for patterns. Expect peak vs off peak patterns\n",
    "# We can also group the data by day of the week to look for patterns around that\n",
    "# We can also see that its possible to group the data into month to look for seasonal patterns\n",
    "# We can also group/subset the data by id which is another spatial/location identifier"
   ]
  },
  {
   "cell_type": "code",
   "execution_count": null,
   "id": "8bee88da",
   "metadata": {},
   "outputs": [],
   "source": [
    "# Create user defined function for peak and off peak hours to match London Data\n",
    "# See when and if time of the day matters \n",
    "def f(x):\n",
    "    if (x > 6) and (x <= 7):\n",
    "        return 'Early Morning'\n",
    "    elif (x > 7) and (x <= 10 ):\n",
    "        return 'AM peak'\n",
    "    elif (x > 10) and (x <= 16):\n",
    "        return'Inter Peak'\n",
    "    elif (x > 16) and (x <= 19) :\n",
    "        return 'PM Peak'\n",
    "    elif (x > 19) and (x <= 23):\n",
    "        return'Evening'\n",
    "    elif (x <= 6):\n",
    "        return'Night'\n",
    "    \n",
    "# Apply user defined function to create new column with peak and off peak hours\n",
    "ny_counts['time_of_day'] = ny_counts['hour'].apply(f)"
   ]
  },
  {
   "cell_type": "code",
   "execution_count": null,
   "id": "8f14f0c5",
   "metadata": {},
   "outputs": [],
   "source": [
    "# Define day of the week and add as column to match London Data\n",
    "ny_counts = ny_counts.assign(day_of_week = lambda x: x.date.dt.day_name())"
   ]
  },
  {
   "cell_type": "code",
   "execution_count": null,
   "id": "1c3ad2b6",
   "metadata": {},
   "outputs": [],
   "source": [
    "# Define month to calculate user defined seasons to match London\n",
    "# Extract month information first from timestamped date column\n",
    "ny_counts['month'] = ny_counts['date'].dt.month\n",
    "\n",
    "# Create user defined function for seasons\n",
    "def f(x):\n",
    "    if (x >= 1) and (x <= 2):\n",
    "        return 'Winter'\n",
    "    elif (x > 2) and (x <= 5 ):\n",
    "        return 'Spring'\n",
    "    elif (x > 5) and (x <= 8):\n",
    "        return'Summer'\n",
    "    elif (x > 8) and (x <= 11) :\n",
    "        return 'Autumn'\n",
    "    elif (x > 11):\n",
    "        return'Winter'\n",
    "\n",
    "# Apply user defined function to create new column with seasons\n",
    "ny_counts['season'] = ny_counts['month'].apply(f)"
   ]
  },
  {
   "cell_type": "code",
   "execution_count": null,
   "id": "c48c6fa6",
   "metadata": {},
   "outputs": [],
   "source": [
    "# Reshaping the order of the columns so they flow more logically within the DataFrame\n",
    "neworder = ['id', 'date', 'year', 'month', 'month_name', 'season', \n",
    "            'day_of_week', 'hour', 'time_of_day', 'counts', 'status']\n",
    "ny_counts = ny_counts.reindex(columns=neworder)"
   ]
  },
  {
   "cell_type": "code",
   "execution_count": null,
   "id": "4a9c1c7c",
   "metadata": {},
   "outputs": [],
   "source": [
    "# Investigate in Ny_counts what status there is\n",
    "print(ny_counts.status.unique())\n",
    "\n",
    "# As both status within acceptable boundaries versus data dictionary, can drop status column"
   ]
  },
  {
   "cell_type": "code",
   "execution_count": null,
   "id": "d0b29a3e",
   "metadata": {},
   "outputs": [],
   "source": [
    "# Dropping redundant columns\n",
    "ny_counts=ny_counts.drop(['status'], axis=1)"
   ]
  },
  {
   "cell_type": "code",
   "execution_count": null,
   "id": "9e63bf8b",
   "metadata": {
    "scrolled": true
   },
   "outputs": [],
   "source": [
    "# Rename the Sydney columns to align to Peak/off Peak of other Df.\n",
    "sydney_counts.rename(columns = {\"Time_0600\":\"Early_Morning\",\n",
    "                              \"Time_0700\":\"AM_Peak1\",\n",
    "                              \"Time_0800\":\"AM_Peak2\",\n",
    "                              \"Time_1600\":\"PM_Peak1\",\n",
    "                              \"Time_1700\":\"PM_Peak2\",\n",
    "                              \"Time_1800\":\"PM_Peak3\"},\n",
    "                             inplace=True)\n",
    "\n",
    "# Add All AM Peak and PM Peak Columns into 2 columns only to align to the way other Dfs are presented\n",
    "sydney_counts['AM_Peak'] = sydney_counts['AM_Peak1'] + sydney_counts['AM_Peak2'] \n",
    "sydney_counts['PM_Peak'] = sydney_counts['PM_Peak1'] + sydney_counts['PM_Peak2'] + sydney_counts['PM_Peak3']\n",
    "\n",
    "# View Output with 5 random samples \n",
    "sydney_counts.sample(5)\n",
    "\n",
    "# Can consolidate some columns"
   ]
  },
  {
   "cell_type": "code",
   "execution_count": null,
   "id": "17287313",
   "metadata": {},
   "outputs": [],
   "source": [
    "# Drop rows where total cycles doesnt add up to number of private and hire cycles.\n",
    "# Creating a column to add up the values\n",
    "sydney_counts['Sum'] = sydney_counts['AM_Peak'] + sydney_counts['PM_Peak'] + sydney_counts['Early_Morning']\n",
    "\n",
    "# Dropping rows where the column values dont add up \n",
    "sydney_counts = sydney_counts[sydney_counts.TotalCount == sydney_counts.Sum]"
   ]
  },
  {
   "cell_type": "code",
   "execution_count": null,
   "id": "59c1fad1",
   "metadata": {},
   "outputs": [],
   "source": [
    "# Dropping redundant columns\n",
    "sydney_counts=sydney_counts.drop(['ObjectId2', 'AM_Peak1', 'AM_Peak2', 'PM_Peak1', 'PM_Peak2', 'PM_Peak3', 'Sum'], axis=1)"
   ]
  },
  {
   "cell_type": "code",
   "execution_count": null,
   "id": "754ce8e1",
   "metadata": {},
   "outputs": [],
   "source": [
    "# Drop rows where total cycles doesnt add up to number of private and hire cycles.\n",
    "# Creating a column to add up the values\n",
    "inner_london['Sum'] = inner_london['Number_of_private_cycles'] + inner_london['Number_of_cycle_hire_bikes']\n",
    "\n",
    "# Dropping rows where the column values dont add up \n",
    "inner_london = inner_london[inner_london.Total_cycles == inner_london.Sum]"
   ]
  },
  {
   "cell_type": "code",
   "execution_count": null,
   "id": "b3fb5381",
   "metadata": {},
   "outputs": [],
   "source": [
    "# Drop rows where total cycles doesnt add up to number of private and hire cycles.\n",
    "# Creating a column to add up the values\n",
    "central_london['Sum'] = central_london['Number_of_private_cycles'] + central_london['Number_of_cycle_hire_bikes']\n",
    "\n",
    "# Dropping rows where the column values dont add up \n",
    "central_london = central_london[central_london.Total_cycles == central_london.Sum]"
   ]
  },
  {
   "cell_type": "code",
   "execution_count": null,
   "id": "127c5ce9",
   "metadata": {},
   "outputs": [],
   "source": [
    "# Drop rows where total cycles doesnt add up to number of private and hire cycles.\n",
    "# Creating a column to add up the values\n",
    "outer_london['Sum'] = outer_london['Number_of_male_cycles'] + outer_london['Number_of_female_cycles'] + outer_london['Number_of_unknown_cycles']\n",
    "\n",
    "# Dropping rows where the column values dont add up \n",
    "outer_london = outer_london[outer_london.Total_cycles == outer_london.Sum]"
   ]
  },
  {
   "cell_type": "code",
   "execution_count": null,
   "id": "61f7493b",
   "metadata": {},
   "outputs": [],
   "source": [
    "# Drop the decimal point in Survey_wave\n",
    "inner_london['Survey_wave_(year)'] = inner_london['Survey_wave_(year)'].astype(str).apply(lambda x: x.replace('.0','')).astype(int)"
   ]
  },
  {
   "cell_type": "code",
   "execution_count": null,
   "id": "1bb60e8b",
   "metadata": {},
   "outputs": [],
   "source": [
    "# Dropping redundant columns\n",
    "inner_london=inner_london.drop(['Sum', 'Start_hour', 'Start_minute'], axis=1)"
   ]
  },
  {
   "cell_type": "code",
   "execution_count": null,
   "id": "ce08a433",
   "metadata": {},
   "outputs": [],
   "source": [
    "# Drop the additional information in Survey wave column \n",
    "# alligns with the way this info is presented in the other London datasets.\n",
    "central_london[\"Survey_wave_(calendar_quarter)\"] = central_london[\"Survey_wave_(calendar_quarter)\"].str.replace(r'\\D+', '', regex=True)\n",
    "\n",
    "# Drop the last number in every row \n",
    "central_london['Survey_wave_(calendar_quarter)'] = central_london['Survey_wave_(calendar_quarter)'].astype(str).str[:-1].astype(np.int64)\n",
    "\n",
    "# Rename Column Name to align with other London Datasets\n",
    "central_london.rename(columns={'Survey_wave_(calendar_quarter)': 'Survey_wave_(year)'}, inplace = True)"
   ]
  },
  {
   "cell_type": "code",
   "execution_count": null,
   "id": "f58623e4",
   "metadata": {},
   "outputs": [],
   "source": [
    "# Dropping redundant columns\n",
    "central_london=central_london.drop(['Sum', 'Start_hour', 'Start_minute', 'Equivalent_financial_quarter'], axis=1)"
   ]
  },
  {
   "cell_type": "code",
   "execution_count": null,
   "id": "ff224022",
   "metadata": {},
   "outputs": [],
   "source": [
    "# Dropping redundant columns\n",
    "outer_london=outer_london.drop(['Sum', 'Start_hour', 'Start_minute'], axis=1)"
   ]
  },
  {
   "cell_type": "code",
   "execution_count": null,
   "id": "da84da78",
   "metadata": {},
   "outputs": [],
   "source": [
    "# Count unique values in each column\n",
    "for col in inner_london:\n",
    "  print(col,\": \", inner_london[col].nunique())\n",
    "\n",
    "# More site ids vs location\n",
    "# May imply multiple sites in same location. Does this double count? Need to check!\n",
    "# Survey period of over 7 years\n",
    "# 5 Periods of day which should be synched in same fashion with all the other city count data\n",
    "# will use london period of day definition as base.\n",
    "# 165 types of weather needs to be consolidated into more manageable fashion"
   ]
  },
  {
   "cell_type": "code",
   "execution_count": null,
   "id": "46795a56",
   "metadata": {},
   "outputs": [],
   "source": [
    "# Explore the different types of Weather\n",
    "print(inner_london.Weather.unique())\n",
    "\n",
    "# Lots of overlaps for e.g. Rain & Wet, Dry/cold and dry Cold.\n",
    "# Need to classify into much narrower streams. \n",
    "# Cannot meaningfully look for patterns amongst 165 weather conditions!"
   ]
  },
  {
   "cell_type": "code",
   "execution_count": null,
   "id": "eb276734",
   "metadata": {},
   "outputs": [],
   "source": [
    "# Consolidate descriptions in Weather\n",
    "# Rain\n",
    "inner_london['Weather'] = inner_london['Weather'].replace(['Wet','Cloudy/rain','Rain','Mix Wet/dry','Drizzle',\n",
    "                                                          'Light Showers', 'Mizzle','Windy/rain','Showers',\n",
    "                                                          'Wet/dry','Wet/damp','Shower','Drizzle/shower','Rainy',\n",
    "                                                          'wet','Cloudy with showers','Generally overcast brief shower'\n",
    "                                                          'Light Rain','Shower/dry','Spitting','Drizzle/cloudy',\n",
    "                                                          'Dry/wet','Damp', 'Dry/drizzle','Dull/damp','Dry-wet',\n",
    "                                                          'Wet/mix', 'Drizzle/wet','Wet/windy','Rain Shower',\n",
    "                                                          'Intermittent Showers','Cloudy/drizzle','Rain/drizzle',\n",
    "                                                          'Wet Road','Drizzle/dry','Drizzle/rain','Mixed Sunny + Rain',\n",
    "                                                          'Wet/rain', 'V Light Drizzle', 'Rainy', 'W','Slight Drizzle',\n",
    "                                                          'Rain Stopped', 'Stopped Raining','Wet Rain Stopped','Raining/wet',\n",
    "                                                          'Showery','Overcast/rain','Rain/wet','Rain/showers','Showers/sunny',\n",
    "                                                          'Drizzle/showers','Wet/stop Raining','Drizzle Rain','Drizzle Wet',\n",
    "                                                          'Damp/sun','Raining','Dry + Wet','Showers/cloudy','Cloudy/showers',\n",
    "                                                          'Getting Wet','Wet Road:sun','Dry But Wet Road','Drizze',\n",
    "                                                          'wet','Wettish','Light Rain','S.wet','S/w',\n",
    "                                                          'Heavy Rain','Heavy Shower','Heavy Shr','Down Pour',\n",
    "                                                           'Deluge','Heavy Showers', 'Shower','Rain Heavy Showers',\n",
    "                                                           'Intermitent Showers','Thunder Lightening Rain!','Very Wet',\n",
    "                                                           'V.wet','Heavy Downpour/rain','Showery','Wet Heavy Rain',\n",
    "                                                           'Wet (heavy Rain)','Wet (shower)'],'Rain')\n",
    "\n",
    "# Good\n",
    "inner_london['Weather'] = inner_london['Weather'].replace(['Sunny','Cloudy Sunny','Sun Setting','Good','Dry/sunny',\n",
    "                                                          'Fine + Dry', 'Fine + Hot','Bright','Dry Hot!!',\n",
    "                                                          'Dry & Sunny','Dry & Sun','Fine & Dry','Good/dry','Sun',\n",
    "                                                          'Sunny Dry','Clear and Bright', 'Fine', 'Dry/good', \n",
    "                                                          'Fine/dry', 'Warm + Dry','Dry','Dry                         9',\n",
    "                                                          'Sunny','Cloudy/sunny','Druy','Dry/hot','Dry Warm',\n",
    "                                                          'Dry/sun','Dryish','Clear And Dry','Clear and Dry','Dry, Warm',\n",
    "                                                          'Dry, Sunny, Warm','Cloudy with Clear Intervals','Clear and Warm',\n",
    "                                                          'Dry But Misty','Sunny & Warm All Day','Clear','Dry + Sunny',\n",
    "                                                          'Sunny/dry','Dr Ry','Dry Y','D','Warm/dry','Bright/dry','Dry Sunny',\n",
    "                                                          'Fair','Dry/sun','Cloudy','Sunny Overcast Sunny','Sunny/cloudy','Cloudy/rain/sunny',\n",
    "                                                           'Cloudy + Sunny','Sunny + Cloudy', 'Cloudy/sunny',\n",
    "                                                           'Bright + Cloudy','Cloudy/dry','Partly Sunny','Dull','Dry & Mild',\n",
    "                                                           'Cloud','Overcast','Mild','Overcast (No Rain)',\n",
    "                                                          'Cloudy bright intervals','Generally overcast',\n",
    "                                                           'Cloudy with clear spells','Sunny Overcast','Dry',\n",
    "                                                           'Dry/mild', 'Clear','Cloudy and Dry','Partly cloudy but dry',\n",
    "                                                          'Partly cloudy and dry','Cloudy but dry','Partly cloudy and Dry',\n",
    "                                                          'Sun/Cloudy','Clouds & Sunny','Sun/clouds','Cloudy & Sunny',\n",
    "                                                          'Sun & Clouds','Cloudy Dry','Cloud/sun','Mixed','Sun/cloud',\n",
    "                                                           'Sunny/cloudy','Cloudy Sun','Cloudy/sun','Dry/cloudy',\n",
    "                                                           'Sun/cloudy','Overcast/dry','Cloud','Dull','Dry/overcast',\n",
    "                                                          'Dark/cloudy','Cloudy/dry','Cloudy'],'Good')\n",
    "\n",
    "\n",
    "\n",
    "# Damp\n",
    "inner_london['Weather'] = inner_london['Weather'].replace(['Wet/dry','Intermittent Light Drizzle','Light Rain',\n",
    "                                                           'Lt Rain','Drizzle','Intermittent Drizzle', 'Damp','Getting Dry',\n",
    "                                                           'Dry & Wet','Slight Drizzle/dry','Dry Road Still Wet'],'Damp')\n",
    "\n",
    "# Dangerous Conditions\n",
    "inner_london['Weather'] = inner_london['Weather'].replace(['Heavy Rain','Dry/wet Road','Dry With Wet Road',\n",
    "                                                           'Hot','Snow!','Snow', 'Sleet','Very Hot',\n",
    "                                                           'Dry (road Wet)','Dry, Sunny, Hot','Very Heavy Rain',\n",
    "                                                           'Intermittent Heavy Showers','Very Hot/dry','Hot/dry',\n",
    "                                                           'Storm','Heavy Rain High Winds','V Wet','Rain Heavy',\n",
    "                                                          'Sunny (hot!)','Heavy Thunder','Overcast/rain Heavy Showers',\n",
    "                                                          'Too Cold','High Wind','Very Windy','Wet/windy','Wet/v.windy',\n",
    "                                                           'Wet Hail','Rain/hail','Foggy Wet',\n",
    "                                                           'Wet Heavy Wind', 'Wet-windy','Hailstones',\n",
    "                                                           'Short Hail Shower','Rain/sleet','Hail Stone',\n",
    "                                                          'Hail','Showers/hailstone','Rain/hailstone','Dry Chill','Dry/cold',\n",
    "                                                           'Dry Cold','Cold/sunny','Cold/cloudy',\n",
    "                                                           'Dry Very Windy', 'Dry/windy','Windy','Cold','Cloudy/windy',\n",
    "                                                           'Windy + Sunny','Sunsetting + Windy','Dark Cloudy',\n",
    "                                                           'Dry V. Cold!','Very Cool','Dry & Windy',\n",
    "                                                          'Dry but Cold or Wind','Dry/v. Windy','Dry Windy',\n",
    "                                                          'Windy At First Then Sunny','Windy Dry',\n",
    "                                                          'Dry Wet Road','Thunder'],'Dangerous_Conditions')\n",
    "\n",
    "# Consolidating 'Unknown'\n",
    "inner_london['Weather'] = inner_london['Weather'].replace(['School Out','N/a','Unknown'],'Unknown')\n",
    "\n",
    "# Transforming Nan Values into Unknown\n",
    "# Replacing nan with 'Unknown'\n",
    "inner_london.Weather = inner_london.Weather.fillna('Unknown')\n",
    "\n",
    "# Consolidating \"Dry Dark\" into \"Unknown\"\n",
    "inner_london['Weather'] = inner_london['Weather'].replace(['Dry Dark','Dry/dark','Dark/dry',\n",
    "                                                           'Dark Dry'],'Unknown')"
   ]
  },
  {
   "cell_type": "code",
   "execution_count": null,
   "id": "3f22f2d5",
   "metadata": {},
   "outputs": [],
   "source": [
    "# Count unique values in each column\n",
    "for col in central_london:\n",
    "  print(col,\": \", central_london[col].nunique())\n",
    "\n",
    "# More site ids vs location again.\n",
    "# May imply multiple sites in same location. Does this double count? Need to check!\n",
    "# Survey period of 8 years\n",
    "# 5 Periods of day which should be synched in same fashion with all the other city count data\n",
    "# will use london period of day definition as base.\n",
    "# 282 types of weather needs to be consolidated"
   ]
  },
  {
   "cell_type": "code",
   "execution_count": null,
   "id": "c664ffc3",
   "metadata": {},
   "outputs": [],
   "source": [
    "# Consolidate descriptions in Weather\n",
    "# Rain\n",
    "central_london['Weather'] = central_london['Weather'].replace(['Wet','Cloudy/rain','Rain','Mix Wet/dry','Drizzle',\n",
    "                                                          'Light Showers', 'Mizzle','Windy/rain','Showers',\n",
    "                                                          'Wet/dry','Wet/damp','Shower','Drizzle/shower','Rainy',\n",
    "                                                          'wet','Cloudy with showers','Generally overcast brief shower'\n",
    "                                                          'Light Rain','Shower/dry','Spitting','Drizzle/cloudy',\n",
    "                                                          'Dry/wet','Damp', 'Dry/drizzle','Dull/damp','Dry-wet',\n",
    "                                                          'Wet/mix', 'Drizzle/wet','Wet/windy','Rain Shower',\n",
    "                                                          'Intermittent Showers','Cloudy/drizzle','Rain/drizzle',\n",
    "                                                          'Wet Road','Drizzle/dry','Drizzle/rain','Mixed Sunny + Rain',\n",
    "                                                          'Wet/rain', 'V Light Drizzle', 'Rainy', 'W','Slight Drizzle',\n",
    "                                                          'Rain Stopped', 'Stopped Raining','Wet Rain Stopped','Raining/wet',\n",
    "                                                          'Showery','Overcast/rain','Rain/wet','Rain/showers','Showers/sunny',\n",
    "                                                          'Drizzle/showers','Wet/stop Raining','Drizzle Rain','Drizzle Wet',\n",
    "                                                          'Damp/sun','Raining','Dry + Wet','Showers/cloudy','Cloudy/showers',\n",
    "                                                          'Getting Wet','Wet Road:sun','Dry But Wet Road','Drizze',\n",
    "                                                          'wet','Wettish','Light Rain','S.wet','S/w','Cold/rain',\n",
    "                                                           'Slightly Wet','Road Wet','Light Shower','Rain Damp','Wet Damp',\n",
    "                                                              'Wet - Dry','Dry - Wet','Rain Dry','Dry - Rain','Damp - Rain',\n",
    "                                                              'Wet/ Dry','S. Wet','Cloudy/ Rain','Windy/ Rain','Wet T',\n",
    "                                                              'Some Showers','Rains','Sunny/rainy','Wetr','Showers Mix',\n",
    "                                                              'Rain/dry','Rain/cloudy','Shower/wet','Wetter',\n",
    "                                                              'Heavy Rain','Heavy Shower','Heavy Shr','Down Pour',\n",
    "                                                           'Deluge','Heavy Showers', 'Shower','Rain Heavy Showers',\n",
    "                                                           'Intermitent Showers','Thunder Lightening Rain!','Very Wet',\n",
    "                                                           'V.wet','Heavy Downpour/rain','Showery','Wet Heavy Rain',\n",
    "                                                           'Wet (heavy Rain)','Wet (shower)','Blustery','V. Wet',\n",
    "                                                              'Rain & Thunder','Rain-heavy','H Rain','Wert','(rain After)',\n",
    "                                                              'Cloud/rain','Really Wet','Periods Of Rain Quite Windy',\n",
    "                                                              'Steady Rain'],'Rain')\n",
    "\n",
    "# Good\n",
    "central_london['Weather'] = central_london['Weather'].replace(['Sunny','Cloudy Sunny','Sun Setting','Good','Dry/sunny',\n",
    "                                                          'Fine + Dry', 'Fine + Hot','Bright','Dry Hot!!',\n",
    "                                                          'Dry & Sunny','Dry & Sun','Fine & Dry','Good/dry','Sun',\n",
    "                                                          'Sunny Dry','Clear and Bright', 'Fine', 'Dry/good', \n",
    "                                                          'Fine/dry', 'Warm + Dry','Dry','Dry                         9',\n",
    "                                                          'Sunny','Cloudy/sunny','Druy','Dry/hot','Dry Warm',\n",
    "                                                          'Dry/sun','Dryish','Clear And Dry','Clear and Dry','Dry, Warm',\n",
    "                                                          'Dry, Sunny, Warm','Cloudy with Clear Intervals','Clear and Warm',\n",
    "                                                          'Dry But Misty','Sunny & Warm All Day','Clear','Dry + Sunny',\n",
    "                                                          'Sunny/dry','Dr Ry','Dry Y','D','Warm/dry','Bright/dry','Dry Sunny',\n",
    "                                                          'Fair','Dry/sun','Kdry','Fine Windy',\n",
    "                                                               'Cloudy','Sunny Overcast Sunny','Sunny/cloudy',\n",
    "                                                               'Cloudy/rain/sunny','Cloudy + Sunny','Sunny + Cloudy',\n",
    "                                                               'Cloudy/sunny','Bright + Cloudy','Cloudy/dry',\n",
    "                                                               'Partly Sunny','Dull','Dry & Mild','Cloud','Overcast',\n",
    "                                                               'Mild','Overcast (No Rain)','Cloudy bright intervals',\n",
    "                                                               'Generally overcast','Cloudy with clear spells',\n",
    "                                                               'Sunny Overcast','Dry','Dry/mild', 'Clear',\n",
    "                                                               'Cloudy and Dry','Partly cloudy but dry',\n",
    "                                                          'Partly cloudy and dry','Cloudy but dry','Partly cloudy and Dry',\n",
    "                                                          'Sun/Cloudy','Clouds & Sunny','Sun/clouds','Cloudy & Sunny',\n",
    "                                                          'Sun & Clouds','Cloudy Dry','Cloud/sun','Mixed','Sun/cloud',\n",
    "                                                           'Sunny/cloudy','Cloudy Sun','Cloudy/sun','Dry/cloudy',\n",
    "                                                           'Sun/cloudy','Overcast/dry','Cloud','Dull','Dry/overcast',\n",
    "                                                          'Dark/cloudy','Cloudy/dry','Cloudy','Hazy','Partly Cloudy',\n",
    "                                                               'Drty','Dry (windy)','Fine (windy)','Sunny Cloudy',\n",
    "                                                              'Dry Dark','Dark','Dry Mon','Dry Wed','Dry Thu','Dry Fri',\n",
    "                                                              'Sun/rain','Thunder','Cloudy','Sunny Overcast Sunny',\n",
    "                                                               'Sunny/cloudy','Cloudy/rain/sunny',\n",
    "                                                           'Cloudy + Sunny','Sunny + Cloudy', 'Cloudy/sunny',\n",
    "                                                           'Bright + Cloudy','Cloudy/dry','Partly Sunny','Dull','Dry & Mild',\n",
    "                                                           'Cloud','Overcast','Mild','Overcast (No Rain)',\n",
    "                                                          'Cloudy bright intervals','Generally overcast',\n",
    "                                                           'Cloudy with clear spells','Sunny Overcast','Dry',\n",
    "                                                           'Dry/mild', 'Clear','Cloudy and Dry','Partly cloudy but dry',\n",
    "                                                          'Partly cloudy and dry','Cloudy but dry','Partly cloudy and Dry',\n",
    "                                                          'Sun/Cloudy','Clouds & Sunny','Sun/clouds','Cloudy & Sunny',\n",
    "                                                          'Sun & Clouds','Cloudy Dry','Cloud/sun','Mixed','Sun/cloud',\n",
    "                                                           'Sunny/cloudy','Cloudy Sun','Cloudy/sun','Dry/cloudy',\n",
    "                                                           'Sun/cloudy','Overcast/dry','Cloud','Dull','Dry/overcast',\n",
    "                                                          'Dark/cloudy','Cloudy/dry','Cloudy','Hazy','Partly Cloudy',\n",
    "                                                               'Drty','Dry (windy)','Fine (windy)','Sunny Cloudy',\n",
    "                                                              'Dry Dark','Dark','Dry Mon','Dry Wed','Dry Thu','Dry Fri',\n",
    "                                                              'Sun/rain','Thunder','Ddry','Dy','Dry/sunny/cold','Fine Cold',\n",
    "                                                              'Cold Dry','Dry & Cold','Dry And Fine','Dry And Sunny',\n",
    "                                                              'Dry And Warm','Fine And Dry','Warm + Sunny','Warm And Humid',\n",
    "                                                              'Warm And Windy','Overcast And Dull','Cloudy And Warm',\n",
    "                                                              'Sunny Periods And Warm','Dry And Windy','Dry And Very Windy',\n",
    "                                                              'Warm Sunny And Windy','Hot And Humid','Mild And Sunny',\n",
    "                                                               'Warm And Overcast','Sunny & Windy','Windy/cloudy',\n",
    "                                                              'Dry/gusty','Coldish','Windy/dry','Dry But A Bit Windy',\n",
    "                                                               'Sunny Cold','Cold At First Then Warm/sunny',\n",
    "                                                              'Warm & Sunny Chilly Later','Fine + Dry Chilly At First',\n",
    "                                                               'Fine & Sunny','dry','A Bit Chilly At First',\n",
    "                                                               'Warm With A Slight Wind','Cold Then Dry And Windy',\n",
    "                                                               'Dry And Overcast','Warm + Sunny Cloudy + Windy',\n",
    "                                                              'Dry 3/4 Dry','Sunny Until Evening But Windy',\n",
    "                                                               'Winds Rather Chilly','Warm','Sunny But Very Windy',\n",
    "                                                               'Now Starts To Get Chilly'],'Good')\n",
    "\n",
    "\n",
    "# Light Rain\n",
    "central_london['Weather'] = central_london['Weather'].replace(['Wet/dry','Intermittent Light Drizzle','Light Rain',\n",
    "                                                           'Lt Rain','Drizzle','Intermittent Drizzle', 'Damp','Getting Dry',\n",
    "                                                           'Dry & Wet','Slight Drizzle/dry','Wet Intermittently',\n",
    "                                                               'Light Rain','V Light Rain','Dry Wet Road','Dry A.m Wet P.m',\n",
    "                                                               'Mist','Road Drying Sun Out','Wetish','Light Shrs',\n",
    "                                                              'Fine Drizzle','V Light Shrs','L/rain','Rain Stopped-dry',\n",
    "                                                              'V Lt Rain','V.light Rain','Dry (+brief Speels Of Drizzle',\n",
    "                                                              'Wet (spitting)','Drizzly Rain','Almost Dry','Damp & Drizzly',\n",
    "                                                              'Dry Road Wet With Leaves','Wet Drizzle','No Rain Wet Roads',\n",
    "                                                              'Dry But Wet Roads','Very Light Rain','Light Drizzle',\n",
    "                                                              'Dry/wet Road Surface','V Light Showers','V. Light Rain',\n",
    "                                                              'Wet/cloudy','Wet/sunny','Dry Road Still Wet',\n",
    "                                                              '2 Snowflakes Otherwise Dry','Wet-dry','Dry/drizzly',\n",
    "                                                              'Wet/light Showers','Wet/drizzle','Wet And Windy',\n",
    "                                                              'Drizzling','Drizzle Damp','Windy Showery','Wet + Dry',\n",
    "                                                              'V.light Drizzle','Very Light Drizzle','Drying Up','Wet Again',\n",
    "                                                              'Cold Sunny Rain','Wet First Then Dry','Wetr First Then Dry',\n",
    "                                                              'Dry With Intermitent Rain','(drizzle)','Damp/misty/wet',\n",
    "                                                              'Dry But Rain Threatening','Slight Drizzle Till End',\n",
    "                                                              'Damp/misty','Cold & Dry Early Rain Later',\n",
    "                                                              'Wet ','Windy/drizzle','Intermitent Light Showers',\n",
    "                                                              'Intermitent Light Rain','A Few Rain Showers','Drizzly',\n",
    "                                                              'Rain Looking Likely','A Few Drops Of Rain'],'Damp')\n",
    "\n",
    "# Dangerous Weather\n",
    "central_london['Weather'] = central_london['Weather'].replace(['Heavy Rain','Dry/wet Road','Dry With Wet Road',\n",
    "                                                           'Hot','Snow!','Snow', 'Sleet','Very Hot',\n",
    "                                                           'Dry (road Wet)','Dry, Sunny, Hot','Very Heavy Rain',\n",
    "                                                           'Intermittent Heavy Showers','Very Hot/dry','Hot/dry',\n",
    "                                                           'Storm','Heavy Rain High Winds','V Wet','Rain Heavy',\n",
    "                                                          'Sunny (hot!)','Heavy Thunder','Overcast/rain Heavy Showers',\n",
    "                                                          'Too Cold','High Wind','Very Windy','Dry & Very Windy',\n",
    "                                                              'Very Hot Dry','Wet/windy','Wet/v.windy','Wet Hail',\n",
    "                                                               'Rain/hail','Foggy Wet',\n",
    "                                                           'Wet Heavy Wind', 'Wet-windy','Hailstones',\n",
    "                                                           'Short Hail Shower','Rain/sleet','Hail Stone',\n",
    "                                                          'Hail','Showers/hailstone','Rain/hailstone','Cold/ Rain',\n",
    "                                                              'Foggy','Wet & Windy','Wet + Windy','Rain/wind',\n",
    "                                                              'Wet (windy)','Occasional Lt Snow Shrs',\n",
    "                                                              'Wet And Very Windy','Dry Chill','Dry/cold','Dry Cold',\n",
    "                                                               'Cold/sunny','Cold/cloudy',\n",
    "                                                           'Dry Very Windy', 'Dry/windy','Windy','Cold','Cloudy/windy',\n",
    "                                                           'Windy + Sunny','Sunsetting + Windy','Dark Cloudy',\n",
    "                                                           'Dry V. Cold!','Very Cool','Dry & Windy',\n",
    "                                                          'Dry but Cold or Wind','Dry/v. Windy','Dry Windy',\n",
    "                                                          'Windy At First Then Sunny','Windy Dry','Cold Windy Dry',\n",
    "                                                              'Cold/dry','Some Heavy Showers','Very Cold/dry',\n",
    "                                                              'Foggy/v Cold','Hail Shower','Snowing','Wet/ Snowing',\n",
    "                                                              'Heavy Snow','Dry/very Windy','Very Windy & Cold',\n",
    "                                                              'Wet Light Hailstone','Heavy Showers Throughout Day',\n",
    "                                                              'High Winds & Spits Of Rain','Fine V Cold',\n",
    "                                                              'Dry (frost & Fog)','V Cold Showers','Cold/showery',\n",
    "                                                              'Light Showers Inc Some Hail','Cloudy/hail','Cold Wind',\n",
    "                                                              'Hot & Sunny','Hot And Sunny','Dry/windy/strong Wind',\n",
    "                                                              'Hot + Humid','Very Cold Sunny But Windy'],'Dangerous_Conditions')\n",
    "\n",
    "# Consolidating 'Unknown'\n",
    "central_london['Weather'] = central_london['Weather'].replace(['School Out','N/a','Unknown','Dark Sunny',\n",
    "                                                              'Wed','Warm & Sunny But Windy & Cold'],'Unknown')\n",
    "\n",
    "# Transforming Nan Values into Unknown\n",
    "# Replacing nan with 'Unknown'\n",
    "central_london.Weather = central_london.Weather.fillna('Unknown')\n",
    "\n",
    "# Consolidating \"Dry Dark\"\n",
    "central_london['Weather'] = central_london['Weather'].replace(['Dry Dark','Dry/dark','Dark/dry',\n",
    "                                                           'Dark Dry', 'X'],'Unknown')"
   ]
  },
  {
   "cell_type": "code",
   "execution_count": null,
   "id": "077f7af6",
   "metadata": {},
   "outputs": [],
   "source": [
    "# Count unique values in each column\n",
    "for col in outer_london:\n",
    "  print(col,\": \", outer_london[col].nunique())\n",
    "\n",
    "# More site ids vs location\n",
    "# May imply multiple sites in same location. Need to check for double count.\n",
    "# Survey period of over 7 years\n",
    "# 5 Periods of day which should be synched in same fashion with all the other city count data\n",
    "# will use london period of day definition as base.\n",
    "# 123 types of weather needs to be consolidated"
   ]
  },
  {
   "cell_type": "code",
   "execution_count": null,
   "id": "7a1a61ed",
   "metadata": {},
   "outputs": [],
   "source": [
    "# Consolidate descriptions in Weather\n",
    "# Rain\n",
    "outer_london['Weather'] = outer_london['Weather'].replace(['Wet','Showers','Rain','Cloudy + Rain','Rain & Cloudy',\n",
    "                                                          'Raining', 'Rain/cloudy','Wet/thunder','Light Showers',\n",
    "                                                          'Rain/showers','W','Wey','Drizzle/shower','Rainy',\n",
    "                                                          'wet','Cloudy with showers','Generally overcast brief shower',\n",
    "                                                          'Heavy Rain','Heavy Shower','Heavy Shr','Down Pour',\n",
    "                                                           'Deluge','Heavy Showers', 'Shower','Rain Heavy Showers',\n",
    "                                                           'Intermitent Showers','Thunder Lightening Rain!','Very Wet',\n",
    "                                                           'V.wet','Heavy Downpour/rain','Showery','Wet Heavy Rain',\n",
    "                                                           'Wet (heavy Rain)'],'Rain')\n",
    "\n",
    "# Good\n",
    "outer_london['Weather'] = outer_london['Weather'].replace(['Cloudy','Sunny Overcast Sunny','Sunny/cloudy','Cloudy/rain/sunny',\n",
    "                                                           'Cloudy + Sunny','Sunny + Cloudy', 'Cloudy/sunny',\n",
    "                                                           'Bright + Cloudy','Cloudy/dry','Partly Sunny','Dull','Dry & Mild',\n",
    "                                                           'Cloud','Overcast','Mild','Overcast (No Rain)',\n",
    "                                                          'Cloudy bright intervals','Generally overcast',\n",
    "                                                           'Cloudy with clear spells','Sunny Overcast','Dry',\n",
    "                                                           'Dry/mild', 'Clear','Cloudy with clear spells',\n",
    "                                                          'Sunny Overcast', 'Sunny','Cloudy Sunny','Sun Setting','Good',\n",
    "                                                           'Dry/sunny','Fine + Dry', 'Fine + Hot','Bright','Dry Hot!!',\n",
    "                                                          'Dry & Sunny','Dry & Sun','Fine & Dry','Good/dry','Sun',\n",
    "                                                          'Sunny Dry','Clear and Bright', 'Fine', 'Dry/good', \n",
    "                                                          'Fine/dry','Warm + Dry','D'],'Good')\n",
    "# Damp\n",
    "outer_london['Weather'] = outer_london['Weather'].replace(['Wet/dry','Intermittent Light Drizzle',\n",
    "                                                           'Light Rain','Lt Rain','Drizzle','Intermittent Drizzle', 'Damp',\n",
    "                                                           'Getting Dry','Dry & Wet','Dry/wet',],'Damp')\n",
    "\n",
    "\n",
    "# Dangerous Conditions\n",
    "outer_london['Weather'] = outer_london['Weather'].replace(['Dry Chill','Dry/cold','Dry Cold','Cold/sunny','Cold/cloudy',\n",
    "                                                           'Dry Very Windy', 'Dry/windy','Windy','Cold','Cloudy/windy',\n",
    "                                                           'Windy + Sunny','Sunsetting + Windy','Dark Cloudy',\n",
    "                                                           'Dry V. Cold!','Very Cool','Wet/windy','Wet/v.windy','Wet Hail',\n",
    "                                                           'Rain/hail','Foggy Wet','Wet Heavy Wind', 'Wet-windy','Hailstones',\n",
    "                                                           'Short Hail Shower','Heavy Rain','Dry/wet Road','Dry With Wet Road',\n",
    "                                                           'Hot','Snow!','Snow', 'Sleet','Very Hot','Dry (road Wet)'],\n",
    "                                                          'Dangerous_Conditions')\n",
    "\n",
    "# Replacing nan with 'Unknown'\n",
    "outer_london.Weather = outer_london.Weather.fillna('Unknown')\n",
    "\n",
    "# Consolidating \"Unknown\"\n",
    "outer_london['Weather'] = outer_london['Weather'].replace(['Dry Dark','Dry/dark','Dark/dry','Dark Dry', 'N/a'],'Unknown')"
   ]
  },
  {
   "cell_type": "code",
   "execution_count": null,
   "id": "98b80b5d",
   "metadata": {},
   "outputs": [],
   "source": [
    "# Check for duplicated values in the dataframes\n",
    "# Duplicates are rows where values across all columns match with another row in the dataframe\n",
    "duplicateRowsDF_inner_london = inner_london[inner_london.duplicated()]"
   ]
  },
  {
   "cell_type": "code",
   "execution_count": null,
   "id": "793f9a33",
   "metadata": {},
   "outputs": [],
   "source": [
    "# View output\n",
    "print(duplicateRowsDF_inner_london)\n",
    "\n",
    "# 17,862 rows of duplicates\n",
    "# Will drop these but once all data cleaning is done"
   ]
  },
  {
   "cell_type": "code",
   "execution_count": null,
   "id": "38b0a1d2",
   "metadata": {},
   "outputs": [],
   "source": [
    "# Check for duplicated values in the dataframes\n",
    "# Duplicates are rows where values across all columns match with another row in the dataframe\n",
    "duplicateRowsDF_central_london = central_london[central_london.duplicated()]"
   ]
  },
  {
   "cell_type": "code",
   "execution_count": null,
   "id": "ace97daf",
   "metadata": {
    "scrolled": true
   },
   "outputs": [],
   "source": [
    "# View output\n",
    "print(duplicateRowsDF_central_london)\n",
    "\n",
    "# 431 rows of duplicates\n",
    "# Will drop these but once all data cleaning is done"
   ]
  },
  {
   "cell_type": "code",
   "execution_count": null,
   "id": "cbb4712b",
   "metadata": {},
   "outputs": [],
   "source": [
    "# Check for duplicated values in the dataframes\n",
    "# Duplicates are rows where values across all columns match with another row in the dataframe\n",
    "duplicateRowsDF_outer_london = outer_london[outer_london.duplicated()]"
   ]
  },
  {
   "cell_type": "code",
   "execution_count": null,
   "id": "fb7abc78",
   "metadata": {},
   "outputs": [],
   "source": [
    "# View output\n",
    "print(duplicateRowsDF_outer_london)\n",
    "\n",
    "# No duplicates"
   ]
  },
  {
   "cell_type": "code",
   "execution_count": null,
   "id": "16bf5870",
   "metadata": {},
   "outputs": [],
   "source": [
    "# Check for duplicated rows across all column values\n",
    "duplicateRowsDF_ny = ny_counts[ny_counts.duplicated()]"
   ]
  },
  {
   "cell_type": "code",
   "execution_count": null,
   "id": "fc2241b2",
   "metadata": {},
   "outputs": [],
   "source": [
    "# See output of duplication check\n",
    "print(duplicateRowsDF_ny)\n",
    "\n",
    "# No duplicates"
   ]
  },
  {
   "cell_type": "code",
   "execution_count": null,
   "id": "659c31ed",
   "metadata": {},
   "outputs": [],
   "source": [
    "# Check for duplicated rows across all column values\n",
    "duplicateRowsDF_sydney = sydney_counts[sydney_counts.duplicated()]"
   ]
  },
  {
   "cell_type": "code",
   "execution_count": null,
   "id": "73e453ae",
   "metadata": {},
   "outputs": [],
   "source": [
    "# See output of duplication check\n",
    "print(duplicateRowsDF_sydney)\n",
    "\n",
    "# No duplicates"
   ]
  },
  {
   "cell_type": "markdown",
   "id": "95aa91ca",
   "metadata": {},
   "source": [
    "### Summarising Null Values"
   ]
  },
  {
   "cell_type": "code",
   "execution_count": null,
   "id": "2cd41e26",
   "metadata": {},
   "outputs": [],
   "source": [
    "# Check missing values\n",
    "ny_counts.isnull().sum()\n",
    "\n",
    "# No Null Values"
   ]
  },
  {
   "cell_type": "code",
   "execution_count": null,
   "id": "dc69c980",
   "metadata": {},
   "outputs": [],
   "source": [
    "# Check missing values\n",
    "sydney_counts.isnull().sum()\n",
    "\n",
    "# No Null Values"
   ]
  },
  {
   "cell_type": "code",
   "execution_count": null,
   "id": "f8006b1b",
   "metadata": {},
   "outputs": [],
   "source": [
    "# Check missing values\n",
    "inner_london.isnull().sum()\n",
    "\n",
    "# Just 6 null values in Time \n",
    "# Given the overall size of the dataframe, this is not worthwhile trying to investigate.\n",
    "# Will drop them"
   ]
  },
  {
   "cell_type": "code",
   "execution_count": null,
   "id": "b9544139",
   "metadata": {},
   "outputs": [],
   "source": [
    "# Check missing values\n",
    "central_london.isnull().sum()\n",
    "\n",
    "# No Null Values"
   ]
  },
  {
   "cell_type": "code",
   "execution_count": null,
   "id": "675df2c7",
   "metadata": {
    "scrolled": true
   },
   "outputs": [],
   "source": [
    "# Check missing values\n",
    "outer_london.isnull().sum()\n",
    "\n",
    "# No Null Values"
   ]
  },
  {
   "cell_type": "code",
   "execution_count": null,
   "id": "a4dbcd4d",
   "metadata": {},
   "outputs": [],
   "source": [
    "# Review all metadata again \n",
    "ny_counts.info()\n",
    "inner_london.info()\n",
    "central_london.info()\n",
    "outer_london.info()\n",
    "sydney_counts.info()\n"
   ]
  },
  {
   "cell_type": "code",
   "execution_count": null,
   "id": "63165103",
   "metadata": {},
   "outputs": [],
   "source": [
    "ny_counts.head()"
   ]
  },
  {
   "cell_type": "markdown",
   "id": "83bd588e",
   "metadata": {},
   "source": [
    "## Exploring Distribution of data"
   ]
  },
  {
   "cell_type": "markdown",
   "id": "92f9a441",
   "metadata": {},
   "source": [
    "### New York"
   ]
  },
  {
   "cell_type": "code",
   "execution_count": null,
   "id": "b838740e",
   "metadata": {},
   "outputs": [],
   "source": [
    "# Group NY Counts Data by year, month, day_of week & time of day\n",
    "df = ny_counts.groupby(['year'], as_index=False)['counts'].count()\n",
    "df1= ny_counts.groupby(['month_name', 'month'], as_index=False)['counts'].count()\n",
    "df2 = ny_counts.groupby(['day_of_week'], as_index=False)['counts'].count()\n",
    "df3 = ny_counts.groupby(['time_of_day', 'hour'], as_index=False)['counts'].count()\n",
    "df4 = ny_counts.groupby(['year', 'month'], as_index=False)['counts'].count()"
   ]
  },
  {
   "cell_type": "code",
   "execution_count": null,
   "id": "9b730791",
   "metadata": {},
   "outputs": [],
   "source": [
    "# Display the count distribution\n",
    "df.head(50)\n",
    "\n",
    "# Can see lots of unevenness of distribution of counts\n",
    "# For e.g. Sep 2012 has 11,520 counts vs Sep 2013 which has just 2,829 & Sep 2014 which 31,680 counts\n",
    "# Sep 2015 has 34,560 & Sep 16 has 37,440 counts."
   ]
  },
  {
   "cell_type": "code",
   "execution_count": null,
   "id": "44142d46",
   "metadata": {},
   "outputs": [],
   "source": [
    "# Sort values\n",
    "df1.sort_values('month', inplace=True)\n",
    "df3.sort_values('hour', inplace=True)"
   ]
  },
  {
   "cell_type": "code",
   "execution_count": null,
   "id": "41dbac24",
   "metadata": {},
   "outputs": [],
   "source": [
    "# Visualise NY Counts data distribution by year\n",
    "sns.set_theme(style=\"whitegrid\")\n",
    "from matplotlib.ticker import FormatStrFormatter\n",
    "\n",
    "# Initialise matplotlib fiture\n",
    "f, g = plt.subplots(figsize = (10,5))\n",
    "\n",
    "g=sns.barplot(x = df['year'], y = df['counts'])\n",
    "\n",
    "# Add legend and add title etc\n",
    "g.set(ylabel = \"Number of bikes\",\n",
    "     xlabel = \"Year\")\n",
    "g.set_title('Distribution of count data by year in New York')\n",
    "sns.despine(left=True, bottom=True)\n",
    "\n",
    "# Show the plot\n",
    "plt.show()\n",
    "\n",
    "# We dont have equal amounts of count data across the years"
   ]
  },
  {
   "cell_type": "code",
   "execution_count": null,
   "id": "949ee1e6",
   "metadata": {},
   "outputs": [],
   "source": [
    "# Visualise NY Counts data distribution by month\n",
    "sns.set_theme(style=\"whitegrid\")\n",
    "from matplotlib.ticker import FormatStrFormatter\n",
    "\n",
    "# Initialise matplotlib fiture\n",
    "f, g = plt.subplots(figsize = (10,5))\n",
    "\n",
    "g=sns.barplot(x = df1['month_name'], y = df1['counts'])\n",
    "\n",
    "# Add legend and add title etc\n",
    "g.set(ylabel = \"Number of bikes\",\n",
    "     xlabel = \"Month\")\n",
    "g.set_title('Distribution of count data by month in New York')\n",
    "sns.despine(left=True, bottom=True)\n",
    "\n",
    "# Show the plot\n",
    "plt.show()\n",
    "\n",
    "# Somewhat uneven but within an acceptable range given scale"
   ]
  },
  {
   "cell_type": "code",
   "execution_count": null,
   "id": "6b3866eb",
   "metadata": {},
   "outputs": [],
   "source": [
    "# Visualise NY Counts data distribution by day of the week\n",
    "sns.set_theme(style=\"whitegrid\")\n",
    "from matplotlib.ticker import FormatStrFormatter\n",
    "\n",
    "# Initialise matplotlib fiture\n",
    "f, g = plt.subplots(figsize = (10,5))\n",
    "\n",
    "g=sns.barplot(x = df2['day_of_week'], y = df2['counts'])\n",
    "\n",
    "# Add legend and add title etc\n",
    "g.set(ylabel = \"Number of bikes\",\n",
    "     xlabel = \"Day of the week\")\n",
    "g.set_title('Distribution of count data by day of the week in New York')\n",
    "sns.despine(left=True, bottom=True)\n",
    "\n",
    "# Show the plot\n",
    "plt.show()\n",
    "\n",
    "# Equal"
   ]
  },
  {
   "cell_type": "code",
   "execution_count": null,
   "id": "0240176b",
   "metadata": {},
   "outputs": [],
   "source": [
    "# Visualise Ny Counts by time of day\n",
    "sns.set_theme(style=\"whitegrid\")\n",
    "from matplotlib.ticker import FormatStrFormatter\n",
    "\n",
    "# Initialise matplotlib fiture\n",
    "f, g = plt.subplots(figsize = (10,5))\n",
    "\n",
    "g=sns.barplot(x = df3['time_of_day'], y = df3['counts'])\n",
    "\n",
    "# Add legend and add title etc\n",
    "g.set(ylabel = \"Number of bikes\",\n",
    "     xlabel = \"Time of the day\")\n",
    "g.set_title('Distribution of count data by time of the day in New York')\n",
    "sns.despine(left=True, bottom=True)\n",
    "\n",
    "# Show the plot\n",
    "plt.show()\n",
    "\n",
    "# Equal"
   ]
  },
  {
   "cell_type": "markdown",
   "id": "f1b97391",
   "metadata": {},
   "source": [
    "### London"
   ]
  },
  {
   "cell_type": "markdown",
   "id": "4f60f40b",
   "metadata": {},
   "source": [
    "Inner London"
   ]
  },
  {
   "cell_type": "code",
   "execution_count": null,
   "id": "77a0fb50",
   "metadata": {},
   "outputs": [],
   "source": [
    "# Group the data \n",
    "df = inner_london.groupby(['year'], as_index=False)['Total_cycles'].count()\n",
    "df1= inner_london.groupby(['month_name', 'month'], as_index=False)['Total_cycles'].count()\n",
    "df2 = inner_london.groupby(['Day_of_week'], as_index=False)['Total_cycles'].count()\n",
    "df3 = inner_london.groupby(['Period', 'Time'], as_index=False)['Total_cycles'].count()"
   ]
  },
  {
   "cell_type": "code",
   "execution_count": null,
   "id": "1fb460b4",
   "metadata": {},
   "outputs": [],
   "source": [
    "# Sort values\n",
    "df1.sort_values('month', inplace=True)\n",
    "df3.sort_values('Time', inplace=True)"
   ]
  },
  {
   "cell_type": "code",
   "execution_count": null,
   "id": "f4028467",
   "metadata": {},
   "outputs": [],
   "source": [
    "# Visualise Inner London counts data distribution by year\n",
    "sns.set_theme(style=\"whitegrid\")\n",
    "from matplotlib.ticker import FormatStrFormatter\n",
    "\n",
    "# Initialise matplotlib fiture\n",
    "f, g = plt.subplots(figsize = (10,5))\n",
    "\n",
    "g=sns.barplot(x = df['year'], y = df['Total_cycles'])\n",
    "\n",
    "# Add legend and add title etc\n",
    "g.set(ylabel = \"Number of bikes\",\n",
    "     xlabel = \"Year\")\n",
    "g.set_title('Distribution of count data by year in Inner London')\n",
    "sns.despine(left=True, bottom=True)\n",
    "\n",
    "# Show the plot\n",
    "plt.show()\n",
    "\n",
    "# We dont have equal amounts of count data across the years"
   ]
  },
  {
   "cell_type": "code",
   "execution_count": null,
   "id": "6716169f",
   "metadata": {},
   "outputs": [],
   "source": [
    "# Visualise Inner London count data distribution by month\n",
    "sns.set_theme(style=\"whitegrid\")\n",
    "from matplotlib.ticker import FormatStrFormatter\n",
    "\n",
    "# Initialise matplotlib fiture\n",
    "f, g = plt.subplots(figsize = (10,5))\n",
    "\n",
    "g=sns.barplot(x = df1['month_name'], y = df1['Total_cycles'])\n",
    "\n",
    "# Add legend and add title etc\n",
    "g.set(ylabel = \"Number of bikes\",\n",
    "     xlabel = \"Month\")\n",
    "g.set_title('Distribution of count data by month in Inner London')\n",
    "sns.despine(left=True, bottom=True)\n",
    "\n",
    "# Show the plot\n",
    "plt.show()\n",
    "\n",
    "# No Data for months not displayed on x axis\n",
    "# Dec, Jan & Feb\n",
    "# Very little data for months where chart displays white bars\n",
    "# White bars in these months mean the count is too small to scale effectively\n",
    "# These months are Mar, Aug & Nov"
   ]
  },
  {
   "cell_type": "code",
   "execution_count": null,
   "id": "46fde4e8",
   "metadata": {},
   "outputs": [],
   "source": [
    "# Visualise Inner London counts data distribution by day of the week\n",
    "sns.set_theme(style=\"whitegrid\")\n",
    "from matplotlib.ticker import FormatStrFormatter\n",
    "\n",
    "# Initialise matplotlib fiture\n",
    "f, g = plt.subplots(figsize = (10,5))\n",
    "\n",
    "g=sns.barplot(x = df2['Day_of_week'], y = df2['Total_cycles'])\n",
    "\n",
    "# Add legend and add title etc\n",
    "g.set(ylabel = \"Number of bikes\",\n",
    "     xlabel = \"Day of the week\")\n",
    "g.set_title('Distribution of count data by day of the week in Inner London')\n",
    "sns.despine(left=True, bottom=True)\n",
    "\n",
    "# Show the plot\n",
    "plt.show()\n",
    "\n",
    "# Very uneven distribution although counts present every day\n",
    "# Weekends clearly very uneven"
   ]
  },
  {
   "cell_type": "code",
   "execution_count": null,
   "id": "7b0526f1",
   "metadata": {},
   "outputs": [],
   "source": [
    "# Visualise Inner London by time of day\n",
    "sns.set_theme(style=\"whitegrid\")\n",
    "from matplotlib.ticker import FormatStrFormatter\n",
    "\n",
    "# Initialise matplotlib fiture\n",
    "f, g = plt.subplots(figsize = (12,5))\n",
    "\n",
    "g=sns.barplot(x = df3['Period'], y = df3['Total_cycles'])\n",
    "\n",
    "# Add legend and add title etc\n",
    "g.set(ylabel = \"Number of bikes\",\n",
    "     xlabel = \"Time of the day\")\n",
    "g.set_title('Distribution of count data by time of the day in Inner London')\n",
    "sns.despine(left=True, bottom=True)\n",
    "\n",
    "# Show the plot\n",
    "plt.show()\n",
    "\n",
    "# Equal"
   ]
  },
  {
   "cell_type": "markdown",
   "id": "6e733615",
   "metadata": {},
   "source": [
    "Outer London"
   ]
  },
  {
   "cell_type": "code",
   "execution_count": null,
   "id": "f2b0fdba",
   "metadata": {},
   "outputs": [],
   "source": [
    "# Group the data \n",
    "df = outer_london.groupby(['year'], as_index=False)['Total_cycles'].count()\n",
    "df1= outer_london.groupby(['month_name', 'month'], as_index=False)['Total_cycles'].count()\n",
    "df2 = outer_london.groupby(['Day_of_week'], as_index=False)['Total_cycles'].count()\n",
    "df3 = outer_london.groupby(['Period', 'Time'], as_index=False)['Total_cycles'].count()"
   ]
  },
  {
   "cell_type": "code",
   "execution_count": null,
   "id": "5ae9f792",
   "metadata": {},
   "outputs": [],
   "source": [
    "# Sort values\n",
    "df1.sort_values('month', inplace=True)\n",
    "df3.sort_values('Time', inplace=True)"
   ]
  },
  {
   "cell_type": "code",
   "execution_count": null,
   "id": "df8464e0",
   "metadata": {},
   "outputs": [],
   "source": [
    "# Visualise Outer London counts data distribution by year\n",
    "sns.set_theme(style=\"whitegrid\")\n",
    "from matplotlib.ticker import FormatStrFormatter\n",
    "\n",
    "# Initialise matplotlib fiture\n",
    "f, g = plt.subplots(figsize = (10,5))\n",
    "\n",
    "g=sns.barplot(x = df['year'], y = df['Total_cycles'])\n",
    "\n",
    "# Add legend and add title etc\n",
    "g.set(ylabel = \"Number of bikes\",\n",
    "     xlabel = \"Year\")\n",
    "g.set_title('Distribution of count data by year in Outer London')\n",
    "sns.despine(left=True, bottom=True)\n",
    "\n",
    "# Show the plot\n",
    "plt.show()\n",
    "\n",
    "# We dont have equal amounts of count data across the years\n",
    "# Matches the distribution shape of Inner London"
   ]
  },
  {
   "cell_type": "code",
   "execution_count": null,
   "id": "694be60f",
   "metadata": {},
   "outputs": [],
   "source": [
    "# Visualise Outer London count data distribution by month\n",
    "sns.set_theme(style=\"whitegrid\")\n",
    "from matplotlib.ticker import FormatStrFormatter\n",
    "\n",
    "# Initialise matplotlib fiture\n",
    "f, g = plt.subplots(figsize = (10,5))\n",
    "\n",
    "g=sns.barplot(x = df1['month_name'], y = df1['Total_cycles'])\n",
    "\n",
    "# Add legend and add title etc\n",
    "g.set(ylabel = \"Number of bikes\",\n",
    "     xlabel = \"Month\")\n",
    "g.set_title('Distribution of count data by month in Outer London')\n",
    "sns.despine(left=True, bottom=True)\n",
    "\n",
    "# Show the plot\n",
    "plt.show()\n",
    "\n",
    "# No Data for months not displayed on x axis\n",
    "# Dec, Jan Feb & Mar\n",
    "# Very little data for months where chart displays white bars\n",
    "# White bars in these months mean the count is too small to scale effectively\n",
    "# These months are Aug & Nov\n",
    "# Similar distribution to Inner London"
   ]
  },
  {
   "cell_type": "code",
   "execution_count": null,
   "id": "1135aa27",
   "metadata": {},
   "outputs": [],
   "source": [
    "# Visualise Outer London counts data distribution by day of the week\n",
    "sns.set_theme(style=\"whitegrid\")\n",
    "from matplotlib.ticker import FormatStrFormatter\n",
    "\n",
    "# Initialise matplotlib fiture\n",
    "f, g = plt.subplots(figsize = (10,5))\n",
    "\n",
    "g=sns.barplot(x = df2['Day_of_week'], y = df2['Total_cycles'])\n",
    "\n",
    "# Add legend and add title etc\n",
    "g.set(ylabel = \"Number of bikes\",\n",
    "     xlabel = \"Day of the week\")\n",
    "g.set_title('Distribution of count data by day of the week in Outer London')\n",
    "sns.despine(left=True, bottom=True)\n",
    "\n",
    "# Show the plot\n",
    "plt.show()\n",
    "\n",
    "# Very uneven distribution although counts present every day\n",
    "# Weekends clearly very uneven\n",
    "# Again similar distribution to Inner London"
   ]
  },
  {
   "cell_type": "code",
   "execution_count": null,
   "id": "4b8dbe24",
   "metadata": {},
   "outputs": [],
   "source": [
    "# Visualise Outer London by time of day\n",
    "sns.set_theme(style=\"whitegrid\")\n",
    "from matplotlib.ticker import FormatStrFormatter\n",
    "\n",
    "# Initialise matplotlib fiture\n",
    "f, g = plt.subplots(figsize = (12,5))\n",
    "\n",
    "g=sns.barplot(x = df3['Period'], y = df3['Total_cycles'])\n",
    "\n",
    "# Add legend and add title etc\n",
    "g.set(ylabel = \"Number of bikes\",\n",
    "     xlabel = \"Time of the day\")\n",
    "g.set_title('Distribution of count data by time of the day in Outer London')\n",
    "sns.despine(left=True, bottom=True)\n",
    "\n",
    "# Show the plot\n",
    "plt.show()\n",
    "\n",
    "# Equal"
   ]
  },
  {
   "cell_type": "markdown",
   "id": "a7bd9daf",
   "metadata": {},
   "source": [
    "Central London"
   ]
  },
  {
   "cell_type": "code",
   "execution_count": null,
   "id": "4ac467fc",
   "metadata": {},
   "outputs": [],
   "source": [
    "# Group the data \n",
    "df = central_london.groupby(['year'], as_index=False)['Total_cycles'].count()\n",
    "df1= central_london.groupby(['month_name', 'month'], as_index=False)['Total_cycles'].count()\n",
    "df2 = central_london.groupby(['Day_of_week'], as_index=False)['Total_cycles'].count()\n",
    "df3 = central_london.groupby(['Period', 'Time'], as_index=False)['Total_cycles'].count()"
   ]
  },
  {
   "cell_type": "code",
   "execution_count": null,
   "id": "fabcd945",
   "metadata": {},
   "outputs": [],
   "source": [
    "# Sort values to improve chart presentation\n",
    "df1.sort_values('month', inplace=True)\n",
    "df3.sort_values('Time', inplace=True)"
   ]
  },
  {
   "cell_type": "code",
   "execution_count": null,
   "id": "5a0bdb2a",
   "metadata": {},
   "outputs": [],
   "source": [
    "# Visualise Central London counts data distribution by year\n",
    "sns.set_theme(style=\"whitegrid\")\n",
    "from matplotlib.ticker import FormatStrFormatter\n",
    "\n",
    "# Initialise matplotlib fiture\n",
    "f, g = plt.subplots(figsize = (10,5))\n",
    "\n",
    "g=sns.barplot(x = df['year'], y = df['Total_cycles'])\n",
    "\n",
    "# Add legend and add title etc\n",
    "g.set(ylabel = \"Number of bikes\",\n",
    "     xlabel = \"Year\")\n",
    "g.set_title('Distribution of count data by year in Central London')\n",
    "sns.despine(left=True, bottom=True)\n",
    "\n",
    "# Show the plot\n",
    "plt.show()\n",
    "\n",
    "# Reasonably equal distribution\n",
    "# Except 2020 which again matches Inner London where there is a dip in number of counts too\n",
    "# Therefore during Covid this count service was impacted\n",
    "# Data Collection should be automated"
   ]
  },
  {
   "cell_type": "code",
   "execution_count": null,
   "id": "a89da697",
   "metadata": {},
   "outputs": [],
   "source": [
    "# Visualise Central London count data distribution by month\n",
    "sns.set_theme(style=\"whitegrid\")\n",
    "from matplotlib.ticker import FormatStrFormatter\n",
    "\n",
    "# Initialise matplotlib fiture\n",
    "f, g = plt.subplots(figsize = (10,5))\n",
    "\n",
    "g=sns.barplot(x = df1['month_name'], y = df1['Total_cycles'])\n",
    "\n",
    "# Add legend and add title etc\n",
    "g.set(ylabel = \"Number of bikes\",\n",
    "     xlabel = \"Month\")\n",
    "g.set_title('Distribution of count data by month in Central London')\n",
    "sns.despine(left=True, bottom=True)\n",
    "\n",
    "# Show the plot\n",
    "plt.show()\n",
    "\n",
    "# Unequal distribution\n",
    "# Data missing without any clear pattern\n",
    "# But data is there across all months"
   ]
  },
  {
   "cell_type": "code",
   "execution_count": null,
   "id": "5ab5a354",
   "metadata": {},
   "outputs": [],
   "source": [
    "# Visualise Central London counts data distribution by day of the week\n",
    "sns.set_theme(style=\"whitegrid\")\n",
    "from matplotlib.ticker import FormatStrFormatter\n",
    "\n",
    "# Initialise matplotlib fiture\n",
    "f, g = plt.subplots(figsize = (10,5))\n",
    "\n",
    "g=sns.barplot(x = df2['Day_of_week'], y = df2['Total_cycles'])\n",
    "\n",
    "# Add legend and add title etc\n",
    "g.set(ylabel = \"Number of bikes\",\n",
    "     xlabel = \"Day of the week\")\n",
    "g.set_title('Distribution of count data by day of the week in Central London')\n",
    "sns.despine(left=True, bottom=True)\n",
    "\n",
    "# Show the plot\n",
    "plt.show()\n",
    "\n",
    "# Very uneven distribution although counts present every day\n",
    "# Weekends clearly very uneven\n",
    "# Again similar distribution to Inner & Outer London here"
   ]
  },
  {
   "cell_type": "code",
   "execution_count": null,
   "id": "66b75e4c",
   "metadata": {},
   "outputs": [],
   "source": [
    "# Visualise Central London by time of day\n",
    "sns.set_theme(style=\"whitegrid\")\n",
    "from matplotlib.ticker import FormatStrFormatter\n",
    "\n",
    "# Initialise matplotlib fiture\n",
    "f, g = plt.subplots(figsize = (12,5))\n",
    "\n",
    "g=sns.barplot(x = df3['Period'], y = df3['Total_cycles'])\n",
    "\n",
    "# Add legend and add title etc\n",
    "g.set(ylabel = \"Number of bikes\",\n",
    "     xlabel = \"Time of the day\")\n",
    "g.set_title('Distribution of count data by time of the day in Central London')\n",
    "sns.despine(left=True, bottom=True)\n",
    "\n",
    "# Show the plot\n",
    "plt.show()\n",
    "\n",
    "# Equal"
   ]
  },
  {
   "cell_type": "markdown",
   "id": "174b79a1",
   "metadata": {},
   "source": [
    "Sydney"
   ]
  },
  {
   "cell_type": "code",
   "execution_count": null,
   "id": "92f75246",
   "metadata": {},
   "outputs": [],
   "source": [
    "# Group the data \n",
    "df = sydney_counts.groupby(['Year'], as_index=False)['TotalCount'].count()\n",
    "df1= sydney_counts.groupby(['Month'], as_index=False)['TotalCount'].count()\n",
    "df2 = sydney_counts.groupby(['SiteID'], as_index=False)['TotalCount'].count()"
   ]
  },
  {
   "cell_type": "code",
   "execution_count": null,
   "id": "0581d732",
   "metadata": {},
   "outputs": [],
   "source": [
    "# Sort values to improve chart presentation\n",
    "df.sort_values('Year', inplace=True)\n",
    "df1.sort_values('Month', inplace=True)"
   ]
  },
  {
   "cell_type": "code",
   "execution_count": null,
   "id": "4ef1a2f9",
   "metadata": {
    "scrolled": true
   },
   "outputs": [],
   "source": [
    "# Visualise Sydney counts data distribution by year\n",
    "sns.set_theme(style=\"whitegrid\")\n",
    "from matplotlib.ticker import FormatStrFormatter\n",
    "\n",
    "# Initialise matplotlib fiture\n",
    "f, g = plt.subplots(figsize = (10,5))\n",
    "\n",
    "g=sns.barplot(x = df['Year'], y = df['TotalCount'])\n",
    "\n",
    "# Add legend and add title etc\n",
    "g.set(ylabel = \"Number of bikes\",\n",
    "     xlabel = \"Year\")\n",
    "g.set_title('Distribution of count data by year in Sydney')\n",
    "sns.despine(left=True, bottom=True)\n",
    "\n",
    "# Show the plot\n",
    "plt.show()\n",
    "\n",
    "# Sydney very consistent until 2017\n",
    "# Sudden drop in count of counts after then\n",
    "# What happened? Why did Sydney stop counting?\n",
    "# Pick up of count data in Sydnet again 2019 \n",
    "# Again pretty uniform albeit consistenly fewer counts compared to pre-2018\n",
    "# Was there a policy shift in 2018 w.r.t. cycling & thus resources pointed towards counting?"
   ]
  },
  {
   "cell_type": "code",
   "execution_count": null,
   "id": "27662e3d",
   "metadata": {},
   "outputs": [],
   "source": [
    "# Visualise Sydney count data distribution by month\n",
    "sns.set_theme(style=\"whitegrid\")\n",
    "from matplotlib.ticker import FormatStrFormatter\n",
    "\n",
    "# Initialise matplotlib fiture\n",
    "f, g = plt.subplots(figsize = (10,5))\n",
    "\n",
    "g=sns.barplot(x = df1['Month'], y = df1['TotalCount'])\n",
    "\n",
    "# Add legend and add title etc\n",
    "g.set(ylabel = \"Number of bikes\",\n",
    "     xlabel = \"Month\")\n",
    "g.set_title('Distribution of count data by month in Sydney')\n",
    "sns.despine(left=True, bottom=True)\n",
    "\n",
    "# Show the plot\n",
    "plt.show()\n",
    "\n",
    "# Equally distributed"
   ]
  },
  {
   "cell_type": "markdown",
   "id": "87883d92",
   "metadata": {},
   "source": [
    "## Data Imputation or Deletion"
   ]
  },
  {
   "cell_type": "code",
   "execution_count": null,
   "id": "a87c9181",
   "metadata": {},
   "outputs": [],
   "source": [
    "# New York & London have similar missingness\n",
    "# Only gap is weekend data\n",
    "# Strip New York of all weekend data\n",
    "# Will then allow direct comparison between the cities\n",
    "# Must return to this after lo-fi to revisit deletion vs imputation\n",
    "# Should test for type of missing data: most of the missingness has clear patterns \n",
    "# Such as missing data on weekends or some months only means MAR\n",
    "# Some of the unevenness of data is also MCAR such as unevenesss between months in New York\n",
    "# Most of the missing data in London is MAR\n",
    "# Sydney needs analysis too; most likely MAR but need to do background research\n",
    "# Given most of the data is MAR, statistical theory suggests imputation as resolution\n",
    "# Group unclear/uncomfortable with imputation given no one is a subject matter expert on cycling data\n",
    "# Assumptions therefore could be incorrect or create unintended bias.\n",
    "# Need to decide imputation method- simple such as mode or interpolation vs complex such as Mutliple Imputation\n",
    "# For now decision is to delete data to create more comparable data sets.\n",
    "# Need to revisit this again post lo-fi"
   ]
  },
  {
   "cell_type": "code",
   "execution_count": null,
   "id": "74be18a8",
   "metadata": {},
   "outputs": [],
   "source": [
    "# Drop all rows in New York Count where day of the week is saturday or sunday\n",
    "# This will align to fact London has no weekend data\n",
    "# Generates a more like for like comparison between New York and London\n",
    "# Drop rows containing Saturday or Sunday in day_of_week\n",
    "ny_counts = ny_counts[ny_counts[\"day_of_week\"].str.contains(\"Saturday|Sunday\") == False]"
   ]
  },
  {
   "cell_type": "code",
   "execution_count": null,
   "id": "d9aa3907",
   "metadata": {},
   "outputs": [],
   "source": [
    "# Saving the DataFrames to csv\n",
    "ny_counts.to_csv('ny_counts_Saurav_151022.csv')\n",
    "sydney_counts.to_csv('sydney_counts_Saurav_071022.csv')\n",
    "\n",
    "# Data now is cleaned\n",
    "# Data will be saved\n",
    "# No outlier detection carried\n",
    "# Data is assumed to be ok but again we should test for this ahead of final presentation\n",
    "# If further analysis doesnt obviously make sense will return for outlier detection"
   ]
  },
  {
   "cell_type": "markdown",
   "id": "8f37406a",
   "metadata": {},
   "source": [
    "## Merging DataFrames"
   ]
  },
  {
   "cell_type": "markdown",
   "id": "83937476",
   "metadata": {},
   "source": [
    "### Concatenate London DataFrames"
   ]
  },
  {
   "cell_type": "code",
   "execution_count": null,
   "id": "16632340",
   "metadata": {},
   "outputs": [],
   "source": [
    "# Merging London Dataframes first to check output as this is the base Df. \n",
    "london = pd.concat([outer_london, central_london, inner_london])"
   ]
  },
  {
   "cell_type": "code",
   "execution_count": null,
   "id": "cf67e162",
   "metadata": {},
   "outputs": [],
   "source": [
    "# View Metadata\n",
    "london.info()\n",
    "\n",
    "# London rows all add up correctly so merge is successful. \n",
    "# Expecting some null values now as inner and central london dfs didnt have gender info\n",
    "# Expecting some null values now as outer london df didnt have cycle ownership/rental info"
   ]
  },
  {
   "cell_type": "code",
   "execution_count": null,
   "id": "0bb14a84",
   "metadata": {},
   "outputs": [],
   "source": [
    "# Check missing values\n",
    "london.isnull().sum()\n",
    "\n",
    "# All aligns as expected. \n",
    "# Will drop the 6 rows where period and time has null values\n",
    "# 6 rows being deleted will not impact data with 1.287mio rows and doesnt merit time to investigate these.\n",
    "# Gender & Cycle ownership data was already missing from some of the original data.\n",
    "# The missing rows add up to the sum of the original data where the data was missing"
   ]
  },
  {
   "cell_type": "code",
   "execution_count": null,
   "id": "40c243de",
   "metadata": {},
   "outputs": [],
   "source": [
    "# Dropping the 6 rows where missing values in Time column\n",
    "london = london.dropna(subset=['Time'])"
   ]
  },
  {
   "cell_type": "code",
   "execution_count": null,
   "id": "539dca72",
   "metadata": {},
   "outputs": [],
   "source": [
    "# Merging the Count Data from london with spatial data\n",
    "# Pull in the Spatial data\n",
    "bike_site = pd.read_excel(\"London_Biking_sites_reconv.xlsx\")\n",
    "\n",
    "# Contains additional data \n",
    "# The base data's spatial information has been converted into Longtitude & Latitude"
   ]
  },
  {
   "cell_type": "code",
   "execution_count": null,
   "id": "102dd15f",
   "metadata": {},
   "outputs": [],
   "source": [
    "# Look at Metadata\n",
    "bike_site.info()"
   ]
  },
  {
   "cell_type": "code",
   "execution_count": null,
   "id": "81d61e44",
   "metadata": {},
   "outputs": [],
   "source": [
    "# Check for duplicates in bike sites info\n",
    "duplicateRowsDF_bike_sites = bike_site[bike_site.duplicated()]"
   ]
  },
  {
   "cell_type": "code",
   "execution_count": null,
   "id": "979c3b5c",
   "metadata": {},
   "outputs": [],
   "source": [
    "# View output from duplicate check\n",
    "print(duplicateRowsDF_bike_sites)\n",
    "\n",
    "# No duplicate values in bike sites info"
   ]
  },
  {
   "cell_type": "code",
   "execution_count": null,
   "id": "fd9e2991",
   "metadata": {},
   "outputs": [],
   "source": [
    "# Check missing values\n",
    "bike_site.isnull().sum()\n",
    "\n",
    "# Two rows with missing values\n",
    "# Again give size of dataset these can be dropped without further investigation"
   ]
  },
  {
   "cell_type": "code",
   "execution_count": null,
   "id": "ef39a81e",
   "metadata": {},
   "outputs": [],
   "source": [
    "# View Data Sample\n",
    "bike_site.sample(5)"
   ]
  },
  {
   "cell_type": "code",
   "execution_count": null,
   "id": "8497931a",
   "metadata": {},
   "outputs": [],
   "source": [
    "# Renaming Column on spatial data to align with Count Data\n",
    "bike_site.rename(columns = {\"UnqID\": \"Site_ID\"},inplace=True)"
   ]
  },
  {
   "cell_type": "code",
   "execution_count": null,
   "id": "4747d45d",
   "metadata": {},
   "outputs": [],
   "source": [
    "# Rename columns to remove space in column names\n",
    "bike_site.columns = bike_site.columns.str.replace(' ','_')"
   ]
  },
  {
   "cell_type": "code",
   "execution_count": null,
   "id": "dc3552a9",
   "metadata": {},
   "outputs": [],
   "source": [
    "# Dropping the 2 missing value rows previously identified\n",
    "bike_site = bike_site.dropna(subset=['Functional_cycling_area'])"
   ]
  },
  {
   "cell_type": "code",
   "execution_count": null,
   "id": "de2cd4ee",
   "metadata": {},
   "outputs": [],
   "source": [
    "# Merge the dataframes\n",
    "dfs = [bike_site, london]\n",
    "london_complete = ft.reduce(lambda left, right: pd.merge(left, right, on='Site_ID'), dfs)"
   ]
  },
  {
   "cell_type": "code",
   "execution_count": null,
   "id": "a17b88e9",
   "metadata": {},
   "outputs": [],
   "source": [
    "# Check for duplicates in merged Df \n",
    "# Merged Df created using new library\n",
    "duplicateRowsDF_london_complete = london_complete[london_complete.duplicated()]"
   ]
  },
  {
   "cell_type": "code",
   "execution_count": null,
   "id": "20f1355d",
   "metadata": {},
   "outputs": [],
   "source": [
    "# View output of duplicate check\n",
    "print(duplicateRowsDF_london_complete)\n",
    "\n",
    "# Can see no new duplicates created as a result of the merge\n",
    "# Supports that merge is successful"
   ]
  },
  {
   "cell_type": "code",
   "execution_count": null,
   "id": "878427be",
   "metadata": {},
   "outputs": [],
   "source": [
    "# View Metadata of combined df\n",
    "london_complete.info()"
   ]
  },
  {
   "cell_type": "code",
   "execution_count": null,
   "id": "36261782",
   "metadata": {},
   "outputs": [],
   "source": [
    "# View Sample\n",
    "london_complete.head(5)"
   ]
  },
  {
   "cell_type": "code",
   "execution_count": null,
   "id": "a0a3857d",
   "metadata": {},
   "outputs": [],
   "source": [
    "# Check if Site ID & Prog ID are identical on string test.\n",
    "# Strip integers from SiteID into a column containing just the string values\n",
    "london_complete['Id_Check']= london_complete['Site_ID'].str.replace('\\d+', '')\n",
    "# View Sample\n",
    "london_complete.sample(5)"
   ]
  },
  {
   "cell_type": "code",
   "execution_count": null,
   "id": "5cc7a920",
   "metadata": {},
   "outputs": [],
   "source": [
    "# Check the stripped strings for match with ProgID\n",
    "# If no match, output into new column will be FALSE\n",
    "london_complete['Equality_Test'] = london_complete['Id_Check'].equals(london_complete['ProgID'])\n",
    "\n",
    "# Isolating the different unique values in this column\n",
    "uniqueValues = london_complete['Equality_Test'].nunique()\n",
    "\n",
    "# Displaying the number of  unique values\n",
    "print(london_complete[\"Equality_Test\"].unique())\n",
    "\n",
    "# Established that ProgID (which contains strings only) is duplicate of Site_ID\n",
    "# ProgID can be dropped"
   ]
  },
  {
   "cell_type": "code",
   "execution_count": null,
   "id": "f28bdba8",
   "metadata": {},
   "outputs": [],
   "source": [
    "# Remove overlapping spatial data\n",
    "london_complete = london_complete.drop(['ProgID', 'Easting', 'Northing', 'Location_y', 'Id_Check',\n",
    "                                       'Equality_Test'], axis=1)"
   ]
  },
  {
   "cell_type": "code",
   "execution_count": null,
   "id": "aba207b0",
   "metadata": {},
   "outputs": [],
   "source": [
    "london_complete.head(3)"
   ]
  },
  {
   "cell_type": "code",
   "execution_count": null,
   "id": "ab3adbc4",
   "metadata": {},
   "outputs": [],
   "source": [
    "# Change all column names to lower case to ease recalling them for analysis\n",
    "london_complete = london_complete.rename(columns=str.lower)"
   ]
  },
  {
   "cell_type": "code",
   "execution_count": null,
   "id": "51ee0edd",
   "metadata": {},
   "outputs": [],
   "source": [
    "# Rename some columns to more logical names without changing underlying data dictionary\n",
    "london_complete = london_complete.rename(columns={'location_x': 'location', 'survey_wave_(year)': 'survey_year'})"
   ]
  },
  {
   "cell_type": "code",
   "execution_count": null,
   "id": "f0f29c4f",
   "metadata": {},
   "outputs": [],
   "source": [
    "# Drop all rows with duplicate values\n",
    "london_complete.drop_duplicates()\n",
    "\n",
    "# All duplicate rows dropped\n",
    "# Returns the number of rows expected\n",
    "# Data now is cleaned\n",
    "# Data will be saved\n",
    "# No outlier detection carried out as data sourced from Tfl and was presented semi wrangled\n",
    "# If further analysis doesnt obviously make sense will return for outlier detection"
   ]
  },
  {
   "cell_type": "code",
   "execution_count": null,
   "id": "f6b9e6df",
   "metadata": {},
   "outputs": [],
   "source": [
    "# Count unique values in each column\n",
    "for col in london_complete:\n",
    "  print(col,\": \", london_complete[col].nunique())\n",
    "\n",
    "# Survey data over 8 years\n",
    "# Across 1258 counters\n",
    "# Across 1188 streets\n",
    "# Across 33 boroughs in London"
   ]
  },
  {
   "cell_type": "code",
   "execution_count": null,
   "id": "38923748",
   "metadata": {},
   "outputs": [],
   "source": [
    "# Store the combined dataframe as a new CSV for backup\n",
    "london_complete.to_csv('london_count_and_site_Saurav_111022.csv')"
   ]
  },
  {
   "cell_type": "markdown",
   "id": "bee6ef30",
   "metadata": {},
   "source": [
    "##### Beggining of Atif's Code"
   ]
  },
  {
   "cell_type": "markdown",
   "id": "97fac3d3",
   "metadata": {},
   "source": [
    "# Data Analysis London Dataset"
   ]
  },
  {
   "cell_type": "markdown",
   "id": "177a576c",
   "metadata": {},
   "source": [
    "## Central London Data analysis"
   ]
  },
  {
   "cell_type": "code",
   "execution_count": null,
   "id": "161356ef",
   "metadata": {},
   "outputs": [],
   "source": [
    "# Viewing London Data before analysis\n",
    "london_complete.head(3)"
   ]
  },
  {
   "cell_type": "code",
   "execution_count": null,
   "id": "a1182aca",
   "metadata": {},
   "outputs": [],
   "source": [
    "# Viewing London Data before analysis\n",
    "london_complete.info()"
   ]
  },
  {
   "cell_type": "code",
   "execution_count": null,
   "id": "f2ee2406",
   "metadata": {},
   "outputs": [],
   "source": [
    "# Function for allocating 'month name' to a 'month number' for visualization purposes \n",
    "def func(a):\n",
    "    if  a == 1:\n",
    "        return 'Jan'\n",
    "    elif a == 2:\n",
    "        return 'Feb'\n",
    "    elif a == 3:\n",
    "        return 'Mar'\n",
    "    elif a == 4:\n",
    "        return 'Apr'\n",
    "    elif a == 5:\n",
    "        return 'May'\n",
    "    elif a == 6:\n",
    "        return 'Jun'\n",
    "    elif a == 7:\n",
    "        return 'Jul'\n",
    "    elif a == 8:\n",
    "        return 'Aug'\n",
    "    elif a == 9:\n",
    "        return 'Sept'\n",
    "    elif a == 10:\n",
    "        return 'Oct'\n",
    "    elif a == 11:\n",
    "        return 'Nov'\n",
    "    elif a == 12:\n",
    "        return 'Dec'\n",
    "    \n",
    "# Applying the function to the London dataframe    \n",
    "london_complete['month_name'] = london_complete['month'].apply(func)"
   ]
  },
  {
   "cell_type": "code",
   "execution_count": null,
   "id": "c1efd735",
   "metadata": {},
   "outputs": [],
   "source": [
    "# Removing Saturday and Sunday from the dataset\n",
    "# Sat and Sun has been removed for normalization purposes as Inner/Outer London dataset/\n",
    "# doesnt have sufficient data for the weekends\n",
    "london_complete = london_complete[london_complete[\"day_of_week\"].str.contains(\"Saturday|Sunday\") == False]"
   ]
  },
  {
   "cell_type": "code",
   "execution_count": null,
   "id": "79b6bdf5",
   "metadata": {},
   "outputs": [],
   "source": [
    "# Verifying dataset and chekcing if variables have been filtered out\n",
    "london_complete.nunique()"
   ]
  },
  {
   "cell_type": "code",
   "execution_count": null,
   "id": "6d22147d",
   "metadata": {},
   "outputs": [],
   "source": [
    "# Filtering out only Central London from the London_complete Dataset\n",
    "cent_lon = london_complete[london_complete[\"functional_cycling_area\"].str.contains(\"Outer|Inner\") == False]"
   ]
  },
  {
   "cell_type": "markdown",
   "id": "b74f9a6f",
   "metadata": {},
   "source": [
    "### a. Central London Cycling Trends (Annual)"
   ]
  },
  {
   "cell_type": "code",
   "execution_count": null,
   "id": "24ab99b2",
   "metadata": {},
   "outputs": [],
   "source": [
    "# Grouping w.r.t Year and summing up the Total Number of Cycles\n",
    "# This will show cycling trend in Central London over the years\n",
    "\n",
    "cent_lon_year_total_grpby = cent_lon.groupby([\"survey_year\"], \n",
    "                                             as_index=False)['total_cycles'].sum()"
   ]
  },
  {
   "cell_type": "code",
   "execution_count": null,
   "id": "6bac3b41",
   "metadata": {},
   "outputs": [],
   "source": [
    "# Converting total number of cycle sum to two digit float for easy comprehension of visualizations\n",
    "cent_lon_year_total_grpby['grand_cycle_total_(mil)'] = (cent_lon_year_total_grpby['total_cycles']/1000000)\n",
    "\n",
    "# Plotting \n",
    "\n",
    "sns.lineplot(data=cent_lon_year_total_grpby, \n",
    "             x=\"survey_year\", \n",
    "             y=\"grand_cycle_total_(mil)\", \n",
    "             color=\"blue\", markers=True)\n",
    "\n",
    "# Plot Attributes\n",
    "sns.set(rc = {'figure.figsize':(15,8)})\n",
    "plt.title(\"Central London Cycling Trends over the years (2014 - 2021)\", fontsize=30, color=\"blue\")\n",
    "plt.xlabel(\"Year\", fontsize=20, color=\"darkblue\" )\n",
    "plt.ylabel(\"Total No. of Cycles (mil)\", fontsize=20, color=\"darkblue\")\n",
    "plt.tick_params(labelsize=15)"
   ]
  },
  {
   "cell_type": "markdown",
   "id": "97112b4b",
   "metadata": {},
   "source": [
    "### b. Central London Cycling Trends (Monthly)"
   ]
  },
  {
   "cell_type": "markdown",
   "id": "eec5cc40",
   "metadata": {},
   "source": [
    "<div class=\"alert-info\">\n",
    "\n",
    "##### Remarks: Central London Dataset was segregated into Pre-Covid, Covid and Post-Covid time periods\n",
    "\n",
    "</div>"
   ]
  },
  {
   "cell_type": "markdown",
   "id": "da6492d6",
   "metadata": {},
   "source": [
    "#### b.1 Pre-Covid Cycling Trend"
   ]
  },
  {
   "cell_type": "code",
   "execution_count": null,
   "id": "8e64a61d",
   "metadata": {},
   "outputs": [],
   "source": [
    "# Grouping by 'Months' and summing total cycling count for Central London \n",
    "# To oberserve monthly cycling trends \n",
    "cent_lon_month_tot = cent_lon.groupby([\"survey_year\",\"month_name\", \"month\"], \n",
    "                                             as_index=False)['total_cycles'].sum()"
   ]
  },
  {
   "cell_type": "code",
   "execution_count": null,
   "id": "01982ad3",
   "metadata": {},
   "outputs": [],
   "source": [
    "# Filtering Pre-Covid Time period\n",
    "cent_lon_month_tot_precovid = cent_lon_month_tot[(cent_lon_month_tot['survey_year'] <2020)]\n",
    "\n",
    "# Sorting according to the month, otherwise visualization allocates random postions to months\n",
    "cent_lon_month_tot_precovid = cent_lon_month_tot_precovid.sort_values(by=['survey_year','month'], ascending=True)"
   ]
  },
  {
   "cell_type": "code",
   "execution_count": null,
   "id": "c239f09a",
   "metadata": {
    "scrolled": true
   },
   "outputs": [],
   "source": [
    "# Pivoting to view the data in a summarized form \n",
    "cent_lon_month_tot_precovid_piv = cent_lon_month_tot_precovid.pivot(index='survey_year', \n",
    "                                  columns='month_name', \n",
    "                                  values='total_cycles')\n",
    "\n",
    "# Viewing the summary\n",
    "cent_lon_month_tot_precovid_piv"
   ]
  },
  {
   "cell_type": "code",
   "execution_count": null,
   "id": "e93d409e",
   "metadata": {},
   "outputs": [],
   "source": [
    "# Converting number of cycles into thousands for feasible graph comprehension\n",
    "cent_lon_month_tot_precovid['total_in_thousands'] = (cent_lon_month_tot_precovid['total_cycles']/1000)\n",
    "\n",
    "# Taking average of Months over 8 years\n",
    "cent_lon_month_tot_precovid['total_in_thousands'] = cent_lon_month_tot_precovid['total_in_thousands']/8\n",
    "\n",
    "# Plotting the Graph\n",
    "sns.lineplot(data=cent_lon_month_tot_precovid, x=\"month_name\", y=\"total_in_thousands\", color=\"blue\", markers=True)\n",
    "sns.set(rc={\"figure.figsize\":(30, 10)})\n",
    "plt.title(\"Central London average cycling trends over the months (2014 - 2019) Pre-Covid\", fontsize=30, color=\"blue\")\n",
    "plt.xlabel(\"Month\", fontsize=25, color=\"darkblue\" )\n",
    "plt.ylabel(\"Total No. of Cycles ('000s)\", fontsize=25, color=\"darkblue\")\n",
    "plt.tick_params(labelsize=20)"
   ]
  },
  {
   "cell_type": "markdown",
   "id": "1549662e",
   "metadata": {},
   "source": [
    "#### b.2 Cycling Trend during Covid (2020)"
   ]
  },
  {
   "cell_type": "code",
   "execution_count": null,
   "id": "62b35899",
   "metadata": {},
   "outputs": [],
   "source": [
    "# Filtering Covid Time period (2020)\n",
    "cent_lon_month_tot_covid = cent_lon_month_tot[(cent_lon_month_tot['survey_year'] == 2020)]"
   ]
  },
  {
   "cell_type": "code",
   "execution_count": null,
   "id": "8f07fd01",
   "metadata": {},
   "outputs": [],
   "source": [
    "# Sorting values according to the month\n",
    "# Have to do it in a seperate cell as, \n",
    "# sometimes, for reasons unknown, sorting doesnt get executed with other code\n",
    "cent_lon_month_tot_covid = cent_lon_month_tot_covid.sort_values(by=['month'], ascending=True)"
   ]
  },
  {
   "cell_type": "code",
   "execution_count": null,
   "id": "57da22c6",
   "metadata": {},
   "outputs": [],
   "source": [
    "# Converting number of cycles into thousands for feasible graph comprehension\n",
    "cent_lon_month_tot_covid['total_in_thousands'] = (cent_lon_month_tot_covid['total_cycles']/1000)\n",
    "\n",
    "\n",
    "# Plotting the Graph\n",
    "\n",
    "sns.lineplot(data=cent_lon_month_tot_covid, x=\"month_name\", y=\"total_in_thousands\", color=\"blue\", markers=True)\n",
    "sns.set(rc={\"figure.figsize\":(30, 10)})\n",
    "plt.title(\"Central London average cycling trends during Covid (2020)\", fontsize=30, color=\"blue\")\n",
    "plt.xlabel(\"Month\", fontsize=25, color=\"darkblue\" )\n",
    "plt.ylabel(\"Total No. of Cycles ('000s)\", fontsize=25, color=\"darkblue\")\n",
    "plt.tick_params(labelsize=20)"
   ]
  },
  {
   "cell_type": "markdown",
   "id": "50c845e3",
   "metadata": {},
   "source": [
    "#### b.3 Cycling Trend during Post-Covid (2021)"
   ]
  },
  {
   "cell_type": "code",
   "execution_count": null,
   "id": "acb3b0c7",
   "metadata": {},
   "outputs": [],
   "source": [
    "# Filtering Covid Time period (2021)\n",
    "cent_lon_month_tot_postcovid = cent_lon_month_tot[(cent_lon_month_tot['survey_year'] == 2021)]"
   ]
  },
  {
   "cell_type": "code",
   "execution_count": null,
   "id": "5de0dd70",
   "metadata": {},
   "outputs": [],
   "source": [
    "# Sorting values according to the month\n",
    "# Have to do it in a seperate cell as, \n",
    "# sometimes, for reasons unknown, sorting doesnt get executed with other code\n",
    "\n",
    "cent_lon_month_tot_postcovid = cent_lon_month_tot_postcovid.sort_values(by=['month'], ascending=True)\n",
    "\n",
    "# Viewing the dataframe\n",
    "cent_lon_month_tot_postcovid"
   ]
  },
  {
   "cell_type": "code",
   "execution_count": null,
   "id": "35a52176",
   "metadata": {},
   "outputs": [],
   "source": [
    "# Converting number of cycles into thousands for feasible graph comprehension\n",
    "cent_lon_month_tot_postcovid['total_in_thousands'] = (cent_lon_month_tot_postcovid['total_cycles']/1000)\n",
    "\n",
    "# Plotting the Graph\n",
    "\n",
    "sns.lineplot(data=cent_lon_month_tot_postcovid, x=\"month_name\", y=\"total_in_thousands\", color=\"blue\", markers=True)\n",
    "sns.set(rc={\"figure.figsize\":(30, 10)})\n",
    "plt.title(\"Central London average cycling trend (2021) Post-Covid\", fontsize=30, color=\"blue\")\n",
    "plt.xlabel(\"Month\", fontsize=25, color=\"darkblue\" )\n",
    "plt.ylabel(\"Total No. of Cycles ('000s)\", fontsize=25, color=\"darkblue\")\n",
    "plt.tick_params(labelsize=20)"
   ]
  },
  {
   "cell_type": "markdown",
   "id": "ea732b35",
   "metadata": {},
   "source": [
    "### c. Central London Cycling Trends (Seasons)"
   ]
  },
  {
   "cell_type": "code",
   "execution_count": null,
   "id": "79d229fd",
   "metadata": {},
   "outputs": [],
   "source": [
    "# Grouping by seasons to observe any patterns\n",
    "cent_lon_seasons = cent_lon.groupby([\"survey_year\",\"season\"], \n",
    "                                             as_index=False)['total_cycles'].sum()"
   ]
  },
  {
   "cell_type": "code",
   "execution_count": null,
   "id": "28987fdd",
   "metadata": {},
   "outputs": [],
   "source": [
    "# Converting number of cycles into thousands for feasible graph comprehension\n",
    "cent_lon_seasons['total_in_thousands'] = (cent_lon_seasons['total_cycles']/1000)\n",
    "\n",
    "\n",
    "# Plotting the Graph\n",
    "\n",
    "sns.lineplot(data=cent_lon_seasons, x=\"season\", y=\"total_in_thousands\", color=\"blue\", markers=True)\n",
    "sns.set(rc={\"figure.figsize\":(30, 10)})\n",
    "plt.title(\"Central London average cycling trends over the seasons\", fontsize=30, color=\"blue\")\n",
    "plt.xlabel(\"Month\", fontsize=20, color=\"darkblue\" )\n",
    "plt.ylabel(\"Total No. of Cycles (Thousands)\", fontsize=20, color=\"darkblue\")\n",
    "plt.tick_params(labelsize=20)\n",
    "\n"
   ]
  },
  {
   "cell_type": "markdown",
   "id": "93b3593e",
   "metadata": {},
   "source": [
    "#### d. Cycling Trends months vs  weather"
   ]
  },
  {
   "cell_type": "code",
   "execution_count": null,
   "id": "2c11087f",
   "metadata": {},
   "outputs": [],
   "source": [
    "# Grouping by weather type and months to observe any patterns\n",
    "cent_lon_weather_months = cent_lon.groupby([\"month\",\"weather\"], \n",
    "                                             as_index=False)['total_cycles'].sum()"
   ]
  },
  {
   "cell_type": "code",
   "execution_count": null,
   "id": "c001782f",
   "metadata": {},
   "outputs": [],
   "source": [
    "# Pivoting to summarize data\n",
    "cent_lon_weather_months_piv = cent_lon_weather_months.pivot(index='weather', \n",
    "                                  columns='month', \n",
    "                                  values='total_cycles')"
   ]
  },
  {
   "cell_type": "markdown",
   "id": "66d06ca1",
   "metadata": {},
   "source": [
    "#### e. Cycling trends during different conditions"
   ]
  },
  {
   "cell_type": "code",
   "execution_count": null,
   "id": "1049c870",
   "metadata": {},
   "outputs": [],
   "source": [
    "# Grouping by weather and season to observe any patterns\n",
    "cent_lon_seasons = cent_lon.groupby([\"season\",\"weather\"], \n",
    "                                             as_index=False)['total_cycles'].sum()"
   ]
  },
  {
   "cell_type": "code",
   "execution_count": null,
   "id": "b467586c",
   "metadata": {},
   "outputs": [],
   "source": [
    "# Need to import gapminder for the visualization\n",
    "from gapminder import gapminder \n",
    "\n",
    "# Control figure size for this notebook:\n",
    "plt.rcParams['figure.figsize'] = [8, 8]\n",
    "\n",
    "# data \n",
    "data = cent_lon_seasons\n",
    " \n",
    "# use the scatterplot function to build the bubble map\n",
    "ax = sns.scatterplot(data=data, \n",
    "                x=\"season\", \n",
    "                y=\"weather\", \n",
    "                size=\"total_cycles\", \n",
    "                legend=False, \n",
    "                sizes=(30, 1000))\n",
    "\n",
    "ax.set_xlabel(\"Seasons\", fontsize=20)\n",
    "ax.set_ylabel(\"Weather\", fontsize=20)\n",
    "ax.set_title(\"Central London cycling trend during different weather conditions\", fontsize=20)\n",
    "ax.yaxis.set_tick_params(labelsize = 15)\n",
    "ax.xaxis.set_tick_params(labelsize = 15)\n",
    "\n",
    "\n",
    "\n",
    "# show the graph\n",
    "plt.show()"
   ]
  },
  {
   "cell_type": "markdown",
   "id": "13c47fe4",
   "metadata": {},
   "source": [
    "#### f. Cycling Trends during different periods of the day"
   ]
  },
  {
   "cell_type": "code",
   "execution_count": null,
   "id": "61d63ac9",
   "metadata": {},
   "outputs": [],
   "source": [
    "cent_lon_period = cent_lon.groupby([\"season\",\"period\"], \n",
    "                                             as_index=False)['total_cycles'].sum()"
   ]
  },
  {
   "cell_type": "code",
   "execution_count": null,
   "id": "3e63574e",
   "metadata": {},
   "outputs": [],
   "source": [
    "# function for assigning rank to Period of the day for sorting\n",
    "def f(x):\n",
    "     if (x == \"Early Morning (06:00-07:00)\"):\n",
    "            return '0'\n",
    "    \n",
    "     elif (x == \"AM peak (07:00-10:00)\"):\n",
    "            return '1'\n",
    "    \n",
    "     elif (x == \"Inter-peak (10:00-16:00)\"):\n",
    "            return'2'\n",
    "    \n",
    "     elif (x == \"PM peak (16:00-19:00)\"):\n",
    "            return '3'\n",
    "    \n",
    "     elif (x == \"Evening (19:00-22:00)\"):\n",
    "            return'4'\n",
    "\n",
    "# Apply user defined function to create new column with seasons\n",
    "cent_lon_period['period_rank'] = cent_lon_period['period'].apply(f) "
   ]
  },
  {
   "cell_type": "code",
   "execution_count": null,
   "id": "b09139c3",
   "metadata": {},
   "outputs": [],
   "source": [
    "# Converting number of cycles into thousands for feasible graph comprehension\n",
    "cent_lon_period['total_cycles'] = cent_lon_period['total_cycles']/1000\n",
    "\n",
    "# Sorting the values according to period rank\n",
    "# Otherwise Periods will appear at random on the graph\n",
    "cent_lon_period = cent_lon_period.sort_values(by='period_rank', ascending=True)\n",
    "\n",
    "ax = sns.catplot(\n",
    "    data=cent_lon_period, \n",
    "    kind=\"bar\",\n",
    "    x= \"total_cycles\",\n",
    "    y= \"period\", \n",
    "    alpha=0.9, \n",
    "    height=15,\n",
    "    legend=False,\n",
    "    palette='dark',\n",
    "    ci = None\n",
    "    )\n",
    "\n",
    "sns.set_theme(style=\"whitegrid\")\n",
    "plt.title(\"Central London cycling trends for period of the day (2015 - 2021)\", fontsize=40)\n",
    "plt.xlabel(\"No. of cycles ( '000s )\", fontsize=30)\n",
    "plt.ylabel(\"Period of the Day\", fontsize=30)\n",
    "plt.xticks(rotation = 360)\n",
    "plt.tick_params(labelsize=25)\n"
   ]
  },
  {
   "cell_type": "markdown",
   "id": "5a88535e",
   "metadata": {},
   "source": [
    "#### g. Central London Day of the week cycling Patterns "
   ]
  },
  {
   "cell_type": "code",
   "execution_count": null,
   "id": "e5f2b852",
   "metadata": {
    "scrolled": true
   },
   "outputs": [],
   "source": [
    "# Grouping according to day of the week\n",
    "cent_lon_day = cent_lon.groupby([\"day_of_week\"], \n",
    "                                             as_index=False)['total_cycles'].sum()"
   ]
  },
  {
   "cell_type": "code",
   "execution_count": null,
   "id": "8b4b6563",
   "metadata": {},
   "outputs": [],
   "source": [
    "# Viewing the datafram\n",
    "cent_lon_day\n",
    "# as it is apparent that we donot have enough data/ counts for the weekends, we will not use it for out visualization"
   ]
  },
  {
   "cell_type": "code",
   "execution_count": null,
   "id": "d0358568",
   "metadata": {},
   "outputs": [],
   "source": [
    "# Taking average of number of Cycles for each day of the week\n",
    "cent_lon_day['total_hired_private'] = ((cent_lon_day['total_cycles'])/8)/52"
   ]
  },
  {
   "cell_type": "code",
   "execution_count": null,
   "id": "e251aa33",
   "metadata": {},
   "outputs": [],
   "source": [
    "# function for assigning rank to \n",
    "def f(x):\n",
    "     if (x == \"Monday\"):\n",
    "            return '0'\n",
    "    \n",
    "     elif (x == \"Tuesday\"):\n",
    "            return '1'\n",
    "    \n",
    "     elif (x == \"Wednesday\"):\n",
    "            return'2'\n",
    "    \n",
    "     elif (x == \"Thursday\"):\n",
    "            return '3'\n",
    "    \n",
    "     elif (x == \"Friday\"):\n",
    "            return'4'\n",
    "\n",
    "     elif (x == \"Saturday\"):\n",
    "            return '5'\n",
    "        \n",
    "     elif (x == \"Sunday\"):\n",
    "            return '6'\n",
    "        \n",
    "# Apply user defined function to create new column with day ranking (0 - 6)\n",
    "cent_lon_day['day_rank'] = cent_lon_day['day_of_week'].apply(f) "
   ]
  },
  {
   "cell_type": "code",
   "execution_count": null,
   "id": "80158823",
   "metadata": {},
   "outputs": [],
   "source": [
    "# Sorting the values according to period rank\n",
    "# Otherwise Periods will appear at random on the graph\n",
    "cent_lon_day = cent_lon_day.sort_values(by='day_rank', ascending=True)\n",
    "\n",
    "\n",
    "# Plot\n",
    "ax = sns.catplot(\n",
    "    data=cent_lon_day, \n",
    "    kind=\"bar\",\n",
    "    x= \"day_of_week\", \n",
    "    y= \"total_hired_private\",\n",
    "    alpha=0.9, \n",
    "    height=15,\n",
    "    legend=False,\n",
    "    palette='dark',\n",
    "    )\n",
    "\n",
    "sns.set_theme(style=\"whitegrid\")\n",
    "plt.title(\"Average cycling trends in Central London for each day (2015 - 2021)\", fontsize=30)\n",
    "plt.ylabel(\"No. of cycles\", fontsize=30)\n",
    "plt.xlabel(\"Day of the Week\", fontsize=30)\n",
    "plt.xticks(rotation = 360)\n",
    "plt.tick_params(labelsize=20)\n"
   ]
  },
  {
   "cell_type": "markdown",
   "id": "03e6ddd0",
   "metadata": {},
   "source": [
    "#### h. Central London cycling owneship trends Patterns "
   ]
  },
  {
   "cell_type": "code",
   "execution_count": null,
   "id": "47f4c337",
   "metadata": {},
   "outputs": [],
   "source": [
    "cent_lon.head(3)"
   ]
  },
  {
   "cell_type": "code",
   "execution_count": null,
   "id": "af8c46b2",
   "metadata": {},
   "outputs": [],
   "source": [
    "# Grouping according to day of the week\n",
    "cent_lon_ownership = cent_lon.groupby([\"survey_year\"], \n",
    "                                             as_index=False)[\"number_of_private_cycles\",\"number_of_cycle_hire_bikes\"].sum()"
   ]
  },
  {
   "cell_type": "code",
   "execution_count": null,
   "id": "d41d2a68",
   "metadata": {},
   "outputs": [],
   "source": [
    "# Renaming Columns for easy comprehension and visualizations\n",
    "cent_lon_ownership = cent_lon_ownership.rename(columns={'number_of_private_cycles': 'Private', \n",
    "                                                            'number_of_cycle_hire_bikes': 'Hired'})"
   ]
  },
  {
   "cell_type": "code",
   "execution_count": null,
   "id": "91a5d609",
   "metadata": {
    "scrolled": true
   },
   "outputs": [],
   "source": [
    "# Melt was required for the purpose of getting Private and Hired ownership in one column\n",
    "cent_lon_ownership_melt = cent_lon_ownership.melt(id_vars=[\"survey_year\"],\n",
    "                                  var_name=\"ownership\",\n",
    "                                  value_name=\"count\")\n",
    "\n",
    "cent_lon_ownership_melt "
   ]
  },
  {
   "cell_type": "code",
   "execution_count": null,
   "id": "7f10a0e9",
   "metadata": {},
   "outputs": [],
   "source": [
    "# Dropping 2014 as Inner London dataset doesnt have 2014\n",
    "cent_lon_ownership_melt = cent_lon_ownership_melt.drop(axis=0, index=0)\n",
    "cent_lon_ownership_melt = cent_lon_ownership_melt.drop(axis=0, index=8)"
   ]
  },
  {
   "cell_type": "code",
   "execution_count": null,
   "id": "3266fa5e",
   "metadata": {},
   "outputs": [],
   "source": [
    "cent_lon_ownership_melt['count'] = cent_lon_ownership_melt['count']/1000"
   ]
  },
  {
   "cell_type": "code",
   "execution_count": null,
   "id": "042cb459",
   "metadata": {},
   "outputs": [],
   "source": [
    "# Plotting - Lo' n Behold\n",
    "ax = sns.catplot(\n",
    "    data=cent_lon_ownership_melt, \n",
    "    kind=\"bar\",\n",
    "    x= \"survey_year\", \n",
    "    y= \"count\",\n",
    "    hue=\"ownership\",\n",
    "    alpha=0.9, \n",
    "    height=15,\n",
    "    legend=False,\n",
    "    palette='dark',\n",
    "    )\n",
    "\n",
    "sns.set_theme(style=\"whitegrid\")\n",
    "plt.title(\"Ownership of cycles in Central London (2015 - 2021)\", fontsize=30)\n",
    "plt.ylabel(\"No. of cycles ( '000s )\", fontsize=30)\n",
    "plt.xlabel(\"Year\", fontsize=30)\n",
    "plt.xticks(rotation = 360)\n",
    "plt.legend(fontsize=30, loc=2)\n",
    "plt.tick_params(labelsize=20)"
   ]
  },
  {
   "cell_type": "markdown",
   "id": "ede6e874",
   "metadata": {},
   "source": [
    "### Inner and Outer London Data analysis"
   ]
  },
  {
   "cell_type": "code",
   "execution_count": 1096,
   "id": "6c31742d",
   "metadata": {},
   "outputs": [],
   "source": [
    "# Filtering out Inner & Outer London from the combined dataframe\n",
    "in_out_lon = london_complete[london_complete[\"functional_cycling_area\"].str.contains(\"Central\") == False]"
   ]
  },
  {
   "cell_type": "code",
   "execution_count": 1097,
   "id": "5a497327",
   "metadata": {},
   "outputs": [],
   "source": [
    "# Filtering out May - July as these are the months/\n",
    "# where actual counting takes place for Inner and Outer London\n",
    "in_out_lon = in_out_lon[(in_out_lon['month'] >=4) & (in_out_lon['month'] <=7)]"
   ]
  },
  {
   "cell_type": "markdown",
   "id": "6169c605",
   "metadata": {},
   "source": [
    "#### a. Inner and Outer London Cycling Trends (Annual)"
   ]
  },
  {
   "cell_type": "code",
   "execution_count": 1101,
   "id": "9e4c173a",
   "metadata": {},
   "outputs": [],
   "source": [
    "# Grouping w.r.t Year and summing up the Total Number of Cycles\n",
    "# This will show cycling trend in Inner and outer London over the years\n",
    "\n",
    "in_out_lon_total = in_out_lon.groupby([\"survey_year\"], \n",
    "                                             as_index=False)['total_cycles'].sum()"
   ]
  },
  {
   "cell_type": "code",
   "execution_count": 1102,
   "id": "3144345e",
   "metadata": {
    "scrolled": true
   },
   "outputs": [
    {
     "data": {
      "text/html": [
       "<div>\n",
       "<style scoped>\n",
       "    .dataframe tbody tr th:only-of-type {\n",
       "        vertical-align: middle;\n",
       "    }\n",
       "\n",
       "    .dataframe tbody tr th {\n",
       "        vertical-align: top;\n",
       "    }\n",
       "\n",
       "    .dataframe thead th {\n",
       "        text-align: right;\n",
       "    }\n",
       "</style>\n",
       "<table border=\"1\" class=\"dataframe\">\n",
       "  <thead>\n",
       "    <tr style=\"text-align: right;\">\n",
       "      <th></th>\n",
       "      <th>survey_year</th>\n",
       "      <th>total_cycles</th>\n",
       "    </tr>\n",
       "  </thead>\n",
       "  <tbody>\n",
       "    <tr>\n",
       "      <th>0</th>\n",
       "      <td>2015</td>\n",
       "      <td>528458.0</td>\n",
       "    </tr>\n",
       "    <tr>\n",
       "      <th>1</th>\n",
       "      <td>2016</td>\n",
       "      <td>518332.0</td>\n",
       "    </tr>\n",
       "    <tr>\n",
       "      <th>2</th>\n",
       "      <td>2017</td>\n",
       "      <td>527126.0</td>\n",
       "    </tr>\n",
       "    <tr>\n",
       "      <th>3</th>\n",
       "      <td>2018</td>\n",
       "      <td>544906.0</td>\n",
       "    </tr>\n",
       "    <tr>\n",
       "      <th>4</th>\n",
       "      <td>2019</td>\n",
       "      <td>528533.0</td>\n",
       "    </tr>\n",
       "    <tr>\n",
       "      <th>5</th>\n",
       "      <td>2021</td>\n",
       "      <td>664912.0</td>\n",
       "    </tr>\n",
       "  </tbody>\n",
       "</table>\n",
       "</div>"
      ],
      "text/plain": [
       "   survey_year  total_cycles\n",
       "0         2015      528458.0\n",
       "1         2016      518332.0\n",
       "2         2017      527126.0\n",
       "3         2018      544906.0\n",
       "4         2019      528533.0\n",
       "5         2021      664912.0"
      ]
     },
     "execution_count": 1102,
     "metadata": {},
     "output_type": "execute_result"
    }
   ],
   "source": [
    "in_out_lon_total"
   ]
  },
  {
   "cell_type": "code",
   "execution_count": 1103,
   "id": "c3dc0f7f",
   "metadata": {
    "scrolled": true
   },
   "outputs": [
    {
     "data": {
      "image/png": "[encoded data removed]",
      "text/plain": [
       "<Figure size 1080x576 with 1 Axes>"
      ]
     },
     "metadata": {},
     "output_type": "display_data"
    }
   ],
   "source": [
    "# Converting the total count to thousands for easy comprehension\n",
    "in_out_lon_total['total_cycles'] = in_out_lon_total['total_cycles']/1000\n",
    "\n",
    "#Plot\n",
    "sns.lineplot(data=in_out_lon_total, x=\"survey_year\", y=\"total_cycles\", color=\"blue\", markers=True)\n",
    "\n",
    "sns.set(rc = {'figure.figsize':(15,8)})\n",
    "plt.title(\"Inner & Outer London Cycling Trends over the years (2015 - 2021)\", fontsize=30, color=\"blue\")\n",
    "plt.xlabel(\"Year\", fontsize=20, color=\"darkblue\" )\n",
    "plt.ylabel(\"Total No. of Cycles ('000s)\", fontsize=20, color=\"darkblue\")\n",
    "plt.tick_params(labelsize=15)"
   ]
  },
  {
   "cell_type": "markdown",
   "id": "09e9b368",
   "metadata": {},
   "source": [
    "####  b. Inner and Outer London Cycling Trends (Monthly)"
   ]
  },
  {
   "cell_type": "code",
   "execution_count": 1106,
   "id": "9511b7a1",
   "metadata": {},
   "outputs": [],
   "source": [
    "# Grouping by 'Months' and summing total cycling count for Inner & Outer London \n",
    "# To oberserve monthly cycling trends \n",
    "in_out_lon_month = in_out_lon.groupby([\"survey_year\",\"month\"], \n",
    "                                             as_index=False)['total_cycles'].sum()"
   ]
  },
  {
   "cell_type": "code",
   "execution_count": 1108,
   "id": "6df60bf3",
   "metadata": {},
   "outputs": [
    {
     "data": {
      "text/html": [
       "<div>\n",
       "<style scoped>\n",
       "    .dataframe tbody tr th:only-of-type {\n",
       "        vertical-align: middle;\n",
       "    }\n",
       "\n",
       "    .dataframe tbody tr th {\n",
       "        vertical-align: top;\n",
       "    }\n",
       "\n",
       "    .dataframe thead th {\n",
       "        text-align: right;\n",
       "    }\n",
       "</style>\n",
       "<table border=\"1\" class=\"dataframe\">\n",
       "  <thead>\n",
       "    <tr style=\"text-align: right;\">\n",
       "      <th>month</th>\n",
       "      <th>4</th>\n",
       "      <th>5</th>\n",
       "      <th>6</th>\n",
       "      <th>7</th>\n",
       "    </tr>\n",
       "    <tr>\n",
       "      <th>survey_year</th>\n",
       "      <th></th>\n",
       "      <th></th>\n",
       "      <th></th>\n",
       "      <th></th>\n",
       "    </tr>\n",
       "  </thead>\n",
       "  <tbody>\n",
       "    <tr>\n",
       "      <th>2015</th>\n",
       "      <td>21583</td>\n",
       "      <td>33778</td>\n",
       "      <td>58938</td>\n",
       "      <td>19076</td>\n",
       "    </tr>\n",
       "    <tr>\n",
       "      <th>2016</th>\n",
       "      <td>42550</td>\n",
       "      <td>43592</td>\n",
       "      <td>32470</td>\n",
       "      <td>14892</td>\n",
       "    </tr>\n",
       "    <tr>\n",
       "      <th>2017</th>\n",
       "      <td>12634</td>\n",
       "      <td>51122</td>\n",
       "      <td>40884</td>\n",
       "      <td>27622</td>\n",
       "    </tr>\n",
       "    <tr>\n",
       "      <th>2018</th>\n",
       "      <td>16578</td>\n",
       "      <td>36446</td>\n",
       "      <td>55574</td>\n",
       "      <td>23470</td>\n",
       "    </tr>\n",
       "    <tr>\n",
       "      <th>2019</th>\n",
       "      <td>15484</td>\n",
       "      <td>43018</td>\n",
       "      <td>44316</td>\n",
       "      <td>30411</td>\n",
       "    </tr>\n",
       "    <tr>\n",
       "      <th>2021</th>\n",
       "      <td>27324</td>\n",
       "      <td>57522</td>\n",
       "      <td>42578</td>\n",
       "      <td>20912</td>\n",
       "    </tr>\n",
       "  </tbody>\n",
       "</table>\n",
       "</div>"
      ],
      "text/plain": [
       "month            4      5      6      7\n",
       "survey_year                            \n",
       "2015         21583  33778  58938  19076\n",
       "2016         42550  43592  32470  14892\n",
       "2017         12634  51122  40884  27622\n",
       "2018         16578  36446  55574  23470\n",
       "2019         15484  43018  44316  30411\n",
       "2021         27324  57522  42578  20912"
      ]
     },
     "execution_count": 1108,
     "metadata": {},
     "output_type": "execute_result"
    }
   ],
   "source": [
    "# Pivoting for summarizing data\n",
    "in_out_lon_month_cnt_piv = in_out_lon_month_cnt.pivot(index='survey_year', \n",
    "                                  columns='month', \n",
    "                                  values='total_cycles')\n",
    "\n",
    "in_out_lon_month_cnt_piv"
   ]
  },
  {
   "cell_type": "code",
   "execution_count": 1110,
   "id": "dd882832",
   "metadata": {},
   "outputs": [
    {
     "data": {
      "image/png": "[encoded data removed]",
      "text/plain": [
       "<Figure size 1080x576 with 1 Axes>"
      ]
     },
     "metadata": {},
     "output_type": "display_data"
    }
   ],
   "source": [
    "# Converting number of cycles into thousands for feasible graph comprehension\n",
    "in_out_lon_month['total_in_thousands'] = (in_out_lon_month['total_cycles']/1000)\n",
    "# Taking average of Months over 8 years\n",
    "in_out_lon_month['total_in_thousands'] = in_out_lon_month['total_cycles']/8\n",
    "\n",
    "# Function for allocating 'month name' to a 'month number'  \n",
    "def func(a):\n",
    "    if  a == 1:\n",
    "        return 'Jan'\n",
    "    elif a == 2:\n",
    "        return 'Feb'\n",
    "    elif a == 3:\n",
    "        return 'Mar'\n",
    "    elif a == 4:\n",
    "        return 'Apr'\n",
    "    elif a == 5:\n",
    "        return 'May'\n",
    "    elif a == 6:\n",
    "        return 'Jun'\n",
    "    elif a == 7:\n",
    "        return 'Jul'\n",
    "    elif a == 8:\n",
    "        return 'Aug'\n",
    "    elif a == 9:\n",
    "        return 'Sept'\n",
    "    elif a == 10:\n",
    "        return 'Oct'\n",
    "    elif a == 11:\n",
    "        return 'Nov'\n",
    "    elif a == 12:\n",
    "        return 'Dec'\n",
    "    \n",
    "# Applying the function to the dataframe    \n",
    "in_out_lon_month['month_name'] = in_out_lon_month['month'].apply(func)\n",
    "\n",
    "# Plotting the Graph\n",
    "\n",
    "sns.lineplot(data=in_out_lon_month, x=\"month_name\", y=\"total_in_thousands\")\n",
    "sns.set(rc={\"figure.figsize\":(30, 10)})\n",
    "plt.title(\"Inner & Outer London average cycling trends in Apr - July (2015 - 2019) \", fontsize=30, color=\"blue\")\n",
    "plt.xlabel(\"Month\", fontsize=30, color=\"darkblue\" )\n",
    "plt.ylabel(\"Total No. of Cycles\", fontsize=30, color=\"darkblue\")\n",
    "plt.tick_params(labelsize=20)"
   ]
  },
  {
   "cell_type": "markdown",
   "id": "74985e12",
   "metadata": {},
   "source": [
    "#### c. Cycling trends during different weather conditions"
   ]
  },
  {
   "cell_type": "code",
   "execution_count": 1112,
   "id": "7bda52d3",
   "metadata": {},
   "outputs": [],
   "source": [
    "# Grouping by weather and seasons to observe any patterns\n",
    "in_out_lon_seasons = in_out_lon.groupby([\"season\",\"weather\"], \n",
    "                                             as_index=False)['total_cycles'].sum()"
   ]
  },
  {
   "cell_type": "code",
   "execution_count": 1113,
   "id": "b191c353",
   "metadata": {},
   "outputs": [
    {
     "data": {
      "text/html": [
       "<div>\n",
       "<style scoped>\n",
       "    .dataframe tbody tr th:only-of-type {\n",
       "        vertical-align: middle;\n",
       "    }\n",
       "\n",
       "    .dataframe tbody tr th {\n",
       "        vertical-align: top;\n",
       "    }\n",
       "\n",
       "    .dataframe thead th {\n",
       "        text-align: right;\n",
       "    }\n",
       "</style>\n",
       "<table border=\"1\" class=\"dataframe\">\n",
       "  <thead>\n",
       "    <tr style=\"text-align: right;\">\n",
       "      <th></th>\n",
       "      <th>season</th>\n",
       "      <th>weather</th>\n",
       "      <th>total_cycles</th>\n",
       "    </tr>\n",
       "  </thead>\n",
       "  <tbody>\n",
       "    <tr>\n",
       "      <th>0</th>\n",
       "      <td>Spring</td>\n",
       "      <td>Damp</td>\n",
       "      <td>684.0</td>\n",
       "    </tr>\n",
       "    <tr>\n",
       "      <th>1</th>\n",
       "      <td>Spring</td>\n",
       "      <td>Dangerous_Conditions</td>\n",
       "      <td>4834.0</td>\n",
       "    </tr>\n",
       "    <tr>\n",
       "      <th>2</th>\n",
       "      <td>Spring</td>\n",
       "      <td>Good</td>\n",
       "      <td>1444798.0</td>\n",
       "    </tr>\n",
       "    <tr>\n",
       "      <th>3</th>\n",
       "      <td>Spring</td>\n",
       "      <td>Rain</td>\n",
       "      <td>142868.0</td>\n",
       "    </tr>\n",
       "    <tr>\n",
       "      <th>4</th>\n",
       "      <td>Spring</td>\n",
       "      <td>Unknown</td>\n",
       "      <td>25192.0</td>\n",
       "    </tr>\n",
       "    <tr>\n",
       "      <th>5</th>\n",
       "      <td>Summer</td>\n",
       "      <td>Damp</td>\n",
       "      <td>457.0</td>\n",
       "    </tr>\n",
       "    <tr>\n",
       "      <th>6</th>\n",
       "      <td>Summer</td>\n",
       "      <td>Dangerous_Conditions</td>\n",
       "      <td>3557.0</td>\n",
       "    </tr>\n",
       "    <tr>\n",
       "      <th>7</th>\n",
       "      <td>Summer</td>\n",
       "      <td>Good</td>\n",
       "      <td>1584656.0</td>\n",
       "    </tr>\n",
       "    <tr>\n",
       "      <th>8</th>\n",
       "      <td>Summer</td>\n",
       "      <td>Rain</td>\n",
       "      <td>98454.0</td>\n",
       "    </tr>\n",
       "    <tr>\n",
       "      <th>9</th>\n",
       "      <td>Summer</td>\n",
       "      <td>Unknown</td>\n",
       "      <td>6767.0</td>\n",
       "    </tr>\n",
       "  </tbody>\n",
       "</table>\n",
       "</div>"
      ],
      "text/plain": [
       "   season               weather  total_cycles\n",
       "0  Spring                  Damp         684.0\n",
       "1  Spring  Dangerous_Conditions        4834.0\n",
       "2  Spring                  Good     1444798.0\n",
       "3  Spring                  Rain      142868.0\n",
       "4  Spring               Unknown       25192.0\n",
       "5  Summer                  Damp         457.0\n",
       "6  Summer  Dangerous_Conditions        3557.0\n",
       "7  Summer                  Good     1584656.0\n",
       "8  Summer                  Rain       98454.0\n",
       "9  Summer               Unknown        6767.0"
      ]
     },
     "execution_count": 1113,
     "metadata": {},
     "output_type": "execute_result"
    }
   ],
   "source": [
    "in_out_lon_seasons"
   ]
  },
  {
   "cell_type": "code",
   "execution_count": 1115,
   "id": "2e682a62",
   "metadata": {},
   "outputs": [
    {
     "data": {
      "image/png": "[encoded data removed]",
      "text/plain": [
       "<Figure size 504x504 with 1 Axes>"
      ]
     },
     "metadata": {},
     "output_type": "display_data"
    }
   ],
   "source": [
    "# importing gapminder for this particular visualzation\n",
    "from gapminder import gapminder\n",
    "\n",
    "# Control figure size for this notebook:\n",
    "plt.rcParams['figure.figsize'] = [7, 7]\n",
    "\n",
    "# data \n",
    "data = in_out_lon_seasons\n",
    "spacing = 0.1 \n",
    "# use the scatterplot function to build the bubble map\n",
    "ax = sns.scatterplot(data=data, \n",
    "                x=\"season\", \n",
    "                y=\"weather\", \n",
    "                size=\"total_cycles\", \n",
    "                legend=False, \n",
    "                sizes=(100, 1000)\n",
    "                    )\n",
    "\n",
    "ax.set_xlabel(\"Season\", fontsize=25)\n",
    "ax.set_ylabel(\"Weather\", fontsize=25)\n",
    "ax.set_title(\"Inner & Central London cycling trend different weather conditions (Apr - July)\", fontsize=20)\n",
    "ax.yaxis.set_tick_params(labelsize = 15)\n",
    "ax.xaxis.set_tick_params(labelsize = 15)\n",
    "ax.set_xticks(range(2))\n",
    "\n",
    "# show the graph\n",
    "plt.show()"
   ]
  },
  {
   "cell_type": "markdown",
   "id": "f4b47610",
   "metadata": {},
   "source": [
    "#### d. Cycling Trends during different periods of the day"
   ]
  },
  {
   "cell_type": "code",
   "execution_count": 1126,
   "id": "c9982624",
   "metadata": {
    "scrolled": true
   },
   "outputs": [],
   "source": [
    "# Grouping to observe cycling trends according to period\n",
    "in_out_lon_period = in_out_lon.groupby([\"functional_cycling_area\",\"period\"], \n",
    "                                             as_index=False)['total_cycles'].sum()"
   ]
  },
  {
   "cell_type": "code",
   "execution_count": 1127,
   "id": "801be078",
   "metadata": {},
   "outputs": [],
   "source": [
    "# function for assigning rank to Period of the day for sorting\n",
    "def f(x):\n",
    "     if (x == \"Early Morning (06:00-07:00)\"):\n",
    "            return '0'\n",
    "    \n",
    "     elif (x == \"AM peak (07:00-10:00)\"):\n",
    "            return '1'\n",
    "    \n",
    "     elif (x == \"Inter-peak (10:00-16:00)\"):\n",
    "            return'2'\n",
    "    \n",
    "     elif (x == \"PM peak (16:00-19:00)\"):\n",
    "            return '3'\n",
    "    \n",
    "     elif (x == \"Evening (19:00-22:00)\"):\n",
    "            return'4'\n",
    "\n",
    "# Apply user defined function to create new column with seasons\n",
    "in_out_lon_period['period_rank'] = in_out_lon_period['period'].apply(f) "
   ]
  },
  {
   "cell_type": "code",
   "execution_count": 1130,
   "id": "395765de",
   "metadata": {},
   "outputs": [],
   "source": [
    "# Converting to 1000s for easy comprehension\n",
    "in_out_lon_period['total_cycles'] = in_out_lon_period['total_cycles']/1000"
   ]
  },
  {
   "cell_type": "code",
   "execution_count": 1131,
   "id": "3b679542",
   "metadata": {},
   "outputs": [
    {
     "data": {
      "image/png": "[encoded data removed]",
      "text/plain": [
       "<Figure size 1080x1080 with 1 Axes>"
      ]
     },
     "metadata": {},
     "output_type": "display_data"
    }
   ],
   "source": [
    "# Sorting the values according to period rank\n",
    "# Otherwise Periods will appear at random on the graph\n",
    "in_out_lon_period = in_out_lon_period.sort_values(by='period_rank', ascending=True)\n",
    "\n",
    "ax = sns.catplot(\n",
    "    data=in_out_lon_period, \n",
    "    kind=\"bar\",\n",
    "    x= \"total_cycles\",\n",
    "    y= \"period\",\n",
    "    alpha=0.9, \n",
    "    height=15,\n",
    "    legend=False,\n",
    "    legend_out=False,\n",
    "    palette='dark',\n",
    "    ci =None\n",
    "    )\n",
    "\n",
    "sns.set_theme(style=\"whitegrid\")\n",
    "plt.title(\"Inner & Outer London cycling trends for period of the day (2015 - 2021)\", fontsize=40)\n",
    "plt.xlabel(\"No. of cycles ('000s')\", fontsize=40)\n",
    "plt.ylabel(\"Period of the Day\", fontsize=40)\n",
    "plt.xticks(rotation = 360)\n",
    "plt.tick_params(labelsize=25)"
   ]
  },
  {
   "cell_type": "markdown",
   "id": "db18fd73",
   "metadata": {},
   "source": [
    "#### e. Central London Day of the week cycling Patterns "
   ]
  },
  {
   "cell_type": "code",
   "execution_count": 1141,
   "id": "816f1565",
   "metadata": {
    "scrolled": true
   },
   "outputs": [],
   "source": [
    "# Grouping according to day of the week\n",
    "in_out_lon_day = in_out_lon.groupby([\"day_of_week\"], \n",
    "                                             as_index=False)['total_cycles'].sum()"
   ]
  },
  {
   "cell_type": "code",
   "execution_count": 1142,
   "id": "57f8a81a",
   "metadata": {},
   "outputs": [],
   "source": [
    "in_out_lon_day = in_out_lon_day[in_out_lon_day[\"day_of_week\"].str.contains(\"Saturday|Sunday\") == False]"
   ]
  },
  {
   "cell_type": "code",
   "execution_count": 1143,
   "id": "dc970ce7",
   "metadata": {},
   "outputs": [],
   "source": [
    "# Averaging number of cycles\n",
    "in_out_lon_day['total_cycles'] = ((in_out_lon_day['total_cycles'])/8)/52"
   ]
  },
  {
   "cell_type": "code",
   "execution_count": 1144,
   "id": "c203a7bb",
   "metadata": {
    "scrolled": false
   },
   "outputs": [
    {
     "data": {
      "text/html": [
       "<div>\n",
       "<style scoped>\n",
       "    .dataframe tbody tr th:only-of-type {\n",
       "        vertical-align: middle;\n",
       "    }\n",
       "\n",
       "    .dataframe tbody tr th {\n",
       "        vertical-align: top;\n",
       "    }\n",
       "\n",
       "    .dataframe thead th {\n",
       "        text-align: right;\n",
       "    }\n",
       "</style>\n",
       "<table border=\"1\" class=\"dataframe\">\n",
       "  <thead>\n",
       "    <tr style=\"text-align: right;\">\n",
       "      <th></th>\n",
       "      <th>day_of_week</th>\n",
       "      <th>total_cycles</th>\n",
       "    </tr>\n",
       "  </thead>\n",
       "  <tbody>\n",
       "    <tr>\n",
       "      <th>0</th>\n",
       "      <td>Friday</td>\n",
       "      <td>1023.331731</td>\n",
       "    </tr>\n",
       "    <tr>\n",
       "      <th>1</th>\n",
       "      <td>Monday</td>\n",
       "      <td>1383.932692</td>\n",
       "    </tr>\n",
       "    <tr>\n",
       "      <th>2</th>\n",
       "      <td>Thursday</td>\n",
       "      <td>1628.187500</td>\n",
       "    </tr>\n",
       "    <tr>\n",
       "      <th>3</th>\n",
       "      <td>Tuesday</td>\n",
       "      <td>1976.584135</td>\n",
       "    </tr>\n",
       "    <tr>\n",
       "      <th>4</th>\n",
       "      <td>Wednesday</td>\n",
       "      <td>1950.144231</td>\n",
       "    </tr>\n",
       "  </tbody>\n",
       "</table>\n",
       "</div>"
      ],
      "text/plain": [
       "  day_of_week  total_cycles\n",
       "0      Friday   1023.331731\n",
       "1      Monday   1383.932692\n",
       "2    Thursday   1628.187500\n",
       "3     Tuesday   1976.584135\n",
       "4   Wednesday   1950.144231"
      ]
     },
     "execution_count": 1144,
     "metadata": {},
     "output_type": "execute_result"
    }
   ],
   "source": [
    "in_out_lon_day"
   ]
  },
  {
   "cell_type": "code",
   "execution_count": 1145,
   "id": "43e47644",
   "metadata": {},
   "outputs": [],
   "source": [
    "# function for assigning rank to \n",
    "def f(x):\n",
    "     if (x == \"Monday\"):\n",
    "            return '0'\n",
    "    \n",
    "     elif (x == \"Tuesday\"):\n",
    "            return '1'\n",
    "    \n",
    "     elif (x == \"Wednesday\"):\n",
    "            return'2'\n",
    "    \n",
    "     elif (x == \"Thursday\"):\n",
    "            return '3'\n",
    "    \n",
    "     elif (x == \"Friday\"):\n",
    "            return'4'\n",
    "\n",
    "     elif (x == \"Saturday\"):\n",
    "            return '5'\n",
    "        \n",
    "     elif (x == \"Sunday\"):\n",
    "            return '6'\n",
    "        \n",
    "# Apply user defined function to create new column with day ranking (0 - 6)\n",
    "in_out_lon_day['day_rank'] = in_out_lon_day['day_of_week'].apply(f) "
   ]
  },
  {
   "cell_type": "code",
   "execution_count": 1146,
   "id": "aaee0f8d",
   "metadata": {},
   "outputs": [],
   "source": [
    "# Sorting the values according to period rank\n",
    "# Otherwise Periods will appear at random on the graph\n",
    "in_out_lon_day = in_out_lon_day.sort_values(by='day_rank', ascending=True)"
   ]
  },
  {
   "cell_type": "code",
   "execution_count": 1148,
   "id": "32c068c0",
   "metadata": {
    "scrolled": true
   },
   "outputs": [
    {
     "data": {
      "image/png": "[encoded data removed]",
      "text/plain": [
       "<Figure size 1080x1080 with 1 Axes>"
      ]
     },
     "metadata": {},
     "output_type": "display_data"
    }
   ],
   "source": [
    "# Plot\n",
    "ax = sns.catplot(\n",
    "    data=in_out_lon_day, \n",
    "    kind=\"bar\",\n",
    "    x= \"day_of_week\", \n",
    "    y= \"total_cycles\",\n",
    "    alpha=0.9, \n",
    "    height=15,\n",
    "    legend=False,\n",
    "    palette='dark',\n",
    "    )\n",
    "\n",
    "sns.set_theme(style=\"whitegrid\")\n",
    "plt.title(\"Average number of cyclists in Inner & Outer London for each day (2015 - 2021)\", fontsize=30)\n",
    "plt.ylabel(\"No. of cycles\", fontsize=30)\n",
    "plt.xlabel(\"Day of the Week\", fontsize=30)\n",
    "plt.xticks(rotation = 360)\n",
    "plt.tick_params(labelsize=20)"
   ]
  },
  {
   "cell_type": "markdown",
   "id": "5d1dc5f7",
   "metadata": {},
   "source": [
    "#### f. Inner London cycling owneship trends Patterns "
   ]
  },
  {
   "cell_type": "code",
   "execution_count": 1149,
   "id": "a4e3e692",
   "metadata": {},
   "outputs": [],
   "source": [
    "# Grouping according to ownership status of the cycles\n",
    "in_out_lon_ownership = in_out_lon.groupby([\"survey_year\"], \n",
    "                                             as_index=False)[\"number_of_private_cycles\",\"number_of_cycle_hire_bikes\"].sum()"
   ]
  },
  {
   "cell_type": "code",
   "execution_count": 1152,
   "id": "8a186cba",
   "metadata": {},
   "outputs": [],
   "source": [
    "# Renaming column names for easy comprehension\n",
    "in_out_lon_ownership = in_out_lon_ownership.rename(columns={'number_of_private_cycles': 'Private', \n",
    "                                                            'number_of_cycle_hire_bikes': 'Hired'})"
   ]
  },
  {
   "cell_type": "code",
   "execution_count": 1151,
   "id": "70174e7e",
   "metadata": {
    "collapsed": true
   },
   "outputs": [
    {
     "data": {
      "text/html": [
       "<div>\n",
       "<style scoped>\n",
       "    .dataframe tbody tr th:only-of-type {\n",
       "        vertical-align: middle;\n",
       "    }\n",
       "\n",
       "    .dataframe tbody tr th {\n",
       "        vertical-align: top;\n",
       "    }\n",
       "\n",
       "    .dataframe thead th {\n",
       "        text-align: right;\n",
       "    }\n",
       "</style>\n",
       "<table border=\"1\" class=\"dataframe\">\n",
       "  <thead>\n",
       "    <tr style=\"text-align: right;\">\n",
       "      <th></th>\n",
       "      <th>survey_year</th>\n",
       "      <th>Private</th>\n",
       "      <th>Hired</th>\n",
       "    </tr>\n",
       "  </thead>\n",
       "  <tbody>\n",
       "    <tr>\n",
       "      <th>0</th>\n",
       "      <td>2015</td>\n",
       "      <td>432529.0</td>\n",
       "      <td>15890.0</td>\n",
       "    </tr>\n",
       "    <tr>\n",
       "      <th>1</th>\n",
       "      <td>2016</td>\n",
       "      <td>423057.0</td>\n",
       "      <td>17599.0</td>\n",
       "    </tr>\n",
       "    <tr>\n",
       "      <th>2</th>\n",
       "      <td>2017</td>\n",
       "      <td>423841.0</td>\n",
       "      <td>18086.0</td>\n",
       "    </tr>\n",
       "    <tr>\n",
       "      <th>3</th>\n",
       "      <td>2018</td>\n",
       "      <td>433081.0</td>\n",
       "      <td>20462.0</td>\n",
       "    </tr>\n",
       "    <tr>\n",
       "      <th>4</th>\n",
       "      <td>2019</td>\n",
       "      <td>423084.0</td>\n",
       "      <td>23860.0</td>\n",
       "    </tr>\n",
       "    <tr>\n",
       "      <th>5</th>\n",
       "      <td>2021</td>\n",
       "      <td>543204.0</td>\n",
       "      <td>22763.0</td>\n",
       "    </tr>\n",
       "  </tbody>\n",
       "</table>\n",
       "</div>"
      ],
      "text/plain": [
       "   survey_year   Private    Hired\n",
       "0         2015  432529.0  15890.0\n",
       "1         2016  423057.0  17599.0\n",
       "2         2017  423841.0  18086.0\n",
       "3         2018  433081.0  20462.0\n",
       "4         2019  423084.0  23860.0\n",
       "5         2021  543204.0  22763.0"
      ]
     },
     "execution_count": 1151,
     "metadata": {},
     "output_type": "execute_result"
    }
   ],
   "source": [
    "in_out_lon_ownership"
   ]
  },
  {
   "cell_type": "code",
   "execution_count": 1155,
   "id": "be31509d",
   "metadata": {},
   "outputs": [],
   "source": [
    "# Melting DF to get both ownership statuses in a single column\n",
    "in_out_lon_ownership_melt = in_out_lon_ownership.melt(id_vars=[\"survey_year\"],\n",
    "                                  var_name=\"ownership\",\n",
    "                                  value_name=\"total\")"
   ]
  },
  {
   "cell_type": "code",
   "execution_count": 1156,
   "id": "675b2056",
   "metadata": {},
   "outputs": [
    {
     "data": {
      "text/html": [
       "<div>\n",
       "<style scoped>\n",
       "    .dataframe tbody tr th:only-of-type {\n",
       "        vertical-align: middle;\n",
       "    }\n",
       "\n",
       "    .dataframe tbody tr th {\n",
       "        vertical-align: top;\n",
       "    }\n",
       "\n",
       "    .dataframe thead th {\n",
       "        text-align: right;\n",
       "    }\n",
       "</style>\n",
       "<table border=\"1\" class=\"dataframe\">\n",
       "  <thead>\n",
       "    <tr style=\"text-align: right;\">\n",
       "      <th></th>\n",
       "      <th>survey_year</th>\n",
       "      <th>ownership</th>\n",
       "      <th>total</th>\n",
       "    </tr>\n",
       "  </thead>\n",
       "  <tbody>\n",
       "    <tr>\n",
       "      <th>0</th>\n",
       "      <td>2015</td>\n",
       "      <td>Private</td>\n",
       "      <td>432529.0</td>\n",
       "    </tr>\n",
       "    <tr>\n",
       "      <th>1</th>\n",
       "      <td>2016</td>\n",
       "      <td>Private</td>\n",
       "      <td>423057.0</td>\n",
       "    </tr>\n",
       "    <tr>\n",
       "      <th>2</th>\n",
       "      <td>2017</td>\n",
       "      <td>Private</td>\n",
       "      <td>423841.0</td>\n",
       "    </tr>\n",
       "  </tbody>\n",
       "</table>\n",
       "</div>"
      ],
      "text/plain": [
       "   survey_year ownership     total\n",
       "0         2015   Private  432529.0\n",
       "1         2016   Private  423057.0\n",
       "2         2017   Private  423841.0"
      ]
     },
     "execution_count": 1156,
     "metadata": {},
     "output_type": "execute_result"
    }
   ],
   "source": [
    "in_out_lon_ownership_melt.head(3)"
   ]
  },
  {
   "cell_type": "code",
   "execution_count": 1157,
   "id": "ac33a73e",
   "metadata": {},
   "outputs": [],
   "source": [
    "in_out_lon_ownership_melt['total'] = in_out_lon_ownership_melt['total']/1000"
   ]
  },
  {
   "cell_type": "code",
   "execution_count": 1159,
   "id": "b40950f8",
   "metadata": {},
   "outputs": [
    {
     "data": {
      "image/png": "[encoded data removed]",
      "text/plain": [
       "<Figure size 1080x1080 with 1 Axes>"
      ]
     },
     "metadata": {},
     "output_type": "display_data"
    }
   ],
   "source": [
    "# Plot\n",
    "ax = sns.catplot(\n",
    "    data=in_out_lon_ownership_melt, \n",
    "    kind=\"bar\",\n",
    "    x= \"survey_year\", \n",
    "    y= \"total\",\n",
    "    hue=\"ownership\",\n",
    "    alpha=0.9, \n",
    "    height=15,\n",
    "    legend=False,\n",
    "    palette='dark',\n",
    "    )\n",
    "\n",
    "sns.set_theme(style=\"whitegrid\")\n",
    "plt.title(\"Ownership of cycles in Inner London (2015 - 2021)\", fontsize=30)\n",
    "plt.ylabel(\"No. of cycles ( '000s )\", fontsize=30)\n",
    "plt.xlabel(\"Year\", fontsize=30)\n",
    "plt.legend(fontsize=30, loc=2)\n",
    "plt.xticks(rotation = 360)\n",
    "plt.tick_params(labelsize=20)\n"
   ]
  },
  {
   "cell_type": "markdown",
   "id": "d70f932d",
   "metadata": {},
   "source": [
    "#### g. Outer London cycling gender distribution"
   ]
  },
  {
   "cell_type": "code",
   "execution_count": 1160,
   "id": "94379648",
   "metadata": {},
   "outputs": [],
   "source": [
    "# Grouping according to day of the week\n",
    "in_out_lon_gender = in_out_lon.groupby([\"survey_year\"], \n",
    "                                             as_index=False)[\"number_of_male_cycles\",\n",
    "                                                             \"number_of_female_cycles\"].sum()"
   ]
  },
  {
   "cell_type": "code",
   "execution_count": 1161,
   "id": "92c97999",
   "metadata": {},
   "outputs": [],
   "source": [
    "# Renaming columns\n",
    "in_out_lon_gender = in_out_lon_gender.rename(columns={'number_of_male_cycles': 'Male', \n",
    "                                                            'number_of_female_cycles': 'Female'})"
   ]
  },
  {
   "cell_type": "code",
   "execution_count": 1162,
   "id": "b834c432",
   "metadata": {},
   "outputs": [],
   "source": [
    "# Meling to get both genders in single column\n",
    "in_out_lon_gender_melt = in_out_lon_gender.melt(id_vars=[\"survey_year\"],\n",
    "                                  var_name=\"gender\",\n",
    "                                  value_name=\"count\")"
   ]
  },
  {
   "cell_type": "code",
   "execution_count": 1163,
   "id": "69295f12",
   "metadata": {
    "collapsed": true
   },
   "outputs": [
    {
     "data": {
      "image/png": "[encoded data removed]",
      "text/plain": [
       "<Figure size 1080x1080 with 1 Axes>"
      ]
     },
     "metadata": {},
     "output_type": "display_data"
    }
   ],
   "source": [
    "# Reducing \n",
    "in_out_lon_gender_melt['count'] = in_out_lon_gender_melt['count']/1000\n",
    "# Plot\n",
    "ax = sns.catplot(\n",
    "    data=in_out_lon_gender_melt, \n",
    "    kind=\"bar\",\n",
    "    x= \"survey_year\", \n",
    "    y= \"count\",\n",
    "    hue=\"gender\",\n",
    "    alpha=0.9, \n",
    "    height=15,\n",
    "    legend=False,\n",
    "    palette='dark',\n",
    "    )\n",
    "\n",
    "sns.set_theme(style=\"whitegrid\")\n",
    "plt.title(\"Gender distribution in Outer London (2015 - 2021)\", fontsize=30)\n",
    "plt.ylabel(\"No. of cycles ( '000s )\", fontsize=30)\n",
    "plt.xlabel(\"Year\", fontsize=30)\n",
    "plt.legend(fontsize=30, loc=2)\n",
    "plt.xticks(rotation = 360)\n",
    "plt.tick_params(labelsize=20)"
   ]
  },
  {
   "cell_type": "markdown",
   "id": "af010c99",
   "metadata": {},
   "source": [
    "##### End of Atif's Code"
   ]
  },
  {
   "cell_type": "markdown",
   "id": "a8dd9871",
   "metadata": {},
   "source": [
    "# Introducing additional Data from independent research\n",
    "\n",
    "Absent timeseries data on the development of cycling infrastructure in London, some other variables will be analysed which could have a meaningfully quantifiable relationship with cycling uptake. \n",
    "\n",
    "- [Private Car Ownership](https://data.london.gov.uk/dataset/licensed-vehicles-numbers-borough \"Private Car Ownership\") \n",
    "- [Traffic Flow](https://data.london.gov.uk/dataset/traffic-flows-borough \"Traffic Flow\")\n",
    "\n",
    "Furthermore, to baseline and contextualise the cycling count data, population time series for [London](https://www.macrotrends.net/cities/22860/london/population \"London\"), [New York](https://www.macrotrends.net/states/new-york/population \"New York\") and [Sydney](https://www.macrotrends.net/cities/206167/sydney/population \"Sydney\") are also being introduced."
   ]
  },
  {
   "cell_type": "code",
   "execution_count": null,
   "id": "1f51df8d",
   "metadata": {},
   "outputs": [],
   "source": [
    "# Introduce new data\n",
    "# Traffic and Car Ownership data\n",
    "car_own = pd.read_csv('private_cars_london.csv')\n",
    "traffic_flow = pd.read_csv('traffic_flow_borough.csv')"
   ]
  },
  {
   "cell_type": "code",
   "execution_count": null,
   "id": "bf946d08",
   "metadata": {},
   "outputs": [],
   "source": [
    "# Population & cycling data\n",
    "pop_london = pd.read_csv('London_population.csv')\n",
    "pop_ny = pd.read_csv('New_York_population.csv')\n",
    "pop_sydney = pd.read_csv('Sydney_population.csv')\n",
    "london_complete = pd.read_csv('london_count_and_site_Saurav_111022.csv')"
   ]
  },
  {
   "cell_type": "code",
   "execution_count": null,
   "id": "209a148e",
   "metadata": {},
   "outputs": [],
   "source": [
    "# Change all column names to lower case to ease recalling them for analysis\n",
    "car_own = car_own.rename(columns=str.lower)\n",
    "traffic_flow = traffic_flow.rename(columns=str.lower)\n",
    "pop_london = pop_london.rename(columns=str.lower)\n",
    "pop_ny = pop_ny.rename(columns=str.lower)\n",
    "pop_sydney = pop_sydney.rename(columns=str.lower)"
   ]
  },
  {
   "cell_type": "code",
   "execution_count": null,
   "id": "9cfe1628",
   "metadata": {},
   "outputs": [],
   "source": [
    "# Rename columns to remove space in column names\n",
    "traffic_flow.columns = traffic_flow.columns.str.replace(' ','_')\n",
    "car_own.columns = car_own.columns.str.replace(' ','_')\n",
    "pop_london.columns = pop_london.columns.str.replace(' ','_')\n",
    "pop_ny.columns = pop_ny.columns.str.replace(' ','_')\n",
    "pop_sydney.columns = pop_sydney.columns.str.replace(' ','_')"
   ]
  },
  {
   "cell_type": "code",
   "execution_count": null,
   "id": "bb55a5bf",
   "metadata": {},
   "outputs": [],
   "source": [
    "# View Sample\n",
    "pop_london.head()"
   ]
  },
  {
   "cell_type": "code",
   "execution_count": null,
   "id": "70086683",
   "metadata": {},
   "outputs": [],
   "source": [
    "# View Sample\n",
    "pop_ny.head()"
   ]
  },
  {
   "cell_type": "code",
   "execution_count": null,
   "id": "81307607",
   "metadata": {},
   "outputs": [],
   "source": [
    "# View Sample\n",
    "pop_sydney.head()"
   ]
  },
  {
   "cell_type": "markdown",
   "id": "8b1b94c0",
   "metadata": {},
   "source": [
    "## Shaping and cleaning the data for analysis"
   ]
  },
  {
   "cell_type": "code",
   "execution_count": null,
   "id": "414dad51",
   "metadata": {},
   "outputs": [],
   "source": [
    "# Change to datatime format\n",
    "pop_london['date'] = pd.to_datetime(pop_london['date'], format='%d/%m/%Y')\n",
    "pop_ny['date'] = pd.to_datetime(pop_ny['date'], format='%d/%m/%Y')\n",
    "pop_sydney['date'] = pd.to_datetime(pop_sydney['date'], format='%d/%m/%Y')"
   ]
  },
  {
   "cell_type": "code",
   "execution_count": null,
   "id": "bc6ad473",
   "metadata": {},
   "outputs": [],
   "source": [
    "# Need to create a Year Column in each DF\n",
    "# Will use this to merge the population data\n",
    "pop_london['year'] = pop_london['date'].dt.year\n",
    "pop_ny['year'] = pop_ny['date'].dt.year\n",
    "pop_sydney['year'] = pop_sydney['date'].dt.year"
   ]
  },
  {
   "cell_type": "code",
   "execution_count": null,
   "id": "51f5c34e",
   "metadata": {},
   "outputs": [],
   "source": [
    "# Drop date column from each population DF\n",
    "pop_london.drop('date', axis=1, inplace=True)\n",
    "pop_ny.drop('date', axis=1, inplace=True)\n",
    "pop_sydney.drop('date', axis=1, inplace=True)"
   ]
  },
  {
   "cell_type": "code",
   "execution_count": null,
   "id": "0c54cfac",
   "metadata": {
    "scrolled": true
   },
   "outputs": [],
   "source": [
    "# View Sample\n",
    "car_own.head(5)\n",
    "\n",
    "# Shows absolute numbers of cars registered in private ownership over time in each borough"
   ]
  },
  {
   "cell_type": "code",
   "execution_count": null,
   "id": "6134ce66",
   "metadata": {},
   "outputs": [],
   "source": [
    "# View Sample\n",
    "traffic_flow.head(5)\n",
    "\n",
    "# Unit of measure is in millions & kilometers\n",
    "# Shows million vehicle kilometers travelled by all cars through each borough over time "
   ]
  },
  {
   "cell_type": "code",
   "execution_count": null,
   "id": "b614e315",
   "metadata": {},
   "outputs": [],
   "source": [
    "# Merge the population dfs\n",
    "# Merge the traffic flow and car ownership details\n",
    "dfs = [pop_london, pop_ny, pop_sydney]\n",
    "all_pop = ft.reduce(lambda left, right: pd.merge(left, right, on='year'), dfs)"
   ]
  },
  {
   "cell_type": "code",
   "execution_count": null,
   "id": "801810d4",
   "metadata": {},
   "outputs": [],
   "source": [
    "# View output\n",
    "all_pop"
   ]
  },
  {
   "cell_type": "code",
   "execution_count": null,
   "id": "e2e4e54b",
   "metadata": {},
   "outputs": [],
   "source": [
    "# Rename Columns \n",
    "all_pop.rename(columns={'_population_x': 'london_pop', '_population_y': 'ny_pop', \n",
    "                       '_population': 'sydney_pop'}, inplace=True)"
   ]
  },
  {
   "cell_type": "code",
   "execution_count": null,
   "id": "48b0b43b",
   "metadata": {},
   "outputs": [],
   "source": [
    "# Create a column showing Y-o-Y % change in population for each city\n",
    "all_pop['ldn_pop_change'] = pd.DataFrame.pct_change(all_pop['london_pop'])*100\n",
    "all_pop['ny_pop_change'] = pd.DataFrame.pct_change(all_pop['ny_pop'])*100\n",
    "all_pop['sydney_pop_change'] = pd.DataFrame.pct_change(all_pop['sydney_pop'])*100"
   ]
  },
  {
   "cell_type": "code",
   "execution_count": null,
   "id": "f53d6d9b",
   "metadata": {},
   "outputs": [],
   "source": [
    "# Create log values for population to reduce the scalar impact on visualisations\n",
    "all_pop['log_london_pop'] = np.log(all_pop['london_pop'])\n",
    "all_pop['log_ny_pop'] = np.log(all_pop['ny_pop'])\n",
    "all_pop['log_sydney_pop'] = np.log(all_pop['sydney_pop'])"
   ]
  },
  {
   "cell_type": "code",
   "execution_count": null,
   "id": "db0d6af2",
   "metadata": {},
   "outputs": [],
   "source": [
    "# Shape the df for further analysis\n",
    "all_pop1 = pd.melt(all_pop, id_vars =['year'], value_vars =['log_london_pop', 'log_ny_pop', 'log_sydney_pop'])"
   ]
  },
  {
   "cell_type": "code",
   "execution_count": null,
   "id": "de5414f9",
   "metadata": {},
   "outputs": [],
   "source": [
    "# Rename some columns to align across analysis\n",
    "all_pop1 = all_pop1.rename(columns={'variable': 'location', 'value': 'population(log)', \n",
    "                                   'population': 'location'})"
   ]
  },
  {
   "cell_type": "code",
   "execution_count": null,
   "id": "ec65cf1e",
   "metadata": {},
   "outputs": [],
   "source": [
    "# Replace column values to align analysis\n",
    "all_pop1 = all_pop1.replace(['log_london_pop','log_ny_pop',\n",
    "                             'log_sydney_pop'],['london', 'new_york', 'sydney'])\n",
    "all_pop1"
   ]
  },
  {
   "cell_type": "code",
   "execution_count": null,
   "id": "ea02c3eb",
   "metadata": {},
   "outputs": [],
   "source": [
    "# Look now at how cycling uptake has evolved in London over the same period\n",
    "# Introduce the merged london data set and recall the metadata\n",
    "london_complete.info()"
   ]
  },
  {
   "cell_type": "code",
   "execution_count": null,
   "id": "44f96029",
   "metadata": {},
   "outputs": [],
   "source": [
    "# Look now at how cycling uptake has evolved in London over the same period\n",
    "# Ensure date is in appropriate format\n",
    "london_complete['survey_date'] = pd.to_datetime(london_complete.survey_date)\n",
    "\n",
    "# Aggregate by year\n",
    "# Insert column year to run aggregation function\n",
    "london_complete['year'] = london_complete['survey_date'].dt.year"
   ]
  },
  {
   "cell_type": "code",
   "execution_count": null,
   "id": "cc84a583",
   "metadata": {},
   "outputs": [],
   "source": [
    "# Fill all NaN values with 0\n",
    "london_complete.fillna(0)"
   ]
  },
  {
   "cell_type": "code",
   "execution_count": null,
   "id": "c4721775",
   "metadata": {
    "scrolled": true
   },
   "outputs": [],
   "source": [
    "# Simplify df columns\n",
    "london_complete=london_complete.drop(['Unnamed: 0', 'survey_year', 'site_id', 'time', 'location', 'direction', \n",
    "                                      'surveydescription', 'total_cycles'], axis=1)"
   ]
  },
  {
   "cell_type": "code",
   "execution_count": null,
   "id": "976970a5",
   "metadata": {},
   "outputs": [],
   "source": [
    "# Insert a total count in outer london\n",
    "london_complete['total_outer'] = london_complete['number_of_male_cycles']+london_complete['number_of_female_cycles']+london_complete['number_of_unknown_cycles']"
   ]
  },
  {
   "cell_type": "code",
   "execution_count": null,
   "id": "bb493e64",
   "metadata": {},
   "outputs": [],
   "source": [
    "# Insert a total count for inner and central london\n",
    "london_complete['total_inn_cen'] = london_complete['number_of_private_cycles']+london_complete['number_of_cycle_hire_bikes']"
   ]
  },
  {
   "cell_type": "code",
   "execution_count": null,
   "id": "bbc12a0a",
   "metadata": {},
   "outputs": [],
   "source": [
    "# Fill all NaN values with 0\n",
    "london_complete['total_outer'] = london_complete['total_outer'].fillna(0)\n",
    "london_complete['total_inn_cen'] = london_complete['total_inn_cen'].fillna(0)"
   ]
  },
  {
   "cell_type": "code",
   "execution_count": null,
   "id": "265328cf",
   "metadata": {},
   "outputs": [],
   "source": [
    "# Insert a global total uptake column for cycling counts in all areas of london\n",
    "london_complete['total_uptake'] = london_complete['total_outer']+london_complete['total_inn_cen'] "
   ]
  },
  {
   "cell_type": "code",
   "execution_count": null,
   "id": "455eec0d",
   "metadata": {
    "scrolled": true
   },
   "outputs": [],
   "source": [
    "# Group by year to see change of total cycling uptake YoY\n",
    "df= london_complete.groupby(['year'], as_index=False)['total_uptake'].sum()\n",
    "df"
   ]
  },
  {
   "cell_type": "code",
   "execution_count": null,
   "id": "b8ad4922",
   "metadata": {},
   "outputs": [],
   "source": [
    "# Put all numbers on log scale to supress scalar affect\n",
    "df['log_total_uptake_ldn'] = np.log(df['total_uptake']) "
   ]
  },
  {
   "cell_type": "code",
   "execution_count": null,
   "id": "de0370e9",
   "metadata": {},
   "outputs": [],
   "source": [
    "# Clean the df\n",
    "df=df.drop(['total_uptake'], axis=1)"
   ]
  },
  {
   "cell_type": "code",
   "execution_count": null,
   "id": "d7a73952",
   "metadata": {
    "scrolled": true
   },
   "outputs": [],
   "source": [
    "# Granularity on how total_uptake evolved in the 3 parts of London\n",
    "df1= london_complete.groupby(['year', 'functional_cycling_area'], as_index=False)['total_uptake'].sum()"
   ]
  },
  {
   "cell_type": "code",
   "execution_count": null,
   "id": "809ecbb0",
   "metadata": {},
   "outputs": [],
   "source": [
    "# Visualise the changes\n",
    "# Put all numbers on log scale to supress scalar affect\n",
    "df1['log_total_uptake_ldn'] = np.log(df1['total_uptake']) "
   ]
  },
  {
   "cell_type": "code",
   "execution_count": null,
   "id": "7ddcbd4c",
   "metadata": {},
   "outputs": [],
   "source": [
    "# Get overview of how cycling uptake has progressed over the years in New York\n",
    "df3 = ny_counts.groupby(['year'], as_index=False)['counts'].sum()"
   ]
  },
  {
   "cell_type": "code",
   "execution_count": null,
   "id": "92aaa275",
   "metadata": {},
   "outputs": [],
   "source": [
    "# Put all numbers on log scale to supress scalar affects\n",
    "df3['log_total_uptake_ny'] = np.log(df3['counts']) "
   ]
  },
  {
   "cell_type": "code",
   "execution_count": null,
   "id": "88654399",
   "metadata": {},
   "outputs": [],
   "source": [
    "# Clean the df\n",
    "df3=df3.drop(['counts'], axis=1)"
   ]
  },
  {
   "cell_type": "code",
   "execution_count": null,
   "id": "e58f19e7",
   "metadata": {},
   "outputs": [],
   "source": [
    "# Change all column names to lower case to ease recalling them for analysis\n",
    "sydney_counts = sydney_counts.rename(columns=str.lower)"
   ]
  },
  {
   "cell_type": "code",
   "execution_count": null,
   "id": "27577a59",
   "metadata": {},
   "outputs": [],
   "source": [
    "# Get overview of how cycling uptake has progressed over the years in Sydney\n",
    "df4 = sydney_counts.groupby(['year'], as_index=False)['totalcount'].sum()"
   ]
  },
  {
   "cell_type": "code",
   "execution_count": null,
   "id": "a2775aa2",
   "metadata": {},
   "outputs": [],
   "source": [
    "# Put all numbers on log scale to supress scalar affects\n",
    "df4['log_total_uptake_sydney'] = np.log(df4['totalcount']) \n",
    "df4"
   ]
  },
  {
   "cell_type": "code",
   "execution_count": null,
   "id": "ee8509ef",
   "metadata": {},
   "outputs": [],
   "source": [
    "# Df4 shows strange dip in 2018 numbers.\n",
    "# Investigate further\n",
    "df4a = sydney_counts.groupby([\"year\",\"month\"], as_index=False)['totalcount'].sum()\n",
    "df4a\n",
    "\n",
    "# March 2018 data missing\n",
    "# Oct 2018 has duplicate"
   ]
  },
  {
   "cell_type": "code",
   "execution_count": null,
   "id": "43532d0f",
   "metadata": {},
   "outputs": [],
   "source": [
    "#Drop duplicate\n",
    "df4a = df4a.drop([17])"
   ]
  },
  {
   "cell_type": "code",
   "execution_count": null,
   "id": "78b41ac4",
   "metadata": {},
   "outputs": [],
   "source": [
    "# Reshape for correction of missing values\n",
    "df4a = df4a.pivot(index='year', columns='month', values='totalcount')\n",
    "df4a.as_index=False\n",
    "# This inserts March"
   ]
  },
  {
   "cell_type": "code",
   "execution_count": null,
   "id": "eb96a2ef",
   "metadata": {},
   "outputs": [],
   "source": [
    "# Replace missing value with interpolated value \n",
    "df4a = df4a.interpolate()"
   ]
  },
  {
   "cell_type": "code",
   "execution_count": null,
   "id": "2797aa91",
   "metadata": {},
   "outputs": [],
   "source": [
    "# Reshape the dataframe for further analysis and alignment with other cities\n",
    "df4a['totalcount'] = df4a['March'] + df4a[\"October\"]\n",
    "df4a['log_total_uptake_sydney'] = np.log(df4a['totalcount'])\n",
    "df4a=df4a.drop(['March', 'October', 'totalcount'], axis=1)\n",
    "\n",
    "# Reset the index\n",
    "df4 = df4a.reset_index()"
   ]
  },
  {
   "cell_type": "code",
   "execution_count": null,
   "id": "bca035e2",
   "metadata": {},
   "outputs": [],
   "source": [
    "# Plot all regions/cities of interest in one chart\n",
    "# Merge the dataframes\n",
    "dfs = [df, df3, df4]\n",
    "on = ['year']\n",
    "all_counts = ft.reduce(lambda left, right: pd.merge(left, right, on= on), dfs)"
   ]
  },
  {
   "cell_type": "code",
   "execution_count": null,
   "id": "371decb1",
   "metadata": {
    "scrolled": true
   },
   "outputs": [],
   "source": [
    "# Melt the dataframe to plot all three cities into one chart\n",
    "df5 = pd.melt(all_counts, id_vars =['year'], value_vars =['log_total_uptake_ldn', 'log_total_uptake_ny', \n",
    "                                                         'log_total_uptake_sydney'])\n",
    "df5.head(5)"
   ]
  },
  {
   "cell_type": "code",
   "execution_count": null,
   "id": "b89e98cc",
   "metadata": {},
   "outputs": [],
   "source": [
    "# Rename some columns to align across analysis\n",
    "df5 = df5.rename(columns={'variable': 'location', 'value': 'cycling_uptake_log'})"
   ]
  },
  {
   "cell_type": "code",
   "execution_count": null,
   "id": "43a947f1",
   "metadata": {},
   "outputs": [],
   "source": [
    "# Replace location values to align across analysis\n",
    "df5 = df5.replace(['log_total_uptake_ldn','log_total_uptake_ny',\n",
    "                   'log_total_uptake_sydney'],['london', 'new_york', 'sydney'])"
   ]
  },
  {
   "cell_type": "code",
   "execution_count": null,
   "id": "a253599f",
   "metadata": {},
   "outputs": [],
   "source": [
    "# View \n",
    "df5.head()"
   ]
  },
  {
   "cell_type": "code",
   "execution_count": null,
   "id": "47faca12",
   "metadata": {},
   "outputs": [],
   "source": [
    "# Merge Population & Cycling Uptake Data across all 3 cities over the period being analysed\n",
    "dfs = [df5, all_pop1]\n",
    "on = ['year', 'location']\n",
    "city_counts = ft.reduce(lambda left, right: pd.merge(left, right, on=on), dfs)\n",
    "city_counts"
   ]
  },
  {
   "cell_type": "code",
   "execution_count": null,
   "id": "ff47505d",
   "metadata": {},
   "outputs": [],
   "source": [
    "# Rename columns to remove brackets\n",
    "city_counts = city_counts.rename(columns={'population(log)': 'population_log'})"
   ]
  },
  {
   "cell_type": "code",
   "execution_count": null,
   "id": "873f54b8",
   "metadata": {},
   "outputs": [],
   "source": [
    "# Create a new pivot for cycling uptake\n",
    "# This will help visualise the cycling and population values in one chart\n",
    "city_counts_piv_CU = city_counts.pivot(index='year', columns='location', values='cycling_uptake_log')\n",
    "city_counts_piv_CU = city_counts_piv_CU.reset_index()\n",
    "city_counts_piv_CU\n"
   ]
  },
  {
   "cell_type": "code",
   "execution_count": null,
   "id": "3722c1ac",
   "metadata": {},
   "outputs": [],
   "source": [
    "# Do the same for population\n",
    "city_counts_piv_pop = city_counts.pivot(index= 'year', columns= 'location', values='population_log')\n",
    "city_counts_piv_pop = city_counts_piv_pop.reset_index()\n",
    "city_counts_piv_pop\n"
   ]
  },
  {
   "cell_type": "markdown",
   "id": "6938e8ab",
   "metadata": {},
   "source": [
    "# Visual Insights from the quantitative data"
   ]
  },
  {
   "cell_type": "markdown",
   "id": "ad1bfa5e",
   "metadata": {},
   "source": [
    "### How have population & cycling uptake changed?"
   ]
  },
  {
   "cell_type": "markdown",
   "id": "e177883a",
   "metadata": {},
   "source": [
    "Population"
   ]
  },
  {
   "cell_type": "code",
   "execution_count": null,
   "id": "c0f7cd40",
   "metadata": {},
   "outputs": [],
   "source": [
    "# Visualise change in population of the 3 cities\n",
    "g=sns.lineplot(x=\"year\", y=\"population_log\", data=city_counts, hue='location')\n",
    "g.set_title('Changes to Population, 2014-2021')\n",
    "plt.legend(bbox_to_anchor=(1.02, 1), loc='upper left', borderaxespad=0)\n",
    "\n",
    "# London & Sydney display some growth over the period\n",
    "# New York population broadly unchanged over the period"
   ]
  },
  {
   "cell_type": "markdown",
   "id": "7e36cff6",
   "metadata": {},
   "source": [
    "Cycling Uptake"
   ]
  },
  {
   "cell_type": "code",
   "execution_count": null,
   "id": "8de44cc0",
   "metadata": {},
   "outputs": [],
   "source": [
    "# Visualise change in cycling uptake of the 3 cities\n",
    "g=sns.lineplot(x=\"year\", y=\"cycling_uptake_log\", data=city_counts, hue='location')\n",
    "g.set_title('Changes to Cycling Uptake, 2014-2021')\n",
    "plt.legend(bbox_to_anchor=(1.02, 1), loc='upper left', borderaxespad=0)\n",
    "\n",
    "# Notes for future: see if the two plots can be combined\n",
    "# Cycling on one y axis and population on another y axis\n",
    "# Also see if can set index at 2014 = 100 and then show changes from there\n",
    "# Check Kevin to prettify\n",
    "\n",
    "# London\n",
    "# See observations below on seperate chart for London only on non log scale\n",
    "\n",
    "# New York\n",
    "# Very strong rise in early years and then small decline in the interim pre COVID\n",
    "# Recovery post COVID but no new highs\n",
    "\n",
    "# Sydney\n",
    "# Peak uptake was in 2014 and has been in decline since\n",
    "# Difficult to discern COVID impact as uptake cratered already in 2017\n",
    "# 2018 data may need to checked to see if there are some counts missing\n",
    "# Since 2017, annual uptake numbers irrespective 2018 have been declining\n",
    "# 2021/22 numbers have also cratered\n",
    "# Need to check this data set\n",
    "\n",
    "# Combined log scales between population and cycling uptake\n",
    "# Relative log scale suggests only New York is cycling proportionate to its population\n",
    "# London slightly less than is proportionate for its relative population\n",
    "# Sydney is not a cycling city\n",
    "# Cycling count significantly lower than its proportionate share, given population\n",
    "# But Sydney cycling data is not full year so need to be cautious"
   ]
  },
  {
   "cell_type": "code",
   "execution_count": null,
   "id": "99bd5cc7",
   "metadata": {
    "scrolled": true
   },
   "outputs": [],
   "source": [
    "# Visualise change in uptake in the 3 parts of London\n",
    "g=sns.lineplot(x=\"year\", y=\"log_total_uptake_ldn\", data=df1, hue='functional_cycling_area', \n",
    "               linestyle='dashed')\n",
    "g.set_title('Cycling uptake in London & its regions')\n",
    "g.set_ylabel('Cycling Uptake')\n",
    "g.set_xlabel('Year')\n",
    "plt.legend(bbox_to_anchor=(-0.15, 0.1), borderaxespad=0, frameon=False)\n",
    "\n",
    "\n",
    "# Outer London uptake peaked in 2018 well before COVID\n",
    "# Uptake in Outer London continued to drop during pandemic\n",
    "# It has recovered above pre-pandemic peak\n",
    "\n",
    "# Inner London uptake has been steady with almost no drop during COVID\n",
    "# Uptake in Inner London has actually increased strongly post pandemic normalisation in 2020-21\n",
    "\n",
    "# Central London uptake was increasing steadily until COVID\n",
    "# Very sharp decline during COVID\n",
    "# Strong recovery in post pandemic normalisation but has not recovered to pre-pandemic peak\n",
    "# This has some missing data problems \n",
    "# As such the regions arent directly comparable\n",
    "# This is for demonstration purposes only\n",
    "# 2019-2020 drop is primarily due to missing data problem\n",
    "# London wasnt counting cyclists during Covid19"
   ]
  },
  {
   "cell_type": "code",
   "execution_count": null,
   "id": "d55d9dfe",
   "metadata": {},
   "outputs": [],
   "source": [
    "# Visualise the change in all areas of London combined\n",
    "# Visualising on its own to manage scalar effects more tightly \n",
    "# London is city of most interest\n",
    "# Worth look at it on its own and also versus other cities\n",
    "# Create the line chart to visualise the change\n",
    "plt.plot(df['year'], df['log_total_uptake_ldn'])\n",
    "\n",
    "# Adding the aesthetics\n",
    "plt.title(\"YoY cycling uptake in London 2014-2021\")\n",
    "plt.xlabel('Year')\n",
    "plt.ylabel('Cycling uptake')\n",
    "\n",
    "# Show the plot\n",
    "plt.show()\n",
    "\n",
    "# Strong growth from 2014 onwards every year although slows down dramatically in 219\n",
    "# Big decline in 2019-2020 due to Covid-19 when lockdowns were in force\n",
    "# Post pandemic recovery in numbers still below 2015\n",
    "# Although 2021 numbers are not for full year, they do go up to end of first week of December 2021\n",
    "# Shows that there is certainly room to increase cycling uptake from current levels\n",
    "# Although expect that cycling counts should naturally creep up as post Covid normalisation continues"
   ]
  },
  {
   "cell_type": "code",
   "execution_count": null,
   "id": "11e2e726",
   "metadata": {},
   "outputs": [],
   "source": [
    "# Visualise if cycling uptake in each city is proportionate to its population\n",
    "fig, ax1 = plt.subplots()\n",
    "fig.set_size_inches(10, 5)\n",
    "\n",
    "# twinx() function is required to have two 'y-axis', for two 'x-axis' we will use twiny() function\n",
    "ax2 = ax1.twinx()\n",
    "\n",
    "# Plotting both DFs\n",
    "city_counts_piv_CU.plot(x='year',y=['london','new_york','sydney'] ,marker='o', ax=ax1)\n",
    "city_counts_piv_pop.plot(x='year',y=['london','new_york','sydney'], linestyle='dashed', ax=ax2)\n",
    "# Plotting attributes\n",
    "ax1.set_title('Comparison of Population vs Cycling Uptake')\n",
    "ax1.set_xlabel('Year')\n",
    "ax1.set_ylabel('Population')\n",
    "ax2.set_ylabel('Cycling Uptake')\n",
    "ax1.legend(title='Cycling' ,loc='center', bbox_to_anchor=(-0.15,0.4), labelspacing = 0.75, \n",
    "           frameon=False)\n",
    "ax2.legend(title='Population', loc='center', bbox_to_anchor=(-0.15,0.1), labelspacing = 0.75, \n",
    "           frameon=False)\n",
    "\n",
    "plt.tight_layout()\n",
    "plt.show()\n",
    "\n",
    "# MAy be better to index the data from 2015 and display for Final presentationt\n"
   ]
  },
  {
   "cell_type": "markdown",
   "id": "d739ee58",
   "metadata": {},
   "source": [
    "## Quantitative Analysis\n",
    "\n",
    "Although the data set is relatively small with just over 195 rows of data, it is worth running some simple quantitative analysis to investigate if traffic flow and car ownership have any influence on each other and more importantly on cycling uptake."
   ]
  },
  {
   "cell_type": "markdown",
   "id": "757aa1b4",
   "metadata": {},
   "source": [
    "### Preparing the data for Quantitative Analysis"
   ]
  },
  {
   "cell_type": "code",
   "execution_count": null,
   "id": "da936ede",
   "metadata": {
    "scrolled": true
   },
   "outputs": [],
   "source": [
    "# Getting the shape of traffic flow, Car ownership and cycle count organised \n",
    "# Melt the dataframe on car ownership\n",
    "# This will align shape for further analysis\n",
    "# will categorise the boroughs into central, inner and outer london values\n",
    "df6 = pd.melt(car_own, id_vars =['year'], value_vars =['city_of_london', 'barking_and_dagenham', 'barnet', 'bexley', \n",
    "                                                      'brent', 'bromley', 'camden', 'croydon', 'ealing', 'enfield', \n",
    "                                                      'greenwich', 'hackney', 'hammersmith_and_fulham', 'haringey', \n",
    "                                                      'harrow', 'havering', 'hillingdon', 'hounslow', 'islington', \n",
    "                                                      'kensington_and_chelsea', 'kingston_upon_thames', 'lambeth', \n",
    "                                                      'lewisham', 'merton', 'newham', 'redbridge', 'richmond_upon_thames', \n",
    "                                                      'southwark', 'sutton', 'tower_hamlets', 'waltham_forest', \n",
    "                                                      'wandsworth', 'westminster'])"
   ]
  },
  {
   "cell_type": "code",
   "execution_count": null,
   "id": "3b5de7cd",
   "metadata": {},
   "outputs": [],
   "source": [
    "# Rename variable to align to other datasets on london\n",
    "df6 = df6.rename(columns={'variable': 'borough', 'value': 'car_ownership_count'})"
   ]
  },
  {
   "cell_type": "code",
   "execution_count": null,
   "id": "89b946a0",
   "metadata": {},
   "outputs": [],
   "source": [
    "# Melt the dataframe on traffic flows\n",
    "# This will align shape for further analysis\n",
    "# Will categorise the boroughs into central, inner and outer london values\n",
    "\n",
    "df7 = pd.melt(traffic_flow, id_vars =['year'], value_vars =['city_of_london', 'barking_and_dagenham', 'barnet', 'bexley', \n",
    "                                                      'brent', 'bromley', 'camden', 'croydon', 'ealing', 'enfield', \n",
    "                                                      'greenwich', 'hackney', 'hammersmith_and_fulham', 'haringey', \n",
    "                                                      'harrow', 'havering', 'hillingdon', 'hounslow', 'islington', \n",
    "                                                      'kensington_and_chelsea', 'kingston_upon_thames', 'lambeth', \n",
    "                                                      'lewisham', 'merton', 'newham', 'redbridge', 'richmond_upon_thames', \n",
    "                                                      'southwark', 'sutton', 'tower_hamlets', 'waltham_forest', \n",
    "                                                      'wandsworth', 'westminster'])"
   ]
  },
  {
   "cell_type": "code",
   "execution_count": null,
   "id": "08628fbd",
   "metadata": {},
   "outputs": [],
   "source": [
    "# Rename variable to align to other datasets on london\n",
    "df7 = df7.rename(columns={'variable': 'borough', 'value': 'traffic_flow'})"
   ]
  },
  {
   "cell_type": "code",
   "execution_count": null,
   "id": "9d8434ba",
   "metadata": {},
   "outputs": [],
   "source": [
    "# Merge the traffic flow and car ownership details\n",
    "dfs = [df6, df7]\n",
    "cols= [\"year\", \"borough\"]\n",
    "other_stats = ft.reduce(lambda left, right: pd.merge(left, right, on=cols), dfs)"
   ]
  },
  {
   "cell_type": "code",
   "execution_count": null,
   "id": "99d972cc",
   "metadata": {},
   "outputs": [],
   "source": [
    "# Now manipulate cycle count data in london and add to above dataframe\n",
    "# reshape london df into a smaller df8 so its more resource efficient during manipulation\n",
    "df8 = london_complete.drop(['latitude', 'longitude', 'survey_date', 'number_of_male_cycles', \n",
    "                            'number_of_female_cycles', 'number_of_unknown_cycles', 'day_of_week', \n",
    "                           'month', 'number_of_private_cycles', 'season', 'number_of_private_cycles', \n",
    "                           'number_of_cycle_hire_bikes', 'total_outer', 'total_inn_cen', 'weather', 'period'], axis=1)"
   ]
  },
  {
   "cell_type": "code",
   "execution_count": null,
   "id": "1f85f590",
   "metadata": {},
   "outputs": [],
   "source": [
    "# Align name of boroughs across df8 so that it can be merged \n",
    "# Change content of borough column into lower case \n",
    "df8['borough'] = df8['borough'].str.lower()\n",
    "# Replace & with and\n",
    "df8.replace({'borough': '&'}, {'borough': 'and'}, regex=True, inplace = True)\n",
    "# Strip spaces with _\n",
    "df8.replace({'borough': ' '}, {'borough': '_'}, regex=True, inplace = True)"
   ]
  },
  {
   "cell_type": "code",
   "execution_count": null,
   "id": "e76ad8c2",
   "metadata": {},
   "outputs": [],
   "source": [
    "# Sort by year and borough to align to traffic and car ownership count data\n",
    "df8 = df8.groupby(['year', 'borough'], as_index=False)['total_uptake'].sum()\n",
    "df8.sort_values(['borough'], inplace = True)"
   ]
  },
  {
   "cell_type": "code",
   "execution_count": null,
   "id": "5f4884a3",
   "metadata": {},
   "outputs": [],
   "source": [
    "# Merge the traffic flow and car ownership details\n",
    "dfs = [other_stats, df8]\n",
    "cols= [\"year\", \"borough\"]\n",
    "combined_stats_ldn = ft.reduce(lambda left, right: pd.merge(left, right, on=cols), dfs)"
   ]
  },
  {
   "cell_type": "code",
   "execution_count": null,
   "id": "697a6986",
   "metadata": {},
   "outputs": [],
   "source": [
    "# Strip non quantitative data columns\n",
    "# Will use these to test for correlation amongst numeric variable\n",
    "df10=combined_stats_ldn.drop(['year', 'borough'], axis=1)"
   ]
  },
  {
   "cell_type": "code",
   "execution_count": null,
   "id": "72ff801d",
   "metadata": {},
   "outputs": [],
   "source": [
    "# Rename variable for clarity on visual analysis\n",
    "df10 = df10.rename(columns={'car_ownership_count': 'car ownership', 'traffic_flow': 'traffic flow',\n",
    "                           'total_uptake': 'cycling uptake'})"
   ]
  },
  {
   "cell_type": "markdown",
   "id": "3e26dba6",
   "metadata": {},
   "source": [
    "### Conducting the analysis"
   ]
  },
  {
   "cell_type": "code",
   "execution_count": null,
   "id": "befe1fee",
   "metadata": {},
   "outputs": [],
   "source": [
    "# Correlation of each variable\n",
    "# Setting up the correlation matrix\n",
    "plt.figure\n",
    "sns.heatmap(df10.corr(),annot=True,cmap='coolwarm')\n",
    "plt.title(\"Correlation Matrix\", pad=20)\n",
    "plt.show()\n",
    "\n",
    "# Total traffic flow and car ownership in any location are strongly positively correlated\n",
    "# Implies an increase in one will lead to an increase in the other "
   ]
  },
  {
   "cell_type": "code",
   "execution_count": null,
   "id": "9f1a57c3",
   "metadata": {
    "scrolled": true
   },
   "outputs": [],
   "source": [
    "# Visualise sort of relationships if any between the numeric variablessns.set(style=\"ticks\", color_codes=True)\n",
    "sns.pairplot(df10)\n",
    "\n",
    "# Setting up adjustments to the plot area\n",
    "plt.suptitle(\"Regression Test\")\n",
    "plt.tight_layout()\n",
    "plt.subplots_adjust(top=0.9)\n",
    "\n",
    "# Can visualise a reasonable linear relationship between traffic flow and car ownership\n",
    "# Visualisation doesnt suggest linear relationship between cycling up take and other variables\n",
    "# So although correlation matrix suggest very strong correlation between all three variables\n",
    "# Limited linear relationship established\n",
    "# Given the strength of the inverse correlation between cycling uptake and car ownership and traffic flow\n",
    "# Even though the relationship is not linear, car ownership and thus traffic flow should be targetted for reduction\n",
    "# This will improve cycling uptake"
   ]
  },
  {
   "cell_type": "markdown",
   "id": "362035fb",
   "metadata": {},
   "source": [
    "### Regression Analysis\n",
    "\n",
    "Will help quantify visualisations in the pairplots above"
   ]
  },
  {
   "cell_type": "markdown",
   "id": "06a2fb8b",
   "metadata": {},
   "source": [
    "Car Ownership & Traffic Flow"
   ]
  },
  {
   "cell_type": "code",
   "execution_count": null,
   "id": "be6fedc6",
   "metadata": {},
   "outputs": [],
   "source": [
    "# Set up a Simple Linear Regression Model\n",
    "# Dependent Variable.\n",
    "y = df10['traffic flow']\n",
    "\n",
    "# Independent Variable.\n",
    "x = df10['car ownership']\n",
    "\n",
    "# OLS model.\n",
    "f = 'y ~ x'\n",
    "test = ols(f, data=df10).fit()\n",
    "print(test.summary())\n",
    "\n",
    "# Pretty strong R2 suggesting 72% of changes in traffic flow are caused by changes in car ownership \n",
    "# Prob F-stat is much smaller than the threshold which testifies that the variables are significant\n",
    "# Large value F Statistic also suggests that the null hypothesis can be rejected\n",
    "# p-value supports this\n",
    "# Meaning we can hypothesise statistically that traffic flow and car ownership affect each other"
   ]
  },
  {
   "cell_type": "markdown",
   "id": "05f8a908",
   "metadata": {},
   "source": [
    "Car Ownership & Cycling uptake"
   ]
  },
  {
   "cell_type": "code",
   "execution_count": null,
   "id": "f8f20853",
   "metadata": {},
   "outputs": [],
   "source": [
    "# Set up a simple linear regression model\n",
    "# Dependent Variable.\n",
    "y = df10['cycling uptake']\n",
    "\n",
    "# Independent Variable.\n",
    "x = df10['car ownership']\n",
    "\n",
    "# OLS model.\n",
    "f = 'y ~ x'\n",
    "test = ols(f, data=df10).fit()\n",
    "print(test.summary())\n",
    "\n",
    "# Much lower R2 which was to be expected \n",
    "# Non linear relationship between the variables was previously visualised\n",
    "# However F Statistic supports that a relationship exists between the variables."
   ]
  },
  {
   "cell_type": "markdown",
   "id": "205383d5",
   "metadata": {},
   "source": [
    "Traffic Flow & Cycling uptake"
   ]
  },
  {
   "cell_type": "code",
   "execution_count": null,
   "id": "95abf669",
   "metadata": {},
   "outputs": [],
   "source": [
    "# Set up a simple linear regression model\n",
    "# Dependent Variable.\n",
    "y = df10['cycling uptake']\n",
    "\n",
    "# Independent Variable.\n",
    "x = df10['traffic flow']\n",
    "\n",
    "# OLS model.\n",
    "f = 'y ~ x'\n",
    "test = ols(f, data=df10).fit()\n",
    "print(test.summary())\n",
    "\n",
    "# Even lower R - squared but again output is expected\n",
    "# A non linear relationship between the variables was previously visualised\n",
    "# Not real world useful\n",
    "# F Statistic still significant enough to suggest a relationship between variables\n"
   ]
  },
  {
   "cell_type": "markdown",
   "id": "bf6246b4",
   "metadata": {},
   "source": [
    "Considering all the factors impacting cycling uptake the most"
   ]
  },
  {
   "cell_type": "code",
   "execution_count": null,
   "id": "b1593ebb",
   "metadata": {},
   "outputs": [],
   "source": [
    "# Visualise the MLR using a jointplot\n",
    "# Main chart shows how the two variables x & y behave with respect to each other\n",
    "# Chart at the top shows distribution of independent variable\n",
    "# Chart at the right hand side shows distribution of y variable\n",
    "\n",
    "sns.set(style=\"darkgrid\")\n",
    "sns.jointplot(x='traffic flow',y='cycling uptake',data=df10, kind=\"reg\")\n",
    "sns.jointplot(x='car ownership',y='cycling uptake',data=df10, kind=\"reg\")\n",
    "plt.show()\n",
    "\n",
    "# Confirms that neither distributions are normal\n",
    "# Main charts confirm that the relationship between the variables are not linear\n",
    "# This can be viewed as a zoomed summary of the information previously presented in the pairplots"
   ]
  },
  {
   "cell_type": "code",
   "execution_count": null,
   "id": "60dbef75",
   "metadata": {},
   "outputs": [],
   "source": []
  },
  {
   "cell_type": "markdown",
   "id": "8355c5c5",
   "metadata": {},
   "source": [
    "# External Data Source: Comparison purposes"
   ]
  },
  {
   "cell_type": "code",
   "execution_count": null,
   "id": "e89f0bfc",
   "metadata": {},
   "outputs": [],
   "source": [
    "lon_traffic = pd.read_csv('dft_traffic_counts_raw_counts.csv')"
   ]
  },
  {
   "cell_type": "code",
   "execution_count": null,
   "id": "cd8567f4",
   "metadata": {},
   "outputs": [],
   "source": [
    "lon_traffic.head()"
   ]
  },
  {
   "cell_type": "code",
   "execution_count": null,
   "id": "2070d2b1",
   "metadata": {},
   "outputs": [],
   "source": [
    "lon_traffic.info()"
   ]
  },
  {
   "cell_type": "code",
   "execution_count": null,
   "id": "36b4d662",
   "metadata": {},
   "outputs": [],
   "source": [
    "lon_traffic['Year'].unique()"
   ]
  },
  {
   "cell_type": "code",
   "execution_count": null,
   "id": "fac81213",
   "metadata": {},
   "outputs": [],
   "source": [
    "lon_traffic = lon_traffic.drop(lon_traffic.columns[[5,6,7,8,9,10,11,12,13,14,15,16,17,20,21]] , axis=1)"
   ]
  },
  {
   "cell_type": "code",
   "execution_count": null,
   "id": "f56b4856",
   "metadata": {},
   "outputs": [],
   "source": [
    "lon_traffic.isna().sum()"
   ]
  },
  {
   "cell_type": "code",
   "execution_count": null,
   "id": "8cbce40f",
   "metadata": {},
   "outputs": [],
   "source": [
    "lon_traffic.info()"
   ]
  },
  {
   "cell_type": "code",
   "execution_count": null,
   "id": "427a2c29",
   "metadata": {},
   "outputs": [],
   "source": [
    "lon_traffic['tot_count'] = lon_traffic.iloc[:,7:17].sum(axis=1)"
   ]
  },
  {
   "cell_type": "code",
   "execution_count": null,
   "id": "f5d034fb",
   "metadata": {},
   "outputs": [],
   "source": [
    "lon_traffic.head(4)"
   ]
  },
  {
   "cell_type": "code",
   "execution_count": null,
   "id": "6c38aafe",
   "metadata": {},
   "outputs": [],
   "source": [
    "london_complete_temp = london_complete"
   ]
  },
  {
   "cell_type": "code",
   "execution_count": null,
   "id": "fb0123ed",
   "metadata": {},
   "outputs": [],
   "source": [
    "london_complete_temp.info()"
   ]
  },
  {
   "cell_type": "code",
   "execution_count": null,
   "id": "3fd9cac7",
   "metadata": {},
   "outputs": [],
   "source": [
    "covid_dates = [(london_complete['survey_date'].between (\"2020-03-18\", \"2020-09-21\")),\n",
    "                (london_complete['survey_date'].between (\"2020-09-21\", \"2020-12-30\")),\n",
    "                (london_complete['survey_date'].between (\"2020-12-31\", \"2021-07-07\")),\n",
    "                (london_complete['survey_date'].between (\"2021-07-08\", \"2021-10-21\"))\n",
    "               ]\n",
    "\n",
    "values = ['0', '1', '2', '3']\n",
    "\n",
    "london_complete['covid_status'] = np.select(covid_dates, values)"
   ]
  },
  {
   "cell_type": "code",
   "execution_count": null,
   "id": "36af1666",
   "metadata": {},
   "outputs": [],
   "source": [
    "london_complete"
   ]
  },
  {
   "cell_type": "code",
   "execution_count": null,
   "id": "1cbb8603",
   "metadata": {},
   "outputs": [],
   "source": [
    "london_complete_temp['covid_status'] = (london_complete_temp.loc[london_complete_temp[\"survey_date\"].between(\"2020-03-18\", \"2020-09-21\")]).assign(covid_status=0)"
   ]
  },
  {
   "cell_type": "code",
   "execution_count": null,
   "id": "ca25c848",
   "metadata": {},
   "outputs": [],
   "source": [
    "london_complete.loc[london_complete['covid_status'] == '1']"
   ]
  },
  {
   "cell_type": "code",
   "execution_count": null,
   "id": "b2038fe7",
   "metadata": {},
   "outputs": [],
   "source": []
  }
 ],
 "metadata": {
  "kernelspec": {
   "display_name": "Python 3 (ipykernel)",
   "language": "python",
   "name": "python3"
  },
  "language_info": {
   "codemirror_mode": {
    "name": "ipython",
    "version": 3
   },
   "file_extension": ".py",
   "mimetype": "text/x-python",
   "name": "python",
   "nbconvert_exporter": "python",
   "pygments_lexer": "ipython3",
   "version": "3.9.7"
  }
 },
 "nbformat": 4,
 "nbformat_minor": 5
}
