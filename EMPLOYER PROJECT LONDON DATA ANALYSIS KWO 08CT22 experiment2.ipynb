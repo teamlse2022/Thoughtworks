{
 "cells": [
  {
   "cell_type": "markdown",
   "id": "3af11f6b",
   "metadata": {},
   "source": [
    "# Cleaned London Count and Spatial Data - Analysis"
   ]
  },
  {
   "cell_type": "markdown",
   "id": "e2eb9a90",
   "metadata": {},
   "source": [
    "## Rationale & Methodology\n",
    "\n",
    "### Descriptive Analytics\n",
    "- Import the necessary libraries\n",
    "- Group / format data as necessary\n",
    "- Discover which variables impact the total cyclist counts via heatmaps\n",
    "- Fit to a multilinear regression model (with caveats, eg check for multicollinearity, breushpagan etc)\n",
    "- For demographic / gender data: utilise t-tests to check if the percentage of men and women are significant year on year\n",
    "- Utilise Tableau and maybe SQL to get top 10 sites etc.\n",
    "- Utilise faceted plots to find as many sub-trends as possible.\n",
    "\n",
    "### Diagnostic Analytics\n",
    "- Match patterns seen in the data with research done by Javier.\n",
    "\n",
    "### Predictive Analytics\n",
    "- Fit the data into an MLR model or use ARIMA / time-series decomposition to break down the charts\n"
   ]
  },
  {
   "cell_type": "code",
   "execution_count": null,
   "id": "b26feec7",
   "metadata": {},
   "outputs": [],
   "source": [
    "# Import the necessary libraries and packages\n",
    "import pandas as pd\n",
    "import numpy as np\n",
    "import matplotlib.pyplot as plt\n",
    "import seaborn as sns\n",
    "\n",
    "!pip install plotly\n",
    "import plotly.express as px"
   ]
  },
  {
   "cell_type": "code",
   "execution_count": null,
   "id": "980c5cdb",
   "metadata": {},
   "outputs": [],
   "source": [
    "# Load the cleaned London dataset.\n",
    "london_clean = pd.read_csv(\"london_count_and_site_Saurav_071022.csv\")"
   ]
  },
  {
   "cell_type": "code",
   "execution_count": null,
   "id": "5b7e599a",
   "metadata": {},
   "outputs": [],
   "source": [
    "# Check the cleaned dataset.\n",
    "london_clean.head()"
   ]
  },
  {
   "cell_type": "markdown",
   "id": "45b87604",
   "metadata": {},
   "source": [
    "From the data we can tell the following unique values\n",
    "- reference: https://www.askpython.com/python/built-in-methods/unique-values-from-a-dataframe"
   ]
  },
  {
   "cell_type": "code",
   "execution_count": null,
   "id": "6a0e1201",
   "metadata": {},
   "outputs": [],
   "source": [
    "# Find all the column names.\n",
    "list(london_clean)"
   ]
  },
  {
   "cell_type": "code",
   "execution_count": null,
   "id": "90a23671",
   "metadata": {},
   "outputs": [],
   "source": [
    "# Remove unnecessary column names.\n",
    "london_clean.pop(\"Unnamed: 0\")\n",
    "\n",
    "# View the list of columns\n",
    "list(london_clean)"
   ]
  },
  {
   "cell_type": "code",
   "execution_count": null,
   "id": "440e5404",
   "metadata": {},
   "outputs": [],
   "source": [
    "# Find the unique entries of independent variables of interest.\n",
    "print(pd.unique(london_clean.weather))\n",
    "print(pd.unique(london_clean.survey_year))\n",
    "print(pd.unique(london_clean.period))\n",
    "print(pd.unique(london_clean.direction))\n",
    "print(pd.unique(london_clean.day_of_week))\n",
    "print(pd.unique(london_clean.season))\n",
    "print(pd.unique(london_clean.surveydescription))\n",
    "print(pd.unique(london_clean.borough))\n",
    "print(pd.unique(london_clean.functional_cycling_area))\n",
    "print(pd.unique(london_clean.month))"
   ]
  },
  {
   "cell_type": "code",
   "execution_count": null,
   "id": "f0098fe4",
   "metadata": {},
   "outputs": [],
   "source": [
    "# Possible set of independent variables for investigation: \n",
    "# Weather, Period, Direction, Day of the week, Season, Functional cycling Area\n",
    "\n",
    "# Borough Names can be used for labels.\n",
    "\n",
    "# Utilise Macro-level year-on-year analysis first\n",
    "# Then drill down month-on-month"
   ]
  },
  {
   "cell_type": "code",
   "execution_count": null,
   "id": "0563a17c",
   "metadata": {
    "scrolled": true
   },
   "outputs": [],
   "source": [
    "london_locations = london_clean[[\"site_id\",\"location\",\"latitude\",\"longitude\"]]\n",
    "london_locations = london_locations.drop_duplicates()\n",
    "\n",
    "london_weather = london_clean.groupby([\"survey_year\", \"site_id\", \"weather\"]).agg(\"sum\").reset_index()\n",
    "london_weather = london_weather[[\"survey_year\",\"site_id\",\"weather\",\"total_cycles\"]]\n",
    "\n",
    "london_weather_YoY_data = pd.merge(london_weather,london_locations,how=\"left\",on=\"site_id\")\n",
    "\n",
    "# https://pandas.pydata.org/pandas-docs/stable/reference/api/pandas.DataFrame.pivot.html\n",
    "# https://pandas.pydata.org/pandas-docs/stable/reference/api/pandas.DataFrame.pivot_table.html\n",
    "# https://www.geeksforgeeks.org/how-to-fill-nan-values-with-mean-in-pandas/"
   ]
  },
  {
   "cell_type": "markdown",
   "id": "137ce0a8",
   "metadata": {},
   "source": [
    "# Heatmaps of total cyclist count by Weather condition"
   ]
  },
  {
   "cell_type": "markdown",
   "id": "922a9639",
   "metadata": {},
   "source": [
    "# Good Weather"
   ]
  },
  {
   "cell_type": "code",
   "execution_count": null,
   "id": "2a4ebf31",
   "metadata": {},
   "outputs": [],
   "source": [
    "fig = px.density_mapbox(london_weather_YoY_data[london_weather_YoY_data[\"weather\"]==\"Good\"],\n",
    "                        lat='latitude', \n",
    "                        lon='longitude', \n",
    "                        z='total_cycles', \n",
    "                        radius=10,\n",
    "                        center=dict(lat=0, \n",
    "                                    lon=180), \n",
    "                        animation_frame=\"survey_year\",\n",
    "                        zoom=0,\n",
    "                        hover_name=\"location\",\n",
    "                        hover_data={\"survey_year\":True,\n",
    "                                    \"site_id\":False,\n",
    "                                    \"weather\":True,\n",
    "                                    \"total_cycles\":True,\n",
    "                                   \"location\":True,\n",
    "                                   \"latitude\":False,\n",
    "                                   \"longitude\":False},\n",
    "                                      title=\"Year-On-Year variation in total Cyclist Counts in london in Good Weather\",\n",
    "                                      height=1000,\n",
    "                                      width=1000,\n",
    "                                      opacity=1,\n",
    "                                      mapbox_style=\"stamen-terrain\")\n",
    "fig.show()"
   ]
  },
  {
   "cell_type": "markdown",
   "id": "5f7f1100",
   "metadata": {},
   "source": [
    "## Damp weather"
   ]
  },
  {
   "cell_type": "code",
   "execution_count": null,
   "id": "9e286b93",
   "metadata": {},
   "outputs": [],
   "source": [
    "fig = px.density_mapbox(london_weather_YoY_data[london_weather_YoY_data[\"weather\"]==\"Damp\"],\n",
    "                        lat='latitude', \n",
    "                        lon='longitude', \n",
    "                        z='total_cycles', \n",
    "                        radius=10,\n",
    "                        center=dict(lat=0, \n",
    "                                    lon=180), \n",
    "                        animation_frame=\"survey_year\",\n",
    "                        zoom=0,\n",
    "                        hover_name=\"location\",\n",
    "                        hover_data={\"survey_year\":True,\n",
    "                                    \"site_id\":False,\n",
    "                                    \"weather\":True,\n",
    "                                    \"total_cycles\":True,\n",
    "                                   \"location\":True,\n",
    "                                   \"latitude\":False,\n",
    "                                   \"longitude\":False},\n",
    "                                      title=\"Year-On-Year variation in total Cyclist Counts in london in Damp Weather\",\n",
    "                                      height=1000,\n",
    "                                      width=1000,\n",
    "                                      opacity=1,\n",
    "                                      mapbox_style=\"stamen-terrain\")\n",
    "fig.show()"
   ]
  },
  {
   "cell_type": "markdown",
   "id": "73c15854",
   "metadata": {},
   "source": [
    "## Rainy weather"
   ]
  },
  {
   "cell_type": "code",
   "execution_count": null,
   "id": "427df31e",
   "metadata": {},
   "outputs": [],
   "source": [
    "fig = px.density_mapbox(london_weather_YoY_data[london_weather_YoY_data[\"weather\"]==\"Rain\"],\n",
    "                        lat='latitude', \n",
    "                        lon='longitude', \n",
    "                        z='total_cycles', \n",
    "                        radius=10,\n",
    "                        center=dict(lat=0, \n",
    "                                    lon=180), \n",
    "                        animation_frame=\"survey_year\",\n",
    "                        zoom=0,\n",
    "                        hover_name=\"location\",\n",
    "                        hover_data={\"survey_year\":True,\n",
    "                                    \"site_id\":False,\n",
    "                                    \"weather\":True,\n",
    "                                    \"total_cycles\":True,\n",
    "                                   \"location\":True,\n",
    "                                   \"latitude\":False,\n",
    "                                   \"longitude\":False},\n",
    "                                      title=\"Year-On-Year variation in total Cyclist Counts in london in Rainy Weather\",\n",
    "                                      height=1000,\n",
    "                                      width=1000,\n",
    "                                      opacity=1,\n",
    "                                      mapbox_style=\"stamen-terrain\")\n",
    "fig.show()"
   ]
  },
  {
   "cell_type": "markdown",
   "id": "26b6daab",
   "metadata": {},
   "source": [
    "## Dangerous Weather"
   ]
  },
  {
   "cell_type": "code",
   "execution_count": null,
   "id": "196dbfd6",
   "metadata": {},
   "outputs": [],
   "source": [
    "fig = px.density_mapbox(london_weather_YoY_data[london_weather_YoY_data[\"weather\"]==\"Dangerous_Conditions\"],\n",
    "                        lat='latitude', \n",
    "                        lon='longitude', \n",
    "                        z='total_cycles', \n",
    "                        radius=10,\n",
    "                        center=dict(lat=0, \n",
    "                                    lon=180), \n",
    "                        animation_frame=\"survey_year\",\n",
    "                        zoom=0,\n",
    "                        hover_name=\"location\",\n",
    "                        hover_data={\"survey_year\":True,\n",
    "                                    \"site_id\":False,\n",
    "                                    \"weather\":True,\n",
    "                                    \"total_cycles\":True,\n",
    "                                   \"location\":True,\n",
    "                                   \"latitude\":False,\n",
    "                                   \"longitude\":False},\n",
    "                                      title=\"Year-On-Year variation in total Cyclist Counts in london in Dangerous Weather\",\n",
    "                                      height=1000,\n",
    "                                      width=1000,\n",
    "                                      opacity=1,\n",
    "                                      mapbox_style=\"stamen-terrain\")\n",
    "fig.show()"
   ]
  },
  {
   "cell_type": "markdown",
   "id": "e2a4876d",
   "metadata": {},
   "source": [
    "# Heatmaps of total cyclist count by time period"
   ]
  },
  {
   "cell_type": "markdown",
   "id": "4c59e52c",
   "metadata": {},
   "source": [
    "## Early Morning (6-7am)"
   ]
  },
  {
   "cell_type": "code",
   "execution_count": null,
   "id": "25167325",
   "metadata": {},
   "outputs": [],
   "source": [
    "london_locations = london_clean[[\"site_id\",\"location\",\"latitude\",\"longitude\"]]\n",
    "london_locations = london_locations.drop_duplicates()\n",
    "\n",
    "london_period = london_clean.groupby([\"survey_year\", \"site_id\", \"period\"]).agg(\"sum\").reset_index()\n",
    "london_period = london_period[[\"survey_year\",\"site_id\",\"period\",\"total_cycles\"]]\n",
    "\n",
    "london_period_YoY_data = pd.merge(london_period,london_locations,how=\"left\",on=\"site_id\")\n",
    "\n",
    "fig = px.density_mapbox(london_period_YoY_data[london_period_YoY_data[\"period\"]==\"Early Morning (06:00-07:00)\"],\n",
    "                        lat='latitude', \n",
    "                        lon='longitude', \n",
    "                        z='total_cycles', \n",
    "                        radius=10,\n",
    "                        center=dict(lat=0, \n",
    "                                   lon=180), \n",
    "                        animation_frame=\"survey_year\",\n",
    "                        zoom=0,\n",
    "                        hover_name=\"location\",\n",
    "                        hover_data={\"survey_year\":True,\n",
    "                                    \"site_id\":False,\n",
    "                                    \"period\":True,\n",
    "                                    \"total_cycles\":True,\n",
    "                                   \"location\":True,\n",
    "                                   \"latitude\":False,\n",
    "                                   \"longitude\":False},\n",
    "                                      title=\"Year-On-Year variation in total Cyclist Counts in london in the Early Morning\",\n",
    "                                      height=1000,\n",
    "                                      width=1000,\n",
    "                                      opacity=1,\n",
    "                                      mapbox_style=\"stamen-terrain\")\n",
    "fig.show()"
   ]
  },
  {
   "cell_type": "markdown",
   "id": "30aad753",
   "metadata": {},
   "source": [
    "## Morning Peak Hours"
   ]
  },
  {
   "cell_type": "code",
   "execution_count": null,
   "id": "e199202d",
   "metadata": {},
   "outputs": [],
   "source": [
    "london_locations = london_clean[[\"site_id\",\"location\",\"latitude\",\"longitude\"]]\n",
    "london_locations = london_locations.drop_duplicates()\n",
    "\n",
    "london_period = london_clean.groupby([\"survey_year\", \"site_id\", \"period\"]).agg(\"sum\").reset_index()\n",
    "london_period = london_period[[\"survey_year\",\"site_id\",\"period\",\"total_cycles\"]]\n",
    "\n",
    "london_period_YoY_data = pd.merge(london_period,london_locations,how=\"left\",on=\"site_id\")\n",
    "\n",
    "fig = px.density_mapbox(london_period_YoY_data[london_period_YoY_data[\"period\"]==\"AM peak (07:00-10:00)\"],\n",
    "                        lat='latitude', \n",
    "                        lon='longitude', \n",
    "                        z='total_cycles', \n",
    "                        radius=10,\n",
    "                        center=dict(lat=0, \n",
    "                                    lon=180), \n",
    "                        animation_frame=\"survey_year\",\n",
    "                        zoom=0,\n",
    "                        hover_name=\"location\",\n",
    "                        hover_data={\"survey_year\":True,\n",
    "                                    \"site_id\":False,\n",
    "                                    \"period\":True,\n",
    "                                    \"total_cycles\":True,\n",
    "                                   \"location\":True,\n",
    "                                   \"latitude\":False,\n",
    "                                   \"longitude\":False},\n",
    "                                      title=\"Year-On-Year variation in total Cyclist Counts in london during Morning Peak hours\",\n",
    "                                      height=1000,\n",
    "                                      width=1000,\n",
    "                                      opacity=1,\n",
    "                                      mapbox_style=\"stamen-terrain\")\n",
    "fig.show()"
   ]
  },
  {
   "cell_type": "markdown",
   "id": "67580f12",
   "metadata": {},
   "source": [
    "## Inter-peak Hours (10am-4pm)"
   ]
  },
  {
   "cell_type": "code",
   "execution_count": null,
   "id": "0b63d067",
   "metadata": {},
   "outputs": [],
   "source": [
    "london_locations = london_clean[[\"site_id\",\"location\",\"latitude\",\"longitude\"]]\n",
    "london_locations = london_locations.drop_duplicates()\n",
    "\n",
    "london_period = london_clean.groupby([\"survey_year\", \"site_id\", \"period\"]).agg(\"sum\").reset_index()\n",
    "london_period = london_period[[\"survey_year\",\"site_id\",\"period\",\"total_cycles\"]]\n",
    "\n",
    "london_period_YoY_data = pd.merge(london_period,london_locations,how=\"left\",on=\"site_id\")\n",
    "\n",
    "fig = px.density_mapbox(london_period_YoY_data[london_period_YoY_data[\"period\"]==\"Inter-peak (10:00-16:00)\"],\n",
    "                        lat='latitude', \n",
    "                        lon='longitude', \n",
    "                        z='total_cycles', \n",
    "                        radius=10,\n",
    "                        center=dict(lat=0, \n",
    "                                    lon=180), \n",
    "                        animation_frame=\"survey_year\",\n",
    "                        zoom=0,\n",
    "                        hover_name=\"location\",\n",
    "                        hover_data={\"survey_year\":True,\n",
    "                                    \"site_id\":False,\n",
    "                                    \"period\":True,\n",
    "                                    \"total_cycles\":True,\n",
    "                                   \"location\":True,\n",
    "                                   \"latitude\":False,\n",
    "                                   \"longitude\":False},\n",
    "                                      title=\"Year-On-Year variation in total Cyclist Counts in london during Inter-Peak hours\",\n",
    "                                      height=1000,\n",
    "                                      width=1000,\n",
    "                                      opacity=1,\n",
    "                                      mapbox_style=\"stamen-terrain\")\n",
    "fig.show()"
   ]
  },
  {
   "cell_type": "markdown",
   "id": "0e0e8ed5",
   "metadata": {},
   "source": [
    "## Afternoon Peak hours (4-7pm)"
   ]
  },
  {
   "cell_type": "code",
   "execution_count": null,
   "id": "a43aa92e",
   "metadata": {},
   "outputs": [],
   "source": [
    "london_locations = london_clean[[\"site_id\",\"location\",\"latitude\",\"longitude\"]]\n",
    "london_locations = london_locations.drop_duplicates()\n",
    "\n",
    "london_period = london_clean.groupby([\"survey_year\", \"site_id\", \"period\"]).agg(\"sum\").reset_index()\n",
    "london_period = london_period[[\"survey_year\",\"site_id\",\"period\",\"total_cycles\"]]\n",
    "\n",
    "london_period_YoY_data = pd.merge(london_period,london_locations,how=\"left\",on=\"site_id\")\n",
    "\n",
    "fig = px.density_mapbox(london_period_YoY_data[london_period_YoY_data[\"period\"]==\"PM peak (16:00-19:00)\"],\n",
    "                        lat='latitude', \n",
    "                        lon='longitude', \n",
    "                        z='total_cycles', \n",
    "                        radius=10,\n",
    "                        center=dict(lat=0, \n",
    "                                    lon=180), \n",
    "                        animation_frame=\"survey_year\",\n",
    "                        zoom=0,\n",
    "                        hover_name=\"location\",\n",
    "                        hover_data={\"survey_year\":True,\n",
    "                                    \"site_id\":False,\n",
    "                                    \"period\":True,\n",
    "                                    \"total_cycles\":True,\n",
    "                                   \"location\":True,\n",
    "                                   \"latitude\":False,\n",
    "                                   \"longitude\":False},\n",
    "                                      title=\"Year-On-Year variation in total Cyclist Counts in london during Afternoon Peak hours\",\n",
    "                                      height=1000,\n",
    "                                      width=1000,\n",
    "                                      opacity=1,\n",
    "                                      mapbox_style=\"stamen-terrain\")\n",
    "fig.show()"
   ]
  },
  {
   "cell_type": "markdown",
   "id": "195eb758",
   "metadata": {},
   "source": [
    "## Evening hours (7pm-10pm)"
   ]
  },
  {
   "cell_type": "code",
   "execution_count": null,
   "id": "bcb86f97",
   "metadata": {},
   "outputs": [],
   "source": [
    "london_locations = london_clean[[\"site_id\",\"location\",\"latitude\",\"longitude\"]]\n",
    "london_locations = london_locations.drop_duplicates()\n",
    "\n",
    "london_period = london_clean.groupby([\"survey_year\", \"site_id\", \"period\"]).agg(\"sum\").reset_index()\n",
    "london_period = london_period[[\"survey_year\",\"site_id\",\"period\",\"total_cycles\"]]\n",
    "\n",
    "london_period_YoY_data = pd.merge(london_period,london_locations,how=\"left\",on=\"site_id\")\n",
    "\n",
    "fig = px.density_mapbox(london_period_YoY_data[london_period_YoY_data[\"period\"]==\"Evening (19:00-22:00)\"],\n",
    "                        lat='latitude', \n",
    "                        lon='longitude', \n",
    "                        z='total_cycles', \n",
    "                        radius=10,\n",
    "                        center=dict(lat=0, \n",
    "                                    lon=180), \n",
    "                        animation_frame=\"survey_year\",\n",
    "                        zoom=0,\n",
    "                        hover_name=\"location\",\n",
    "                        hover_data={\"survey_year\":True,\n",
    "                                    \"site_id\":False,\n",
    "                                    \"period\":True,\n",
    "                                    \"total_cycles\":True,\n",
    "                                   \"location\":True,\n",
    "                                   \"latitude\":False,\n",
    "                                   \"longitude\":False},\n",
    "                                      title=\"Year-On-Year variation in total Cyclist Counts in london during Evening hours\",\n",
    "                                      height=1000,\n",
    "                                      width=1000,\n",
    "                                      opacity=1,\n",
    "                                      mapbox_style=\"stamen-terrain\")\n",
    "fig.show()"
   ]
  },
  {
   "cell_type": "markdown",
   "id": "6644bb7b",
   "metadata": {},
   "source": [
    "# Heatmap showing the average number of cyclists throughout the day"
   ]
  },
  {
   "cell_type": "code",
   "execution_count": null,
   "id": "acac1f7d",
   "metadata": {},
   "outputs": [],
   "source": [
    "london_locations = london_clean[[\"site_id\",\"location\",\"latitude\",\"longitude\"]]\n",
    "london_locations = london_locations.drop_duplicates()\n",
    "\n",
    "london_period2 = london_clean.groupby([\"site_id\", \"period\",\"time\"]).agg(\"mean\").reset_index()\n",
    "london_period2 = london_period2.sort_values(by=\"time\",ascending=True)\n",
    "london_period2 = london_period2[[\"site_id\",\"period\",\"total_cycles\"]]\n",
    "\n",
    "london_period2_data = pd.merge(london_period2,london_locations,how=\"left\",on=\"site_id\")\n",
    "\n",
    "fig = px.density_mapbox(london_period2_data,\n",
    "                        lat='latitude', \n",
    "                        lon='longitude', \n",
    "                        z='total_cycles', \n",
    "                        radius=10,\n",
    "                        center=dict(lat=0, \n",
    "                                    lon=180), \n",
    "                        animation_frame=\"period\",\n",
    "                        zoom=0,\n",
    "                        hover_name=\"location\",\n",
    "                        hover_data={\"site_id\":False,\n",
    "                                    \"period\":True,\n",
    "                                    \"total_cycles\":True,\n",
    "                                   \"location\":True,\n",
    "                                   \"latitude\":False,\n",
    "                                   \"longitude\":False},\n",
    "                                      title=\"Average number of cyclists throughout different times of the day\",\n",
    "                                      height=1000,\n",
    "                                      width=1000,\n",
    "                                      opacity=1,\n",
    "                                      mapbox_style=\"stamen-terrain\")\n",
    "fig.show()"
   ]
  },
  {
   "cell_type": "markdown",
   "id": "4d98bbd6",
   "metadata": {},
   "source": [
    "# Heatmap showing the total number of cyclists by day of the week"
   ]
  },
  {
   "cell_type": "markdown",
   "id": "a752e98e",
   "metadata": {},
   "source": [
    "## Monday"
   ]
  },
  {
   "cell_type": "code",
   "execution_count": null,
   "id": "20073961",
   "metadata": {},
   "outputs": [],
   "source": [
    "london_locations = london_clean[[\"site_id\",\"location\",\"latitude\",\"longitude\"]]\n",
    "london_locations = london_locations.drop_duplicates()\n",
    "\n",
    "london_day_of_wk = london_clean.groupby([\"survey_year\", \"site_id\", \"day_of_week\"]).agg(\"sum\").reset_index()\n",
    "london_day_of_wk = london_day_of_wk[[\"survey_year\",\"site_id\",\"day_of_week\",\"total_cycles\"]]\n",
    "\n",
    "london_DOW_data = pd.merge(london_day_of_wk,london_locations,how=\"left\",on=\"site_id\")\n",
    "\n",
    "fig = px.density_mapbox(london_DOW_data[london_DOW_data[\"day_of_week\"]==\"Monday\"],\n",
    "                        lat='latitude', \n",
    "                        lon='longitude', \n",
    "                        z='total_cycles', \n",
    "                        radius=10,\n",
    "                        center=dict(lat=0, \n",
    "                                    lon=180), \n",
    "                        animation_frame=\"survey_year\",\n",
    "                        zoom=0,\n",
    "                        hover_name=\"location\",\n",
    "                        hover_data={\"survey_year\":True,\n",
    "                                    \"site_id\":False,\n",
    "                                    \"day_of_week\":True,\n",
    "                                    \"total_cycles\":True,\n",
    "                                   \"location\":True,\n",
    "                                   \"latitude\":False,\n",
    "                                   \"longitude\":False},\n",
    "                                      title=\"Year-On-Year variation in total Cyclist Counts in london on Monday\",\n",
    "                                      height=1000,\n",
    "                                      width=1000,\n",
    "                                      opacity=1,\n",
    "                                      mapbox_style=\"stamen-terrain\")\n",
    "fig.show()"
   ]
  },
  {
   "cell_type": "markdown",
   "id": "40011410",
   "metadata": {},
   "source": [
    "# Tuesday"
   ]
  },
  {
   "cell_type": "code",
   "execution_count": null,
   "id": "e7dc6750",
   "metadata": {},
   "outputs": [],
   "source": [
    "fig = px.density_mapbox(london_DOW_data[london_DOW_data[\"day_of_week\"]==\"Tuesday\"],\n",
    "                        lat='latitude', \n",
    "                        lon='longitude', \n",
    "                        z='total_cycles', \n",
    "                        radius=10,\n",
    "                        center=dict(lat=0, \n",
    "                                    lon=180), \n",
    "                        animation_frame=\"survey_year\",\n",
    "                        zoom=0,\n",
    "                        hover_name=\"location\",\n",
    "                        hover_data={\"survey_year\":True,\n",
    "                                    \"site_id\":False,\n",
    "                                    \"day_of_week\":True,\n",
    "                                    \"total_cycles\":True,\n",
    "                                   \"location\":True,\n",
    "                                   \"latitude\":False,\n",
    "                                   \"longitude\":False},\n",
    "                                      title=\"Year-On-Year variation in total Cyclist Counts in london on Tuesday\",\n",
    "                                      height=1000,\n",
    "                                      width=1000,\n",
    "                                      opacity=1,\n",
    "                                      mapbox_style=\"stamen-terrain\")\n",
    "fig.show()"
   ]
  },
  {
   "cell_type": "markdown",
   "id": "1b8d3c1d",
   "metadata": {},
   "source": [
    "# Wednesday"
   ]
  },
  {
   "cell_type": "code",
   "execution_count": null,
   "id": "b783d8c7",
   "metadata": {},
   "outputs": [],
   "source": [
    "fig = px.density_mapbox(london_DOW_data[london_DOW_data[\"day_of_week\"]==\"Wednesday\"],\n",
    "                        lat='latitude', \n",
    "                        lon='longitude', \n",
    "                        z='total_cycles', \n",
    "                        radius=10,\n",
    "                        center=dict(lat=0, \n",
    "                                    lon=180), \n",
    "                        animation_frame=\"survey_year\",\n",
    "                        zoom=0,\n",
    "                        hover_name=\"location\",\n",
    "                        hover_data={\"survey_year\":True,\n",
    "                                    \"site_id\":False,\n",
    "                                    \"day_of_week\":True,\n",
    "                                    \"total_cycles\":True,\n",
    "                                   \"location\":True,\n",
    "                                   \"latitude\":False,\n",
    "                                   \"longitude\":False},\n",
    "                                      title=\"Year-On-Year variation in total Cyclist Counts in london on Wednesday\",\n",
    "                                      height=1000,\n",
    "                                      width=1000,\n",
    "                                      opacity=1,\n",
    "                                      mapbox_style=\"stamen-terrain\")\n",
    "fig.show()"
   ]
  },
  {
   "cell_type": "markdown",
   "id": "50ae3400",
   "metadata": {},
   "source": [
    "# Thursday"
   ]
  },
  {
   "cell_type": "code",
   "execution_count": null,
   "id": "7e7de8f2",
   "metadata": {},
   "outputs": [],
   "source": [
    "fig = px.density_mapbox(london_DOW_data[london_DOW_data[\"day_of_week\"]==\"Thursday\"],\n",
    "                        lat='latitude', \n",
    "                        lon='longitude', \n",
    "                        z='total_cycles', \n",
    "                        radius=10,\n",
    "                        center=dict(lat=0, \n",
    "                                    lon=180), \n",
    "                        animation_frame=\"survey_year\",\n",
    "                        zoom=0,\n",
    "                        hover_name=\"location\",\n",
    "                        hover_data={\"survey_year\":True,\n",
    "                                    \"site_id\":False,\n",
    "                                    \"day_of_week\":True,\n",
    "                                    \"total_cycles\":True,\n",
    "                                   \"location\":True,\n",
    "                                   \"latitude\":False,\n",
    "                                   \"longitude\":False},\n",
    "                                      title=\"Year-On-Year variation in total Cyclist Counts in london on Thursday\",\n",
    "                                      height=1000,\n",
    "                                      width=1000,\n",
    "                                      opacity=1,\n",
    "                                      mapbox_style=\"stamen-terrain\")\n",
    "fig.show()"
   ]
  },
  {
   "cell_type": "markdown",
   "id": "3140f719",
   "metadata": {},
   "source": [
    "# Friday"
   ]
  },
  {
   "cell_type": "code",
   "execution_count": null,
   "id": "0c3364bd",
   "metadata": {},
   "outputs": [],
   "source": [
    "fig = px.density_mapbox(london_DOW_data[london_DOW_data[\"day_of_week\"]==\"Friday\"],\n",
    "                        lat='latitude', \n",
    "                        lon='longitude', \n",
    "                        z='total_cycles', \n",
    "                        radius=10,\n",
    "                        center=dict(lat=0, \n",
    "                                    lon=180), \n",
    "                        animation_frame=\"survey_year\",\n",
    "                        zoom=0,\n",
    "                        hover_name=\"location\",\n",
    "                        hover_data={\"survey_year\":True,\n",
    "                                    \"site_id\":False,\n",
    "                                    \"day_of_week\":True,\n",
    "                                    \"total_cycles\":True,\n",
    "                                   \"location\":True,\n",
    "                                   \"latitude\":False,\n",
    "                                   \"longitude\":False},\n",
    "                                      title=\"Year-On-Year variation in total Cyclist Counts in london on Friday\",\n",
    "                                      height=1000,\n",
    "                                      width=1000,\n",
    "                                      opacity=1,\n",
    "                                      mapbox_style=\"stamen-terrain\")\n",
    "fig.show()"
   ]
  },
  {
   "cell_type": "markdown",
   "id": "0e499cc5",
   "metadata": {},
   "source": [
    "# Saturday "
   ]
  },
  {
   "cell_type": "code",
   "execution_count": null,
   "id": "6407c234",
   "metadata": {},
   "outputs": [],
   "source": [
    "fig = px.density_mapbox(london_DOW_data[london_DOW_data[\"day_of_week\"]==\"Saturday\"],\n",
    "                        lat='latitude', \n",
    "                        lon='longitude', \n",
    "                        z='total_cycles', \n",
    "                        radius=10,\n",
    "                        center=dict(lat=0, \n",
    "                                    lon=180), \n",
    "                        animation_frame=\"survey_year\",\n",
    "                        zoom=0,\n",
    "                        hover_name=\"location\",\n",
    "                        hover_data={\"survey_year\":True,\n",
    "                                    \"site_id\":False,\n",
    "                                    \"day_of_week\":True,\n",
    "                                    \"total_cycles\":True,\n",
    "                                   \"location\":True,\n",
    "                                   \"latitude\":False,\n",
    "                                   \"longitude\":False},\n",
    "                                      title=\"Year-On-Year variation in total Cyclist Counts in london on Saturday\",\n",
    "                                      height=1000,\n",
    "                                      width=1000,\n",
    "                                      opacity=1,\n",
    "                                      mapbox_style=\"stamen-terrain\")\n",
    "fig.show()"
   ]
  },
  {
   "cell_type": "markdown",
   "id": "d1fb4cc0",
   "metadata": {},
   "source": [
    "# Sunday"
   ]
  },
  {
   "cell_type": "code",
   "execution_count": null,
   "id": "aba26261",
   "metadata": {},
   "outputs": [],
   "source": [
    "fig = px.density_mapbox(london_DOW_data[london_DOW_data[\"day_of_week\"]==\"Sunday\"],\n",
    "                        lat='latitude', \n",
    "                        lon='longitude', \n",
    "                        z='total_cycles', \n",
    "                        radius=10,\n",
    "                        center=dict(lat=0, \n",
    "                                    lon=180), \n",
    "                        animation_frame=\"survey_year\",\n",
    "                        zoom=0,\n",
    "                        hover_name=\"location\",\n",
    "                        hover_data={\"survey_year\":True,\n",
    "                                    \"site_id\":False,\n",
    "                                    \"day_of_week\":True,\n",
    "                                    \"total_cycles\":True,\n",
    "                                   \"location\":True,\n",
    "                                   \"latitude\":False,\n",
    "                                   \"longitude\":False},\n",
    "                                      title=\"Year-On-Year variation in total Cyclist Counts in london on Sunday\",\n",
    "                                      height=1000,\n",
    "                                      width=1000,\n",
    "                                      opacity=1,\n",
    "                                      mapbox_style=\"stamen-terrain\")\n",
    "fig.show()"
   ]
  },
  {
   "cell_type": "markdown",
   "id": "cdd841d6",
   "metadata": {},
   "source": [
    "# Heatmaps showing year-on-year total cyclist counts in London by season"
   ]
  },
  {
   "cell_type": "markdown",
   "id": "14f5ede8",
   "metadata": {},
   "source": [
    "# Winter"
   ]
  },
  {
   "cell_type": "code",
   "execution_count": null,
   "id": "2bdd9bc3",
   "metadata": {},
   "outputs": [],
   "source": [
    "london_locations = london_clean[[\"site_id\",\"location\",\"latitude\",\"longitude\"]]\n",
    "london_locations = london_locations.drop_duplicates()\n",
    "\n",
    "london_season = london_clean.groupby([\"survey_year\", \"site_id\", \"season\"]).agg(\"sum\").reset_index()\n",
    "london_season = london_season[[\"survey_year\",\"site_id\",\"season\",\"total_cycles\"]]\n",
    "\n",
    "london_season_data = pd.merge(london_season,london_locations,how=\"left\",on=\"site_id\")\n",
    "\n",
    "fig = px.density_mapbox(london_season_data[london_season_data[\"season\"]==\"Winter\"],\n",
    "                        lat='latitude', \n",
    "                        lon='longitude', \n",
    "                        z='total_cycles', \n",
    "                        radius=10,\n",
    "                        center=dict(lat=0, \n",
    "                                    lon=180), \n",
    "                        animation_frame=\"survey_year\",\n",
    "                        zoom=0,\n",
    "                        hover_name=\"location\",\n",
    "                        hover_data={\"survey_year\":True,\n",
    "                                    \"site_id\":False,\n",
    "                                    \"season\":True,\n",
    "                                    \"total_cycles\":True,\n",
    "                                   \"location\":True,\n",
    "                                   \"latitude\":False,\n",
    "                                   \"longitude\":False},\n",
    "                                      title=\"Year-On-Year variation in total Cyclist Counts in london in Winter\",\n",
    "                                      height=1000,\n",
    "                                      width=1000,\n",
    "                                      opacity=1,\n",
    "                                      mapbox_style=\"stamen-terrain\")\n",
    "fig.show()"
   ]
  },
  {
   "cell_type": "markdown",
   "id": "a40a8cd7",
   "metadata": {},
   "source": [
    "# Spring"
   ]
  },
  {
   "cell_type": "code",
   "execution_count": null,
   "id": "45997552",
   "metadata": {},
   "outputs": [],
   "source": [
    "fig = px.density_mapbox(london_season_data[london_season_data[\"season\"]==\"Spring\"],\n",
    "                        lat='latitude', \n",
    "                        lon='longitude', \n",
    "                        z='total_cycles', \n",
    "                        radius=10,\n",
    "                        center=dict(lat=0, \n",
    "                                    lon=180), \n",
    "                        animation_frame=\"survey_year\",\n",
    "                        zoom=0,\n",
    "                        hover_name=\"location\",\n",
    "                        hover_data={\"survey_year\":True,\n",
    "                                    \"site_id\":False,\n",
    "                                    \"season\":True,\n",
    "                                    \"total_cycles\":True,\n",
    "                                   \"location\":True,\n",
    "                                   \"latitude\":False,\n",
    "                                   \"longitude\":False},\n",
    "                                      title=\"Year-On-Year variation in total Cyclist Counts in london in Spring\",\n",
    "                                      height=1000,\n",
    "                                      width=1000,\n",
    "                                      opacity=1,\n",
    "                                      mapbox_style=\"stamen-terrain\")\n",
    "fig.show()"
   ]
  },
  {
   "cell_type": "markdown",
   "id": "25ed258e",
   "metadata": {},
   "source": [
    "# Autumn"
   ]
  },
  {
   "cell_type": "code",
   "execution_count": null,
   "id": "c91a0fb6",
   "metadata": {},
   "outputs": [],
   "source": [
    "fig = px.density_mapbox(london_season_data[london_season_data[\"season\"]==\"Autumn\"],\n",
    "                        lat='latitude', \n",
    "                        lon='longitude', \n",
    "                        z='total_cycles', \n",
    "                        radius=10,\n",
    "                        center=dict(lat=0, \n",
    "                                    lon=180), \n",
    "                        animation_frame=\"survey_year\",\n",
    "                        zoom=0,\n",
    "                        hover_name=\"location\",\n",
    "                        hover_data={\"survey_year\":True,\n",
    "                                    \"site_id\":False,\n",
    "                                    \"season\":True,\n",
    "                                    \"total_cycles\":True,\n",
    "                                   \"location\":True,\n",
    "                                   \"latitude\":False,\n",
    "                                   \"longitude\":False},\n",
    "                                      title=\"Year-On-Year variation in total Cyclist Counts in london in Autumn\",\n",
    "                                      height=1000,\n",
    "                                      width=1000,\n",
    "                                      opacity=1,\n",
    "                                      mapbox_style=\"stamen-terrain\")\n",
    "fig.show()"
   ]
  },
  {
   "cell_type": "markdown",
   "id": "f2cdc717",
   "metadata": {},
   "source": [
    "# Summer"
   ]
  },
  {
   "cell_type": "code",
   "execution_count": null,
   "id": "b1344edf",
   "metadata": {},
   "outputs": [],
   "source": [
    "fig = px.density_mapbox(london_season_data[london_season_data[\"season\"]==\"Summer\"],\n",
    "                        lat='latitude', \n",
    "                        lon='longitude', \n",
    "                        z='total_cycles', \n",
    "                        radius=10,\n",
    "                        center=dict(lat=0, \n",
    "                                    lon=180), \n",
    "                        animation_frame=\"survey_year\",\n",
    "                        zoom=0,\n",
    "                        hover_name=\"location\",\n",
    "                        hover_data={\"survey_year\":True,\n",
    "                                    \"site_id\":False,\n",
    "                                    \"season\":True,\n",
    "                                    \"total_cycles\":True,\n",
    "                                   \"location\":True,\n",
    "                                   \"latitude\":False,\n",
    "                                   \"longitude\":False},\n",
    "                                      title=\"Year-On-Year variation in total Cyclist Counts in london in Summer\",\n",
    "                                      height=1000,\n",
    "                                      width=1000,\n",
    "                                      opacity=1,\n",
    "                                      mapbox_style=\"stamen-terrain\")\n",
    "fig.show()"
   ]
  },
  {
   "cell_type": "markdown",
   "id": "31c0162e",
   "metadata": {},
   "source": [
    "# Total Cyclist count by Functional Cycling Area"
   ]
  },
  {
   "cell_type": "markdown",
   "id": "cfa34f7a",
   "metadata": {},
   "source": [
    "## Inner"
   ]
  },
  {
   "cell_type": "code",
   "execution_count": null,
   "id": "03513423",
   "metadata": {},
   "outputs": [],
   "source": [
    "london_locations = london_clean[[\"site_id\",\"location\",\"latitude\",\"longitude\"]]\n",
    "london_locations = london_locations.drop_duplicates()\n",
    "\n",
    "london_areas = london_clean.groupby([\"survey_year\", \"site_id\", \"functional_cycling_area\"]).agg(\"sum\").reset_index()\n",
    "london_areas = london_areas[[\"survey_year\",\"site_id\",\"functional_cycling_area\",\"total_cycles\"]]\n",
    "\n",
    "london_area_data = pd.merge(london_areas,london_locations,how=\"left\",on=\"site_id\")\n",
    "\n",
    "fig = px.density_mapbox(london_area_data[london_area_data[\"functional_cycling_area\"]==\"Inner\"],\n",
    "                        lat='latitude', \n",
    "                        lon='longitude', \n",
    "                        z='total_cycles', \n",
    "                        radius=10,\n",
    "                        center=dict(lat=0, \n",
    "                                    lon=180), \n",
    "                        animation_frame=\"survey_year\",\n",
    "                        zoom=0,\n",
    "                        hover_name=\"location\",\n",
    "                        hover_data={\"survey_year\":True,\n",
    "                                    \"site_id\":False,\n",
    "                                    \"functional_cycling_area\":True,\n",
    "                                    \"total_cycles\":True,\n",
    "                                   \"location\":True,\n",
    "                                   \"latitude\":False,\n",
    "                                   \"longitude\":False},\n",
    "                                      title=\"Year-On-Year variation in total Cyclist Counts in Inner london\",\n",
    "                                      height=1000,\n",
    "                                      width=1000,\n",
    "                                      opacity=1,\n",
    "                                      mapbox_style=\"stamen-terrain\")\n",
    "fig.show()"
   ]
  },
  {
   "cell_type": "markdown",
   "id": "21f0fa8e",
   "metadata": {},
   "source": [
    "# Outer London"
   ]
  },
  {
   "cell_type": "code",
   "execution_count": null,
   "id": "bd4fd51b",
   "metadata": {
    "scrolled": true
   },
   "outputs": [],
   "source": [
    "fig = px.density_mapbox(london_area_data[london_area_data[\"functional_cycling_area\"]==\"Outer\"],\n",
    "                        lat='latitude', \n",
    "                        lon='longitude', \n",
    "                        z='total_cycles', \n",
    "                        radius=10,\n",
    "                        center=dict(lat=0, \n",
    "                                    lon=180), \n",
    "                        animation_frame=\"survey_year\",\n",
    "                        zoom=0,\n",
    "                        hover_name=\"location\",\n",
    "                        hover_data={\"survey_year\":True,\n",
    "                                    \"site_id\":False,\n",
    "                                    \"functional_cycling_area\":True,\n",
    "                                    \"total_cycles\":True,\n",
    "                                   \"location\":True,\n",
    "                                   \"latitude\":False,\n",
    "                                   \"longitude\":False},\n",
    "                                      title=\"Year-On-Year variation in total Cyclist Counts in Outer london\",\n",
    "                                      height=1000,\n",
    "                                      width=1000,\n",
    "                                      opacity=1,\n",
    "                                      mapbox_style=\"stamen-terrain\")\n",
    "fig.show()"
   ]
  },
  {
   "cell_type": "markdown",
   "id": "77330857",
   "metadata": {},
   "source": [
    "# Central London"
   ]
  },
  {
   "cell_type": "code",
   "execution_count": null,
   "id": "a1794163",
   "metadata": {},
   "outputs": [],
   "source": [
    "fig = px.density_mapbox(london_area_data[london_area_data[\"functional_cycling_area\"]==\"Central\"],\n",
    "                        lat='latitude', \n",
    "                        lon='longitude', \n",
    "                        z='total_cycles', \n",
    "                        radius=10,\n",
    "                        center=dict(lat=0, \n",
    "                                    lon=180), \n",
    "                        animation_frame=\"survey_year\",\n",
    "                        zoom=0,\n",
    "                        hover_name=\"location\",\n",
    "                        hover_data={\"survey_year\":True,\n",
    "                                    \"site_id\":False,\n",
    "                                    \"functional_cycling_area\":True,\n",
    "                                    \"total_cycles\":True,\n",
    "                                   \"location\":True,\n",
    "                                   \"latitude\":False,\n",
    "                                   \"longitude\":False},\n",
    "                                      title=\"Year-On-Year variation in total Cyclist Counts in Central London\",\n",
    "                                      height=1000,\n",
    "                                      width=1000,\n",
    "                                      opacity=1,\n",
    "                                      mapbox_style=\"stamen-terrain\")\n",
    "fig.show()"
   ]
  },
  {
   "cell_type": "markdown",
   "id": "77c7a874",
   "metadata": {},
   "source": [
    "# Facetplots"
   ]
  },
  {
   "cell_type": "code",
   "execution_count": null,
   "id": "a01a2cb8",
   "metadata": {},
   "outputs": [],
   "source": [
    "list(london_clean)"
   ]
  },
  {
   "cell_type": "code",
   "execution_count": null,
   "id": "3227d59e",
   "metadata": {},
   "outputs": [],
   "source": [
    "london_clean_cycling_area = london_clean[[\"functional_cycling_area\",\"borough\"]]\n",
    "\n",
    "london_grpby_bor_weather = london_clean.groupby([\"survey_year\",\"borough\",\"period\"]).agg(\"sum\").reset_index()\n",
    "london_grpby_bor_weather = london_grpby_bor_weather[[\"survey_year\",\n",
    "                                                    \"borough\",\n",
    "                                                    \"period\",\n",
    "                                                    \"total_cycles\"]]\n",
    "london_grpby_bor_weather_mrg = pd.merge(london_grpby_bor_weather,london_clean_cycling_area,on=\"borough\",how=\"left\")\n",
    "\n",
    "london_clean_catplot_mar = sns.catplot(\n",
    "                            x=\"survey_year\",\n",
    "                            y= \"total_cycles\",\n",
    "                            row= \"borough\",\n",
    "                            col= \"period\",\n",
    "                            kind=\"point\",\n",
    "                            hue=\"functional_cycling_area\",\n",
    "                            data=london_grpby_bor_weather_mrg) "
   ]
  },
  {
   "cell_type": "code",
   "execution_count": null,
   "id": "b6e39e22",
   "metadata": {},
   "outputs": [],
   "source": [
    "london_clean_cycling_area = london_clean[[\"functional_cycling_area\",\"borough\"]]\n",
    "\n",
    "london_grpby_bor_period = london_clean.groupby([\"survey_year\",\"borough\",\"period\"]).agg(\"sum\").reset_index()\n",
    "london_grpby_bor_period = london_grpby_bor_weather[[\"survey_year\",\n",
    "                                                    \"borough\",\n",
    "                                                    \"period\",\n",
    "                                                    \"total_cycles\"]]\n",
    "\n",
    "london_grpby_bor_period_mrg = pd.merge(london_grpby_bor_period,london_clean_cycling_area,on=\"borough\",how=\"left\")\n",
    "\n",
    "london_clean_catplot_period = sns.catplot(\n",
    "                            x=\"survey_year\",\n",
    "                            y= \"total_cycles\",\n",
    "                            row= \"borough\",\n",
    "                            col= \"period\",\n",
    "                            kind=\"point\",\n",
    "                            hue=\"functional_cycling_area\",\n",
    "                            data=london_grpby_bor_weather_mrg) "
   ]
  },
  {
   "cell_type": "code",
   "execution_count": null,
   "id": "11ab2bda",
   "metadata": {},
   "outputs": [],
   "source": [
    "london_clean_cycling_area = london_clean[[\"functional_cycling_area\",\"borough\"]]\n",
    "\n",
    "london_grpby_bor_weather = london_clean.groupby([\"survey_year\",\"borough\",\"season\"]).agg(\"sum\").reset_index()\n",
    "london_grpby_bor_weather = london_grpby_bor_weather[[\"survey_year\",\n",
    "                                                    \"borough\",\n",
    "                                                    \"period\",\n",
    "                                                    \"total_cycles\"]]\n",
    "london_grpby_bor_weather_mrg = pd.merge(london_grpby_bor_weather,london_clean_cycling_area,on=\"borough\",how=\"left\")\n",
    "\n",
    "london_clean_catplot_mar = sns.catplot(\n",
    "                            x=\"survey_year\",\n",
    "                            y= \"total_cycles\",\n",
    "                            row= \"borough\",\n",
    "                            col= \"period\",\n",
    "                            kind=\"point\",\n",
    "                            hue=\"functional_cycling_area\",\n",
    "                            data=london_grpby_bor_weather_mrg) "
   ]
  },
  {
   "cell_type": "code",
   "execution_count": null,
   "id": "482d8c3b",
   "metadata": {},
   "outputs": [],
   "source": [
    "london_clean_cycling_area = london_clean[[\"functional_cycling_area\",\"borough\"]]\n",
    "\n",
    "london_grpby_bor_weather = london_clean.groupby([\"survey_year\",\"borough\",\"day_of_week\"]).agg(\"sum\").reset_index()\n",
    "london_grpby_bor_weather = london_grpby_bor_weather[[\"survey_year\",\n",
    "                                                    \"borough\",\n",
    "                                                    \"period\",\n",
    "                                                    \"total_cycles\"]]\n",
    "london_grpby_bor_weather_mrg = pd.merge(london_grpby_bor_weather,london_clean_cycling_area,on=\"borough\",how=\"left\")\n",
    "\n",
    "london_clean_catplot_mar = sns.catplot(\n",
    "                            x=\"survey_year\",\n",
    "                            y= \"total_cycles\",\n",
    "                            row= \"borough\",\n",
    "                            col= \"period\",\n",
    "                            kind=\"point\",\n",
    "                            hue=\"functional_cycling_area\",\n",
    "                            data=london_grpby_bor_weather_mrg) "
   ]
  },
  {
   "cell_type": "code",
   "execution_count": null,
   "id": "dca43932",
   "metadata": {},
   "outputs": [],
   "source": []
  },
  {
   "cell_type": "markdown",
   "id": "879ab99d",
   "metadata": {},
   "source": [
    "# Observations and Insights: Summary"
   ]
  },
  {
   "cell_type": "code",
   "execution_count": null,
   "id": "7f83019c",
   "metadata": {},
   "outputs": [],
   "source": []
  },
  {
   "cell_type": "code",
   "execution_count": null,
   "id": "9f61d043",
   "metadata": {},
   "outputs": [],
   "source": []
  },
  {
   "cell_type": "markdown",
   "id": "e0873efc",
   "metadata": {},
   "source": [
    "# Testing for variable influence using Multilinear Regression"
   ]
  },
  {
   "cell_type": "code",
   "execution_count": null,
   "id": "aea72048",
   "metadata": {},
   "outputs": [],
   "source": []
  },
  {
   "cell_type": "code",
   "execution_count": null,
   "id": "eea980fb",
   "metadata": {},
   "outputs": [],
   "source": []
  },
  {
   "cell_type": "code",
   "execution_count": null,
   "id": "f032bbc1",
   "metadata": {},
   "outputs": [],
   "source": []
  },
  {
   "cell_type": "markdown",
   "id": "b33fb274",
   "metadata": {},
   "source": [
    "# Understanding demographic data"
   ]
  },
  {
   "cell_type": "code",
   "execution_count": null,
   "id": "d5e32934",
   "metadata": {},
   "outputs": [],
   "source": [
    "london_clean.head()"
   ]
  },
  {
   "cell_type": "markdown",
   "id": "e5bc99a3",
   "metadata": {},
   "source": [
    "# Male-female gender cyclist split"
   ]
  },
  {
   "cell_type": "code",
   "execution_count": null,
   "id": "fad6ef1f",
   "metadata": {},
   "outputs": [],
   "source": [
    "london_clean_m_f_grpby = london_clean.groupby([\"survey_year\"]).agg(\"sum\")\n",
    "london_clean_m_f_grpby = london_clean_m_f_grpby.reset_index()\n",
    "london_clean_m_f_grpby_subset = london_clean_m_f_grpby[[\"survey_year\",\n",
    "                                                        \"number_of_male_cycles\",\n",
    "                                                        \"number_of_female_cycles\"]]\n",
    "london_clean_m_f_grpby_subset = london_clean_m_f_grpby_subset.\\\n",
    "                                rename(columns={\"number_of_male_cycles\": \"Male\",\n",
    "                                               \"number_of_female_cycles\":\"Female\"})\n",
    "\n",
    "london_clean_m_f_grpby_subset = london_clean_m_f_grpby_subset.melt(id_vars=[\"survey_year\"],\n",
    "                                  var_name=\"Gender\",\n",
    "                                  value_name=\"Count\")\n",
    "\n",
    "fig, ax = (15,15)\n",
    "sns.barplot(data=london_clean_m_f_grpby_subset,\n",
    "           x=\"survey_year\",\n",
    "           y=\"Count\",\n",
    "           hue=\"Gender\",\n",
    "           palette=\"colorblind\")\\\n",
    ".set_title(\"Cyclist Distribution by Gender\")\n",
    "\n",
    "# https://stackoverflow.com/questions/44548721/remove-row-with-null-value-from-pandas-data-frame"
   ]
  },
  {
   "cell_type": "code",
   "execution_count": null,
   "id": "874fb073",
   "metadata": {},
   "outputs": [],
   "source": [
    "london_clean_m_f_grpby = london_clean.groupby([\"survey_year\",\"site_id\"]).agg(\"sum\")\n",
    "london_clean_m_f_grpby = london_clean_m_f_grpby.reset_index()\n",
    "london_clean_m_f_grpby_subset = london_clean_m_f_grpby[[\"survey_year\",\n",
    "                                                        \"site_id\",\n",
    "                                                        \"number_of_male_cycles\",\n",
    "                                                        \"number_of_female_cycles\"]]\n",
    "london_clean_m_f_grpby_subset = london_clean_m_f_grpby_subset.\\\n",
    "                                rename(columns={\"number_of_male_cycles\": \"Male\",\n",
    "                                               \"number_of_female_cycles\":\"Female\"})\n",
    "\n",
    "london_clean_m_f_grpby_subset2 = london_clean_m_f_grpby_subset.melt(id_vars=[\"survey_year\",\"site_id\"],\n",
    "                                  var_name=\"Gender\",\n",
    "                                  value_name=\"Count\")\n",
    "\n",
    "london_locations = london_clean[[\"site_id\",\"location\",\"latitude\",\"longitude\"]]\n",
    "london_locations = london_locations.drop_duplicates()\n",
    "\n",
    "london_clean_m_f_grpby_subset3 = pd.merge(london_clean_m_f_grpby_subset2,london_locations,how=\"left\",on=\"site_id\")\n",
    "\n",
    "london_clean_m_f_grpby_subset3\n",
    "\n",
    "fig = px.density_mapbox(london_clean_m_f_grpby_subset3[london_clean_m_f_grpby_subset3[\"Gender\"]==\"Female\"],\n",
    "                        lat='latitude', \n",
    "                        lon='longitude', \n",
    "                        z='Count', \n",
    "                        radius=10,\n",
    "                        center=dict(lat=0, \n",
    "                                    lon=180), \n",
    "                        animation_frame=\"survey_year\",\n",
    "                        zoom=0,\n",
    "                        hover_name=\"location\",\n",
    "                        hover_data={\"survey_year\":True,\n",
    "                                    \"site_id\":False,\n",
    "                                    \"Count\":True,\n",
    "                                    \"Gender\":False,\n",
    "                                   \"location\":True,\n",
    "                                   \"latitude\":False,\n",
    "                                   \"longitude\":False},\n",
    "                                      title=\"YoY variation in total Female Cyclist Counts in London\",\n",
    "                                      height=500,\n",
    "                                      width=500,\n",
    "                                      opacity=1,\n",
    "                                      mapbox_style=\"stamen-terrain\")\n",
    "fig.show()"
   ]
  },
  {
   "cell_type": "code",
   "execution_count": null,
   "id": "729f6012",
   "metadata": {},
   "outputs": [],
   "source": [
    "london_clean_m_f_grpby = london_clean.groupby([\"survey_year\",\"site_id\"]).agg(\"sum\")\n",
    "london_clean_m_f_grpby = london_clean_m_f_grpby.reset_index()\n",
    "london_clean_m_f_grpby_subset = london_clean_m_f_grpby[[\"survey_year\",\n",
    "                                                        \"site_id\",\n",
    "                                                        \"number_of_male_cycles\",\n",
    "                                                        \"number_of_female_cycles\"]]\n",
    "london_clean_m_f_grpby_subset = london_clean_m_f_grpby_subset.\\\n",
    "                                rename(columns={\"number_of_male_cycles\": \"Male\",\n",
    "                                               \"number_of_female_cycles\":\"Female\"})\n",
    "\n",
    "london_clean_m_f_grpby_subset2 = london_clean_m_f_grpby_subset.melt(id_vars=[\"survey_year\",\"site_id\"],\n",
    "                                  var_name=\"Gender\",\n",
    "                                  value_name=\"Count\")\n",
    "\n",
    "london_locations = london_clean[[\"site_id\",\"location\",\"latitude\",\"longitude\"]]\n",
    "london_locations = london_locations.drop_duplicates()\n",
    "\n",
    "london_clean_m_f_grpby_subset3 = pd.merge(london_clean_m_f_grpby_subset2,london_locations,how=\"left\",on=\"site_id\")\n",
    "\n",
    "london_clean_m_f_grpby_subset3\n",
    "\n",
    "fig = px.density_mapbox(london_clean_m_f_grpby_subset3[london_clean_m_f_grpby_subset3[\"Gender\"]==\"Male\"],\n",
    "                        lat='latitude', \n",
    "                        lon='longitude', \n",
    "                        z='Count', \n",
    "                        radius=10,\n",
    "                        center=dict(lat=0, \n",
    "                                    lon=180), \n",
    "                        animation_frame=\"survey_year\",\n",
    "                        zoom=0,\n",
    "                        hover_name=\"location\",\n",
    "                        hover_data={\"survey_year\":True,\n",
    "                                    \"site_id\":False,\n",
    "                                    \"Count\":True,\n",
    "                                    \"Gender\":False,\n",
    "                                   \"location\":True,\n",
    "                                   \"latitude\":False,\n",
    "                                   \"longitude\":False},\n",
    "                                      title=\"YoY variation in total Male Cyclist Counts in London\",\n",
    "                                      height=500,\n",
    "                                      width=500,\n",
    "                                      opacity=1,\n",
    "                                      mapbox_style=\"stamen-terrain\")\n",
    "fig.show()"
   ]
  },
  {
   "cell_type": "code",
   "execution_count": null,
   "id": "8deffb08",
   "metadata": {},
   "outputs": [],
   "source": []
  },
  {
   "cell_type": "code",
   "execution_count": null,
   "id": "88f42901",
   "metadata": {},
   "outputs": [],
   "source": [
    "london_clean[london_clean[\"functional_cycling_area\"]==\"Outer\"].groupby([\"survey_year\",\"month\"]).agg(\"sum\")"
   ]
  },
  {
   "cell_type": "code",
   "execution_count": null,
   "id": "9315e6ac",
   "metadata": {},
   "outputs": [],
   "source": [
    "pd.read_csv(\"Inner_London.csv\")\n"
   ]
  },
  {
   "cell_type": "markdown",
   "id": "e3ae05f9",
   "metadata": {},
   "source": [
    "## Utilising a t-test to validate significance in gender distribution"
   ]
  },
  {
   "cell_type": "code",
   "execution_count": null,
   "id": "644161de",
   "metadata": {},
   "outputs": [],
   "source": []
  },
  {
   "cell_type": "markdown",
   "id": "124dafdf",
   "metadata": {},
   "source": [
    "# Private vs bikes for-hire "
   ]
  },
  {
   "cell_type": "code",
   "execution_count": null,
   "id": "5aadf684",
   "metadata": {},
   "outputs": [],
   "source": [
    "london_clean_prv_hire = london_clean2.groupby([\"survey_year\"]).agg(\"sum\")\n",
    "london_clean_prv_hire = london_clean_prv_hire.reset_index()\n",
    "london_clean_prv_hire = london_clean_prv_hire[[\"survey_year\", \n",
    "                                               \"number_of_private_cycles\",\n",
    "                                               \"number_of_cycle_hire_bikes\"]]\n",
    "\n",
    "london_clean_prv_hire = london_clean_prv_hire.rename(columns={\"number_of_private_cycles\": \"Private\",\n",
    "                                               \"number_of_cycle_hire_bikes\":\"Hire\"})\n",
    "\n",
    "london_clean_prv_hire = london_clean_prv_hire.melt(id_vars=[\"survey_year\"],\n",
    "                                  var_name=\"Bike_type\",\n",
    "                                  value_name=\"Count\")\n",
    "\n",
    "sns.barplot(data=london_clean_prv_hire,\n",
    "           x=\"survey_year\",\n",
    "           y=\"Count\",\n",
    "           hue=\"Bike_type\",\n",
    "           palette=colorblind)\\\n",
    ".set_title(\"Cyclist Distribution by Bike_type\")"
   ]
  },
  {
   "cell_type": "code",
   "execution_count": null,
   "id": "6b4ed4a6",
   "metadata": {},
   "outputs": [],
   "source": []
  },
  {
   "cell_type": "markdown",
   "id": "edbd0d3d",
   "metadata": {},
   "source": [
    "# Utilising t-test to validate differences in private vs for-hire bikes"
   ]
  },
  {
   "cell_type": "code",
   "execution_count": null,
   "id": "15ccb3fb",
   "metadata": {},
   "outputs": [],
   "source": []
  },
  {
   "cell_type": "code",
   "execution_count": null,
   "id": "e1e8aa5d",
   "metadata": {},
   "outputs": [],
   "source": []
  },
  {
   "cell_type": "code",
   "execution_count": null,
   "id": "994277c6",
   "metadata": {},
   "outputs": [],
   "source": []
  },
  {
   "cell_type": "code",
   "execution_count": null,
   "id": "607a4651",
   "metadata": {},
   "outputs": [],
   "source": [
    "london_clean2_grpby = london_clean2.groupby([\"Survey_wave_year\",\n",
    "                       \"Functional_cycling_area\",\n",
    "                      \"season\"]).agg(\"sum\")\n",
    "london_clean2_grpby = london_clean2_grpby[[]].reset_index()\n",
    "\n",
    "sns.catplot(x=\"Survey_wave_year\",\n",
    "            y=\"Total_cycles\",\n",
    "           row=\"Functional_cycling_area\",\n",
    "           col=\"season\",\n",
    "           kind=\"point\",\n",
    "           data=london_clean2_grpby)\n",
    "\n",
    "#bicycle_merge2_catplot_mar = sns.catplot(\n",
    "#                            x=\"SiteID\",\n",
    "#                            y= \"Count\",\n",
    "#                            row= \"Year\",\n",
    "#                            col= \"Time\",\n",
    "#                            kind=\"point\",\n",
    "#                            hue=\"Month\",\n",
    "#                            data=bicycle_merge2[bicycle_merge2[\"Month\"]==\"March\"]) \n"
   ]
  },
  {
   "cell_type": "code",
   "execution_count": null,
   "id": "b6c3718c",
   "metadata": {},
   "outputs": [],
   "source": [
    "#list(london_clean2)\n",
    "#london_clean_m_f = london_clean2.pop(\"Number_of_private_cycles\")\n",
    "#list(london_clean2)\n",
    "#london_clean2.pop(\"Number_of_cycle_hire_bikes\")\n",
    "#london_clean2.dropna(how=\"any\",axis=0)\n",
    "#list(london_clean2)\n",
    "\n",
    "london_clean2.plot(kind=\"bar\",\n",
    "                  stacked=True,\n",
    "                  color=\"red\",\"blue\")\n",
    "\n",
    "#sns.barplot(data=london_clean2,\n",
    "#           x=\"Survey_wave_year\",\n",
    "#           y=[[\"Number_of_male_cycles\",\"Number_of_female_cycles\"])\n",
    "\n"
   ]
  },
  {
   "cell_type": "code",
   "execution_count": null,
   "id": "ebe4727d",
   "metadata": {},
   "outputs": [],
   "source": [
    "fig = px.density_mapbox(london_clean2[london_clean2[\"Weather\"]==\"Good\"],\n",
    "                        lat='latitude', \n",
    "                        lon='longitude', \n",
    "                        z='TotalCycles', \n",
    "                        radius=10,\n",
    "                        center=dict(lat=0, \n",
    "                                    lon=180), \n",
    "                        animation_frame=\"Survey_wave_year\",\n",
    "                        zoom=0,\n",
    "                        hover_name=\"Functional Cycling Area\",\n",
    "                        hover_data={'Unnamed: 0':False,\n",
    "                                     'Survey_wave_year':True,\n",
    "                                     'Site_ID':False,\n",
    "                                     'Location_x':True,\n",
    "                                     'Survey_date':False,\n",
    "                                     'Weather':True,\n",
    "                                     'Time':True,\n",
    "                                     'Period':True,\n",
    "                                     'Direction':True,\n",
    "                                     'Number_of_male_cycles':True,\n",
    "                                     'Number_of_female_cycles':True,\n",
    "                                     'Number_of_unknown_cycles':True,\n",
    "                                     'Total_cycles':True,\n",
    "                                     'Day_of_week':True,\n",
    "                                     'season':True,\n",
    "                                     'Number_of_private_cycles':True,\n",
    "                                     'Number_of_cycle_hire_bikes':True,\n",
    "                                     'SurveyDescription':True,\n",
    "                                     'latitude':False,\n",
    "                                     'longitude':False,\n",
    "                                     'Location_y':False,\n",
    "                                     'Borough':True,\n",
    "                                     'Functional_cycling_area':True},\n",
    "                        labels={\"0600-0700\":\"6am-7am\",\n",
    "                               \"0700-0800\":\"7am-8am\",\n",
    "                               \"0800-0900\":\"8am-9am\",\n",
    "                               \"1600-1700\":\"4pm-5pm\",\n",
    "                               \"1700-1800\":\"5pm-6pm\",\n",
    "                               \"1800-1900\":\"6pm-7pm\"},\n",
    "                        color_continuous_midpoint=True,\n",
    "                        animation_group=\"Intersection\",\n",
    "                        title=\"Year-On-Year variation in total Cyclist Counts in Sydney for March\",\n",
    "                        height=1000,\n",
    "                        width=1000,\n",
    "                        opacity=1,\n",
    "                        category_orders={\"Year\":[\"First\"],\n",
    "                                        \"Month\":[\"Second\"],\n",
    "                                        \"TotalCount\":[\"Third\"],\n",
    "                                        \"0600-0700\":[\"Fourth\"],\n",
    "                                        \"0700-0800\":[\"Fifth\"],\n",
    "                                        \"0800-0900\":[\"Sixth\"],\n",
    "                                        \"1600-1700\":[\"Seventh\"],\n",
    "                                        \"1700-1800\":[\"Eighth\"],\n",
    "                                        \"1800-1900\":[\"Ninth\"]},\n",
    "                        mapbox_style=\"stamen-terrain\")\n",
    "fig.show()"
   ]
  },
  {
   "cell_type": "code",
   "execution_count": null,
   "id": "9d8b9755",
   "metadata": {},
   "outputs": [],
   "source": []
  },
  {
   "cell_type": "markdown",
   "id": "e425d8c4",
   "metadata": {},
   "source": [
    "Business questions \n",
    "When approaching Thoughtworks, the Mayor of London proposed some initial questions:\n",
    "\n",
    "- How can we increase the uptake of cycling in London?\n",
    "- What are the main factors that determine whether people choose to cycle?\n",
    "- What interventions and changes to the transport network have had the most impact on cycling engagement? \n",
    "\n",
    "Other questions to consider:\n",
    "\n",
    "- What are the demographics of cyclists in these cities? \n",
    "- Are there any underrepresented groups that can be engaged with to try to increase the uptake of cycling as a mode of transport?"
   ]
  },
  {
   "cell_type": "markdown",
   "id": "3e52a357",
   "metadata": {},
   "source": [
    "# New York Data"
   ]
  },
  {
   "cell_type": "code",
   "execution_count": null,
   "id": "aba220aa",
   "metadata": {},
   "outputs": [],
   "source": [
    "# Load the ny data as a DataFrame.\n",
    "ny_counts = pd.read_csv(\"ny_counts_Saurav_071022.csv\")\n",
    "\n",
    "# View the NY dataframe.\n",
    "ny_counts.head() "
   ]
  },
  {
   "cell_type": "code",
   "execution_count": null,
   "id": "442af62c",
   "metadata": {},
   "outputs": [],
   "source": [
    "# Remove the first column.\n",
    "ny_counts.pop(\"Unnamed: 0\")"
   ]
  },
  {
   "cell_type": "code",
   "execution_count": null,
   "id": "acaa253c",
   "metadata": {},
   "outputs": [],
   "source": [
    "# List out the column names.\n",
    "list(ny_counts)"
   ]
  },
  {
   "cell_type": "code",
   "execution_count": null,
   "id": "e88589cf",
   "metadata": {},
   "outputs": [],
   "source": [
    "# Upload the geospatial data for bicycle counters in NY.\n",
    "NYC_lat_long = pd.read_csv(\"NYC_Bicycle_Counters_Javier_08102022.csv\")\n",
    "\n",
    "# View the dataframe.\n",
    "NYC_lat_long"
   ]
  },
  {
   "cell_type": "code",
   "execution_count": null,
   "id": "af920575",
   "metadata": {},
   "outputs": [],
   "source": [
    "# Merge the ny_counts and location data.\n",
    "NYC_clean_complete = pd.merge(ny_counts,NYC_lat_long,on=\"id\",how=\"left\")\n",
    "\n",
    "# View the resultant dataframe.\n",
    "NYC_clean_complete\n",
    "\n",
    "# Remove unnecessary columns.\n",
    "NYC_clean_complete.pop(\"domain\")\n",
    "NYC_clean_complete.pop(\"interval\")\n",
    "NYC_clean_complete.pop(\"timezone\")\n",
    "NYC_clean_complete.pop(\"sens\")\n",
    "\n",
    "# View the final NYC_clean\n",
    "NYC_clean_complete"
   ]
  },
  {
   "cell_type": "code",
   "execution_count": null,
   "id": "786f1729",
   "metadata": {},
   "outputs": [],
   "source": [
    "NYC_lat_long_clean = NYC_lat_long[[\"id\",\"name\",\"latitude\",\"longitude\",\"interval\",\"counter\"]]\n",
    "NYC_lat_long_clean.head()"
   ]
  },
  {
   "cell_type": "code",
   "execution_count": null,
   "id": "3919dfdf",
   "metadata": {},
   "outputs": [],
   "source": [
    "# Create an aggregated table to visualise the data with.\n",
    "NYC_clean_agg_season = ny_counts.groupby([\"year\",\"month\",\"season\",\"id\"]).agg(\"sum\").reset_index( )\n",
    "\n",
    "#View the resutlant dataframe.\n",
    "NYC_clean_agg_season.head()\n",
    "\n",
    "# Merge the aggregated table with location data.\n",
    "NYC_season_final = pd.merge(NYC_clean_agg_season,NYC_lat_long_clean,on=\"id\",how=\"left\")\n",
    "NYC_season_final2 = NYC_season_final[[\"year\",\"month\",\"season\",\"counts\"]]\n",
    "\n",
    "# View the resultant dataframe.\n",
    "NYC_season_final2"
   ]
  },
  {
   "cell_type": "code",
   "execution_count": null,
   "id": "5f6d90da",
   "metadata": {},
   "outputs": [],
   "source": [
    "# Create a facetplot to show the aggregated data.\n",
    "# By season.\n",
    "ny_catplot_1 = sns.catplot(x= \"month\", \n",
    "                           y=\"counts\",\n",
    "                           row=\"year\", \n",
    "                           hue=\"season\",\n",
    "                           kind=\"point\",\n",
    "                          data=NYC_season_final2,\n",
    "                          ci=False)"
   ]
  },
  {
   "cell_type": "code",
   "execution_count": null,
   "id": "c0019858",
   "metadata": {},
   "outputs": [],
   "source": [
    "# Create an aggregated table to visualise the data with.\n",
    "NYC_clean_agg_time_of_day = ny_counts.groupby([\"year\",\"month\",\"time_of_day\"]).agg(\"sum\").reset_index( )\n",
    "\n",
    "#View the resutlant dataframe.\n",
    "NYC_clean_agg_time_of_day.head()\n",
    "\n",
    "# Merge the aggregated table with location data.\n",
    "NYC_TOD_final = pd.merge(NYC_clean_agg_time_of_day,NYC_lat_long_clean,on=\"id\",how=\"left\")\n",
    "NYC_TOD_final2 = NYC_TOD_final[[\"year\",\"month\",\"time_of_day\",\"counts\"]]\n",
    "\n",
    "# View the resultant dataframe.\n",
    "NYC_TOD_final2\n",
    "\n",
    "# By time period.\n",
    "ny_catplot_2 = sns.catplot(data=NYC_TOD_final2, \n",
    "                           x=\"time_of_day\", \n",
    "                           y=\"counts\",\n",
    "                           row=\"year\", \n",
    "                           col=\"month\", \n",
    "                           kind=\"point\")"
   ]
  },
  {
   "cell_type": "code",
   "execution_count": null,
   "id": "0f553800",
   "metadata": {},
   "outputs": [],
   "source": [
    "# Create an aggregated table to visualise the data with.\n",
    "NYC_clean_agg_DOW = ny_counts.groupby([\"year\",\"month\",\"day_of_week\"]).agg(\"sum\").reset_index( )\n",
    "\n",
    "#View the resutlant dataframe.\n",
    "NYC_clean_agg_DOW.head()\n",
    "\n",
    "# Merge the aggregated table with location data.\n",
    "NYC_DOW_final = pd.merge(NYC_clean_agg_DOW,NYC_lat_long_clean,on=\"id\",how=\"left\")\n",
    "NYC_DOW_final2 = NYC_DOW_final[[\"year\",\"month\",\"day_of_week\",\"counts\"]]\n",
    "\n",
    "# View the resultant dataframe.\n",
    "NYC_DOW_final2\n",
    "\n",
    "# By time period.\n",
    "ny_catplot_3 = sns.catplot(data=NYC_DOW_final2, \n",
    "                           x=\"day_of_week\", \n",
    "                           y=\"counts\",\n",
    "                           row=\"year\", \n",
    "                           col=\"month\", \n",
    "                           kind=\"point\")"
   ]
  },
  {
   "cell_type": "code",
   "execution_count": null,
   "id": "a7055b0b",
   "metadata": {},
   "outputs": [],
   "source": [
    "# Macro view \n",
    "sns.lineplot(data=ny_counts, x=month_year, y= total_counts)\n",
    "\n",
    "# Predictive Analytics\n",
    "# Create a multilinear regression model showcasing how timing affects things.\n",
    "# Wait wouldnt they be collinear...and htat would stuff up the model. sigh"
   ]
  },
  {
   "cell_type": "code",
   "execution_count": null,
   "id": "4ad19a4f",
   "metadata": {},
   "outputs": [],
   "source": [
    "# use t-tests, mlr, and scenaroi analysis"
   ]
  },
  {
   "cell_type": "code",
   "execution_count": null,
   "id": "8fd9dc1d",
   "metadata": {},
   "outputs": [],
   "source": [
    "NYC_merged = pd.merge(by_counts,NYC_lat_long,on=\"id\",how=\"left\")\n",
    "\n",
    "fig = px.density_mapbox(london_clean2[london_clean2[\"Weather\"]==\"Good\"],\n",
    "                        lat='latitude', \n",
    "                        lon='longitude', \n",
    "                        z='TotalCycles', \n",
    "                        radius=10,\n",
    "                        center=dict(lat=0, \n",
    "                                    lon=180), \n",
    "                        animation_frame=\"Survey_wave_year\",\n",
    "                        zoom=0,\n",
    "                        hover_name=\"Functional Cycling Area\",\n",
    "                        hover_data={'Unnamed: 0':False,\n",
    "                                     'Survey_wave_year':True,\n",
    "                                     'Site_ID':False,\n",
    "                                     'Location_x':True,\n",
    "                                     'Survey_date':False,\n",
    "                                     'Weather':True,\n",
    "                                     'Time':True,\n",
    "                                     'Period':True,\n",
    "                                     'Direction':True,\n",
    "                                     'Number_of_male_cycles':True,\n",
    "                                     'Number_of_female_cycles':True,\n",
    "                                     'Number_of_unknown_cycles':True,\n",
    "                                     'Total_cycles':True,\n",
    "                                     'Day_of_week':True,\n",
    "                                     'season':True,\n",
    "                                     'Number_of_private_cycles':True,\n",
    "                                     'Number_of_cycle_hire_bikes':True,\n",
    "                                     'SurveyDescription':True,\n",
    "                                     'latitude':False,\n",
    "                                     'longitude':False,\n",
    "                                     'Location_y':False,\n",
    "                                     'Borough':True,\n",
    "                                     'Functional_cycling_area':True},\n",
    "                        labels={\"0600-0700\":\"6am-7am\",\n",
    "                               \"0700-0800\":\"7am-8am\",\n",
    "                               \"0800-0900\":\"8am-9am\",\n",
    "                               \"1600-1700\":\"4pm-5pm\",\n",
    "                               \"1700-1800\":\"5pm-6pm\",\n",
    "                               \"1800-1900\":\"6pm-7pm\"},\n",
    "                        color_continuous_midpoint=True,\n",
    "                        animation_group=\"Intersection\",\n",
    "                        title=\"Year-On-Year variation in total Cyclist Counts in Sydney for March\",\n",
    "                        height=1000,\n",
    "                        width=1000,\n",
    "                        opacity=1,\n",
    "                        category_orders={\"Year\":[\"First\"],\n",
    "                                        \"Month\":[\"Second\"],\n",
    "                                        \"TotalCount\":[\"Third\"],\n",
    "                                        \"0600-0700\":[\"Fourth\"],\n",
    "                                        \"0700-0800\":[\"Fifth\"],\n",
    "                                        \"0800-0900\":[\"Sixth\"],\n",
    "                                        \"1600-1700\":[\"Seventh\"],\n",
    "                                        \"1700-1800\":[\"Eighth\"],\n",
    "                                        \"1800-1900\":[\"Ninth\"]},\n",
    "                        mapbox_style=\"stamen-terrain\")\n",
    "fig.show()"
   ]
  },
  {
   "cell_type": "markdown",
   "id": "1b986df5",
   "metadata": {},
   "source": [
    "# Impact of Covid on cycling"
   ]
  },
  {
   "cell_type": "code",
   "execution_count": null,
   "id": "57ecc2bc",
   "metadata": {},
   "outputs": [],
   "source": [
    "london_covid = pd.read_csv(\"london_plus_covid_vanessa_081022.csv\")\n",
    "london_covid.head()\n",
    "print(pd.unique(london_covid[\"stay_home_requirements\"]))"
   ]
  },
  {
   "cell_type": "code",
   "execution_count": null,
   "id": "cfa91811",
   "metadata": {},
   "outputs": [],
   "source": [
    "london_covid = pd.read_csv(\"london_plus_covid_vanessa_081022.csv\")\n",
    "\n",
    "london_covid_grpby = london_covid.groupby([\"survey_year\",\"covid_status\",\"site_id\"]).agg(\"sum\").reset_index()\n",
    "london_covid_grpby = london_covid_grpby[[\"survey_year\",\"covid_status\",\"site_id\",\"total_cycles\"]]\n",
    "london_covid_grpby_mrg = pd.merge(london_covid_grpby, london_locations,on=\"site_id\",how=\"left\")\n",
    "\n",
    "fig = px.density_mapbox(london_covid_grpby_,rg,\n",
    "                        lat='latitude', \n",
    "                        lon='longitude', \n",
    "                        z='TotalCycles', \n",
    "                        radius=10,\n",
    "                        center=dict(lat=0, \n",
    "                                    lon=180), \n",
    "                        animation_frame=\"covid_status\",\n",
    "                        zoom=0,\n",
    "                        hover_name=\"Functional Cycling Area\",\n",
    "                        hover_data={'Unnamed: 0':False,\n",
    "                                     'Survey_wave_year':True,\n",
    "                                     'Site_ID':False,\n",
    "                                     'Location_x':True,\n",
    "                                     'Survey_date':False,\n",
    "                                     'Weather':True,\n",
    "                                     'Time':True,\n",
    "                                     'Period':True,\n",
    "                                     'Direction':True,\n",
    "                                     'Number_of_male_cycles':True,\n",
    "                                     'Number_of_female_cycles':True,\n",
    "                                     'Number_of_unknown_cycles':True,\n",
    "                                     'Total_cycles':True,\n",
    "                                     'Day_of_week':True,\n",
    "                                     'season':True,\n",
    "                                     'Number_of_private_cycles':True,\n",
    "                                     'Number_of_cycle_hire_bikes':True,\n",
    "                                     'SurveyDescription':True,\n",
    "                                     'latitude':False,\n",
    "                                     'longitude':False,\n",
    "                                     'Location_y':False,\n",
    "                                     'Borough':True,\n",
    "                                     'Functional_cycling_area':True},\n",
    "                        labels={\"0600-0700\":\"6am-7am\",\n",
    "                               \"0700-0800\":\"7am-8am\",\n",
    "                               \"0800-0900\":\"8am-9am\",\n",
    "                               \"1600-1700\":\"4pm-5pm\",\n",
    "                               \"1700-1800\":\"5pm-6pm\",\n",
    "                               \"1800-1900\":\"6pm-7pm\"},\n",
    "                        color_continuous_midpoint=True,\n",
    "                        animation_group=\"Intersection\",\n",
    "                        title=\"Year-On-Year variation in total Cyclist Counts in Sydney for March\",\n",
    "                        height=1000,\n",
    "                        width=1000,\n",
    "                        opacity=1,\n",
    "                        category_orders={\"Year\":[\"First\"],\n",
    "                                        \"Month\":[\"Second\"],\n",
    "                                        \"TotalCount\":[\"Third\"],\n",
    "                                        \"0600-0700\":[\"Fourth\"],\n",
    "                                        \"0700-0800\":[\"Fifth\"],\n",
    "                                        \"0800-0900\":[\"Sixth\"],\n",
    "                                        \"1600-1700\":[\"Seventh\"],\n",
    "                                        \"1700-1800\":[\"Eighth\"],\n",
    "                                        \"1800-1900\":[\"Ninth\"]},\n",
    "                        mapbox_style=\"stamen-terrain\")\n",
    "fig.show()"
   ]
  },
  {
   "cell_type": "code",
   "execution_count": null,
   "id": "009edfab",
   "metadata": {},
   "outputs": [],
   "source": [
    "!pip install gis"
   ]
  },
  {
   "cell_type": "code",
   "execution_count": null,
   "id": "e652d5a1",
   "metadata": {},
   "outputs": [],
   "source": [
    "!pip install arcgis"
   ]
  },
  {
   "cell_type": "code",
   "execution_count": null,
   "id": "84c47a14",
   "metadata": {},
   "outputs": [],
   "source": [
    "from arcgis.gis import GIS\n",
    "my_gis = GIS()\n",
    "#m = my_gis.map()\n",
    "#m.add_layer(\"london_plus_covid_vanessa_081022.csv\")\n",
    "\n",
    "m = my_gis.map(\"London\")\n",
    "m.add_layer()"
   ]
  },
  {
   "cell_type": "markdown",
   "id": "95ae1f5f",
   "metadata": {},
   "source": [
    "# Making heatmaps with predictive models "
   ]
  },
  {
   "cell_type": "code",
   "execution_count": null,
   "id": "0b026ff5",
   "metadata": {},
   "outputs": [],
   "source": []
  },
  {
   "cell_type": "code",
   "execution_count": null,
   "id": "626a848c",
   "metadata": {},
   "outputs": [],
   "source": []
  },
  {
   "cell_type": "code",
   "execution_count": null,
   "id": "f1fa163f",
   "metadata": {},
   "outputs": [],
   "source": []
  },
  {
   "cell_type": "code",
   "execution_count": null,
   "id": "05c5dcc2",
   "metadata": {},
   "outputs": [],
   "source": []
  },
  {
   "cell_type": "code",
   "execution_count": null,
   "id": "7dcb50fe",
   "metadata": {},
   "outputs": [],
   "source": []
  },
  {
   "cell_type": "code",
   "execution_count": null,
   "id": "1019c279",
   "metadata": {},
   "outputs": [],
   "source": [
    "# adding car and rivate vehicle information by borough\n",
    "\n",
    "prvt_cars_london = pd.read_csv(\"private_cars_london.csv\")\n",
    "traffic_boro_london = pd.read_csv(\"traffic_flow_borough.csv\")\n",
    "prvt_vehicle_boro_london = pd.read_csv(\"private_vehicles_by_borough_london.csv\")"
   ]
  },
  {
   "cell_type": "code",
   "execution_count": null,
   "id": "93b123f1",
   "metadata": {},
   "outputs": [],
   "source": [
    "#prvt_cars_london.melt(id_vars=[\"Year\"],var_name=\"Borough\", value_name=\"No of cars\")\n",
    "#traffic_boro_london.melt(id_vars=\"Year\",var_name=\"Borough\",value_name=\"Traffic_count\")\n",
    "prvt_vehicle_boro_london_unpivot = prvt_vehicle_boro_london.melt(id_vars=\"Borough\",var_name=\"Year\",value_name=\"Private_vehicles\").sort_values(by=[\"Borough\",\"Year\"],ascending=[True,True])\n",
    "prvt_vehicle_boro_london_unpivot[\"Pri_key\"] = prvt_vehicle_boro_london_unpivot[\"Borough\"] + \"_\" + prvt_vehicle_boro_london_unpivot[\"Year\"] \n",
    "prvt_vehicle_boro_london_unpivot\n",
    "#prvt_cars_london.T\n",
    "\n",
    "#london_clean_m_f_grpby_subset2 = london_clean_m_f_grpby_subset.melt(id_vars=[\"survey_year\",\"site_id\"],\n",
    "#                                  var_name=\"Gender\",\n",
    "#                                  value_name=\"Count\")\n",
    "\n",
    "# So gotta join these borough data to cyclist counts in London\n",
    "\n"
   ]
  },
  {
   "cell_type": "code",
   "execution_count": null,
   "id": "ce83dea0",
   "metadata": {},
   "outputs": [],
   "source": [
    "london_boro_complete = london_clean[[\"borough\",\"latitude\",\"longitude\",\"survey_year\",\"location\",\"number_of_male_cycles\",\"number_of_female_cycles\",\"number_of_private_cycles\",\"number_of_cycle_hire_bikes\",\"total_cycles\",\"functional_cycling_area\"]].fillna(0)\n",
    "london_boro_complete[\"PK\"] = london_boro_complete[\"borough\"] + \"_\" + london_boro_complete[\"survey_year\"].astype(\"string\")\n",
    "london_boro_complete.merge()\n",
    "#list(london_clean )\n",
    "#pd.merge"
   ]
  },
  {
   "cell_type": "code",
   "execution_count": null,
   "id": "2b438e3c",
   "metadata": {},
   "outputs": [],
   "source": []
  }
 ],
 "metadata": {
  "kernelspec": {
   "display_name": "Python 3",
   "language": "python",
   "name": "python3"
  },
  "language_info": {
   "codemirror_mode": {
    "name": "ipython",
    "version": 3
   },
   "file_extension": ".py",
   "mimetype": "text/x-python",
   "name": "python",
   "nbconvert_exporter": "python",
   "pygments_lexer": "ipython3",
   "version": "3.8.8"
  }
 },
 "nbformat": 4,
 "nbformat_minor": 5
}
